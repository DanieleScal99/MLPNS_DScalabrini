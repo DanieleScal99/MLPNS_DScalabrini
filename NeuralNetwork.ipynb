{
  "nbformat": 4,
  "nbformat_minor": 0,
  "metadata": {
    "colab": {
      "provenance": [],
      "authorship_tag": "ABX9TyM8RMQVq+DJ/po8ZN6xdKAc",
      "include_colab_link": true
    },
    "kernelspec": {
      "name": "python3",
      "display_name": "Python 3"
    },
    "language_info": {
      "name": "python"
    }
  },
  "cells": [
    {
      "cell_type": "markdown",
      "metadata": {
        "id": "view-in-github",
        "colab_type": "text"
      },
      "source": [
        "<a href=\"https://colab.research.google.com/github/DanieleScal99/MLPNS_DScalabrini/blob/main/NeuralNetwork.ipynb\" target=\"_parent\"><img src=\"https://colab.research.google.com/assets/colab-badge.svg\" alt=\"Open In Colab\"/></a>"
      ]
    },
    {
      "cell_type": "code",
      "execution_count": 1,
      "metadata": {
        "id": "ZBkHX_LyKRy3"
      },
      "outputs": [],
      "source": [
        "import numpy as np\n",
        "import pylab as pl"
      ]
    },
    {
      "cell_type": "code",
      "source": [
        "X = np.array(\n",
        "    [[0,0,1],\n",
        "     [1,1,1],\n",
        "     [1,0,1],\n",
        "     [0,1,1]]\n",
        ")"
      ],
      "metadata": {
        "id": "mBO8P8RHKf2_"
      },
      "execution_count": 2,
      "outputs": []
    },
    {
      "cell_type": "code",
      "source": [
        "pl.imshow(X);\n",
        "pl.axis('off')"
      ],
      "metadata": {
        "colab": {
          "base_uri": "https://localhost:8080/",
          "height": 423
        },
        "id": "4od6Lc-0LAUa",
        "outputId": "b5755e12-c0e2-49c0-98bd-d1ddd6cd1440"
      },
      "execution_count": 3,
      "outputs": [
        {
          "output_type": "execute_result",
          "data": {
            "text/plain": [
              "(-0.5, 2.5, 3.5, -0.5)"
            ]
          },
          "metadata": {},
          "execution_count": 3
        },
        {
          "output_type": "display_data",
          "data": {
            "text/plain": [
              "<Figure size 640x480 with 1 Axes>"
            ],
            "image/png": "[encoded data removed]"
          },
          "metadata": {}
        }
      ]
    },
    {
      "cell_type": "code",
      "source": [
        "y=np.array([[0,1,1,0]]).T"
      ],
      "metadata": {
        "id": "pvKrEM5DLG8X"
      },
      "execution_count": 4,
      "outputs": []
    },
    {
      "cell_type": "code",
      "source": [
        "y.shape"
      ],
      "metadata": {
        "colab": {
          "base_uri": "https://localhost:8080/"
        },
        "id": "2ty4VikVLPWT",
        "outputId": "7315be37-ab0d-487b-f3dc-38e28711d508"
      },
      "execution_count": 5,
      "outputs": [
        {
          "output_type": "execute_result",
          "data": {
            "text/plain": [
              "(4, 1)"
            ]
          },
          "metadata": {},
          "execution_count": 5
        }
      ]
    },
    {
      "cell_type": "code",
      "source": [
        "print('input\\n',X)\n",
        "print('output\\n',y)"
      ],
      "metadata": {
        "colab": {
          "base_uri": "https://localhost:8080/"
        },
        "id": "cs0YyqijLT9G",
        "outputId": "4ceec670-a2f3-4f2a-bab8-5895d645e463"
      },
      "execution_count": 7,
      "outputs": [
        {
          "output_type": "stream",
          "name": "stdout",
          "text": [
            "input\n",
            " [[0 0 1]\n",
            " [1 1 1]\n",
            " [1 0 1]\n",
            " [0 1 1]]\n",
            "output\n",
            " [[0]\n",
            " [1]\n",
            " [1]\n",
            " [0]]\n"
          ]
        }
      ]
    },
    {
      "cell_type": "markdown",
      "source": [
        "# basic architecture: 1 layer \n",
        "4 osservazioni\n",
        "3 neuroni\n",
        "1 layer "
      ],
      "metadata": {
        "id": "wIJYruE9LdJa"
      }
    },
    {
      "cell_type": "code",
      "source": [
        "# dobbiamo costruire una activation function\n",
        "def sigmoid(x): \n",
        "  return 1./(1.+np.exp(-x))"
      ],
      "metadata": {
        "id": "g2wfUUDZL2xi"
      },
      "execution_count": 9,
      "outputs": []
    },
    {
      "cell_type": "code",
      "source": [
        "pl.plot(sigmoid(np.arange(-10,10,0.1)));"
      ],
      "metadata": {
        "colab": {
          "base_uri": "https://localhost:8080/",
          "height": 430
        },
        "id": "a23RGJsNMNEO",
        "outputId": "d27e12df-58e6-4f44-ef05-02bb86d073cf"
      },
      "execution_count": 11,
      "outputs": [
        {
          "output_type": "display_data",
          "data": {
            "text/plain": [
              "<Figure size 640x480 with 1 Axes>"
            ],
            "image/png": "[encoded data removed]"
          },
          "metadata": {}
        }
      ]
    },
    {
      "cell_type": "code",
      "source": [
        "#definiamo la loss function che andremo ad utilizzare\n",
        "def loss(prediction, target): \n",
        "  return target - prediction "
      ],
      "metadata": {
        "id": "Kn86hWFMMVkD"
      },
      "execution_count": 12,
      "outputs": []
    },
    {
      "cell_type": "code",
      "source": [
        "def dsigmoid(s):\n",
        "  return s * (1. - s)"
      ],
      "metadata": {
        "id": "HY8DHfL2M_GB"
      },
      "execution_count": 47,
      "outputs": []
    },
    {
      "cell_type": "markdown",
      "source": [
        "## Neural Network "
      ],
      "metadata": {
        "id": "JAy4G7yTMuyB"
      }
    },
    {
      "cell_type": "code",
      "source": [
        "#devo fare una procedura di stochastic gradient descent \n",
        "\n",
        "training = 6000 #numero di epoche "
      ],
      "metadata": {
        "id": "Qwf5cALMNgNU"
      },
      "execution_count": 39,
      "outputs": []
    },
    {
      "cell_type": "code",
      "source": [
        "# creiamo il primo layer di synopses / neurons \n",
        "# i layer di neurons sono dei numpy array \n",
        "# 4 x 3 è la dimensione \n",
        "np.random.seed(302)\n",
        "\n",
        "syn0 = 2 * np.random.random((3, 1)) - 1 #normalized 0-1\n",
        "syn0.shape\n",
        "print(syn0)"
      ],
      "metadata": {
        "colab": {
          "base_uri": "https://localhost:8080/"
        },
        "id": "vIpTT5RwNzoP",
        "outputId": "51fdec01-a9ec-4314-c70a-b69f112029ba"
      },
      "execution_count": 43,
      "outputs": [
        {
          "output_type": "stream",
          "name": "stdout",
          "text": [
            "[[ 0.27256242]\n",
            " [ 0.65008468]\n",
            " [-0.31671053]]\n"
          ]
        }
      ]
    },
    {
      "cell_type": "code",
      "source": [
        "loss_output = []\n",
        "\n",
        "for iter in range(training): \n",
        "  inputLayer = X \n",
        "\n",
        "  # forward propagation \n",
        "  # linear regression \n",
        "  l1 = np.dot(inputLayer, syn0)\n",
        "  #activations\n",
        "  \n",
        "  output = sigmoid(l1)\n",
        "  #calculate error\n",
        "  output_error = loss(output, y)\n",
        "  loss_output.append(np.abs(output_error).sum())\n",
        "  #calculate correction\n",
        "  output_delta = output_error + dsigmoid(output)\n",
        "  #apply correction to weights \n",
        "  syn0 += np.dot(inputLayer.T, output_delta) \n",
        "  #inserire layer tra input e output si chiama backpropagation\n",
        "\n",
        "print('outpur after training\\n', output)\n",
        "print('output target\\n', y)"
      ],
      "metadata": {
        "colab": {
          "base_uri": "https://localhost:8080/"
        },
        "id": "w1rBaqDZOlcK",
        "outputId": "cf36c26f-23e3-43c2-92b8-c12dce74030c"
      },
      "execution_count": 46,
      "outputs": [
        {
          "output_type": "stream",
          "name": "stdout",
          "text": [
            "outpur after training\n",
            " [[0.0099753 ]\n",
            " [0.9999656 ]\n",
            " [0.99997148]\n",
            " [0.00828383]]\n",
            "output target\n",
            " [[0]\n",
            " [1]\n",
            " [1]\n",
            " [0]]\n"
          ]
        }
      ]
    },
    {
      "cell_type": "code",
      "source": [
        "pl.plot(loss_output, label='output')\n",
        "pl.legend()\n",
        "pl.xlabel('iteration (epoch)')\n",
        "pl.ylabel('Global loss')"
      ],
      "metadata": {
        "colab": {
          "base_uri": "https://localhost:8080/",
          "height": 466
        },
        "id": "E8HvfFaLPU0E",
        "outputId": "63227702-a5e7-40f5-9386-92628bb7809e"
      },
      "execution_count": 45,
      "outputs": [
        {
          "output_type": "execute_result",
          "data": {
            "text/plain": [
              "Text(0, 0.5, 'Global loss')"
            ]
          },
          "metadata": {},
          "execution_count": 45
        },
        {
          "output_type": "display_data",
          "data": {
            "text/plain": [
              "<Figure size 640x480 with 1 Axes>"
            ],
            "image/png": "[encoded data removed]"
          },
          "metadata": {}
        }
      ]
    },
    {
      "cell_type": "markdown",
      "source": [
        "#Doppio Layer"
      ],
      "metadata": {
        "id": "O7K3HEQ1Rc7Z"
      }
    },
    {
      "cell_type": "code",
      "source": [
        "np.random.seed(302)\n",
        "\n",
        "syn0 = 2 * np.random.random((3, 5)) - 1 #normalized 0-1 \n",
        "#syn0 è il vettore dei pesi\n",
        "syn0.shape\n",
        "print(syn0)\n",
        "\n",
        "syn1=2 * np.random.random((5,1)) - 1\n",
        "\n",
        "loss_output = []\n",
        "\n",
        "for iter in range(training): \n",
        "  inputLayer = X \n",
        "\n",
        "  l1 = np.dot(inputLayer, syn0)\n",
        "  hidden=sigmoid(l1)\n",
        "  hidden_error = loss(hidden, y)\n",
        "\n",
        "  l2 = np.dot(hidden, syn1)\n",
        "  output = sigmoid(l2)\n",
        "\n",
        "  outpur_error=loss(output, y)\n",
        "  loss_output.append(np.abs(output_error))\n",
        "\n",
        "  output_delta = output_error + dsigmoid(output)\n",
        "  "
      ],
      "metadata": {
        "id": "tV2llQ-waAk7"
      },
      "execution_count": null,
      "outputs": []
    }
  ]
}