{
  "nbformat": 4,
  "nbformat_minor": 0,
  "metadata": {
    "colab": {
      "provenance": [],
      "authorship_tag": "ABX9TyPbAE0unesLWS+Ybnv6mrKF",
      "include_colab_link": true
    },
    "kernelspec": {
      "name": "python3",
      "display_name": "Python 3"
    },
    "language_info": {
      "name": "python"
    }
  },
  "cells": [
    {
      "cell_type": "markdown",
      "metadata": {
        "id": "view-in-github",
        "colab_type": "text"
      },
      "source": [
        "<a href=\"https://colab.research.google.com/github/DanieleScal99/MLPNS_DScalabrini/blob/main/Titanic_DScalabrini.ipynb\" target=\"_parent\"><img src=\"https://colab.research.google.com/assets/colab-badge.svg\" alt=\"Open In Colab\"/></a>"
      ]
    },
    {
      "cell_type": "code",
      "execution_count": null,
      "metadata": {
        "colab": {
          "base_uri": "https://localhost:8080/"
        },
        "id": "rkwP-STd7QoX",
        "outputId": "b4ea761d-aa3d-4271-c5ed-81ec149beeb0"
      },
      "outputs": [
        {
          "output_type": "stream",
          "name": "stdout",
          "text": [
            "Populating the interactive namespace from numpy and matplotlib\n"
          ]
        }
      ],
      "source": [
        "import pandas as pd\n",
        "import numpy as np\n",
        "import pylab as pl\n",
        "import os\n",
        "import json \n",
        "%pylab inline"
      ]
    },
    {
      "cell_type": "code",
      "source": [
        "from google.colab import drive\n",
        "\n",
        "drive.mount(\"/content/gdrive\")"
      ],
      "metadata": {
        "colab": {
          "base_uri": "https://localhost:8080/"
        },
        "id": "JSiT8kfhJ4vj",
        "outputId": "eddc02c3-fd00-4283-dbab-c6d87f41dfc2"
      },
      "execution_count": null,
      "outputs": [
        {
          "output_type": "stream",
          "name": "stdout",
          "text": [
            "Mounted at /content/gdrive\n"
          ]
        }
      ]
    },
    {
      "cell_type": "code",
      "source": [
        "pip install kaggle "
      ],
      "metadata": {
        "colab": {
          "base_uri": "https://localhost:8080/"
        },
        "id": "lCxAoBicKJXL",
        "outputId": "18312ba9-de10-40c7-c8b7-cc02ea60e93f"
      },
      "execution_count": null,
      "outputs": [
        {
          "output_type": "stream",
          "name": "stdout",
          "text": [
            "Looking in indexes: https://pypi.org/simple, https://us-python.pkg.dev/colab-wheels/public/simple/\n",
            "Requirement already satisfied: kaggle in /usr/local/lib/python3.9/dist-packages (1.5.13)\n",
            "Requirement already satisfied: urllib3 in /usr/local/lib/python3.9/dist-packages (from kaggle) (1.26.15)\n",
            "Requirement already satisfied: tqdm in /usr/local/lib/python3.9/dist-packages (from kaggle) (4.65.0)\n",
            "Requirement already satisfied: requests in /usr/local/lib/python3.9/dist-packages (from kaggle) (2.27.1)\n",
            "Requirement already satisfied: python-dateutil in /usr/local/lib/python3.9/dist-packages (from kaggle) (2.8.2)\n",
            "Requirement already satisfied: six>=1.10 in /usr/local/lib/python3.9/dist-packages (from kaggle) (1.16.0)\n",
            "Requirement already satisfied: python-slugify in /usr/local/lib/python3.9/dist-packages (from kaggle) (8.0.1)\n",
            "Requirement already satisfied: certifi in /usr/local/lib/python3.9/dist-packages (from kaggle) (2022.12.7)\n",
            "Requirement already satisfied: text-unidecode>=1.3 in /usr/local/lib/python3.9/dist-packages (from python-slugify->kaggle) (1.3)\n",
            "Requirement already satisfied: idna<4,>=2.5 in /usr/local/lib/python3.9/dist-packages (from requests->kaggle) (3.4)\n",
            "Requirement already satisfied: charset-normalizer~=2.0.0 in /usr/local/lib/python3.9/dist-packages (from requests->kaggle) (2.0.12)\n"
          ]
        }
      ]
    },
    {
      "cell_type": "code",
      "source": [
        "!kaggle --version"
      ],
      "metadata": {
        "colab": {
          "base_uri": "https://localhost:8080/"
        },
        "id": "PxDtHuo5KY6T",
        "outputId": "59f055bc-b903-4715-8c24-f8c175270f11"
      },
      "execution_count": null,
      "outputs": [
        {
          "output_type": "stream",
          "name": "stdout",
          "text": [
            "Traceback (most recent call last):\n",
            "  File \"/usr/local/bin/kaggle\", line 5, in <module>\n",
            "    from kaggle.cli import main\n",
            "  File \"/usr/local/lib/python3.9/dist-packages/kaggle/__init__.py\", line 23, in <module>\n",
            "    api.authenticate()\n",
            "  File \"/usr/local/lib/python3.9/dist-packages/kaggle/api/kaggle_api_extended.py\", line 164, in authenticate\n",
            "    raise IOError('Could not find {}. Make sure it\\'s located in'\n",
            "OSError: Could not find kaggle.json. Make sure it's located in /root/.kaggle. Or use the environment method.\n"
          ]
        }
      ]
    },
    {
      "cell_type": "code",
      "source": [
        "cd gdrive/My\\ Drive/ "
      ],
      "metadata": {
        "colab": {
          "base_uri": "https://localhost:8080/"
        },
        "id": "Pwp4lJ--L6vP",
        "outputId": "2ba474a9-15d9-485f-8e9f-ddc0eb9fe3ac"
      },
      "execution_count": null,
      "outputs": [
        {
          "output_type": "stream",
          "name": "stdout",
          "text": [
            "/content/gdrive/My Drive\n"
          ]
        }
      ]
    },
    {
      "cell_type": "code",
      "source": [
        "ls kaggle.json "
      ],
      "metadata": {
        "colab": {
          "base_uri": "https://localhost:8080/"
        },
        "id": "jMSEiDssMMxB",
        "outputId": "75fc2ace-11be-43b0-c161-9a5be59f02c6"
      },
      "execution_count": null,
      "outputs": [
        {
          "output_type": "stream",
          "name": "stdout",
          "text": [
            "kaggle.json\n"
          ]
        }
      ]
    },
    {
      "cell_type": "code",
      "source": [
        "ls -l *kaggle*"
      ],
      "metadata": {
        "colab": {
          "base_uri": "https://localhost:8080/"
        },
        "id": "0p8I7DBNND-W",
        "outputId": "8031b903-cfb3-4eec-8229-b241e6e240c1"
      },
      "execution_count": null,
      "outputs": [
        {
          "output_type": "stream",
          "name": "stdout",
          "text": [
            "-rw------- 1 root root 73 Apr 13 15:12 kaggle.json\n"
          ]
        }
      ]
    },
    {
      "cell_type": "code",
      "source": [
        "!chmod 600 kaggle.json"
      ],
      "metadata": {
        "id": "ydnyDOTINze3"
      },
      "execution_count": null,
      "outputs": []
    },
    {
      "cell_type": "code",
      "source": [
        "ls -l *kaggle*"
      ],
      "metadata": {
        "colab": {
          "base_uri": "https://localhost:8080/"
        },
        "id": "nwXuYgriN2Cw",
        "outputId": "5b29080f-574b-437e-ec1f-a43f6fbc8c99"
      },
      "execution_count": null,
      "outputs": [
        {
          "output_type": "stream",
          "name": "stdout",
          "text": [
            "-rw------- 1 root root 73 Apr 13 15:12 kaggle.json\n"
          ]
        }
      ]
    },
    {
      "cell_type": "code",
      "source": [
        "envs=json.load(open(\"kaggle.json\",\"r\"))"
      ],
      "metadata": {
        "id": "GI3K8He1OQIh"
      },
      "execution_count": null,
      "outputs": []
    },
    {
      "cell_type": "code",
      "source": [
        "os.environ[\"KAGGLE_USERNAME\"] = envs[\"username\"]\n",
        "os.environ[\"KAGGLE_KEY\"] = envs[\"key\"]\n",
        "!kaggle --version\n",
        "!kaggle datasets list\n",
        "\n",
        "\n",
        "\n",
        "\n",
        "\n",
        "\n"
      ],
      "metadata": {
        "id": "8jyVSxmxQQh8",
        "colab": {
          "base_uri": "https://localhost:8080/"
        },
        "outputId": "30d20706-eccb-4949-999d-82e677a3c5fe"
      },
      "execution_count": null,
      "outputs": [
        {
          "output_type": "stream",
          "name": "stdout",
          "text": [
            "Kaggle API 1.5.13\n",
            "ref                                                               title                                              size  lastUpdated          downloadCount  voteCount  usabilityRating  \n",
            "----------------------------------------------------------------  ------------------------------------------------  -----  -------------------  -------------  ---------  ---------------  \n",
            "salvatorerastelli/spotify-and-youtube                             Spotify and Youtube                                 9MB  2023-03-20 15:43:25           7261        273  1.0              \n",
            "ppb00x/country-gdp                                                Country_GDP                                         7KB  2023-04-07 06:47:36            779         29  1.0              \n",
            "erdemtaha/cancer-data                                             Cancer Data                                        49KB  2023-03-22 07:57:00           2847         72  1.0              \n",
            "omartorres25/honda-data                                           Honda Cars Data                                   184KB  2023-03-28 04:19:11            838         23  1.0              \n",
            "lokeshparab/amazon-products-dataset                               Amazon Products Sales Dataset 2023                 80MB  2023-03-26 10:45:19           3244         75  1.0              \n",
            "ulrikthygepedersen/fastfood-nutrition                             Fastfood Nutrition                                 12KB  2023-03-21 10:02:41           2787         61  1.0              \n",
            "rkiattisak/student-performance-in-mathematics                     Student performance prediction                      9KB  2023-03-12 04:32:56           8248        176  1.0              \n",
            "ppb00x/credit-risk-customers                                      credit_risk_customers                              18KB  2023-04-12 08:28:28            904         29  1.0              \n",
            "arnabchaki/data-science-salaries-2023                             Data Science Salaries 2023  💸                      25KB  2023-04-13 09:55:16            825         30  1.0              \n",
            "kapturovalexander/nvidia-amd-intel-asus-msi-share-prices          NVIDIA, AMD, Intel, ASUS, MSI share prices (GPU)  902KB  2023-04-13 12:15:18            360         27  1.0              \n",
            "ashishraut64/internet-users                                       Global Internet users                             163KB  2023-03-29 12:25:13           1946         51  1.0              \n",
            "rkiattisak/smart-watch-prices                                     Smart Watch prices                                  5KB  2023-04-12 06:04:23            501         23  1.0              \n",
            "arnabchaki/popular-video-games-1980-2023                          Popular Video Games 1980 - 2023 🎮                   1MB  2023-03-23 16:16:51           3532        102  1.0              \n",
            "ashishraut64/global-methane-emissions                             Global Emissions.                                  31KB  2023-03-27 09:02:51           2568         53  1.0              \n",
            "tayyarhussain/best-selling-game-consoles-of-all-time              Best-Selling Gaming Consoles Dataset                1KB  2023-04-01 10:59:00            674         23  1.0              \n",
            "shrutiambekar/smartphone-specifications-and-prices-in-india       Smartphone Specifications and Prices in India      36KB  2023-04-13 06:13:13            342         21  1.0              \n",
            "kapturovalexander/bitcoin-and-ethereum-prices-from-start-to-2023  Bitcoin & Ethereum prices (from start to 2023)    149KB  2023-04-09 06:07:57            744         29  1.0              \n",
            "r1chardson/the-world-university-rankings-2011-2023                THE World University Rankings 2011-2023             1MB  2023-04-03 12:43:37           1679         40  1.0              \n",
            "dgoenrique/netflix-movies-and-tv-shows                            Netflix Movies and TV Shows                         2MB  2023-03-13 18:49:00           3703         89  1.0              \n",
            "dansbecker/melbourne-housing-snapshot                             Melbourne Housing Snapshot                        451KB  2018-06-05 12:52:24         112770       1246  0.7058824        \n"
          ]
        }
      ]
    },
    {
      "cell_type": "code",
      "source": [
        "!kaggle datasets list -s titanic"
      ],
      "metadata": {
        "id": "eke4QUWBRHyC",
        "colab": {
          "base_uri": "https://localhost:8080/"
        },
        "outputId": "3cff698a-7e3e-4391-f78e-81a58394701c"
      },
      "execution_count": null,
      "outputs": [
        {
          "output_type": "stream",
          "name": "stdout",
          "text": [
            "ref                                                 title                                           size  lastUpdated          downloadCount  voteCount  usabilityRating  \n",
            "--------------------------------------------------  ---------------------------------------------  -----  -------------------  -------------  ---------  ---------------  \n",
            "heptapod/titanic                                    Titanic                                         11KB  2017-05-16 08:14:22          53993        994  0.7058824        \n",
            "brendan45774/test-file                              Titanic dataset                                 11KB  2021-12-02 16:11:42          55039        540  1.0              \n",
            "azeembootwala/titanic                               Titanic                                         12KB  2017-06-05 12:14:37          16215        162  0.8235294        \n",
            "rahulsah06/titanic                                  Titanic                                         34KB  2019-09-16 14:43:23           5653         67  0.6764706        \n",
            "yasserh/titanic-dataset                             Titanic Dataset                                 22KB  2021-12-24 14:53:06           6839         39  1.0              \n",
            "prkukunoor/TitanicDataset                           Titanic                                        135KB  2017-01-03 22:01:13           5158         29  0.5882353        \n",
            "fossouodonald/titaniccsv                            Titanic csv                                      1KB  2016-11-07 09:44:58          12430         71  0.5882353        \n",
            "hesh97/titanicdataset-traincsv                      Titanic-Dataset (train.csv)                     22KB  2018-02-02 04:51:06          70447        446  0.4117647        \n",
            "jamesleslie/titanic-cleaned-data                    Titanic: cleaned data                           36KB  2018-11-21 11:50:18           6423         64  0.7647059        \n",
            "pavlofesenko/titanic-extended                       Titanic extended dataset (Kaggle + Wikipedia)  134KB  2019-03-06 09:53:24          11093        149  0.9411765        \n",
            "broaniki/titanic                                    titanic                                        717KB  2018-01-30 04:08:45           8409        130  0.1764706        \n",
            "kittisaks/testtitanic                               test titanic                                    22KB  2017-03-13 15:13:12           1851         33  0.64705884       \n",
            "abhinavralhan/titanic                               titanic                                         22KB  2017-07-30 11:07:55            722         16  0.8235294        \n",
            "cities/titanic123                                   Titanic Dataset Analysis                        22KB  2017-02-07 23:15:54           1970         34  0.5294118        \n",
            "brendan45774/gender-submisson                       Titanic: all ones csv file                      942B  2021-02-12 19:18:32           1094         41  0.9411765        \n",
            "ibrahimelsayed182/titanic-dataset                   Titanic dataset                                  6KB  2022-01-27 07:41:54            922         15  1.0              \n",
            "vinicius150987/titanic3                             The Complete Titanic Dataset                   277KB  2020-01-04 18:24:11           5507         45  0.64705884       \n",
            "harunshimanto/titanic-solution-for-beginners-guide  Titanic Solution for Beginner's Guide           34KB  2018-03-12 17:47:06           1609         25  0.7058824        \n",
            "pythonafroz/titanic                                 Titanic                                         22KB  2021-10-07 20:30:18             61         42  0.23529412       \n",
            "sureshbhusare/titanic-dataset-from-kaggle           Titanic DataSet from Kaggle                     33KB  2017-10-12 04:49:39           3084         29  0.4117647        \n"
          ]
        }
      ]
    },
    {
      "cell_type": "code",
      "source": [
        "cd MLPNS_2023"
      ],
      "metadata": {
        "id": "OuJUWg4nRSRe",
        "colab": {
          "base_uri": "https://localhost:8080/"
        },
        "outputId": "d3b37595-e76b-4ed1-8174-f7384a29ccd7"
      },
      "execution_count": null,
      "outputs": [
        {
          "output_type": "stream",
          "name": "stdout",
          "text": [
            "/content/gdrive/My Drive/MLPNS_2023\n"
          ]
        }
      ]
    },
    {
      "cell_type": "code",
      "source": [
        "!mkdir kaggleTitanic"
      ],
      "metadata": {
        "id": "O0KtQzOvRtB1",
        "colab": {
          "base_uri": "https://localhost:8080/"
        },
        "outputId": "27c26985-8821-45dc-bb00-c90c06069071"
      },
      "execution_count": null,
      "outputs": [
        {
          "output_type": "stream",
          "name": "stdout",
          "text": [
            "mkdir: cannot create directory ‘kaggleTitanic’: File exists\n"
          ]
        }
      ]
    },
    {
      "cell_type": "code",
      "source": [
        "cd kaggleTitanic"
      ],
      "metadata": {
        "id": "6FmtZIthRyWP",
        "colab": {
          "base_uri": "https://localhost:8080/"
        },
        "outputId": "5122dd3f-80e4-4b47-c9e1-37e14d2df530"
      },
      "execution_count": null,
      "outputs": [
        {
          "output_type": "stream",
          "name": "stdout",
          "text": [
            "/content/gdrive/My Drive/MLPNS_2023/kaggleTitanic\n"
          ]
        }
      ]
    },
    {
      "cell_type": "code",
      "source": [
        "!kaggle competitions download -c titanic"
      ],
      "metadata": {
        "id": "-9YbE4d-SQrY",
        "colab": {
          "base_uri": "https://localhost:8080/"
        },
        "outputId": "091f9c43-04aa-4bca-d75d-60e98df974d5"
      },
      "execution_count": null,
      "outputs": [
        {
          "output_type": "stream",
          "name": "stdout",
          "text": [
            "titanic.zip: Skipping, found more recently modified local copy (use --force to force download)\n"
          ]
        }
      ]
    },
    {
      "cell_type": "code",
      "source": [
        "!unzip titanic.zip"
      ],
      "metadata": {
        "id": "FruCsrCSSdU2",
        "colab": {
          "base_uri": "https://localhost:8080/"
        },
        "outputId": "171e957e-76e6-4163-8860-4edd766dc10a"
      },
      "execution_count": null,
      "outputs": [
        {
          "output_type": "stream",
          "name": "stdout",
          "text": [
            "Archive:  titanic.zip\n",
            "replace gender_submission.csv? [y]es, [n]o, [A]ll, [N]one, [r]ename: y\n",
            "  inflating: gender_submission.csv   \n",
            "replace test.csv? [y]es, [n]o, [A]ll, [N]one, [r]ename: y\n",
            "  inflating: test.csv                \n",
            "replace train.csv? [y]es, [n]o, [A]ll, [N]one, [r]ename: y\n",
            "  inflating: train.csv               \n"
          ]
        }
      ]
    },
    {
      "cell_type": "code",
      "source": [
        "!ls"
      ],
      "metadata": {
        "id": "olUAkGJeSsQ2",
        "colab": {
          "base_uri": "https://localhost:8080/"
        },
        "outputId": "1c0bbf8f-bc36-4b4a-ec7b-373565114aac"
      },
      "execution_count": null,
      "outputs": [
        {
          "output_type": "stream",
          "name": "stdout",
          "text": [
            "gender_submission.csv  test.csv  titanic.zip  train.csv\n"
          ]
        }
      ]
    },
    {
      "cell_type": "code",
      "source": [
        "titanic=pd.read_csv(\"train.csv\")\n",
        "titanic"
      ],
      "metadata": {
        "id": "CsIVkc5tTIlV",
        "colab": {
          "base_uri": "https://localhost:8080/",
          "height": 424
        },
        "outputId": "dc6f5e76-ffc3-47a0-ae6e-012d4191539f"
      },
      "execution_count": null,
      "outputs": [
        {
          "output_type": "execute_result",
          "data": {
            "text/plain": [
              "     PassengerId  Survived  Pclass  \\\n",
              "0              1         0       3   \n",
              "1              2         1       1   \n",
              "2              3         1       3   \n",
              "3              4         1       1   \n",
              "4              5         0       3   \n",
              "..           ...       ...     ...   \n",
              "886          887         0       2   \n",
              "887          888         1       1   \n",
              "888          889         0       3   \n",
              "889          890         1       1   \n",
              "890          891         0       3   \n",
              "\n",
              "                                                  Name     Sex   Age  SibSp  \\\n",
              "0                              Braund, Mr. Owen Harris    male  22.0      1   \n",
              "1    Cumings, Mrs. John Bradley (Florence Briggs Th...  female  38.0      1   \n",
              "2                               Heikkinen, Miss. Laina  female  26.0      0   \n",
              "3         Futrelle, Mrs. Jacques Heath (Lily May Peel)  female  35.0      1   \n",
              "4                             Allen, Mr. William Henry    male  35.0      0   \n",
              "..                                                 ...     ...   ...    ...   \n",
              "886                              Montvila, Rev. Juozas    male  27.0      0   \n",
              "887                       Graham, Miss. Margaret Edith  female  19.0      0   \n",
              "888           Johnston, Miss. Catherine Helen \"Carrie\"  female   NaN      1   \n",
              "889                              Behr, Mr. Karl Howell    male  26.0      0   \n",
              "890                                Dooley, Mr. Patrick    male  32.0      0   \n",
              "\n",
              "     Parch            Ticket     Fare Cabin Embarked  \n",
              "0        0         A/5 21171   7.2500   NaN        S  \n",
              "1        0          PC 17599  71.2833   C85        C  \n",
              "2        0  STON/O2. 3101282   7.9250   NaN        S  \n",
              "3        0            113803  53.1000  C123        S  \n",
              "4        0            373450   8.0500   NaN        S  \n",
              "..     ...               ...      ...   ...      ...  \n",
              "886      0            211536  13.0000   NaN        S  \n",
              "887      0            112053  30.0000   B42        S  \n",
              "888      2        W./C. 6607  23.4500   NaN        S  \n",
              "889      0            111369  30.0000  C148        C  \n",
              "890      0            370376   7.7500   NaN        Q  \n",
              "\n",
              "[891 rows x 12 columns]"
            ],
            "text/html": [
              "\n",
              "  <div id=\"df-d393d531-fa52-4aac-88d2-0c7cc8886238\">\n",
              "    <div class=\"colab-df-container\">\n",
              "      <div>\n",
              "<style scoped>\n",
              "    .dataframe tbody tr th:only-of-type {\n",
              "        vertical-align: middle;\n",
              "    }\n",
              "\n",
              "    .dataframe tbody tr th {\n",
              "        vertical-align: top;\n",
              "    }\n",
              "\n",
              "    .dataframe thead th {\n",
              "        text-align: right;\n",
              "    }\n",
              "</style>\n",
              "<table border=\"1\" class=\"dataframe\">\n",
              "  <thead>\n",
              "    <tr style=\"text-align: right;\">\n",
              "      <th></th>\n",
              "      <th>PassengerId</th>\n",
              "      <th>Survived</th>\n",
              "      <th>Pclass</th>\n",
              "      <th>Name</th>\n",
              "      <th>Sex</th>\n",
              "      <th>Age</th>\n",
              "      <th>SibSp</th>\n",
              "      <th>Parch</th>\n",
              "      <th>Ticket</th>\n",
              "      <th>Fare</th>\n",
              "      <th>Cabin</th>\n",
              "      <th>Embarked</th>\n",
              "    </tr>\n",
              "  </thead>\n",
              "  <tbody>\n",
              "    <tr>\n",
              "      <th>0</th>\n",
              "      <td>1</td>\n",
              "      <td>0</td>\n",
              "      <td>3</td>\n",
              "      <td>Braund, Mr. Owen Harris</td>\n",
              "      <td>male</td>\n",
              "      <td>22.0</td>\n",
              "      <td>1</td>\n",
              "      <td>0</td>\n",
              "      <td>A/5 21171</td>\n",
              "      <td>7.2500</td>\n",
              "      <td>NaN</td>\n",
              "      <td>S</td>\n",
              "    </tr>\n",
              "    <tr>\n",
              "      <th>1</th>\n",
              "      <td>2</td>\n",
              "      <td>1</td>\n",
              "      <td>1</td>\n",
              "      <td>Cumings, Mrs. John Bradley (Florence Briggs Th...</td>\n",
              "      <td>female</td>\n",
              "      <td>38.0</td>\n",
              "      <td>1</td>\n",
              "      <td>0</td>\n",
              "      <td>PC 17599</td>\n",
              "      <td>71.2833</td>\n",
              "      <td>C85</td>\n",
              "      <td>C</td>\n",
              "    </tr>\n",
              "    <tr>\n",
              "      <th>2</th>\n",
              "      <td>3</td>\n",
              "      <td>1</td>\n",
              "      <td>3</td>\n",
              "      <td>Heikkinen, Miss. Laina</td>\n",
              "      <td>female</td>\n",
              "      <td>26.0</td>\n",
              "      <td>0</td>\n",
              "      <td>0</td>\n",
              "      <td>STON/O2. 3101282</td>\n",
              "      <td>7.9250</td>\n",
              "      <td>NaN</td>\n",
              "      <td>S</td>\n",
              "    </tr>\n",
              "    <tr>\n",
              "      <th>3</th>\n",
              "      <td>4</td>\n",
              "      <td>1</td>\n",
              "      <td>1</td>\n",
              "      <td>Futrelle, Mrs. Jacques Heath (Lily May Peel)</td>\n",
              "      <td>female</td>\n",
              "      <td>35.0</td>\n",
              "      <td>1</td>\n",
              "      <td>0</td>\n",
              "      <td>113803</td>\n",
              "      <td>53.1000</td>\n",
              "      <td>C123</td>\n",
              "      <td>S</td>\n",
              "    </tr>\n",
              "    <tr>\n",
              "      <th>4</th>\n",
              "      <td>5</td>\n",
              "      <td>0</td>\n",
              "      <td>3</td>\n",
              "      <td>Allen, Mr. William Henry</td>\n",
              "      <td>male</td>\n",
              "      <td>35.0</td>\n",
              "      <td>0</td>\n",
              "      <td>0</td>\n",
              "      <td>373450</td>\n",
              "      <td>8.0500</td>\n",
              "      <td>NaN</td>\n",
              "      <td>S</td>\n",
              "    </tr>\n",
              "    <tr>\n",
              "      <th>...</th>\n",
              "      <td>...</td>\n",
              "      <td>...</td>\n",
              "      <td>...</td>\n",
              "      <td>...</td>\n",
              "      <td>...</td>\n",
              "      <td>...</td>\n",
              "      <td>...</td>\n",
              "      <td>...</td>\n",
              "      <td>...</td>\n",
              "      <td>...</td>\n",
              "      <td>...</td>\n",
              "      <td>...</td>\n",
              "    </tr>\n",
              "    <tr>\n",
              "      <th>886</th>\n",
              "      <td>887</td>\n",
              "      <td>0</td>\n",
              "      <td>2</td>\n",
              "      <td>Montvila, Rev. Juozas</td>\n",
              "      <td>male</td>\n",
              "      <td>27.0</td>\n",
              "      <td>0</td>\n",
              "      <td>0</td>\n",
              "      <td>211536</td>\n",
              "      <td>13.0000</td>\n",
              "      <td>NaN</td>\n",
              "      <td>S</td>\n",
              "    </tr>\n",
              "    <tr>\n",
              "      <th>887</th>\n",
              "      <td>888</td>\n",
              "      <td>1</td>\n",
              "      <td>1</td>\n",
              "      <td>Graham, Miss. Margaret Edith</td>\n",
              "      <td>female</td>\n",
              "      <td>19.0</td>\n",
              "      <td>0</td>\n",
              "      <td>0</td>\n",
              "      <td>112053</td>\n",
              "      <td>30.0000</td>\n",
              "      <td>B42</td>\n",
              "      <td>S</td>\n",
              "    </tr>\n",
              "    <tr>\n",
              "      <th>888</th>\n",
              "      <td>889</td>\n",
              "      <td>0</td>\n",
              "      <td>3</td>\n",
              "      <td>Johnston, Miss. Catherine Helen \"Carrie\"</td>\n",
              "      <td>female</td>\n",
              "      <td>NaN</td>\n",
              "      <td>1</td>\n",
              "      <td>2</td>\n",
              "      <td>W./C. 6607</td>\n",
              "      <td>23.4500</td>\n",
              "      <td>NaN</td>\n",
              "      <td>S</td>\n",
              "    </tr>\n",
              "    <tr>\n",
              "      <th>889</th>\n",
              "      <td>890</td>\n",
              "      <td>1</td>\n",
              "      <td>1</td>\n",
              "      <td>Behr, Mr. Karl Howell</td>\n",
              "      <td>male</td>\n",
              "      <td>26.0</td>\n",
              "      <td>0</td>\n",
              "      <td>0</td>\n",
              "      <td>111369</td>\n",
              "      <td>30.0000</td>\n",
              "      <td>C148</td>\n",
              "      <td>C</td>\n",
              "    </tr>\n",
              "    <tr>\n",
              "      <th>890</th>\n",
              "      <td>891</td>\n",
              "      <td>0</td>\n",
              "      <td>3</td>\n",
              "      <td>Dooley, Mr. Patrick</td>\n",
              "      <td>male</td>\n",
              "      <td>32.0</td>\n",
              "      <td>0</td>\n",
              "      <td>0</td>\n",
              "      <td>370376</td>\n",
              "      <td>7.7500</td>\n",
              "      <td>NaN</td>\n",
              "      <td>Q</td>\n",
              "    </tr>\n",
              "  </tbody>\n",
              "</table>\n",
              "<p>891 rows × 12 columns</p>\n",
              "</div>\n",
              "      <button class=\"colab-df-convert\" onclick=\"convertToInteractive('df-d393d531-fa52-4aac-88d2-0c7cc8886238')\"\n",
              "              title=\"Convert this dataframe to an interactive table.\"\n",
              "              style=\"display:none;\">\n",
              "        \n",
              "  <svg xmlns=\"http://www.w3.org/2000/svg\" height=\"24px\"viewBox=\"0 0 24 24\"\n",
              "       width=\"24px\">\n",
              "    <path d=\"M0 0h24v24H0V0z\" fill=\"none\"/>\n",
              "    <path d=\"M18.56 5.44l.94 2.06.94-2.06 2.06-.94-2.06-.94-.94-2.06-.94 2.06-2.06.94zm-11 1L8.5 8.5l.94-2.06 2.06-.94-2.06-.94L8.5 2.5l-.94 2.06-2.06.94zm10 10l.94 2.06.94-2.06 2.06-.94-2.06-.94-.94-2.06-.94 2.06-2.06.94z\"/><path d=\"M17.41 7.96l-1.37-1.37c-.4-.4-.92-.59-1.43-.59-.52 0-1.04.2-1.43.59L10.3 9.45l-7.72 7.72c-.78.78-.78 2.05 0 2.83L4 21.41c.39.39.9.59 1.41.59.51 0 1.02-.2 1.41-.59l7.78-7.78 2.81-2.81c.8-.78.8-2.07 0-2.86zM5.41 20L4 18.59l7.72-7.72 1.47 1.35L5.41 20z\"/>\n",
              "  </svg>\n",
              "      </button>\n",
              "      \n",
              "  <style>\n",
              "    .colab-df-container {\n",
              "      display:flex;\n",
              "      flex-wrap:wrap;\n",
              "      gap: 12px;\n",
              "    }\n",
              "\n",
              "    .colab-df-convert {\n",
              "      background-color: #E8F0FE;\n",
              "      border: none;\n",
              "      border-radius: 50%;\n",
              "      cursor: pointer;\n",
              "      display: none;\n",
              "      fill: #1967D2;\n",
              "      height: 32px;\n",
              "      padding: 0 0 0 0;\n",
              "      width: 32px;\n",
              "    }\n",
              "\n",
              "    .colab-df-convert:hover {\n",
              "      background-color: #E2EBFA;\n",
              "      box-shadow: 0px 1px 2px rgba(60, 64, 67, 0.3), 0px 1px 3px 1px rgba(60, 64, 67, 0.15);\n",
              "      fill: #174EA6;\n",
              "    }\n",
              "\n",
              "    [theme=dark] .colab-df-convert {\n",
              "      background-color: #3B4455;\n",
              "      fill: #D2E3FC;\n",
              "    }\n",
              "\n",
              "    [theme=dark] .colab-df-convert:hover {\n",
              "      background-color: #434B5C;\n",
              "      box-shadow: 0px 1px 3px 1px rgba(0, 0, 0, 0.15);\n",
              "      filter: drop-shadow(0px 1px 2px rgba(0, 0, 0, 0.3));\n",
              "      fill: #FFFFFF;\n",
              "    }\n",
              "  </style>\n",
              "\n",
              "      <script>\n",
              "        const buttonEl =\n",
              "          document.querySelector('#df-d393d531-fa52-4aac-88d2-0c7cc8886238 button.colab-df-convert');\n",
              "        buttonEl.style.display =\n",
              "          google.colab.kernel.accessAllowed ? 'block' : 'none';\n",
              "\n",
              "        async function convertToInteractive(key) {\n",
              "          const element = document.querySelector('#df-d393d531-fa52-4aac-88d2-0c7cc8886238');\n",
              "          const dataTable =\n",
              "            await google.colab.kernel.invokeFunction('convertToInteractive',\n",
              "                                                     [key], {});\n",
              "          if (!dataTable) return;\n",
              "\n",
              "          const docLinkHtml = 'Like what you see? Visit the ' +\n",
              "            '<a target=\"_blank\" href=https://colab.research.google.com/notebooks/data_table.ipynb>data table notebook</a>'\n",
              "            + ' to learn more about interactive tables.';\n",
              "          element.innerHTML = '';\n",
              "          dataTable['output_type'] = 'display_data';\n",
              "          await google.colab.output.renderOutput(dataTable, element);\n",
              "          const docLink = document.createElement('div');\n",
              "          docLink.innerHTML = docLinkHtml;\n",
              "          element.appendChild(docLink);\n",
              "        }\n",
              "      </script>\n",
              "    </div>\n",
              "  </div>\n",
              "  "
            ]
          },
          "metadata": {},
          "execution_count": 20
        }
      ]
    },
    {
      "cell_type": "code",
      "source": [
        "titanic.columns"
      ],
      "metadata": {
        "id": "Uxrq0si_TRUy",
        "colab": {
          "base_uri": "https://localhost:8080/"
        },
        "outputId": "464fd1e5-d4c8-4132-b481-5bb7df74e9d8"
      },
      "execution_count": null,
      "outputs": [
        {
          "output_type": "execute_result",
          "data": {
            "text/plain": [
              "Index(['PassengerId', 'Survived', 'Pclass', 'Name', 'Sex', 'Age', 'SibSp',\n",
              "       'Parch', 'Ticket', 'Fare', 'Cabin', 'Embarked'],\n",
              "      dtype='object')"
            ]
          },
          "metadata": {},
          "execution_count": 21
        }
      ]
    },
    {
      "cell_type": "code",
      "source": [
        "titanic = titanic[['Pclass', 'Sex', 'Age']]\n",
        "titanic.shape"
      ],
      "metadata": {
        "id": "PgdeASZUTYck",
        "colab": {
          "base_uri": "https://localhost:8080/"
        },
        "outputId": "c9160967-876d-42e2-d4ab-4a9548a131f9"
      },
      "execution_count": null,
      "outputs": [
        {
          "output_type": "execute_result",
          "data": {
            "text/plain": [
              "(891, 3)"
            ]
          },
          "metadata": {},
          "execution_count": 22
        }
      ]
    },
    {
      "cell_type": "code",
      "source": [
        "titanic.describe()"
      ],
      "metadata": {
        "id": "JMe0HfpITu6x",
        "colab": {
          "base_uri": "https://localhost:8080/",
          "height": 300
        },
        "outputId": "32a29baf-c743-497a-da6d-65c7dc4aa7ab"
      },
      "execution_count": null,
      "outputs": [
        {
          "output_type": "execute_result",
          "data": {
            "text/plain": [
              "           Pclass         Age\n",
              "count  891.000000  714.000000\n",
              "mean     2.308642   29.699118\n",
              "std      0.836071   14.526497\n",
              "min      1.000000    0.420000\n",
              "25%      2.000000   20.125000\n",
              "50%      3.000000   28.000000\n",
              "75%      3.000000   38.000000\n",
              "max      3.000000   80.000000"
            ],
            "text/html": [
              "\n",
              "  <div id=\"df-c9c7b2b5-fbfb-443e-810f-2e925e48ed9a\">\n",
              "    <div class=\"colab-df-container\">\n",
              "      <div>\n",
              "<style scoped>\n",
              "    .dataframe tbody tr th:only-of-type {\n",
              "        vertical-align: middle;\n",
              "    }\n",
              "\n",
              "    .dataframe tbody tr th {\n",
              "        vertical-align: top;\n",
              "    }\n",
              "\n",
              "    .dataframe thead th {\n",
              "        text-align: right;\n",
              "    }\n",
              "</style>\n",
              "<table border=\"1\" class=\"dataframe\">\n",
              "  <thead>\n",
              "    <tr style=\"text-align: right;\">\n",
              "      <th></th>\n",
              "      <th>Pclass</th>\n",
              "      <th>Age</th>\n",
              "    </tr>\n",
              "  </thead>\n",
              "  <tbody>\n",
              "    <tr>\n",
              "      <th>count</th>\n",
              "      <td>891.000000</td>\n",
              "      <td>714.000000</td>\n",
              "    </tr>\n",
              "    <tr>\n",
              "      <th>mean</th>\n",
              "      <td>2.308642</td>\n",
              "      <td>29.699118</td>\n",
              "    </tr>\n",
              "    <tr>\n",
              "      <th>std</th>\n",
              "      <td>0.836071</td>\n",
              "      <td>14.526497</td>\n",
              "    </tr>\n",
              "    <tr>\n",
              "      <th>min</th>\n",
              "      <td>1.000000</td>\n",
              "      <td>0.420000</td>\n",
              "    </tr>\n",
              "    <tr>\n",
              "      <th>25%</th>\n",
              "      <td>2.000000</td>\n",
              "      <td>20.125000</td>\n",
              "    </tr>\n",
              "    <tr>\n",
              "      <th>50%</th>\n",
              "      <td>3.000000</td>\n",
              "      <td>28.000000</td>\n",
              "    </tr>\n",
              "    <tr>\n",
              "      <th>75%</th>\n",
              "      <td>3.000000</td>\n",
              "      <td>38.000000</td>\n",
              "    </tr>\n",
              "    <tr>\n",
              "      <th>max</th>\n",
              "      <td>3.000000</td>\n",
              "      <td>80.000000</td>\n",
              "    </tr>\n",
              "  </tbody>\n",
              "</table>\n",
              "</div>\n",
              "      <button class=\"colab-df-convert\" onclick=\"convertToInteractive('df-c9c7b2b5-fbfb-443e-810f-2e925e48ed9a')\"\n",
              "              title=\"Convert this dataframe to an interactive table.\"\n",
              "              style=\"display:none;\">\n",
              "        \n",
              "  <svg xmlns=\"http://www.w3.org/2000/svg\" height=\"24px\"viewBox=\"0 0 24 24\"\n",
              "       width=\"24px\">\n",
              "    <path d=\"M0 0h24v24H0V0z\" fill=\"none\"/>\n",
              "    <path d=\"M18.56 5.44l.94 2.06.94-2.06 2.06-.94-2.06-.94-.94-2.06-.94 2.06-2.06.94zm-11 1L8.5 8.5l.94-2.06 2.06-.94-2.06-.94L8.5 2.5l-.94 2.06-2.06.94zm10 10l.94 2.06.94-2.06 2.06-.94-2.06-.94-.94-2.06-.94 2.06-2.06.94z\"/><path d=\"M17.41 7.96l-1.37-1.37c-.4-.4-.92-.59-1.43-.59-.52 0-1.04.2-1.43.59L10.3 9.45l-7.72 7.72c-.78.78-.78 2.05 0 2.83L4 21.41c.39.39.9.59 1.41.59.51 0 1.02-.2 1.41-.59l7.78-7.78 2.81-2.81c.8-.78.8-2.07 0-2.86zM5.41 20L4 18.59l7.72-7.72 1.47 1.35L5.41 20z\"/>\n",
              "  </svg>\n",
              "      </button>\n",
              "      \n",
              "  <style>\n",
              "    .colab-df-container {\n",
              "      display:flex;\n",
              "      flex-wrap:wrap;\n",
              "      gap: 12px;\n",
              "    }\n",
              "\n",
              "    .colab-df-convert {\n",
              "      background-color: #E8F0FE;\n",
              "      border: none;\n",
              "      border-radius: 50%;\n",
              "      cursor: pointer;\n",
              "      display: none;\n",
              "      fill: #1967D2;\n",
              "      height: 32px;\n",
              "      padding: 0 0 0 0;\n",
              "      width: 32px;\n",
              "    }\n",
              "\n",
              "    .colab-df-convert:hover {\n",
              "      background-color: #E2EBFA;\n",
              "      box-shadow: 0px 1px 2px rgba(60, 64, 67, 0.3), 0px 1px 3px 1px rgba(60, 64, 67, 0.15);\n",
              "      fill: #174EA6;\n",
              "    }\n",
              "\n",
              "    [theme=dark] .colab-df-convert {\n",
              "      background-color: #3B4455;\n",
              "      fill: #D2E3FC;\n",
              "    }\n",
              "\n",
              "    [theme=dark] .colab-df-convert:hover {\n",
              "      background-color: #434B5C;\n",
              "      box-shadow: 0px 1px 3px 1px rgba(0, 0, 0, 0.15);\n",
              "      filter: drop-shadow(0px 1px 2px rgba(0, 0, 0, 0.3));\n",
              "      fill: #FFFFFF;\n",
              "    }\n",
              "  </style>\n",
              "\n",
              "      <script>\n",
              "        const buttonEl =\n",
              "          document.querySelector('#df-c9c7b2b5-fbfb-443e-810f-2e925e48ed9a button.colab-df-convert');\n",
              "        buttonEl.style.display =\n",
              "          google.colab.kernel.accessAllowed ? 'block' : 'none';\n",
              "\n",
              "        async function convertToInteractive(key) {\n",
              "          const element = document.querySelector('#df-c9c7b2b5-fbfb-443e-810f-2e925e48ed9a');\n",
              "          const dataTable =\n",
              "            await google.colab.kernel.invokeFunction('convertToInteractive',\n",
              "                                                     [key], {});\n",
              "          if (!dataTable) return;\n",
              "\n",
              "          const docLinkHtml = 'Like what you see? Visit the ' +\n",
              "            '<a target=\"_blank\" href=https://colab.research.google.com/notebooks/data_table.ipynb>data table notebook</a>'\n",
              "            + ' to learn more about interactive tables.';\n",
              "          element.innerHTML = '';\n",
              "          dataTable['output_type'] = 'display_data';\n",
              "          await google.colab.output.renderOutput(dataTable, element);\n",
              "          const docLink = document.createElement('div');\n",
              "          docLink.innerHTML = docLinkHtml;\n",
              "          element.appendChild(docLink);\n",
              "        }\n",
              "      </script>\n",
              "    </div>\n",
              "  </div>\n",
              "  "
            ]
          },
          "metadata": {},
          "execution_count": 23
        }
      ]
    },
    {
      "cell_type": "code",
      "source": [
        "titanic[\"Sex\"]"
      ],
      "metadata": {
        "id": "Cxb00MtDTy7D",
        "colab": {
          "base_uri": "https://localhost:8080/"
        },
        "outputId": "bbf651ee-67ba-4748-cffd-f4dfe18606b0"
      },
      "execution_count": null,
      "outputs": [
        {
          "output_type": "execute_result",
          "data": {
            "text/plain": [
              "0        male\n",
              "1      female\n",
              "2      female\n",
              "3      female\n",
              "4        male\n",
              "        ...  \n",
              "886      male\n",
              "887    female\n",
              "888    female\n",
              "889      male\n",
              "890      male\n",
              "Name: Sex, Length: 891, dtype: object"
            ]
          },
          "metadata": {},
          "execution_count": 24
        }
      ]
    },
    {
      "cell_type": "code",
      "source": [
        "titanic.dropna(inplace=True)"
      ],
      "metadata": {
        "id": "61MzPEhmUH--",
        "colab": {
          "base_uri": "https://localhost:8080/"
        },
        "outputId": "c62fdb23-42ca-4f45-bc48-a111da4f7c1f"
      },
      "execution_count": null,
      "outputs": [
        {
          "output_type": "stream",
          "name": "stderr",
          "text": [
            "<ipython-input-25-0e9622e1a85c>:1: SettingWithCopyWarning: \n",
            "A value is trying to be set on a copy of a slice from a DataFrame\n",
            "\n",
            "See the caveats in the documentation: https://pandas.pydata.org/pandas-docs/stable/user_guide/indexing.html#returning-a-view-versus-a-copy\n",
            "  titanic.dropna(inplace=True)\n"
          ]
        }
      ]
    },
    {
      "cell_type": "code",
      "source": [
        "titanic.describe\n"
      ],
      "metadata": {
        "id": "szwTolIuUSHC",
        "colab": {
          "base_uri": "https://localhost:8080/"
        },
        "outputId": "ce8ed986-e9d9-4eca-ce10-7538dda391a7"
      },
      "execution_count": null,
      "outputs": [
        {
          "output_type": "execute_result",
          "data": {
            "text/plain": [
              "<bound method NDFrame.describe of      Pclass     Sex   Age\n",
              "0         3    male  22.0\n",
              "1         1  female  38.0\n",
              "2         3  female  26.0\n",
              "3         1  female  35.0\n",
              "4         3    male  35.0\n",
              "..      ...     ...   ...\n",
              "885       3  female  39.0\n",
              "886       2    male  27.0\n",
              "887       1  female  19.0\n",
              "889       1    male  26.0\n",
              "890       3    male  32.0\n",
              "\n",
              "[714 rows x 3 columns]>"
            ]
          },
          "metadata": {},
          "execution_count": 26
        }
      ]
    },
    {
      "cell_type": "code",
      "source": [
        "titanic['gender']=titanic['Sex'].map({'male':0,'female':1})\n",
        "type(titanic['gender'])"
      ],
      "metadata": {
        "id": "uYyWkWrvUi36",
        "colab": {
          "base_uri": "https://localhost:8080/"
        },
        "outputId": "958017f8-839d-4d9e-f756-c9af357c86d7"
      },
      "execution_count": null,
      "outputs": [
        {
          "output_type": "stream",
          "name": "stderr",
          "text": [
            "<ipython-input-27-224bc919aa5c>:1: SettingWithCopyWarning: \n",
            "A value is trying to be set on a copy of a slice from a DataFrame.\n",
            "Try using .loc[row_indexer,col_indexer] = value instead\n",
            "\n",
            "See the caveats in the documentation: https://pandas.pydata.org/pandas-docs/stable/user_guide/indexing.html#returning-a-view-versus-a-copy\n",
            "  titanic['gender']=titanic['Sex'].map({'male':0,'female':1})\n"
          ]
        },
        {
          "output_type": "execute_result",
          "data": {
            "text/plain": [
              "pandas.core.series.Series"
            ]
          },
          "metadata": {},
          "execution_count": 27
        }
      ]
    },
    {
      "cell_type": "code",
      "source": [
        "titanic"
      ],
      "metadata": {
        "id": "2yIjzGhtVHrN",
        "colab": {
          "base_uri": "https://localhost:8080/",
          "height": 424
        },
        "outputId": "c4db96e4-6131-464b-f12f-a24ec25b13be"
      },
      "execution_count": null,
      "outputs": [
        {
          "output_type": "execute_result",
          "data": {
            "text/plain": [
              "     Pclass     Sex   Age  gender\n",
              "0         3    male  22.0       0\n",
              "1         1  female  38.0       1\n",
              "2         3  female  26.0       1\n",
              "3         1  female  35.0       1\n",
              "4         3    male  35.0       0\n",
              "..      ...     ...   ...     ...\n",
              "885       3  female  39.0       1\n",
              "886       2    male  27.0       0\n",
              "887       1  female  19.0       1\n",
              "889       1    male  26.0       0\n",
              "890       3    male  32.0       0\n",
              "\n",
              "[714 rows x 4 columns]"
            ],
            "text/html": [
              "\n",
              "  <div id=\"df-0466c3b8-5860-455b-a854-7b72ac5e519e\">\n",
              "    <div class=\"colab-df-container\">\n",
              "      <div>\n",
              "<style scoped>\n",
              "    .dataframe tbody tr th:only-of-type {\n",
              "        vertical-align: middle;\n",
              "    }\n",
              "\n",
              "    .dataframe tbody tr th {\n",
              "        vertical-align: top;\n",
              "    }\n",
              "\n",
              "    .dataframe thead th {\n",
              "        text-align: right;\n",
              "    }\n",
              "</style>\n",
              "<table border=\"1\" class=\"dataframe\">\n",
              "  <thead>\n",
              "    <tr style=\"text-align: right;\">\n",
              "      <th></th>\n",
              "      <th>Pclass</th>\n",
              "      <th>Sex</th>\n",
              "      <th>Age</th>\n",
              "      <th>gender</th>\n",
              "    </tr>\n",
              "  </thead>\n",
              "  <tbody>\n",
              "    <tr>\n",
              "      <th>0</th>\n",
              "      <td>3</td>\n",
              "      <td>male</td>\n",
              "      <td>22.0</td>\n",
              "      <td>0</td>\n",
              "    </tr>\n",
              "    <tr>\n",
              "      <th>1</th>\n",
              "      <td>1</td>\n",
              "      <td>female</td>\n",
              "      <td>38.0</td>\n",
              "      <td>1</td>\n",
              "    </tr>\n",
              "    <tr>\n",
              "      <th>2</th>\n",
              "      <td>3</td>\n",
              "      <td>female</td>\n",
              "      <td>26.0</td>\n",
              "      <td>1</td>\n",
              "    </tr>\n",
              "    <tr>\n",
              "      <th>3</th>\n",
              "      <td>1</td>\n",
              "      <td>female</td>\n",
              "      <td>35.0</td>\n",
              "      <td>1</td>\n",
              "    </tr>\n",
              "    <tr>\n",
              "      <th>4</th>\n",
              "      <td>3</td>\n",
              "      <td>male</td>\n",
              "      <td>35.0</td>\n",
              "      <td>0</td>\n",
              "    </tr>\n",
              "    <tr>\n",
              "      <th>...</th>\n",
              "      <td>...</td>\n",
              "      <td>...</td>\n",
              "      <td>...</td>\n",
              "      <td>...</td>\n",
              "    </tr>\n",
              "    <tr>\n",
              "      <th>885</th>\n",
              "      <td>3</td>\n",
              "      <td>female</td>\n",
              "      <td>39.0</td>\n",
              "      <td>1</td>\n",
              "    </tr>\n",
              "    <tr>\n",
              "      <th>886</th>\n",
              "      <td>2</td>\n",
              "      <td>male</td>\n",
              "      <td>27.0</td>\n",
              "      <td>0</td>\n",
              "    </tr>\n",
              "    <tr>\n",
              "      <th>887</th>\n",
              "      <td>1</td>\n",
              "      <td>female</td>\n",
              "      <td>19.0</td>\n",
              "      <td>1</td>\n",
              "    </tr>\n",
              "    <tr>\n",
              "      <th>889</th>\n",
              "      <td>1</td>\n",
              "      <td>male</td>\n",
              "      <td>26.0</td>\n",
              "      <td>0</td>\n",
              "    </tr>\n",
              "    <tr>\n",
              "      <th>890</th>\n",
              "      <td>3</td>\n",
              "      <td>male</td>\n",
              "      <td>32.0</td>\n",
              "      <td>0</td>\n",
              "    </tr>\n",
              "  </tbody>\n",
              "</table>\n",
              "<p>714 rows × 4 columns</p>\n",
              "</div>\n",
              "      <button class=\"colab-df-convert\" onclick=\"convertToInteractive('df-0466c3b8-5860-455b-a854-7b72ac5e519e')\"\n",
              "              title=\"Convert this dataframe to an interactive table.\"\n",
              "              style=\"display:none;\">\n",
              "        \n",
              "  <svg xmlns=\"http://www.w3.org/2000/svg\" height=\"24px\"viewBox=\"0 0 24 24\"\n",
              "       width=\"24px\">\n",
              "    <path d=\"M0 0h24v24H0V0z\" fill=\"none\"/>\n",
              "    <path d=\"M18.56 5.44l.94 2.06.94-2.06 2.06-.94-2.06-.94-.94-2.06-.94 2.06-2.06.94zm-11 1L8.5 8.5l.94-2.06 2.06-.94-2.06-.94L8.5 2.5l-.94 2.06-2.06.94zm10 10l.94 2.06.94-2.06 2.06-.94-2.06-.94-.94-2.06-.94 2.06-2.06.94z\"/><path d=\"M17.41 7.96l-1.37-1.37c-.4-.4-.92-.59-1.43-.59-.52 0-1.04.2-1.43.59L10.3 9.45l-7.72 7.72c-.78.78-.78 2.05 0 2.83L4 21.41c.39.39.9.59 1.41.59.51 0 1.02-.2 1.41-.59l7.78-7.78 2.81-2.81c.8-.78.8-2.07 0-2.86zM5.41 20L4 18.59l7.72-7.72 1.47 1.35L5.41 20z\"/>\n",
              "  </svg>\n",
              "      </button>\n",
              "      \n",
              "  <style>\n",
              "    .colab-df-container {\n",
              "      display:flex;\n",
              "      flex-wrap:wrap;\n",
              "      gap: 12px;\n",
              "    }\n",
              "\n",
              "    .colab-df-convert {\n",
              "      background-color: #E8F0FE;\n",
              "      border: none;\n",
              "      border-radius: 50%;\n",
              "      cursor: pointer;\n",
              "      display: none;\n",
              "      fill: #1967D2;\n",
              "      height: 32px;\n",
              "      padding: 0 0 0 0;\n",
              "      width: 32px;\n",
              "    }\n",
              "\n",
              "    .colab-df-convert:hover {\n",
              "      background-color: #E2EBFA;\n",
              "      box-shadow: 0px 1px 2px rgba(60, 64, 67, 0.3), 0px 1px 3px 1px rgba(60, 64, 67, 0.15);\n",
              "      fill: #174EA6;\n",
              "    }\n",
              "\n",
              "    [theme=dark] .colab-df-convert {\n",
              "      background-color: #3B4455;\n",
              "      fill: #D2E3FC;\n",
              "    }\n",
              "\n",
              "    [theme=dark] .colab-df-convert:hover {\n",
              "      background-color: #434B5C;\n",
              "      box-shadow: 0px 1px 3px 1px rgba(0, 0, 0, 0.15);\n",
              "      filter: drop-shadow(0px 1px 2px rgba(0, 0, 0, 0.3));\n",
              "      fill: #FFFFFF;\n",
              "    }\n",
              "  </style>\n",
              "\n",
              "      <script>\n",
              "        const buttonEl =\n",
              "          document.querySelector('#df-0466c3b8-5860-455b-a854-7b72ac5e519e button.colab-df-convert');\n",
              "        buttonEl.style.display =\n",
              "          google.colab.kernel.accessAllowed ? 'block' : 'none';\n",
              "\n",
              "        async function convertToInteractive(key) {\n",
              "          const element = document.querySelector('#df-0466c3b8-5860-455b-a854-7b72ac5e519e');\n",
              "          const dataTable =\n",
              "            await google.colab.kernel.invokeFunction('convertToInteractive',\n",
              "                                                     [key], {});\n",
              "          if (!dataTable) return;\n",
              "\n",
              "          const docLinkHtml = 'Like what you see? Visit the ' +\n",
              "            '<a target=\"_blank\" href=https://colab.research.google.com/notebooks/data_table.ipynb>data table notebook</a>'\n",
              "            + ' to learn more about interactive tables.';\n",
              "          element.innerHTML = '';\n",
              "          dataTable['output_type'] = 'display_data';\n",
              "          await google.colab.output.renderOutput(dataTable, element);\n",
              "          const docLink = document.createElement('div');\n",
              "          docLink.innerHTML = docLinkHtml;\n",
              "          element.appendChild(docLink);\n",
              "        }\n",
              "      </script>\n",
              "    </div>\n",
              "  </div>\n",
              "  "
            ]
          },
          "metadata": {},
          "execution_count": 28
        }
      ]
    },
    {
      "cell_type": "code",
      "source": [
        "titanic.drop('Sex', axis=1, inplace=True)"
      ],
      "metadata": {
        "id": "ouk9unH5VkL8",
        "colab": {
          "base_uri": "https://localhost:8080/"
        },
        "outputId": "80648c94-faa1-474a-b94f-5af2016335a8"
      },
      "execution_count": null,
      "outputs": [
        {
          "output_type": "stream",
          "name": "stderr",
          "text": [
            "<ipython-input-29-4179e6b4df57>:1: SettingWithCopyWarning: \n",
            "A value is trying to be set on a copy of a slice from a DataFrame\n",
            "\n",
            "See the caveats in the documentation: https://pandas.pydata.org/pandas-docs/stable/user_guide/indexing.html#returning-a-view-versus-a-copy\n",
            "  titanic.drop('Sex', axis=1, inplace=True)\n"
          ]
        }
      ]
    },
    {
      "cell_type": "code",
      "source": [
        "titanic"
      ],
      "metadata": {
        "id": "tqd2PmmeWJn_",
        "colab": {
          "base_uri": "https://localhost:8080/",
          "height": 424
        },
        "outputId": "f13ff92b-f43b-432d-cba8-b319ac60ca41"
      },
      "execution_count": null,
      "outputs": [
        {
          "output_type": "execute_result",
          "data": {
            "text/plain": [
              "     Pclass   Age  gender\n",
              "0         3  22.0       0\n",
              "1         1  38.0       1\n",
              "2         3  26.0       1\n",
              "3         1  35.0       1\n",
              "4         3  35.0       0\n",
              "..      ...   ...     ...\n",
              "885       3  39.0       1\n",
              "886       2  27.0       0\n",
              "887       1  19.0       1\n",
              "889       1  26.0       0\n",
              "890       3  32.0       0\n",
              "\n",
              "[714 rows x 3 columns]"
            ],
            "text/html": [
              "\n",
              "  <div id=\"df-bedca51b-bb7e-44ce-9e6b-729fa3209c2b\">\n",
              "    <div class=\"colab-df-container\">\n",
              "      <div>\n",
              "<style scoped>\n",
              "    .dataframe tbody tr th:only-of-type {\n",
              "        vertical-align: middle;\n",
              "    }\n",
              "\n",
              "    .dataframe tbody tr th {\n",
              "        vertical-align: top;\n",
              "    }\n",
              "\n",
              "    .dataframe thead th {\n",
              "        text-align: right;\n",
              "    }\n",
              "</style>\n",
              "<table border=\"1\" class=\"dataframe\">\n",
              "  <thead>\n",
              "    <tr style=\"text-align: right;\">\n",
              "      <th></th>\n",
              "      <th>Pclass</th>\n",
              "      <th>Age</th>\n",
              "      <th>gender</th>\n",
              "    </tr>\n",
              "  </thead>\n",
              "  <tbody>\n",
              "    <tr>\n",
              "      <th>0</th>\n",
              "      <td>3</td>\n",
              "      <td>22.0</td>\n",
              "      <td>0</td>\n",
              "    </tr>\n",
              "    <tr>\n",
              "      <th>1</th>\n",
              "      <td>1</td>\n",
              "      <td>38.0</td>\n",
              "      <td>1</td>\n",
              "    </tr>\n",
              "    <tr>\n",
              "      <th>2</th>\n",
              "      <td>3</td>\n",
              "      <td>26.0</td>\n",
              "      <td>1</td>\n",
              "    </tr>\n",
              "    <tr>\n",
              "      <th>3</th>\n",
              "      <td>1</td>\n",
              "      <td>35.0</td>\n",
              "      <td>1</td>\n",
              "    </tr>\n",
              "    <tr>\n",
              "      <th>4</th>\n",
              "      <td>3</td>\n",
              "      <td>35.0</td>\n",
              "      <td>0</td>\n",
              "    </tr>\n",
              "    <tr>\n",
              "      <th>...</th>\n",
              "      <td>...</td>\n",
              "      <td>...</td>\n",
              "      <td>...</td>\n",
              "    </tr>\n",
              "    <tr>\n",
              "      <th>885</th>\n",
              "      <td>3</td>\n",
              "      <td>39.0</td>\n",
              "      <td>1</td>\n",
              "    </tr>\n",
              "    <tr>\n",
              "      <th>886</th>\n",
              "      <td>2</td>\n",
              "      <td>27.0</td>\n",
              "      <td>0</td>\n",
              "    </tr>\n",
              "    <tr>\n",
              "      <th>887</th>\n",
              "      <td>1</td>\n",
              "      <td>19.0</td>\n",
              "      <td>1</td>\n",
              "    </tr>\n",
              "    <tr>\n",
              "      <th>889</th>\n",
              "      <td>1</td>\n",
              "      <td>26.0</td>\n",
              "      <td>0</td>\n",
              "    </tr>\n",
              "    <tr>\n",
              "      <th>890</th>\n",
              "      <td>3</td>\n",
              "      <td>32.0</td>\n",
              "      <td>0</td>\n",
              "    </tr>\n",
              "  </tbody>\n",
              "</table>\n",
              "<p>714 rows × 3 columns</p>\n",
              "</div>\n",
              "      <button class=\"colab-df-convert\" onclick=\"convertToInteractive('df-bedca51b-bb7e-44ce-9e6b-729fa3209c2b')\"\n",
              "              title=\"Convert this dataframe to an interactive table.\"\n",
              "              style=\"display:none;\">\n",
              "        \n",
              "  <svg xmlns=\"http://www.w3.org/2000/svg\" height=\"24px\"viewBox=\"0 0 24 24\"\n",
              "       width=\"24px\">\n",
              "    <path d=\"M0 0h24v24H0V0z\" fill=\"none\"/>\n",
              "    <path d=\"M18.56 5.44l.94 2.06.94-2.06 2.06-.94-2.06-.94-.94-2.06-.94 2.06-2.06.94zm-11 1L8.5 8.5l.94-2.06 2.06-.94-2.06-.94L8.5 2.5l-.94 2.06-2.06.94zm10 10l.94 2.06.94-2.06 2.06-.94-2.06-.94-.94-2.06-.94 2.06-2.06.94z\"/><path d=\"M17.41 7.96l-1.37-1.37c-.4-.4-.92-.59-1.43-.59-.52 0-1.04.2-1.43.59L10.3 9.45l-7.72 7.72c-.78.78-.78 2.05 0 2.83L4 21.41c.39.39.9.59 1.41.59.51 0 1.02-.2 1.41-.59l7.78-7.78 2.81-2.81c.8-.78.8-2.07 0-2.86zM5.41 20L4 18.59l7.72-7.72 1.47 1.35L5.41 20z\"/>\n",
              "  </svg>\n",
              "      </button>\n",
              "      \n",
              "  <style>\n",
              "    .colab-df-container {\n",
              "      display:flex;\n",
              "      flex-wrap:wrap;\n",
              "      gap: 12px;\n",
              "    }\n",
              "\n",
              "    .colab-df-convert {\n",
              "      background-color: #E8F0FE;\n",
              "      border: none;\n",
              "      border-radius: 50%;\n",
              "      cursor: pointer;\n",
              "      display: none;\n",
              "      fill: #1967D2;\n",
              "      height: 32px;\n",
              "      padding: 0 0 0 0;\n",
              "      width: 32px;\n",
              "    }\n",
              "\n",
              "    .colab-df-convert:hover {\n",
              "      background-color: #E2EBFA;\n",
              "      box-shadow: 0px 1px 2px rgba(60, 64, 67, 0.3), 0px 1px 3px 1px rgba(60, 64, 67, 0.15);\n",
              "      fill: #174EA6;\n",
              "    }\n",
              "\n",
              "    [theme=dark] .colab-df-convert {\n",
              "      background-color: #3B4455;\n",
              "      fill: #D2E3FC;\n",
              "    }\n",
              "\n",
              "    [theme=dark] .colab-df-convert:hover {\n",
              "      background-color: #434B5C;\n",
              "      box-shadow: 0px 1px 3px 1px rgba(0, 0, 0, 0.15);\n",
              "      filter: drop-shadow(0px 1px 2px rgba(0, 0, 0, 0.3));\n",
              "      fill: #FFFFFF;\n",
              "    }\n",
              "  </style>\n",
              "\n",
              "      <script>\n",
              "        const buttonEl =\n",
              "          document.querySelector('#df-bedca51b-bb7e-44ce-9e6b-729fa3209c2b button.colab-df-convert');\n",
              "        buttonEl.style.display =\n",
              "          google.colab.kernel.accessAllowed ? 'block' : 'none';\n",
              "\n",
              "        async function convertToInteractive(key) {\n",
              "          const element = document.querySelector('#df-bedca51b-bb7e-44ce-9e6b-729fa3209c2b');\n",
              "          const dataTable =\n",
              "            await google.colab.kernel.invokeFunction('convertToInteractive',\n",
              "                                                     [key], {});\n",
              "          if (!dataTable) return;\n",
              "\n",
              "          const docLinkHtml = 'Like what you see? Visit the ' +\n",
              "            '<a target=\"_blank\" href=https://colab.research.google.com/notebooks/data_table.ipynb>data table notebook</a>'\n",
              "            + ' to learn more about interactive tables.';\n",
              "          element.innerHTML = '';\n",
              "          dataTable['output_type'] = 'display_data';\n",
              "          await google.colab.output.renderOutput(dataTable, element);\n",
              "          const docLink = document.createElement('div');\n",
              "          docLink.innerHTML = docLinkHtml;\n",
              "          element.appendChild(docLink);\n",
              "        }\n",
              "      </script>\n",
              "    </div>\n",
              "  </div>\n",
              "  "
            ]
          },
          "metadata": {},
          "execution_count": 30
        }
      ]
    },
    {
      "cell_type": "code",
      "source": [
        "titanic_target = pd.read_csv(\"train.csv\")[[\"Survived\", \n",
        "                                           \"Pclass\",\t\"Sex\",\t\"Age\"]].dropna()\n",
        "titanic_target"
      ],
      "metadata": {
        "id": "UE31Zx3OYPIz",
        "colab": {
          "base_uri": "https://localhost:8080/",
          "height": 424
        },
        "outputId": "cc89c27b-9ad4-4278-ac4d-16cff16473fc"
      },
      "execution_count": null,
      "outputs": [
        {
          "output_type": "execute_result",
          "data": {
            "text/plain": [
              "     Survived  Pclass     Sex   Age\n",
              "0           0       3    male  22.0\n",
              "1           1       1  female  38.0\n",
              "2           1       3  female  26.0\n",
              "3           1       1  female  35.0\n",
              "4           0       3    male  35.0\n",
              "..        ...     ...     ...   ...\n",
              "885         0       3  female  39.0\n",
              "886         0       2    male  27.0\n",
              "887         1       1  female  19.0\n",
              "889         1       1    male  26.0\n",
              "890         0       3    male  32.0\n",
              "\n",
              "[714 rows x 4 columns]"
            ],
            "text/html": [
              "\n",
              "  <div id=\"df-5a436041-2397-41af-b6c3-cf14f0583875\">\n",
              "    <div class=\"colab-df-container\">\n",
              "      <div>\n",
              "<style scoped>\n",
              "    .dataframe tbody tr th:only-of-type {\n",
              "        vertical-align: middle;\n",
              "    }\n",
              "\n",
              "    .dataframe tbody tr th {\n",
              "        vertical-align: top;\n",
              "    }\n",
              "\n",
              "    .dataframe thead th {\n",
              "        text-align: right;\n",
              "    }\n",
              "</style>\n",
              "<table border=\"1\" class=\"dataframe\">\n",
              "  <thead>\n",
              "    <tr style=\"text-align: right;\">\n",
              "      <th></th>\n",
              "      <th>Survived</th>\n",
              "      <th>Pclass</th>\n",
              "      <th>Sex</th>\n",
              "      <th>Age</th>\n",
              "    </tr>\n",
              "  </thead>\n",
              "  <tbody>\n",
              "    <tr>\n",
              "      <th>0</th>\n",
              "      <td>0</td>\n",
              "      <td>3</td>\n",
              "      <td>male</td>\n",
              "      <td>22.0</td>\n",
              "    </tr>\n",
              "    <tr>\n",
              "      <th>1</th>\n",
              "      <td>1</td>\n",
              "      <td>1</td>\n",
              "      <td>female</td>\n",
              "      <td>38.0</td>\n",
              "    </tr>\n",
              "    <tr>\n",
              "      <th>2</th>\n",
              "      <td>1</td>\n",
              "      <td>3</td>\n",
              "      <td>female</td>\n",
              "      <td>26.0</td>\n",
              "    </tr>\n",
              "    <tr>\n",
              "      <th>3</th>\n",
              "      <td>1</td>\n",
              "      <td>1</td>\n",
              "      <td>female</td>\n",
              "      <td>35.0</td>\n",
              "    </tr>\n",
              "    <tr>\n",
              "      <th>4</th>\n",
              "      <td>0</td>\n",
              "      <td>3</td>\n",
              "      <td>male</td>\n",
              "      <td>35.0</td>\n",
              "    </tr>\n",
              "    <tr>\n",
              "      <th>...</th>\n",
              "      <td>...</td>\n",
              "      <td>...</td>\n",
              "      <td>...</td>\n",
              "      <td>...</td>\n",
              "    </tr>\n",
              "    <tr>\n",
              "      <th>885</th>\n",
              "      <td>0</td>\n",
              "      <td>3</td>\n",
              "      <td>female</td>\n",
              "      <td>39.0</td>\n",
              "    </tr>\n",
              "    <tr>\n",
              "      <th>886</th>\n",
              "      <td>0</td>\n",
              "      <td>2</td>\n",
              "      <td>male</td>\n",
              "      <td>27.0</td>\n",
              "    </tr>\n",
              "    <tr>\n",
              "      <th>887</th>\n",
              "      <td>1</td>\n",
              "      <td>1</td>\n",
              "      <td>female</td>\n",
              "      <td>19.0</td>\n",
              "    </tr>\n",
              "    <tr>\n",
              "      <th>889</th>\n",
              "      <td>1</td>\n",
              "      <td>1</td>\n",
              "      <td>male</td>\n",
              "      <td>26.0</td>\n",
              "    </tr>\n",
              "    <tr>\n",
              "      <th>890</th>\n",
              "      <td>0</td>\n",
              "      <td>3</td>\n",
              "      <td>male</td>\n",
              "      <td>32.0</td>\n",
              "    </tr>\n",
              "  </tbody>\n",
              "</table>\n",
              "<p>714 rows × 4 columns</p>\n",
              "</div>\n",
              "      <button class=\"colab-df-convert\" onclick=\"convertToInteractive('df-5a436041-2397-41af-b6c3-cf14f0583875')\"\n",
              "              title=\"Convert this dataframe to an interactive table.\"\n",
              "              style=\"display:none;\">\n",
              "        \n",
              "  <svg xmlns=\"http://www.w3.org/2000/svg\" height=\"24px\"viewBox=\"0 0 24 24\"\n",
              "       width=\"24px\">\n",
              "    <path d=\"M0 0h24v24H0V0z\" fill=\"none\"/>\n",
              "    <path d=\"M18.56 5.44l.94 2.06.94-2.06 2.06-.94-2.06-.94-.94-2.06-.94 2.06-2.06.94zm-11 1L8.5 8.5l.94-2.06 2.06-.94-2.06-.94L8.5 2.5l-.94 2.06-2.06.94zm10 10l.94 2.06.94-2.06 2.06-.94-2.06-.94-.94-2.06-.94 2.06-2.06.94z\"/><path d=\"M17.41 7.96l-1.37-1.37c-.4-.4-.92-.59-1.43-.59-.52 0-1.04.2-1.43.59L10.3 9.45l-7.72 7.72c-.78.78-.78 2.05 0 2.83L4 21.41c.39.39.9.59 1.41.59.51 0 1.02-.2 1.41-.59l7.78-7.78 2.81-2.81c.8-.78.8-2.07 0-2.86zM5.41 20L4 18.59l7.72-7.72 1.47 1.35L5.41 20z\"/>\n",
              "  </svg>\n",
              "      </button>\n",
              "      \n",
              "  <style>\n",
              "    .colab-df-container {\n",
              "      display:flex;\n",
              "      flex-wrap:wrap;\n",
              "      gap: 12px;\n",
              "    }\n",
              "\n",
              "    .colab-df-convert {\n",
              "      background-color: #E8F0FE;\n",
              "      border: none;\n",
              "      border-radius: 50%;\n",
              "      cursor: pointer;\n",
              "      display: none;\n",
              "      fill: #1967D2;\n",
              "      height: 32px;\n",
              "      padding: 0 0 0 0;\n",
              "      width: 32px;\n",
              "    }\n",
              "\n",
              "    .colab-df-convert:hover {\n",
              "      background-color: #E2EBFA;\n",
              "      box-shadow: 0px 1px 2px rgba(60, 64, 67, 0.3), 0px 1px 3px 1px rgba(60, 64, 67, 0.15);\n",
              "      fill: #174EA6;\n",
              "    }\n",
              "\n",
              "    [theme=dark] .colab-df-convert {\n",
              "      background-color: #3B4455;\n",
              "      fill: #D2E3FC;\n",
              "    }\n",
              "\n",
              "    [theme=dark] .colab-df-convert:hover {\n",
              "      background-color: #434B5C;\n",
              "      box-shadow: 0px 1px 3px 1px rgba(0, 0, 0, 0.15);\n",
              "      filter: drop-shadow(0px 1px 2px rgba(0, 0, 0, 0.3));\n",
              "      fill: #FFFFFF;\n",
              "    }\n",
              "  </style>\n",
              "\n",
              "      <script>\n",
              "        const buttonEl =\n",
              "          document.querySelector('#df-5a436041-2397-41af-b6c3-cf14f0583875 button.colab-df-convert');\n",
              "        buttonEl.style.display =\n",
              "          google.colab.kernel.accessAllowed ? 'block' : 'none';\n",
              "\n",
              "        async function convertToInteractive(key) {\n",
              "          const element = document.querySelector('#df-5a436041-2397-41af-b6c3-cf14f0583875');\n",
              "          const dataTable =\n",
              "            await google.colab.kernel.invokeFunction('convertToInteractive',\n",
              "                                                     [key], {});\n",
              "          if (!dataTable) return;\n",
              "\n",
              "          const docLinkHtml = 'Like what you see? Visit the ' +\n",
              "            '<a target=\"_blank\" href=https://colab.research.google.com/notebooks/data_table.ipynb>data table notebook</a>'\n",
              "            + ' to learn more about interactive tables.';\n",
              "          element.innerHTML = '';\n",
              "          dataTable['output_type'] = 'display_data';\n",
              "          await google.colab.output.renderOutput(dataTable, element);\n",
              "          const docLink = document.createElement('div');\n",
              "          docLink.innerHTML = docLinkHtml;\n",
              "          element.appendChild(docLink);\n",
              "        }\n",
              "      </script>\n",
              "    </div>\n",
              "  </div>\n",
              "  "
            ]
          },
          "metadata": {},
          "execution_count": 31
        }
      ]
    },
    {
      "cell_type": "code",
      "source": [
        "titanic_target = titanic_target['Survived']\n"
      ],
      "metadata": {
        "id": "Jwv_lA0xYkn-"
      },
      "execution_count": null,
      "outputs": []
    },
    {
      "cell_type": "code",
      "source": [
        "from sklearn import tree\n",
        "clf = tree.DecisionTreeClassifier(random_state=222)"
      ],
      "metadata": {
        "id": "oY8_9YK8WQOq"
      },
      "execution_count": null,
      "outputs": []
    },
    {
      "cell_type": "code",
      "source": [
        "clf.fit(titanic.values, titanic_target.values)"
      ],
      "metadata": {
        "id": "LIgrwD9FX8Cq",
        "colab": {
          "base_uri": "https://localhost:8080/",
          "height": 75
        },
        "outputId": "0fee9c76-72bf-4204-f168-be2eb1ee425b"
      },
      "execution_count": null,
      "outputs": [
        {
          "output_type": "execute_result",
          "data": {
            "text/plain": [
              "DecisionTreeClassifier(random_state=222)"
            ],
            "text/html": [
              "<style>#sk-container-id-1 {color: black;background-color: white;}#sk-container-id-1 pre{padding: 0;}#sk-container-id-1 div.sk-toggleable {background-color: white;}#sk-container-id-1 label.sk-toggleable__label {cursor: pointer;display: block;width: 100%;margin-bottom: 0;padding: 0.3em;box-sizing: border-box;text-align: center;}#sk-container-id-1 label.sk-toggleable__label-arrow:before {content: \"▸\";float: left;margin-right: 0.25em;color: #696969;}#sk-container-id-1 label.sk-toggleable__label-arrow:hover:before {color: black;}#sk-container-id-1 div.sk-estimator:hover label.sk-toggleable__label-arrow:before {color: black;}#sk-container-id-1 div.sk-toggleable__content {max-height: 0;max-width: 0;overflow: hidden;text-align: left;background-color: #f0f8ff;}#sk-container-id-1 div.sk-toggleable__content pre {margin: 0.2em;color: black;border-radius: 0.25em;background-color: #f0f8ff;}#sk-container-id-1 input.sk-toggleable__control:checked~div.sk-toggleable__content {max-height: 200px;max-width: 100%;overflow: auto;}#sk-container-id-1 input.sk-toggleable__control:checked~label.sk-toggleable__label-arrow:before {content: \"▾\";}#sk-container-id-1 div.sk-estimator input.sk-toggleable__control:checked~label.sk-toggleable__label {background-color: #d4ebff;}#sk-container-id-1 div.sk-label input.sk-toggleable__control:checked~label.sk-toggleable__label {background-color: #d4ebff;}#sk-container-id-1 input.sk-hidden--visually {border: 0;clip: rect(1px 1px 1px 1px);clip: rect(1px, 1px, 1px, 1px);height: 1px;margin: -1px;overflow: hidden;padding: 0;position: absolute;width: 1px;}#sk-container-id-1 div.sk-estimator {font-family: monospace;background-color: #f0f8ff;border: 1px dotted black;border-radius: 0.25em;box-sizing: border-box;margin-bottom: 0.5em;}#sk-container-id-1 div.sk-estimator:hover {background-color: #d4ebff;}#sk-container-id-1 div.sk-parallel-item::after {content: \"\";width: 100%;border-bottom: 1px solid gray;flex-grow: 1;}#sk-container-id-1 div.sk-label:hover label.sk-toggleable__label {background-color: #d4ebff;}#sk-container-id-1 div.sk-serial::before {content: \"\";position: absolute;border-left: 1px solid gray;box-sizing: border-box;top: 0;bottom: 0;left: 50%;z-index: 0;}#sk-container-id-1 div.sk-serial {display: flex;flex-direction: column;align-items: center;background-color: white;padding-right: 0.2em;padding-left: 0.2em;position: relative;}#sk-container-id-1 div.sk-item {position: relative;z-index: 1;}#sk-container-id-1 div.sk-parallel {display: flex;align-items: stretch;justify-content: center;background-color: white;position: relative;}#sk-container-id-1 div.sk-item::before, #sk-container-id-1 div.sk-parallel-item::before {content: \"\";position: absolute;border-left: 1px solid gray;box-sizing: border-box;top: 0;bottom: 0;left: 50%;z-index: -1;}#sk-container-id-1 div.sk-parallel-item {display: flex;flex-direction: column;z-index: 1;position: relative;background-color: white;}#sk-container-id-1 div.sk-parallel-item:first-child::after {align-self: flex-end;width: 50%;}#sk-container-id-1 div.sk-parallel-item:last-child::after {align-self: flex-start;width: 50%;}#sk-container-id-1 div.sk-parallel-item:only-child::after {width: 0;}#sk-container-id-1 div.sk-dashed-wrapped {border: 1px dashed gray;margin: 0 0.4em 0.5em 0.4em;box-sizing: border-box;padding-bottom: 0.4em;background-color: white;}#sk-container-id-1 div.sk-label label {font-family: monospace;font-weight: bold;display: inline-block;line-height: 1.2em;}#sk-container-id-1 div.sk-label-container {text-align: center;}#sk-container-id-1 div.sk-container {/* jupyter's `normalize.less` sets `[hidden] { display: none; }` but bootstrap.min.css set `[hidden] { display: none !important; }` so we also need the `!important` here to be able to override the default hidden behavior on the sphinx rendered scikit-learn.org. See: https://github.com/scikit-learn/scikit-learn/issues/21755 */display: inline-block !important;position: relative;}#sk-container-id-1 div.sk-text-repr-fallback {display: none;}</style><div id=\"sk-container-id-1\" class=\"sk-top-container\"><div class=\"sk-text-repr-fallback\"><pre>DecisionTreeClassifier(random_state=222)</pre><b>In a Jupyter environment, please rerun this cell to show the HTML representation or trust the notebook. <br />On GitHub, the HTML representation is unable to render, please try loading this page with nbviewer.org.</b></div><div class=\"sk-container\" hidden><div class=\"sk-item\"><div class=\"sk-estimator sk-toggleable\"><input class=\"sk-toggleable__control sk-hidden--visually\" id=\"sk-estimator-id-1\" type=\"checkbox\" checked><label for=\"sk-estimator-id-1\" class=\"sk-toggleable__label sk-toggleable__label-arrow\">DecisionTreeClassifier</label><div class=\"sk-toggleable__content\"><pre>DecisionTreeClassifier(random_state=222)</pre></div></div></div></div></div>"
            ]
          },
          "metadata": {},
          "execution_count": 34
        }
      ]
    },
    {
      "cell_type": "code",
      "source": [
        "clf.score(titanic.values, titanic_target.values)"
      ],
      "metadata": {
        "id": "46gK2B-ca2k6",
        "colab": {
          "base_uri": "https://localhost:8080/"
        },
        "outputId": "26469eb5-5ef6-4a8f-ea45-457cad9aa5a6"
      },
      "execution_count": null,
      "outputs": [
        {
          "output_type": "execute_result",
          "data": {
            "text/plain": [
              "0.896358543417367"
            ]
          },
          "metadata": {},
          "execution_count": 35
        }
      ]
    },
    {
      "cell_type": "code",
      "source": [
        "import graphviz \n",
        "dot_data = tree.export_graphviz(clf, feature_names=titanic.columns, \n",
        "                                out_file=None) \n",
        "graph = graphviz.Source(dot_data)"
      ],
      "metadata": {
        "id": "p3BFxUTFbPfO"
      },
      "execution_count": null,
      "outputs": []
    },
    {
      "cell_type": "code",
      "source": [
        "graph"
      ],
      "metadata": {
        "id": "MizvP1Q7bWqk",
        "colab": {
          "base_uri": "https://localhost:8080/",
          "height": 1000
        },
        "outputId": "60a92213-d72a-43de-9709-0d8e7879fd22"
      },
      "execution_count": null,
      "outputs": [
        {
          "output_type": "execute_result",
          "data": {
            "image/svg+xml": "<?xml version=\"1.0\" encoding=\"UTF-8\" standalone=\"no\"?>\n<!DOCTYPE svg PUBLIC \"-//W3C//DTD SVG 1.1//EN\"\n \"http://www.w3.org/Graphics/SVG/1.1/DTD/svg11.dtd\">\n<!-- Generated by graphviz version 2.43.0 (0)\n -->\n<!-- Title: Tree Pages: 1 -->\n<svg width=\"5227pt\" height=\"1621pt\"\n viewBox=\"0.00 0.00 5227.00 1621.00\" xmlns=\"http://www.w3.org/2000/svg\" xmlns:xlink=\"http://www.w3.org/1999/xlink\">\n<g id=\"graph0\" class=\"graph\" transform=\"scale(1 1) rotate(0) translate(4 1617)\">\n<title>Tree</title>\n<polygon fill=\"white\" stroke=\"transparent\" points=\"-4,4 -4,-1617 5223,-1617 5223,4 -4,4\"/>\n<!-- 0 -->\n<g id=\"node1\" class=\"node\">\n<title>0</title>\n<polygon fill=\"none\" stroke=\"black\" points=\"2399,-1613 2274,-1613 2274,-1545 2399,-1545 2399,-1613\"/>\n<text text-anchor=\"middle\" x=\"2336.5\" y=\"-1597.8\" font-family=\"Helvetica,sans-Serif\" font-size=\"14.00\">gender &lt;= 0.5</text>\n<text text-anchor=\"middle\" x=\"2336.5\" y=\"-1582.8\" font-family=\"Helvetica,sans-Serif\" font-size=\"14.00\">gini = 0.482</text>\n<text text-anchor=\"middle\" x=\"2336.5\" y=\"-1567.8\" font-family=\"Helvetica,sans-Serif\" font-size=\"14.00\">samples = 714</text>\n<text text-anchor=\"middle\" x=\"2336.5\" y=\"-1552.8\" font-family=\"Helvetica,sans-Serif\" font-size=\"14.00\">value = [424, 290]</text>\n</g>\n<!-- 1 -->\n<g id=\"node2\" class=\"node\">\n<title>1</title>\n<polygon fill=\"none\" stroke=\"black\" points=\"1504,-1509 1387,-1509 1387,-1441 1504,-1441 1504,-1509\"/>\n<text text-anchor=\"middle\" x=\"1445.5\" y=\"-1493.8\" font-family=\"Helvetica,sans-Serif\" font-size=\"14.00\">Age &lt;= 6.5</text>\n<text text-anchor=\"middle\" x=\"1445.5\" y=\"-1478.8\" font-family=\"Helvetica,sans-Serif\" font-size=\"14.00\">gini = 0.326</text>\n<text text-anchor=\"middle\" x=\"1445.5\" y=\"-1463.8\" font-family=\"Helvetica,sans-Serif\" font-size=\"14.00\">samples = 453</text>\n<text text-anchor=\"middle\" x=\"1445.5\" y=\"-1448.8\" font-family=\"Helvetica,sans-Serif\" font-size=\"14.00\">value = [360, 93]</text>\n</g>\n<!-- 0&#45;&gt;1 -->\n<g id=\"edge1\" class=\"edge\">\n<title>0&#45;&gt;1</title>\n<path fill=\"none\" stroke=\"black\" d=\"M2273.85,-1570.83C2112.26,-1552.33 1682.36,-1503.12 1514.25,-1483.87\"/>\n<polygon fill=\"black\" stroke=\"black\" points=\"1514.61,-1480.39 1504.28,-1482.73 1513.81,-1487.34 1514.61,-1480.39\"/>\n<text text-anchor=\"middle\" x=\"1519.83\" y=\"-1498.6\" font-family=\"Helvetica,sans-Serif\" font-size=\"14.00\">True</text>\n</g>\n<!-- 170 -->\n<g id=\"node171\" class=\"node\">\n<title>170</title>\n<polygon fill=\"none\" stroke=\"black\" points=\"3410,-1509 3293,-1509 3293,-1441 3410,-1441 3410,-1509\"/>\n<text text-anchor=\"middle\" x=\"3351.5\" y=\"-1493.8\" font-family=\"Helvetica,sans-Serif\" font-size=\"14.00\">Pclass &lt;= 2.5</text>\n<text text-anchor=\"middle\" x=\"3351.5\" y=\"-1478.8\" font-family=\"Helvetica,sans-Serif\" font-size=\"14.00\">gini = 0.37</text>\n<text text-anchor=\"middle\" x=\"3351.5\" y=\"-1463.8\" font-family=\"Helvetica,sans-Serif\" font-size=\"14.00\">samples = 261</text>\n<text text-anchor=\"middle\" x=\"3351.5\" y=\"-1448.8\" font-family=\"Helvetica,sans-Serif\" font-size=\"14.00\">value = [64, 197]</text>\n</g>\n<!-- 0&#45;&gt;170 -->\n<g id=\"edge170\" class=\"edge\">\n<title>0&#45;&gt;170</title>\n<path fill=\"none\" stroke=\"black\" d=\"M2399.23,-1571.7C2579.07,-1553.62 3095.54,-1501.72 3282.71,-1482.91\"/>\n<polygon fill=\"black\" stroke=\"black\" points=\"3283.1,-1486.39 3292.7,-1481.91 3282.4,-1479.43 3283.1,-1486.39\"/>\n<text text-anchor=\"middle\" x=\"3276.88\" y=\"-1497.57\" font-family=\"Helvetica,sans-Serif\" font-size=\"14.00\">False</text>\n</g>\n<!-- 2 -->\n<g id=\"node3\" class=\"node\">\n<title>2</title>\n<polygon fill=\"none\" stroke=\"black\" points=\"671.5,-1405 569.5,-1405 569.5,-1337 671.5,-1337 671.5,-1405\"/>\n<text text-anchor=\"middle\" x=\"620.5\" y=\"-1389.8\" font-family=\"Helvetica,sans-Serif\" font-size=\"14.00\">Pclass &lt;= 2.5</text>\n<text text-anchor=\"middle\" x=\"620.5\" y=\"-1374.8\" font-family=\"Helvetica,sans-Serif\" font-size=\"14.00\">gini = 0.444</text>\n<text text-anchor=\"middle\" x=\"620.5\" y=\"-1359.8\" font-family=\"Helvetica,sans-Serif\" font-size=\"14.00\">samples = 24</text>\n<text text-anchor=\"middle\" x=\"620.5\" y=\"-1344.8\" font-family=\"Helvetica,sans-Serif\" font-size=\"14.00\">value = [8, 16]</text>\n</g>\n<!-- 1&#45;&gt;2 -->\n<g id=\"edge2\" class=\"edge\">\n<title>1&#45;&gt;2</title>\n<path fill=\"none\" stroke=\"black\" d=\"M1386.83,-1466.75C1235.96,-1448.09 835.61,-1398.6 681.84,-1379.58\"/>\n<polygon fill=\"black\" stroke=\"black\" points=\"681.99,-1376.08 671.64,-1378.32 681.13,-1383.02 681.99,-1376.08\"/>\n</g>\n<!-- 15 -->\n<g id=\"node16\" class=\"node\">\n<title>15</title>\n<polygon fill=\"none\" stroke=\"black\" points=\"1504,-1405 1387,-1405 1387,-1337 1504,-1337 1504,-1405\"/>\n<text text-anchor=\"middle\" x=\"1445.5\" y=\"-1389.8\" font-family=\"Helvetica,sans-Serif\" font-size=\"14.00\">Pclass &lt;= 1.5</text>\n<text text-anchor=\"middle\" x=\"1445.5\" y=\"-1374.8\" font-family=\"Helvetica,sans-Serif\" font-size=\"14.00\">gini = 0.295</text>\n<text text-anchor=\"middle\" x=\"1445.5\" y=\"-1359.8\" font-family=\"Helvetica,sans-Serif\" font-size=\"14.00\">samples = 429</text>\n<text text-anchor=\"middle\" x=\"1445.5\" y=\"-1344.8\" font-family=\"Helvetica,sans-Serif\" font-size=\"14.00\">value = [352, 77]</text>\n</g>\n<!-- 1&#45;&gt;15 -->\n<g id=\"edge15\" class=\"edge\">\n<title>1&#45;&gt;15</title>\n<path fill=\"none\" stroke=\"black\" d=\"M1445.5,-1440.88C1445.5,-1432.78 1445.5,-1423.98 1445.5,-1415.47\"/>\n<polygon fill=\"black\" stroke=\"black\" points=\"1449,-1415.3 1445.5,-1405.3 1442,-1415.3 1449,-1415.3\"/>\n</g>\n<!-- 3 -->\n<g id=\"node4\" class=\"node\">\n<title>3</title>\n<polygon fill=\"none\" stroke=\"black\" points=\"553.5,-1293.5 451.5,-1293.5 451.5,-1240.5 553.5,-1240.5 553.5,-1293.5\"/>\n<text text-anchor=\"middle\" x=\"502.5\" y=\"-1278.3\" font-family=\"Helvetica,sans-Serif\" font-size=\"14.00\">gini = 0.0</text>\n<text text-anchor=\"middle\" x=\"502.5\" y=\"-1263.3\" font-family=\"Helvetica,sans-Serif\" font-size=\"14.00\">samples = 10</text>\n<text text-anchor=\"middle\" x=\"502.5\" y=\"-1248.3\" font-family=\"Helvetica,sans-Serif\" font-size=\"14.00\">value = [0, 10]</text>\n</g>\n<!-- 2&#45;&gt;3 -->\n<g id=\"edge3\" class=\"edge\">\n<title>2&#45;&gt;3</title>\n<path fill=\"none\" stroke=\"black\" d=\"M582.19,-1336.88C568.58,-1325.12 553.28,-1311.89 539.75,-1300.2\"/>\n<polygon fill=\"black\" stroke=\"black\" points=\"541.88,-1297.41 532.02,-1293.52 537.3,-1302.71 541.88,-1297.41\"/>\n</g>\n<!-- 4 -->\n<g id=\"node5\" class=\"node\">\n<title>4</title>\n<polygon fill=\"none\" stroke=\"black\" points=\"669.5,-1301 571.5,-1301 571.5,-1233 669.5,-1233 669.5,-1301\"/>\n<text text-anchor=\"middle\" x=\"620.5\" y=\"-1285.8\" font-family=\"Helvetica,sans-Serif\" font-size=\"14.00\">Age &lt;= 0.71</text>\n<text text-anchor=\"middle\" x=\"620.5\" y=\"-1270.8\" font-family=\"Helvetica,sans-Serif\" font-size=\"14.00\">gini = 0.49</text>\n<text text-anchor=\"middle\" x=\"620.5\" y=\"-1255.8\" font-family=\"Helvetica,sans-Serif\" font-size=\"14.00\">samples = 14</text>\n<text text-anchor=\"middle\" x=\"620.5\" y=\"-1240.8\" font-family=\"Helvetica,sans-Serif\" font-size=\"14.00\">value = [8, 6]</text>\n</g>\n<!-- 2&#45;&gt;4 -->\n<g id=\"edge4\" class=\"edge\">\n<title>2&#45;&gt;4</title>\n<path fill=\"none\" stroke=\"black\" d=\"M620.5,-1336.88C620.5,-1328.78 620.5,-1319.98 620.5,-1311.47\"/>\n<polygon fill=\"black\" stroke=\"black\" points=\"624,-1311.3 620.5,-1301.3 617,-1311.3 624,-1311.3\"/>\n</g>\n<!-- 5 -->\n<g id=\"node6\" class=\"node\">\n<title>5</title>\n<polygon fill=\"none\" stroke=\"black\" points=\"553,-1189.5 458,-1189.5 458,-1136.5 553,-1136.5 553,-1189.5\"/>\n<text text-anchor=\"middle\" x=\"505.5\" y=\"-1174.3\" font-family=\"Helvetica,sans-Serif\" font-size=\"14.00\">gini = 0.0</text>\n<text text-anchor=\"middle\" x=\"505.5\" y=\"-1159.3\" font-family=\"Helvetica,sans-Serif\" font-size=\"14.00\">samples = 1</text>\n<text text-anchor=\"middle\" x=\"505.5\" y=\"-1144.3\" font-family=\"Helvetica,sans-Serif\" font-size=\"14.00\">value = [0, 1]</text>\n</g>\n<!-- 4&#45;&gt;5 -->\n<g id=\"edge5\" class=\"edge\">\n<title>4&#45;&gt;5</title>\n<path fill=\"none\" stroke=\"black\" d=\"M583.16,-1232.88C569.9,-1221.12 554.99,-1207.89 541.81,-1196.2\"/>\n<polygon fill=\"black\" stroke=\"black\" points=\"544.08,-1193.54 534.27,-1189.52 539.43,-1198.77 544.08,-1193.54\"/>\n</g>\n<!-- 6 -->\n<g id=\"node7\" class=\"node\">\n<title>6</title>\n<polygon fill=\"none\" stroke=\"black\" points=\"669.5,-1197 571.5,-1197 571.5,-1129 669.5,-1129 669.5,-1197\"/>\n<text text-anchor=\"middle\" x=\"620.5\" y=\"-1181.8\" font-family=\"Helvetica,sans-Serif\" font-size=\"14.00\">Age &lt;= 2.5</text>\n<text text-anchor=\"middle\" x=\"620.5\" y=\"-1166.8\" font-family=\"Helvetica,sans-Serif\" font-size=\"14.00\">gini = 0.473</text>\n<text text-anchor=\"middle\" x=\"620.5\" y=\"-1151.8\" font-family=\"Helvetica,sans-Serif\" font-size=\"14.00\">samples = 13</text>\n<text text-anchor=\"middle\" x=\"620.5\" y=\"-1136.8\" font-family=\"Helvetica,sans-Serif\" font-size=\"14.00\">value = [8, 5]</text>\n</g>\n<!-- 4&#45;&gt;6 -->\n<g id=\"edge6\" class=\"edge\">\n<title>4&#45;&gt;6</title>\n<path fill=\"none\" stroke=\"black\" d=\"M620.5,-1232.88C620.5,-1224.78 620.5,-1215.98 620.5,-1207.47\"/>\n<polygon fill=\"black\" stroke=\"black\" points=\"624,-1207.3 620.5,-1197.3 617,-1207.3 624,-1207.3\"/>\n</g>\n<!-- 7 -->\n<g id=\"node8\" class=\"node\">\n<title>7</title>\n<polygon fill=\"none\" stroke=\"black\" points=\"498,-1093 403,-1093 403,-1025 498,-1025 498,-1093\"/>\n<text text-anchor=\"middle\" x=\"450.5\" y=\"-1077.8\" font-family=\"Helvetica,sans-Serif\" font-size=\"14.00\">Age &lt;= 1.5</text>\n<text text-anchor=\"middle\" x=\"450.5\" y=\"-1062.8\" font-family=\"Helvetica,sans-Serif\" font-size=\"14.00\">gini = 0.278</text>\n<text text-anchor=\"middle\" x=\"450.5\" y=\"-1047.8\" font-family=\"Helvetica,sans-Serif\" font-size=\"14.00\">samples = 6</text>\n<text text-anchor=\"middle\" x=\"450.5\" y=\"-1032.8\" font-family=\"Helvetica,sans-Serif\" font-size=\"14.00\">value = [5, 1]</text>\n</g>\n<!-- 6&#45;&gt;7 -->\n<g id=\"edge7\" class=\"edge\">\n<title>6&#45;&gt;7</title>\n<path fill=\"none\" stroke=\"black\" d=\"M571.33,-1132.5C551.17,-1120.4 527.71,-1106.33 506.86,-1093.81\"/>\n<polygon fill=\"black\" stroke=\"black\" points=\"508.47,-1090.7 498.1,-1088.56 504.87,-1096.7 508.47,-1090.7\"/>\n</g>\n<!-- 10 -->\n<g id=\"node11\" class=\"node\">\n<title>10</title>\n<polygon fill=\"none\" stroke=\"black\" points=\"668,-1093 573,-1093 573,-1025 668,-1025 668,-1093\"/>\n<text text-anchor=\"middle\" x=\"620.5\" y=\"-1077.8\" font-family=\"Helvetica,sans-Serif\" font-size=\"14.00\">Age &lt;= 3.5</text>\n<text text-anchor=\"middle\" x=\"620.5\" y=\"-1062.8\" font-family=\"Helvetica,sans-Serif\" font-size=\"14.00\">gini = 0.49</text>\n<text text-anchor=\"middle\" x=\"620.5\" y=\"-1047.8\" font-family=\"Helvetica,sans-Serif\" font-size=\"14.00\">samples = 7</text>\n<text text-anchor=\"middle\" x=\"620.5\" y=\"-1032.8\" font-family=\"Helvetica,sans-Serif\" font-size=\"14.00\">value = [3, 4]</text>\n</g>\n<!-- 6&#45;&gt;10 -->\n<g id=\"edge10\" class=\"edge\">\n<title>6&#45;&gt;10</title>\n<path fill=\"none\" stroke=\"black\" d=\"M620.5,-1128.88C620.5,-1120.78 620.5,-1111.98 620.5,-1103.47\"/>\n<polygon fill=\"black\" stroke=\"black\" points=\"624,-1103.3 620.5,-1093.3 617,-1103.3 624,-1103.3\"/>\n</g>\n<!-- 8 -->\n<g id=\"node9\" class=\"node\">\n<title>8</title>\n<polygon fill=\"none\" stroke=\"black\" points=\"385,-981.5 290,-981.5 290,-928.5 385,-928.5 385,-981.5\"/>\n<text text-anchor=\"middle\" x=\"337.5\" y=\"-966.3\" font-family=\"Helvetica,sans-Serif\" font-size=\"14.00\">gini = 0.444</text>\n<text text-anchor=\"middle\" x=\"337.5\" y=\"-951.3\" font-family=\"Helvetica,sans-Serif\" font-size=\"14.00\">samples = 3</text>\n<text text-anchor=\"middle\" x=\"337.5\" y=\"-936.3\" font-family=\"Helvetica,sans-Serif\" font-size=\"14.00\">value = [2, 1]</text>\n</g>\n<!-- 7&#45;&gt;8 -->\n<g id=\"edge8\" class=\"edge\">\n<title>7&#45;&gt;8</title>\n<path fill=\"none\" stroke=\"black\" d=\"M413.81,-1024.88C400.9,-1013.23 386.4,-1000.14 373.54,-988.53\"/>\n<polygon fill=\"black\" stroke=\"black\" points=\"375.54,-985.62 365.77,-981.52 370.85,-990.82 375.54,-985.62\"/>\n</g>\n<!-- 9 -->\n<g id=\"node10\" class=\"node\">\n<title>9</title>\n<polygon fill=\"none\" stroke=\"black\" points=\"498,-981.5 403,-981.5 403,-928.5 498,-928.5 498,-981.5\"/>\n<text text-anchor=\"middle\" x=\"450.5\" y=\"-966.3\" font-family=\"Helvetica,sans-Serif\" font-size=\"14.00\">gini = 0.0</text>\n<text text-anchor=\"middle\" x=\"450.5\" y=\"-951.3\" font-family=\"Helvetica,sans-Serif\" font-size=\"14.00\">samples = 3</text>\n<text text-anchor=\"middle\" x=\"450.5\" y=\"-936.3\" font-family=\"Helvetica,sans-Serif\" font-size=\"14.00\">value = [3, 0]</text>\n</g>\n<!-- 7&#45;&gt;9 -->\n<g id=\"edge9\" class=\"edge\">\n<title>7&#45;&gt;9</title>\n<path fill=\"none\" stroke=\"black\" d=\"M450.5,-1024.88C450.5,-1014.33 450.5,-1002.6 450.5,-991.85\"/>\n<polygon fill=\"black\" stroke=\"black\" points=\"454,-991.52 450.5,-981.52 447,-991.52 454,-991.52\"/>\n</g>\n<!-- 11 -->\n<g id=\"node12\" class=\"node\">\n<title>11</title>\n<polygon fill=\"none\" stroke=\"black\" points=\"611,-981.5 516,-981.5 516,-928.5 611,-928.5 611,-981.5\"/>\n<text text-anchor=\"middle\" x=\"563.5\" y=\"-966.3\" font-family=\"Helvetica,sans-Serif\" font-size=\"14.00\">gini = 0.0</text>\n<text text-anchor=\"middle\" x=\"563.5\" y=\"-951.3\" font-family=\"Helvetica,sans-Serif\" font-size=\"14.00\">samples = 2</text>\n<text text-anchor=\"middle\" x=\"563.5\" y=\"-936.3\" font-family=\"Helvetica,sans-Serif\" font-size=\"14.00\">value = [0, 2]</text>\n</g>\n<!-- 10&#45;&gt;11 -->\n<g id=\"edge11\" class=\"edge\">\n<title>10&#45;&gt;11</title>\n<path fill=\"none\" stroke=\"black\" d=\"M601.99,-1024.88C595.85,-1013.89 588.99,-1001.62 582.79,-990.52\"/>\n<polygon fill=\"black\" stroke=\"black\" points=\"585.69,-988.54 577.76,-981.52 579.58,-991.96 585.69,-988.54\"/>\n</g>\n<!-- 12 -->\n<g id=\"node13\" class=\"node\">\n<title>12</title>\n<polygon fill=\"none\" stroke=\"black\" points=\"724,-989 629,-989 629,-921 724,-921 724,-989\"/>\n<text text-anchor=\"middle\" x=\"676.5\" y=\"-973.8\" font-family=\"Helvetica,sans-Serif\" font-size=\"14.00\">Age &lt;= 5.0</text>\n<text text-anchor=\"middle\" x=\"676.5\" y=\"-958.8\" font-family=\"Helvetica,sans-Serif\" font-size=\"14.00\">gini = 0.48</text>\n<text text-anchor=\"middle\" x=\"676.5\" y=\"-943.8\" font-family=\"Helvetica,sans-Serif\" font-size=\"14.00\">samples = 5</text>\n<text text-anchor=\"middle\" x=\"676.5\" y=\"-928.8\" font-family=\"Helvetica,sans-Serif\" font-size=\"14.00\">value = [3, 2]</text>\n</g>\n<!-- 10&#45;&gt;12 -->\n<g id=\"edge12\" class=\"edge\">\n<title>10&#45;&gt;12</title>\n<path fill=\"none\" stroke=\"black\" d=\"M638.68,-1024.88C643.38,-1016.33 648.49,-1007.01 653.4,-998.07\"/>\n<polygon fill=\"black\" stroke=\"black\" points=\"656.47,-999.75 658.22,-989.3 650.34,-996.38 656.47,-999.75\"/>\n</g>\n<!-- 13 -->\n<g id=\"node14\" class=\"node\">\n<title>13</title>\n<polygon fill=\"none\" stroke=\"black\" points=\"611,-877.5 516,-877.5 516,-824.5 611,-824.5 611,-877.5\"/>\n<text text-anchor=\"middle\" x=\"563.5\" y=\"-862.3\" font-family=\"Helvetica,sans-Serif\" font-size=\"14.00\">gini = 0.375</text>\n<text text-anchor=\"middle\" x=\"563.5\" y=\"-847.3\" font-family=\"Helvetica,sans-Serif\" font-size=\"14.00\">samples = 4</text>\n<text text-anchor=\"middle\" x=\"563.5\" y=\"-832.3\" font-family=\"Helvetica,sans-Serif\" font-size=\"14.00\">value = [3, 1]</text>\n</g>\n<!-- 12&#45;&gt;13 -->\n<g id=\"edge13\" class=\"edge\">\n<title>12&#45;&gt;13</title>\n<path fill=\"none\" stroke=\"black\" d=\"M639.81,-920.88C626.9,-909.23 612.4,-896.14 599.54,-884.53\"/>\n<polygon fill=\"black\" stroke=\"black\" points=\"601.54,-881.62 591.77,-877.52 596.85,-886.82 601.54,-881.62\"/>\n</g>\n<!-- 14 -->\n<g id=\"node15\" class=\"node\">\n<title>14</title>\n<polygon fill=\"none\" stroke=\"black\" points=\"724,-877.5 629,-877.5 629,-824.5 724,-824.5 724,-877.5\"/>\n<text text-anchor=\"middle\" x=\"676.5\" y=\"-862.3\" font-family=\"Helvetica,sans-Serif\" font-size=\"14.00\">gini = 0.0</text>\n<text text-anchor=\"middle\" x=\"676.5\" y=\"-847.3\" font-family=\"Helvetica,sans-Serif\" font-size=\"14.00\">samples = 1</text>\n<text text-anchor=\"middle\" x=\"676.5\" y=\"-832.3\" font-family=\"Helvetica,sans-Serif\" font-size=\"14.00\">value = [0, 1]</text>\n</g>\n<!-- 12&#45;&gt;14 -->\n<g id=\"edge14\" class=\"edge\">\n<title>12&#45;&gt;14</title>\n<path fill=\"none\" stroke=\"black\" d=\"M676.5,-920.88C676.5,-910.33 676.5,-898.6 676.5,-887.85\"/>\n<polygon fill=\"black\" stroke=\"black\" points=\"680,-887.52 676.5,-877.52 673,-887.52 680,-887.52\"/>\n</g>\n<!-- 16 -->\n<g id=\"node17\" class=\"node\">\n<title>16</title>\n<polygon fill=\"none\" stroke=\"black\" points=\"1354.5,-1301 1244.5,-1301 1244.5,-1233 1354.5,-1233 1354.5,-1301\"/>\n<text text-anchor=\"middle\" x=\"1299.5\" y=\"-1285.8\" font-family=\"Helvetica,sans-Serif\" font-size=\"14.00\">Age &lt;= 53.0</text>\n<text text-anchor=\"middle\" x=\"1299.5\" y=\"-1270.8\" font-family=\"Helvetica,sans-Serif\" font-size=\"14.00\">gini = 0.473</text>\n<text text-anchor=\"middle\" x=\"1299.5\" y=\"-1255.8\" font-family=\"Helvetica,sans-Serif\" font-size=\"14.00\">samples = 99</text>\n<text text-anchor=\"middle\" x=\"1299.5\" y=\"-1240.8\" font-family=\"Helvetica,sans-Serif\" font-size=\"14.00\">value = [61, 38]</text>\n</g>\n<!-- 15&#45;&gt;16 -->\n<g id=\"edge16\" class=\"edge\">\n<title>15&#45;&gt;16</title>\n<path fill=\"none\" stroke=\"black\" d=\"M1398.1,-1336.88C1384.58,-1327.44 1369.73,-1317.06 1355.74,-1307.29\"/>\n<polygon fill=\"black\" stroke=\"black\" points=\"1357.37,-1304.16 1347.16,-1301.3 1353.36,-1309.9 1357.37,-1304.16\"/>\n</g>\n<!-- 79 -->\n<g id=\"node80\" class=\"node\">\n<title>79</title>\n<polygon fill=\"none\" stroke=\"black\" points=\"1649,-1301 1532,-1301 1532,-1233 1649,-1233 1649,-1301\"/>\n<text text-anchor=\"middle\" x=\"1590.5\" y=\"-1285.8\" font-family=\"Helvetica,sans-Serif\" font-size=\"14.00\">Age &lt;= 13.0</text>\n<text text-anchor=\"middle\" x=\"1590.5\" y=\"-1270.8\" font-family=\"Helvetica,sans-Serif\" font-size=\"14.00\">gini = 0.208</text>\n<text text-anchor=\"middle\" x=\"1590.5\" y=\"-1255.8\" font-family=\"Helvetica,sans-Serif\" font-size=\"14.00\">samples = 330</text>\n<text text-anchor=\"middle\" x=\"1590.5\" y=\"-1240.8\" font-family=\"Helvetica,sans-Serif\" font-size=\"14.00\">value = [291, 39]</text>\n</g>\n<!-- 15&#45;&gt;79 -->\n<g id=\"edge79\" class=\"edge\">\n<title>15&#45;&gt;79</title>\n<path fill=\"none\" stroke=\"black\" d=\"M1492.58,-1336.88C1506,-1327.44 1520.75,-1317.06 1534.64,-1307.29\"/>\n<polygon fill=\"black\" stroke=\"black\" points=\"1537,-1309.92 1543.16,-1301.3 1532.97,-1304.19 1537,-1309.92\"/>\n</g>\n<!-- 17 -->\n<g id=\"node18\" class=\"node\">\n<title>17</title>\n<polygon fill=\"none\" stroke=\"black\" points=\"1060.5,-1197 950.5,-1197 950.5,-1129 1060.5,-1129 1060.5,-1197\"/>\n<text text-anchor=\"middle\" x=\"1005.5\" y=\"-1181.8\" font-family=\"Helvetica,sans-Serif\" font-size=\"14.00\">Age &lt;= 17.5</text>\n<text text-anchor=\"middle\" x=\"1005.5\" y=\"-1166.8\" font-family=\"Helvetica,sans-Serif\" font-size=\"14.00\">gini = 0.496</text>\n<text text-anchor=\"middle\" x=\"1005.5\" y=\"-1151.8\" font-family=\"Helvetica,sans-Serif\" font-size=\"14.00\">samples = 77</text>\n<text text-anchor=\"middle\" x=\"1005.5\" y=\"-1136.8\" font-family=\"Helvetica,sans-Serif\" font-size=\"14.00\">value = [42, 35]</text>\n</g>\n<!-- 16&#45;&gt;17 -->\n<g id=\"edge17\" class=\"edge\">\n<title>16&#45;&gt;17</title>\n<path fill=\"none\" stroke=\"black\" d=\"M1244.2,-1246.81C1194.72,-1229.65 1122.15,-1204.47 1070.03,-1186.39\"/>\n<polygon fill=\"black\" stroke=\"black\" points=\"1071.15,-1183.07 1060.55,-1183.1 1068.85,-1189.68 1071.15,-1183.07\"/>\n</g>\n<!-- 68 -->\n<g id=\"node69\" class=\"node\">\n<title>68</title>\n<polygon fill=\"none\" stroke=\"black\" points=\"1350.5,-1197 1248.5,-1197 1248.5,-1129 1350.5,-1129 1350.5,-1197\"/>\n<text text-anchor=\"middle\" x=\"1299.5\" y=\"-1181.8\" font-family=\"Helvetica,sans-Serif\" font-size=\"14.00\">Age &lt;= 75.5</text>\n<text text-anchor=\"middle\" x=\"1299.5\" y=\"-1166.8\" font-family=\"Helvetica,sans-Serif\" font-size=\"14.00\">gini = 0.236</text>\n<text text-anchor=\"middle\" x=\"1299.5\" y=\"-1151.8\" font-family=\"Helvetica,sans-Serif\" font-size=\"14.00\">samples = 22</text>\n<text text-anchor=\"middle\" x=\"1299.5\" y=\"-1136.8\" font-family=\"Helvetica,sans-Serif\" font-size=\"14.00\">value = [19, 3]</text>\n</g>\n<!-- 16&#45;&gt;68 -->\n<g id=\"edge68\" class=\"edge\">\n<title>16&#45;&gt;68</title>\n<path fill=\"none\" stroke=\"black\" d=\"M1299.5,-1232.88C1299.5,-1224.78 1299.5,-1215.98 1299.5,-1207.47\"/>\n<polygon fill=\"black\" stroke=\"black\" points=\"1303,-1207.3 1299.5,-1197.3 1296,-1207.3 1303,-1207.3\"/>\n</g>\n<!-- 18 -->\n<g id=\"node19\" class=\"node\">\n<title>18</title>\n<polygon fill=\"none\" stroke=\"black\" points=\"932,-1085.5 837,-1085.5 837,-1032.5 932,-1032.5 932,-1085.5\"/>\n<text text-anchor=\"middle\" x=\"884.5\" y=\"-1070.3\" font-family=\"Helvetica,sans-Serif\" font-size=\"14.00\">gini = 0.0</text>\n<text text-anchor=\"middle\" x=\"884.5\" y=\"-1055.3\" font-family=\"Helvetica,sans-Serif\" font-size=\"14.00\">samples = 2</text>\n<text text-anchor=\"middle\" x=\"884.5\" y=\"-1040.3\" font-family=\"Helvetica,sans-Serif\" font-size=\"14.00\">value = [0, 2]</text>\n</g>\n<!-- 17&#45;&gt;18 -->\n<g id=\"edge18\" class=\"edge\">\n<title>17&#45;&gt;18</title>\n<path fill=\"none\" stroke=\"black\" d=\"M966.21,-1128.88C952.26,-1117.12 936.57,-1103.89 922.7,-1092.2\"/>\n<polygon fill=\"black\" stroke=\"black\" points=\"924.68,-1089.29 914.77,-1085.52 920.16,-1094.64 924.68,-1089.29\"/>\n</g>\n<!-- 19 -->\n<g id=\"node20\" class=\"node\">\n<title>19</title>\n<polygon fill=\"none\" stroke=\"black\" points=\"1060.5,-1093 950.5,-1093 950.5,-1025 1060.5,-1025 1060.5,-1093\"/>\n<text text-anchor=\"middle\" x=\"1005.5\" y=\"-1077.8\" font-family=\"Helvetica,sans-Serif\" font-size=\"14.00\">Age &lt;= 22.5</text>\n<text text-anchor=\"middle\" x=\"1005.5\" y=\"-1062.8\" font-family=\"Helvetica,sans-Serif\" font-size=\"14.00\">gini = 0.493</text>\n<text text-anchor=\"middle\" x=\"1005.5\" y=\"-1047.8\" font-family=\"Helvetica,sans-Serif\" font-size=\"14.00\">samples = 75</text>\n<text text-anchor=\"middle\" x=\"1005.5\" y=\"-1032.8\" font-family=\"Helvetica,sans-Serif\" font-size=\"14.00\">value = [42, 33]</text>\n</g>\n<!-- 17&#45;&gt;19 -->\n<g id=\"edge19\" class=\"edge\">\n<title>17&#45;&gt;19</title>\n<path fill=\"none\" stroke=\"black\" d=\"M1005.5,-1128.88C1005.5,-1120.78 1005.5,-1111.98 1005.5,-1103.47\"/>\n<polygon fill=\"black\" stroke=\"black\" points=\"1009,-1103.3 1005.5,-1093.3 1002,-1103.3 1009,-1103.3\"/>\n</g>\n<!-- 20 -->\n<g id=\"node21\" class=\"node\">\n<title>20</title>\n<polygon fill=\"none\" stroke=\"black\" points=\"932,-981.5 837,-981.5 837,-928.5 932,-928.5 932,-981.5\"/>\n<text text-anchor=\"middle\" x=\"884.5\" y=\"-966.3\" font-family=\"Helvetica,sans-Serif\" font-size=\"14.00\">gini = 0.0</text>\n<text text-anchor=\"middle\" x=\"884.5\" y=\"-951.3\" font-family=\"Helvetica,sans-Serif\" font-size=\"14.00\">samples = 5</text>\n<text text-anchor=\"middle\" x=\"884.5\" y=\"-936.3\" font-family=\"Helvetica,sans-Serif\" font-size=\"14.00\">value = [5, 0]</text>\n</g>\n<!-- 19&#45;&gt;20 -->\n<g id=\"edge20\" class=\"edge\">\n<title>19&#45;&gt;20</title>\n<path fill=\"none\" stroke=\"black\" d=\"M966.21,-1024.88C952.26,-1013.12 936.57,-999.89 922.7,-988.2\"/>\n<polygon fill=\"black\" stroke=\"black\" points=\"924.68,-985.29 914.77,-981.52 920.16,-990.64 924.68,-985.29\"/>\n</g>\n<!-- 21 -->\n<g id=\"node22\" class=\"node\">\n<title>21</title>\n<polygon fill=\"none\" stroke=\"black\" points=\"1060.5,-989 950.5,-989 950.5,-921 1060.5,-921 1060.5,-989\"/>\n<text text-anchor=\"middle\" x=\"1005.5\" y=\"-973.8\" font-family=\"Helvetica,sans-Serif\" font-size=\"14.00\">Age &lt;= 36.5</text>\n<text text-anchor=\"middle\" x=\"1005.5\" y=\"-958.8\" font-family=\"Helvetica,sans-Serif\" font-size=\"14.00\">gini = 0.498</text>\n<text text-anchor=\"middle\" x=\"1005.5\" y=\"-943.8\" font-family=\"Helvetica,sans-Serif\" font-size=\"14.00\">samples = 70</text>\n<text text-anchor=\"middle\" x=\"1005.5\" y=\"-928.8\" font-family=\"Helvetica,sans-Serif\" font-size=\"14.00\">value = [37, 33]</text>\n</g>\n<!-- 19&#45;&gt;21 -->\n<g id=\"edge21\" class=\"edge\">\n<title>19&#45;&gt;21</title>\n<path fill=\"none\" stroke=\"black\" d=\"M1005.5,-1024.88C1005.5,-1016.78 1005.5,-1007.98 1005.5,-999.47\"/>\n<polygon fill=\"black\" stroke=\"black\" points=\"1009,-999.3 1005.5,-989.3 1002,-999.3 1009,-999.3\"/>\n</g>\n<!-- 22 -->\n<g id=\"node23\" class=\"node\">\n<title>22</title>\n<polygon fill=\"none\" stroke=\"black\" points=\"852.5,-885 742.5,-885 742.5,-817 852.5,-817 852.5,-885\"/>\n<text text-anchor=\"middle\" x=\"797.5\" y=\"-869.8\" font-family=\"Helvetica,sans-Serif\" font-size=\"14.00\">Age &lt;= 33.5</text>\n<text text-anchor=\"middle\" x=\"797.5\" y=\"-854.8\" font-family=\"Helvetica,sans-Serif\" font-size=\"14.00\">gini = 0.482</text>\n<text text-anchor=\"middle\" x=\"797.5\" y=\"-839.8\" font-family=\"Helvetica,sans-Serif\" font-size=\"14.00\">samples = 32</text>\n<text text-anchor=\"middle\" x=\"797.5\" y=\"-824.8\" font-family=\"Helvetica,sans-Serif\" font-size=\"14.00\">value = [13, 19]</text>\n</g>\n<!-- 21&#45;&gt;22 -->\n<g id=\"edge22\" class=\"edge\">\n<title>21&#45;&gt;22</title>\n<path fill=\"none\" stroke=\"black\" d=\"M950.22,-925.84C946.93,-924.2 943.68,-922.57 940.5,-921 914.87,-908.31 886.53,-894.58 861.88,-882.72\"/>\n<polygon fill=\"black\" stroke=\"black\" points=\"863.16,-879.46 852.63,-878.28 860.13,-885.77 863.16,-879.46\"/>\n</g>\n<!-- 43 -->\n<g id=\"node44\" class=\"node\">\n<title>43</title>\n<polygon fill=\"none\" stroke=\"black\" points=\"1060.5,-885 950.5,-885 950.5,-817 1060.5,-817 1060.5,-885\"/>\n<text text-anchor=\"middle\" x=\"1005.5\" y=\"-869.8\" font-family=\"Helvetica,sans-Serif\" font-size=\"14.00\">Age &lt;= 47.5</text>\n<text text-anchor=\"middle\" x=\"1005.5\" y=\"-854.8\" font-family=\"Helvetica,sans-Serif\" font-size=\"14.00\">gini = 0.465</text>\n<text text-anchor=\"middle\" x=\"1005.5\" y=\"-839.8\" font-family=\"Helvetica,sans-Serif\" font-size=\"14.00\">samples = 38</text>\n<text text-anchor=\"middle\" x=\"1005.5\" y=\"-824.8\" font-family=\"Helvetica,sans-Serif\" font-size=\"14.00\">value = [24, 14]</text>\n</g>\n<!-- 21&#45;&gt;43 -->\n<g id=\"edge43\" class=\"edge\">\n<title>21&#45;&gt;43</title>\n<path fill=\"none\" stroke=\"black\" d=\"M1005.5,-920.88C1005.5,-912.78 1005.5,-903.98 1005.5,-895.47\"/>\n<polygon fill=\"black\" stroke=\"black\" points=\"1009,-895.3 1005.5,-885.3 1002,-895.3 1009,-895.3\"/>\n</g>\n<!-- 23 -->\n<g id=\"node24\" class=\"node\">\n<title>23</title>\n<polygon fill=\"none\" stroke=\"black\" points=\"497.5,-781 387.5,-781 387.5,-713 497.5,-713 497.5,-781\"/>\n<text text-anchor=\"middle\" x=\"442.5\" y=\"-765.8\" font-family=\"Helvetica,sans-Serif\" font-size=\"14.00\">Age &lt;= 28.5</text>\n<text text-anchor=\"middle\" x=\"442.5\" y=\"-750.8\" font-family=\"Helvetica,sans-Serif\" font-size=\"14.00\">gini = 0.5</text>\n<text text-anchor=\"middle\" x=\"442.5\" y=\"-735.8\" font-family=\"Helvetica,sans-Serif\" font-size=\"14.00\">samples = 22</text>\n<text text-anchor=\"middle\" x=\"442.5\" y=\"-720.8\" font-family=\"Helvetica,sans-Serif\" font-size=\"14.00\">value = [11, 11]</text>\n</g>\n<!-- 22&#45;&gt;23 -->\n<g id=\"edge23\" class=\"edge\">\n<title>22&#45;&gt;23</title>\n<path fill=\"none\" stroke=\"black\" d=\"M742.22,-820.85C738.96,-819.47 735.71,-818.18 732.5,-817 657.41,-789.45 567.28,-770.01 507.65,-758.94\"/>\n<polygon fill=\"black\" stroke=\"black\" points=\"508.08,-755.46 497.61,-757.1 506.82,-762.34 508.08,-755.46\"/>\n</g>\n<!-- 40 -->\n<g id=\"node41\" class=\"node\">\n<title>40</title>\n<polygon fill=\"none\" stroke=\"black\" points=\"769.5,-781 671.5,-781 671.5,-713 769.5,-713 769.5,-781\"/>\n<text text-anchor=\"middle\" x=\"720.5\" y=\"-765.8\" font-family=\"Helvetica,sans-Serif\" font-size=\"14.00\">Age &lt;= 35.5</text>\n<text text-anchor=\"middle\" x=\"720.5\" y=\"-750.8\" font-family=\"Helvetica,sans-Serif\" font-size=\"14.00\">gini = 0.32</text>\n<text text-anchor=\"middle\" x=\"720.5\" y=\"-735.8\" font-family=\"Helvetica,sans-Serif\" font-size=\"14.00\">samples = 10</text>\n<text text-anchor=\"middle\" x=\"720.5\" y=\"-720.8\" font-family=\"Helvetica,sans-Serif\" font-size=\"14.00\">value = [2, 8]</text>\n</g>\n<!-- 22&#45;&gt;40 -->\n<g id=\"edge40\" class=\"edge\">\n<title>22&#45;&gt;40</title>\n<path fill=\"none\" stroke=\"black\" d=\"M772.5,-816.88C765.91,-808.15 758.72,-798.62 751.84,-789.51\"/>\n<polygon fill=\"black\" stroke=\"black\" points=\"754.46,-787.17 745.64,-781.3 748.87,-791.39 754.46,-787.17\"/>\n</g>\n<!-- 24 -->\n<g id=\"node25\" class=\"node\">\n<title>24</title>\n<polygon fill=\"none\" stroke=\"black\" points=\"337.5,-677 239.5,-677 239.5,-609 337.5,-609 337.5,-677\"/>\n<text text-anchor=\"middle\" x=\"288.5\" y=\"-661.8\" font-family=\"Helvetica,sans-Serif\" font-size=\"14.00\">Age &lt;= 24.5</text>\n<text text-anchor=\"middle\" x=\"288.5\" y=\"-646.8\" font-family=\"Helvetica,sans-Serif\" font-size=\"14.00\">gini = 0.459</text>\n<text text-anchor=\"middle\" x=\"288.5\" y=\"-631.8\" font-family=\"Helvetica,sans-Serif\" font-size=\"14.00\">samples = 14</text>\n<text text-anchor=\"middle\" x=\"288.5\" y=\"-616.8\" font-family=\"Helvetica,sans-Serif\" font-size=\"14.00\">value = [5, 9]</text>\n</g>\n<!-- 23&#45;&gt;24 -->\n<g id=\"edge24\" class=\"edge\">\n<title>23&#45;&gt;24</title>\n<path fill=\"none\" stroke=\"black\" d=\"M392.5,-712.88C377.68,-703.07 361.33,-692.24 346.07,-682.13\"/>\n<polygon fill=\"black\" stroke=\"black\" points=\"347.99,-679.21 337.72,-676.6 344.13,-685.04 347.99,-679.21\"/>\n</g>\n<!-- 33 -->\n<g id=\"node34\" class=\"node\">\n<title>33</title>\n<polygon fill=\"none\" stroke=\"black\" points=\"490,-677 395,-677 395,-609 490,-609 490,-677\"/>\n<text text-anchor=\"middle\" x=\"442.5\" y=\"-661.8\" font-family=\"Helvetica,sans-Serif\" font-size=\"14.00\">Age &lt;= 30.5</text>\n<text text-anchor=\"middle\" x=\"442.5\" y=\"-646.8\" font-family=\"Helvetica,sans-Serif\" font-size=\"14.00\">gini = 0.375</text>\n<text text-anchor=\"middle\" x=\"442.5\" y=\"-631.8\" font-family=\"Helvetica,sans-Serif\" font-size=\"14.00\">samples = 8</text>\n<text text-anchor=\"middle\" x=\"442.5\" y=\"-616.8\" font-family=\"Helvetica,sans-Serif\" font-size=\"14.00\">value = [6, 2]</text>\n</g>\n<!-- 23&#45;&gt;33 -->\n<g id=\"edge33\" class=\"edge\">\n<title>23&#45;&gt;33</title>\n<path fill=\"none\" stroke=\"black\" d=\"M442.5,-712.88C442.5,-704.78 442.5,-695.98 442.5,-687.47\"/>\n<polygon fill=\"black\" stroke=\"black\" points=\"446,-687.3 442.5,-677.3 439,-687.3 446,-687.3\"/>\n</g>\n<!-- 25 -->\n<g id=\"node26\" class=\"node\">\n<title>25</title>\n<polygon fill=\"none\" stroke=\"black\" points=\"208,-573 113,-573 113,-505 208,-505 208,-573\"/>\n<text text-anchor=\"middle\" x=\"160.5\" y=\"-557.8\" font-family=\"Helvetica,sans-Serif\" font-size=\"14.00\">Age &lt;= 23.5</text>\n<text text-anchor=\"middle\" x=\"160.5\" y=\"-542.8\" font-family=\"Helvetica,sans-Serif\" font-size=\"14.00\">gini = 0.444</text>\n<text text-anchor=\"middle\" x=\"160.5\" y=\"-527.8\" font-family=\"Helvetica,sans-Serif\" font-size=\"14.00\">samples = 3</text>\n<text text-anchor=\"middle\" x=\"160.5\" y=\"-512.8\" font-family=\"Helvetica,sans-Serif\" font-size=\"14.00\">value = [2, 1]</text>\n</g>\n<!-- 24&#45;&gt;25 -->\n<g id=\"edge25\" class=\"edge\">\n<title>24&#45;&gt;25</title>\n<path fill=\"none\" stroke=\"black\" d=\"M246.94,-608.88C235.21,-599.53 222.32,-589.26 210.15,-579.57\"/>\n<polygon fill=\"black\" stroke=\"black\" points=\"212.29,-576.79 202.29,-573.3 207.93,-582.27 212.29,-576.79\"/>\n</g>\n<!-- 28 -->\n<g id=\"node29\" class=\"node\">\n<title>28</title>\n<polygon fill=\"none\" stroke=\"black\" points=\"337.5,-573 239.5,-573 239.5,-505 337.5,-505 337.5,-573\"/>\n<text text-anchor=\"middle\" x=\"288.5\" y=\"-557.8\" font-family=\"Helvetica,sans-Serif\" font-size=\"14.00\">Age &lt;= 27.5</text>\n<text text-anchor=\"middle\" x=\"288.5\" y=\"-542.8\" font-family=\"Helvetica,sans-Serif\" font-size=\"14.00\">gini = 0.397</text>\n<text text-anchor=\"middle\" x=\"288.5\" y=\"-527.8\" font-family=\"Helvetica,sans-Serif\" font-size=\"14.00\">samples = 11</text>\n<text text-anchor=\"middle\" x=\"288.5\" y=\"-512.8\" font-family=\"Helvetica,sans-Serif\" font-size=\"14.00\">value = [3, 8]</text>\n</g>\n<!-- 24&#45;&gt;28 -->\n<g id=\"edge28\" class=\"edge\">\n<title>24&#45;&gt;28</title>\n<path fill=\"none\" stroke=\"black\" d=\"M288.5,-608.88C288.5,-600.78 288.5,-591.98 288.5,-583.47\"/>\n<polygon fill=\"black\" stroke=\"black\" points=\"292,-583.3 288.5,-573.3 285,-583.3 292,-583.3\"/>\n</g>\n<!-- 26 -->\n<g id=\"node27\" class=\"node\">\n<title>26</title>\n<polygon fill=\"none\" stroke=\"black\" points=\"95,-461.5 0,-461.5 0,-408.5 95,-408.5 95,-461.5\"/>\n<text text-anchor=\"middle\" x=\"47.5\" y=\"-446.3\" font-family=\"Helvetica,sans-Serif\" font-size=\"14.00\">gini = 0.0</text>\n<text text-anchor=\"middle\" x=\"47.5\" y=\"-431.3\" font-family=\"Helvetica,sans-Serif\" font-size=\"14.00\">samples = 1</text>\n<text text-anchor=\"middle\" x=\"47.5\" y=\"-416.3\" font-family=\"Helvetica,sans-Serif\" font-size=\"14.00\">value = [0, 1]</text>\n</g>\n<!-- 25&#45;&gt;26 -->\n<g id=\"edge26\" class=\"edge\">\n<title>25&#45;&gt;26</title>\n<path fill=\"none\" stroke=\"black\" d=\"M123.81,-504.88C110.9,-493.23 96.4,-480.14 83.54,-468.53\"/>\n<polygon fill=\"black\" stroke=\"black\" points=\"85.54,-465.62 75.77,-461.52 80.85,-470.82 85.54,-465.62\"/>\n</g>\n<!-- 27 -->\n<g id=\"node28\" class=\"node\">\n<title>27</title>\n<polygon fill=\"none\" stroke=\"black\" points=\"208,-461.5 113,-461.5 113,-408.5 208,-408.5 208,-461.5\"/>\n<text text-anchor=\"middle\" x=\"160.5\" y=\"-446.3\" font-family=\"Helvetica,sans-Serif\" font-size=\"14.00\">gini = 0.0</text>\n<text text-anchor=\"middle\" x=\"160.5\" y=\"-431.3\" font-family=\"Helvetica,sans-Serif\" font-size=\"14.00\">samples = 2</text>\n<text text-anchor=\"middle\" x=\"160.5\" y=\"-416.3\" font-family=\"Helvetica,sans-Serif\" font-size=\"14.00\">value = [2, 0]</text>\n</g>\n<!-- 25&#45;&gt;27 -->\n<g id=\"edge27\" class=\"edge\">\n<title>25&#45;&gt;27</title>\n<path fill=\"none\" stroke=\"black\" d=\"M160.5,-504.88C160.5,-494.33 160.5,-482.6 160.5,-471.85\"/>\n<polygon fill=\"black\" stroke=\"black\" points=\"164,-471.52 160.5,-461.52 157,-471.52 164,-471.52\"/>\n</g>\n<!-- 29 -->\n<g id=\"node30\" class=\"node\">\n<title>29</title>\n<polygon fill=\"none\" stroke=\"black\" points=\"321,-469 226,-469 226,-401 321,-401 321,-469\"/>\n<text text-anchor=\"middle\" x=\"273.5\" y=\"-453.8\" font-family=\"Helvetica,sans-Serif\" font-size=\"14.00\">Age &lt;= 26.5</text>\n<text text-anchor=\"middle\" x=\"273.5\" y=\"-438.8\" font-family=\"Helvetica,sans-Serif\" font-size=\"14.00\">gini = 0.245</text>\n<text text-anchor=\"middle\" x=\"273.5\" y=\"-423.8\" font-family=\"Helvetica,sans-Serif\" font-size=\"14.00\">samples = 7</text>\n<text text-anchor=\"middle\" x=\"273.5\" y=\"-408.8\" font-family=\"Helvetica,sans-Serif\" font-size=\"14.00\">value = [1, 6]</text>\n</g>\n<!-- 28&#45;&gt;29 -->\n<g id=\"edge29\" class=\"edge\">\n<title>28&#45;&gt;29</title>\n<path fill=\"none\" stroke=\"black\" d=\"M283.63,-504.88C282.44,-496.78 281.14,-487.98 279.89,-479.47\"/>\n<polygon fill=\"black\" stroke=\"black\" points=\"283.31,-478.68 278.4,-469.3 276.39,-479.7 283.31,-478.68\"/>\n</g>\n<!-- 32 -->\n<g id=\"node33\" class=\"node\">\n<title>32</title>\n<polygon fill=\"none\" stroke=\"black\" points=\"434,-461.5 339,-461.5 339,-408.5 434,-408.5 434,-461.5\"/>\n<text text-anchor=\"middle\" x=\"386.5\" y=\"-446.3\" font-family=\"Helvetica,sans-Serif\" font-size=\"14.00\">gini = 0.5</text>\n<text text-anchor=\"middle\" x=\"386.5\" y=\"-431.3\" font-family=\"Helvetica,sans-Serif\" font-size=\"14.00\">samples = 4</text>\n<text text-anchor=\"middle\" x=\"386.5\" y=\"-416.3\" font-family=\"Helvetica,sans-Serif\" font-size=\"14.00\">value = [2, 2]</text>\n</g>\n<!-- 28&#45;&gt;32 -->\n<g id=\"edge32\" class=\"edge\">\n<title>28&#45;&gt;32</title>\n<path fill=\"none\" stroke=\"black\" d=\"M320.32,-504.88C331.41,-493.34 343.85,-480.39 354.93,-468.86\"/>\n<polygon fill=\"black\" stroke=\"black\" points=\"357.58,-471.16 361.98,-461.52 352.53,-466.31 357.58,-471.16\"/>\n</g>\n<!-- 30 -->\n<g id=\"node31\" class=\"node\">\n<title>30</title>\n<polygon fill=\"none\" stroke=\"black\" points=\"208,-357.5 113,-357.5 113,-304.5 208,-304.5 208,-357.5\"/>\n<text text-anchor=\"middle\" x=\"160.5\" y=\"-342.3\" font-family=\"Helvetica,sans-Serif\" font-size=\"14.00\">gini = 0.0</text>\n<text text-anchor=\"middle\" x=\"160.5\" y=\"-327.3\" font-family=\"Helvetica,sans-Serif\" font-size=\"14.00\">samples = 3</text>\n<text text-anchor=\"middle\" x=\"160.5\" y=\"-312.3\" font-family=\"Helvetica,sans-Serif\" font-size=\"14.00\">value = [0, 3]</text>\n</g>\n<!-- 29&#45;&gt;30 -->\n<g id=\"edge30\" class=\"edge\">\n<title>29&#45;&gt;30</title>\n<path fill=\"none\" stroke=\"black\" d=\"M236.81,-400.88C223.9,-389.23 209.4,-376.14 196.54,-364.53\"/>\n<polygon fill=\"black\" stroke=\"black\" points=\"198.54,-361.62 188.77,-357.52 193.85,-366.82 198.54,-361.62\"/>\n</g>\n<!-- 31 -->\n<g id=\"node32\" class=\"node\">\n<title>31</title>\n<polygon fill=\"none\" stroke=\"black\" points=\"321,-357.5 226,-357.5 226,-304.5 321,-304.5 321,-357.5\"/>\n<text text-anchor=\"middle\" x=\"273.5\" y=\"-342.3\" font-family=\"Helvetica,sans-Serif\" font-size=\"14.00\">gini = 0.375</text>\n<text text-anchor=\"middle\" x=\"273.5\" y=\"-327.3\" font-family=\"Helvetica,sans-Serif\" font-size=\"14.00\">samples = 4</text>\n<text text-anchor=\"middle\" x=\"273.5\" y=\"-312.3\" font-family=\"Helvetica,sans-Serif\" font-size=\"14.00\">value = [1, 3]</text>\n</g>\n<!-- 29&#45;&gt;31 -->\n<g id=\"edge31\" class=\"edge\">\n<title>29&#45;&gt;31</title>\n<path fill=\"none\" stroke=\"black\" d=\"M273.5,-400.88C273.5,-390.33 273.5,-378.6 273.5,-367.85\"/>\n<polygon fill=\"black\" stroke=\"black\" points=\"277,-367.52 273.5,-357.52 270,-367.52 277,-367.52\"/>\n</g>\n<!-- 34 -->\n<g id=\"node35\" class=\"node\">\n<title>34</title>\n<polygon fill=\"none\" stroke=\"black\" points=\"477,-565.5 382,-565.5 382,-512.5 477,-512.5 477,-565.5\"/>\n<text text-anchor=\"middle\" x=\"429.5\" y=\"-550.3\" font-family=\"Helvetica,sans-Serif\" font-size=\"14.00\">gini = 0.0</text>\n<text text-anchor=\"middle\" x=\"429.5\" y=\"-535.3\" font-family=\"Helvetica,sans-Serif\" font-size=\"14.00\">samples = 3</text>\n<text text-anchor=\"middle\" x=\"429.5\" y=\"-520.3\" font-family=\"Helvetica,sans-Serif\" font-size=\"14.00\">value = [3, 0]</text>\n</g>\n<!-- 33&#45;&gt;34 -->\n<g id=\"edge34\" class=\"edge\">\n<title>33&#45;&gt;34</title>\n<path fill=\"none\" stroke=\"black\" d=\"M438.28,-608.88C436.92,-598.22 435.41,-586.35 434.03,-575.52\"/>\n<polygon fill=\"black\" stroke=\"black\" points=\"437.49,-575 432.75,-565.52 430.54,-575.88 437.49,-575\"/>\n</g>\n<!-- 35 -->\n<g id=\"node36\" class=\"node\">\n<title>35</title>\n<polygon fill=\"none\" stroke=\"black\" points=\"590,-573 495,-573 495,-505 590,-505 590,-573\"/>\n<text text-anchor=\"middle\" x=\"542.5\" y=\"-557.8\" font-family=\"Helvetica,sans-Serif\" font-size=\"14.00\">Age &lt;= 32.5</text>\n<text text-anchor=\"middle\" x=\"542.5\" y=\"-542.8\" font-family=\"Helvetica,sans-Serif\" font-size=\"14.00\">gini = 0.48</text>\n<text text-anchor=\"middle\" x=\"542.5\" y=\"-527.8\" font-family=\"Helvetica,sans-Serif\" font-size=\"14.00\">samples = 5</text>\n<text text-anchor=\"middle\" x=\"542.5\" y=\"-512.8\" font-family=\"Helvetica,sans-Serif\" font-size=\"14.00\">value = [3, 2]</text>\n</g>\n<!-- 33&#45;&gt;35 -->\n<g id=\"edge35\" class=\"edge\">\n<title>33&#45;&gt;35</title>\n<path fill=\"none\" stroke=\"black\" d=\"M474.97,-608.88C483.79,-599.89 493.44,-590.04 502.62,-580.68\"/>\n<polygon fill=\"black\" stroke=\"black\" points=\"505.35,-582.89 509.85,-573.3 500.35,-577.99 505.35,-582.89\"/>\n</g>\n<!-- 36 -->\n<g id=\"node37\" class=\"node\">\n<title>36</title>\n<polygon fill=\"none\" stroke=\"black\" points=\"547,-469 452,-469 452,-401 547,-401 547,-469\"/>\n<text text-anchor=\"middle\" x=\"499.5\" y=\"-453.8\" font-family=\"Helvetica,sans-Serif\" font-size=\"14.00\">Age &lt;= 31.5</text>\n<text text-anchor=\"middle\" x=\"499.5\" y=\"-438.8\" font-family=\"Helvetica,sans-Serif\" font-size=\"14.00\">gini = 0.5</text>\n<text text-anchor=\"middle\" x=\"499.5\" y=\"-423.8\" font-family=\"Helvetica,sans-Serif\" font-size=\"14.00\">samples = 4</text>\n<text text-anchor=\"middle\" x=\"499.5\" y=\"-408.8\" font-family=\"Helvetica,sans-Serif\" font-size=\"14.00\">value = [2, 2]</text>\n</g>\n<!-- 35&#45;&gt;36 -->\n<g id=\"edge36\" class=\"edge\">\n<title>35&#45;&gt;36</title>\n<path fill=\"none\" stroke=\"black\" d=\"M528.54,-504.88C525.01,-496.51 521.17,-487.4 517.47,-478.63\"/>\n<polygon fill=\"black\" stroke=\"black\" points=\"520.65,-477.15 513.54,-469.3 514.2,-479.87 520.65,-477.15\"/>\n</g>\n<!-- 39 -->\n<g id=\"node40\" class=\"node\">\n<title>39</title>\n<polygon fill=\"none\" stroke=\"black\" points=\"660,-461.5 565,-461.5 565,-408.5 660,-408.5 660,-461.5\"/>\n<text text-anchor=\"middle\" x=\"612.5\" y=\"-446.3\" font-family=\"Helvetica,sans-Serif\" font-size=\"14.00\">gini = 0.0</text>\n<text text-anchor=\"middle\" x=\"612.5\" y=\"-431.3\" font-family=\"Helvetica,sans-Serif\" font-size=\"14.00\">samples = 1</text>\n<text text-anchor=\"middle\" x=\"612.5\" y=\"-416.3\" font-family=\"Helvetica,sans-Serif\" font-size=\"14.00\">value = [1, 0]</text>\n</g>\n<!-- 35&#45;&gt;39 -->\n<g id=\"edge39\" class=\"edge\">\n<title>35&#45;&gt;39</title>\n<path fill=\"none\" stroke=\"black\" d=\"M565.23,-504.88C572.93,-493.67 581.53,-481.13 589.27,-469.85\"/>\n<polygon fill=\"black\" stroke=\"black\" points=\"592.21,-471.75 594.99,-461.52 586.44,-467.78 592.21,-471.75\"/>\n</g>\n<!-- 37 -->\n<g id=\"node38\" class=\"node\">\n<title>37</title>\n<polygon fill=\"none\" stroke=\"black\" points=\"434,-357.5 339,-357.5 339,-304.5 434,-304.5 434,-357.5\"/>\n<text text-anchor=\"middle\" x=\"386.5\" y=\"-342.3\" font-family=\"Helvetica,sans-Serif\" font-size=\"14.00\">gini = 0.444</text>\n<text text-anchor=\"middle\" x=\"386.5\" y=\"-327.3\" font-family=\"Helvetica,sans-Serif\" font-size=\"14.00\">samples = 3</text>\n<text text-anchor=\"middle\" x=\"386.5\" y=\"-312.3\" font-family=\"Helvetica,sans-Serif\" font-size=\"14.00\">value = [2, 1]</text>\n</g>\n<!-- 36&#45;&gt;37 -->\n<g id=\"edge37\" class=\"edge\">\n<title>36&#45;&gt;37</title>\n<path fill=\"none\" stroke=\"black\" d=\"M462.81,-400.88C449.9,-389.23 435.4,-376.14 422.54,-364.53\"/>\n<polygon fill=\"black\" stroke=\"black\" points=\"424.54,-361.62 414.77,-357.52 419.85,-366.82 424.54,-361.62\"/>\n</g>\n<!-- 38 -->\n<g id=\"node39\" class=\"node\">\n<title>38</title>\n<polygon fill=\"none\" stroke=\"black\" points=\"547,-357.5 452,-357.5 452,-304.5 547,-304.5 547,-357.5\"/>\n<text text-anchor=\"middle\" x=\"499.5\" y=\"-342.3\" font-family=\"Helvetica,sans-Serif\" font-size=\"14.00\">gini = 0.0</text>\n<text text-anchor=\"middle\" x=\"499.5\" y=\"-327.3\" font-family=\"Helvetica,sans-Serif\" font-size=\"14.00\">samples = 1</text>\n<text text-anchor=\"middle\" x=\"499.5\" y=\"-312.3\" font-family=\"Helvetica,sans-Serif\" font-size=\"14.00\">value = [0, 1]</text>\n</g>\n<!-- 36&#45;&gt;38 -->\n<g id=\"edge38\" class=\"edge\">\n<title>36&#45;&gt;38</title>\n<path fill=\"none\" stroke=\"black\" d=\"M499.5,-400.88C499.5,-390.33 499.5,-378.6 499.5,-367.85\"/>\n<polygon fill=\"black\" stroke=\"black\" points=\"503,-367.52 499.5,-357.52 496,-367.52 503,-367.52\"/>\n</g>\n<!-- 41 -->\n<g id=\"node42\" class=\"node\">\n<title>41</title>\n<polygon fill=\"none\" stroke=\"black\" points=\"655,-669.5 560,-669.5 560,-616.5 655,-616.5 655,-669.5\"/>\n<text text-anchor=\"middle\" x=\"607.5\" y=\"-654.3\" font-family=\"Helvetica,sans-Serif\" font-size=\"14.00\">gini = 0.0</text>\n<text text-anchor=\"middle\" x=\"607.5\" y=\"-639.3\" font-family=\"Helvetica,sans-Serif\" font-size=\"14.00\">samples = 4</text>\n<text text-anchor=\"middle\" x=\"607.5\" y=\"-624.3\" font-family=\"Helvetica,sans-Serif\" font-size=\"14.00\">value = [0, 4]</text>\n</g>\n<!-- 40&#45;&gt;41 -->\n<g id=\"edge41\" class=\"edge\">\n<title>40&#45;&gt;41</title>\n<path fill=\"none\" stroke=\"black\" d=\"M683.81,-712.88C670.9,-701.23 656.4,-688.14 643.54,-676.53\"/>\n<polygon fill=\"black\" stroke=\"black\" points=\"645.54,-673.62 635.77,-669.52 640.85,-678.82 645.54,-673.62\"/>\n</g>\n<!-- 42 -->\n<g id=\"node43\" class=\"node\">\n<title>42</title>\n<polygon fill=\"none\" stroke=\"black\" points=\"768,-669.5 673,-669.5 673,-616.5 768,-616.5 768,-669.5\"/>\n<text text-anchor=\"middle\" x=\"720.5\" y=\"-654.3\" font-family=\"Helvetica,sans-Serif\" font-size=\"14.00\">gini = 0.444</text>\n<text text-anchor=\"middle\" x=\"720.5\" y=\"-639.3\" font-family=\"Helvetica,sans-Serif\" font-size=\"14.00\">samples = 6</text>\n<text text-anchor=\"middle\" x=\"720.5\" y=\"-624.3\" font-family=\"Helvetica,sans-Serif\" font-size=\"14.00\">value = [2, 4]</text>\n</g>\n<!-- 40&#45;&gt;42 -->\n<g id=\"edge42\" class=\"edge\">\n<title>40&#45;&gt;42</title>\n<path fill=\"none\" stroke=\"black\" d=\"M720.5,-712.88C720.5,-702.33 720.5,-690.6 720.5,-679.85\"/>\n<polygon fill=\"black\" stroke=\"black\" points=\"724,-679.52 720.5,-669.52 717,-679.52 724,-679.52\"/>\n</g>\n<!-- 44 -->\n<g id=\"node45\" class=\"node\">\n<title>44</title>\n<polygon fill=\"none\" stroke=\"black\" points=\"1003.5,-781 901.5,-781 901.5,-713 1003.5,-713 1003.5,-781\"/>\n<text text-anchor=\"middle\" x=\"952.5\" y=\"-765.8\" font-family=\"Helvetica,sans-Serif\" font-size=\"14.00\">Age &lt;= 43.0</text>\n<text text-anchor=\"middle\" x=\"952.5\" y=\"-750.8\" font-family=\"Helvetica,sans-Serif\" font-size=\"14.00\">gini = 0.365</text>\n<text text-anchor=\"middle\" x=\"952.5\" y=\"-735.8\" font-family=\"Helvetica,sans-Serif\" font-size=\"14.00\">samples = 25</text>\n<text text-anchor=\"middle\" x=\"952.5\" y=\"-720.8\" font-family=\"Helvetica,sans-Serif\" font-size=\"14.00\">value = [19, 6]</text>\n</g>\n<!-- 43&#45;&gt;44 -->\n<g id=\"edge44\" class=\"edge\">\n<title>43&#45;&gt;44</title>\n<path fill=\"none\" stroke=\"black\" d=\"M988.29,-816.88C983.9,-808.42 979.11,-799.21 974.51,-790.35\"/>\n<polygon fill=\"black\" stroke=\"black\" points=\"977.52,-788.56 969.8,-781.3 971.31,-791.79 977.52,-788.56\"/>\n</g>\n<!-- 59 -->\n<g id=\"node60\" class=\"node\">\n<title>59</title>\n<polygon fill=\"none\" stroke=\"black\" points=\"1119.5,-781 1021.5,-781 1021.5,-713 1119.5,-713 1119.5,-781\"/>\n<text text-anchor=\"middle\" x=\"1070.5\" y=\"-765.8\" font-family=\"Helvetica,sans-Serif\" font-size=\"14.00\">Age &lt;= 48.5</text>\n<text text-anchor=\"middle\" x=\"1070.5\" y=\"-750.8\" font-family=\"Helvetica,sans-Serif\" font-size=\"14.00\">gini = 0.473</text>\n<text text-anchor=\"middle\" x=\"1070.5\" y=\"-735.8\" font-family=\"Helvetica,sans-Serif\" font-size=\"14.00\">samples = 13</text>\n<text text-anchor=\"middle\" x=\"1070.5\" y=\"-720.8\" font-family=\"Helvetica,sans-Serif\" font-size=\"14.00\">value = [5, 8]</text>\n</g>\n<!-- 43&#45;&gt;59 -->\n<g id=\"edge59\" class=\"edge\">\n<title>43&#45;&gt;59</title>\n<path fill=\"none\" stroke=\"black\" d=\"M1026.6,-816.88C1032.11,-808.24 1038.12,-798.82 1043.87,-789.79\"/>\n<polygon fill=\"black\" stroke=\"black\" points=\"1046.86,-791.61 1049.28,-781.3 1040.95,-787.85 1046.86,-791.61\"/>\n</g>\n<!-- 45 -->\n<g id=\"node46\" class=\"node\">\n<title>45</title>\n<polygon fill=\"none\" stroke=\"black\" points=\"884.5,-677 786.5,-677 786.5,-609 884.5,-609 884.5,-677\"/>\n<text text-anchor=\"middle\" x=\"835.5\" y=\"-661.8\" font-family=\"Helvetica,sans-Serif\" font-size=\"14.00\">Age &lt;= 41.0</text>\n<text text-anchor=\"middle\" x=\"835.5\" y=\"-646.8\" font-family=\"Helvetica,sans-Serif\" font-size=\"14.00\">gini = 0.473</text>\n<text text-anchor=\"middle\" x=\"835.5\" y=\"-631.8\" font-family=\"Helvetica,sans-Serif\" font-size=\"14.00\">samples = 13</text>\n<text text-anchor=\"middle\" x=\"835.5\" y=\"-616.8\" font-family=\"Helvetica,sans-Serif\" font-size=\"14.00\">value = [8, 5]</text>\n</g>\n<!-- 44&#45;&gt;45 -->\n<g id=\"edge45\" class=\"edge\">\n<title>44&#45;&gt;45</title>\n<path fill=\"none\" stroke=\"black\" d=\"M914.51,-712.88C903.99,-703.71 892.45,-693.65 881.52,-684.12\"/>\n<polygon fill=\"black\" stroke=\"black\" points=\"883.53,-681.23 873.7,-677.3 878.93,-686.51 883.53,-681.23\"/>\n</g>\n<!-- 54 -->\n<g id=\"node55\" class=\"node\">\n<title>54</title>\n<polygon fill=\"none\" stroke=\"black\" points=\"1004.5,-677 902.5,-677 902.5,-609 1004.5,-609 1004.5,-677\"/>\n<text text-anchor=\"middle\" x=\"953.5\" y=\"-661.8\" font-family=\"Helvetica,sans-Serif\" font-size=\"14.00\">Age &lt;= 45.25</text>\n<text text-anchor=\"middle\" x=\"953.5\" y=\"-646.8\" font-family=\"Helvetica,sans-Serif\" font-size=\"14.00\">gini = 0.153</text>\n<text text-anchor=\"middle\" x=\"953.5\" y=\"-631.8\" font-family=\"Helvetica,sans-Serif\" font-size=\"14.00\">samples = 12</text>\n<text text-anchor=\"middle\" x=\"953.5\" y=\"-616.8\" font-family=\"Helvetica,sans-Serif\" font-size=\"14.00\">value = [11, 1]</text>\n</g>\n<!-- 44&#45;&gt;54 -->\n<g id=\"edge54\" class=\"edge\">\n<title>44&#45;&gt;54</title>\n<path fill=\"none\" stroke=\"black\" d=\"M952.82,-712.88C952.9,-704.78 952.99,-695.98 953.07,-687.47\"/>\n<polygon fill=\"black\" stroke=\"black\" points=\"956.58,-687.33 953.17,-677.3 949.58,-687.26 956.58,-687.33\"/>\n</g>\n<!-- 46 -->\n<g id=\"node47\" class=\"node\">\n<title>46</title>\n<polygon fill=\"none\" stroke=\"black\" points=\"774.5,-573 676.5,-573 676.5,-505 774.5,-505 774.5,-573\"/>\n<text text-anchor=\"middle\" x=\"725.5\" y=\"-557.8\" font-family=\"Helvetica,sans-Serif\" font-size=\"14.00\">Age &lt;= 38.5</text>\n<text text-anchor=\"middle\" x=\"725.5\" y=\"-542.8\" font-family=\"Helvetica,sans-Serif\" font-size=\"14.00\">gini = 0.42</text>\n<text text-anchor=\"middle\" x=\"725.5\" y=\"-527.8\" font-family=\"Helvetica,sans-Serif\" font-size=\"14.00\">samples = 10</text>\n<text text-anchor=\"middle\" x=\"725.5\" y=\"-512.8\" font-family=\"Helvetica,sans-Serif\" font-size=\"14.00\">value = [7, 3]</text>\n</g>\n<!-- 45&#45;&gt;46 -->\n<g id=\"edge46\" class=\"edge\">\n<title>45&#45;&gt;46</title>\n<path fill=\"none\" stroke=\"black\" d=\"M799.79,-608.88C789.89,-599.71 779.04,-589.65 768.77,-580.12\"/>\n<polygon fill=\"black\" stroke=\"black\" points=\"771.12,-577.53 761.41,-573.3 766.36,-582.67 771.12,-577.53\"/>\n</g>\n<!-- 53 -->\n<g id=\"node54\" class=\"node\">\n<title>53</title>\n<polygon fill=\"none\" stroke=\"black\" points=\"888,-565.5 793,-565.5 793,-512.5 888,-512.5 888,-565.5\"/>\n<text text-anchor=\"middle\" x=\"840.5\" y=\"-550.3\" font-family=\"Helvetica,sans-Serif\" font-size=\"14.00\">gini = 0.444</text>\n<text text-anchor=\"middle\" x=\"840.5\" y=\"-535.3\" font-family=\"Helvetica,sans-Serif\" font-size=\"14.00\">samples = 3</text>\n<text text-anchor=\"middle\" x=\"840.5\" y=\"-520.3\" font-family=\"Helvetica,sans-Serif\" font-size=\"14.00\">value = [1, 2]</text>\n</g>\n<!-- 45&#45;&gt;53 -->\n<g id=\"edge53\" class=\"edge\">\n<title>45&#45;&gt;53</title>\n<path fill=\"none\" stroke=\"black\" d=\"M837.12,-608.88C837.65,-598.22 838.23,-586.35 838.76,-575.52\"/>\n<polygon fill=\"black\" stroke=\"black\" points=\"842.26,-575.68 839.25,-565.52 835.26,-575.34 842.26,-575.68\"/>\n</g>\n<!-- 47 -->\n<g id=\"node48\" class=\"node\">\n<title>47</title>\n<polygon fill=\"none\" stroke=\"black\" points=\"773,-469 678,-469 678,-401 773,-401 773,-469\"/>\n<text text-anchor=\"middle\" x=\"725.5\" y=\"-453.8\" font-family=\"Helvetica,sans-Serif\" font-size=\"14.00\">Age &lt;= 37.5</text>\n<text text-anchor=\"middle\" x=\"725.5\" y=\"-438.8\" font-family=\"Helvetica,sans-Serif\" font-size=\"14.00\">gini = 0.444</text>\n<text text-anchor=\"middle\" x=\"725.5\" y=\"-423.8\" font-family=\"Helvetica,sans-Serif\" font-size=\"14.00\">samples = 6</text>\n<text text-anchor=\"middle\" x=\"725.5\" y=\"-408.8\" font-family=\"Helvetica,sans-Serif\" font-size=\"14.00\">value = [4, 2]</text>\n</g>\n<!-- 46&#45;&gt;47 -->\n<g id=\"edge47\" class=\"edge\">\n<title>46&#45;&gt;47</title>\n<path fill=\"none\" stroke=\"black\" d=\"M725.5,-504.88C725.5,-496.78 725.5,-487.98 725.5,-479.47\"/>\n<polygon fill=\"black\" stroke=\"black\" points=\"729,-479.3 725.5,-469.3 722,-479.3 729,-479.3\"/>\n</g>\n<!-- 50 -->\n<g id=\"node51\" class=\"node\">\n<title>50</title>\n<polygon fill=\"none\" stroke=\"black\" points=\"886,-469 791,-469 791,-401 886,-401 886,-469\"/>\n<text text-anchor=\"middle\" x=\"838.5\" y=\"-453.8\" font-family=\"Helvetica,sans-Serif\" font-size=\"14.00\">Age &lt;= 39.5</text>\n<text text-anchor=\"middle\" x=\"838.5\" y=\"-438.8\" font-family=\"Helvetica,sans-Serif\" font-size=\"14.00\">gini = 0.375</text>\n<text text-anchor=\"middle\" x=\"838.5\" y=\"-423.8\" font-family=\"Helvetica,sans-Serif\" font-size=\"14.00\">samples = 4</text>\n<text text-anchor=\"middle\" x=\"838.5\" y=\"-408.8\" font-family=\"Helvetica,sans-Serif\" font-size=\"14.00\">value = [3, 1]</text>\n</g>\n<!-- 46&#45;&gt;50 -->\n<g id=\"edge50\" class=\"edge\">\n<title>46&#45;&gt;50</title>\n<path fill=\"none\" stroke=\"black\" d=\"M762.19,-504.88C772.35,-495.71 783.5,-485.65 794.05,-476.12\"/>\n<polygon fill=\"black\" stroke=\"black\" points=\"796.53,-478.6 801.61,-469.3 791.84,-473.4 796.53,-478.6\"/>\n</g>\n<!-- 48 -->\n<g id=\"node49\" class=\"node\">\n<title>48</title>\n<polygon fill=\"none\" stroke=\"black\" points=\"660,-357.5 565,-357.5 565,-304.5 660,-304.5 660,-357.5\"/>\n<text text-anchor=\"middle\" x=\"612.5\" y=\"-342.3\" font-family=\"Helvetica,sans-Serif\" font-size=\"14.00\">gini = 0.444</text>\n<text text-anchor=\"middle\" x=\"612.5\" y=\"-327.3\" font-family=\"Helvetica,sans-Serif\" font-size=\"14.00\">samples = 3</text>\n<text text-anchor=\"middle\" x=\"612.5\" y=\"-312.3\" font-family=\"Helvetica,sans-Serif\" font-size=\"14.00\">value = [2, 1]</text>\n</g>\n<!-- 47&#45;&gt;48 -->\n<g id=\"edge48\" class=\"edge\">\n<title>47&#45;&gt;48</title>\n<path fill=\"none\" stroke=\"black\" d=\"M688.81,-400.88C675.9,-389.23 661.4,-376.14 648.54,-364.53\"/>\n<polygon fill=\"black\" stroke=\"black\" points=\"650.54,-361.62 640.77,-357.52 645.85,-366.82 650.54,-361.62\"/>\n</g>\n<!-- 49 -->\n<g id=\"node50\" class=\"node\">\n<title>49</title>\n<polygon fill=\"none\" stroke=\"black\" points=\"773,-357.5 678,-357.5 678,-304.5 773,-304.5 773,-357.5\"/>\n<text text-anchor=\"middle\" x=\"725.5\" y=\"-342.3\" font-family=\"Helvetica,sans-Serif\" font-size=\"14.00\">gini = 0.444</text>\n<text text-anchor=\"middle\" x=\"725.5\" y=\"-327.3\" font-family=\"Helvetica,sans-Serif\" font-size=\"14.00\">samples = 3</text>\n<text text-anchor=\"middle\" x=\"725.5\" y=\"-312.3\" font-family=\"Helvetica,sans-Serif\" font-size=\"14.00\">value = [2, 1]</text>\n</g>\n<!-- 47&#45;&gt;49 -->\n<g id=\"edge49\" class=\"edge\">\n<title>47&#45;&gt;49</title>\n<path fill=\"none\" stroke=\"black\" d=\"M725.5,-400.88C725.5,-390.33 725.5,-378.6 725.5,-367.85\"/>\n<polygon fill=\"black\" stroke=\"black\" points=\"729,-367.52 725.5,-357.52 722,-367.52 729,-367.52\"/>\n</g>\n<!-- 51 -->\n<g id=\"node52\" class=\"node\">\n<title>51</title>\n<polygon fill=\"none\" stroke=\"black\" points=\"886,-357.5 791,-357.5 791,-304.5 886,-304.5 886,-357.5\"/>\n<text text-anchor=\"middle\" x=\"838.5\" y=\"-342.3\" font-family=\"Helvetica,sans-Serif\" font-size=\"14.00\">gini = 0.0</text>\n<text text-anchor=\"middle\" x=\"838.5\" y=\"-327.3\" font-family=\"Helvetica,sans-Serif\" font-size=\"14.00\">samples = 1</text>\n<text text-anchor=\"middle\" x=\"838.5\" y=\"-312.3\" font-family=\"Helvetica,sans-Serif\" font-size=\"14.00\">value = [1, 0]</text>\n</g>\n<!-- 50&#45;&gt;51 -->\n<g id=\"edge51\" class=\"edge\">\n<title>50&#45;&gt;51</title>\n<path fill=\"none\" stroke=\"black\" d=\"M838.5,-400.88C838.5,-390.33 838.5,-378.6 838.5,-367.85\"/>\n<polygon fill=\"black\" stroke=\"black\" points=\"842,-367.52 838.5,-357.52 835,-367.52 842,-367.52\"/>\n</g>\n<!-- 52 -->\n<g id=\"node53\" class=\"node\">\n<title>52</title>\n<polygon fill=\"none\" stroke=\"black\" points=\"999,-357.5 904,-357.5 904,-304.5 999,-304.5 999,-357.5\"/>\n<text text-anchor=\"middle\" x=\"951.5\" y=\"-342.3\" font-family=\"Helvetica,sans-Serif\" font-size=\"14.00\">gini = 0.444</text>\n<text text-anchor=\"middle\" x=\"951.5\" y=\"-327.3\" font-family=\"Helvetica,sans-Serif\" font-size=\"14.00\">samples = 3</text>\n<text text-anchor=\"middle\" x=\"951.5\" y=\"-312.3\" font-family=\"Helvetica,sans-Serif\" font-size=\"14.00\">value = [2, 1]</text>\n</g>\n<!-- 50&#45;&gt;52 -->\n<g id=\"edge52\" class=\"edge\">\n<title>50&#45;&gt;52</title>\n<path fill=\"none\" stroke=\"black\" d=\"M875.19,-400.88C888.1,-389.23 902.6,-376.14 915.46,-364.53\"/>\n<polygon fill=\"black\" stroke=\"black\" points=\"918.15,-366.82 923.23,-357.52 913.46,-361.62 918.15,-366.82\"/>\n</g>\n<!-- 55 -->\n<g id=\"node56\" class=\"node\">\n<title>55</title>\n<polygon fill=\"none\" stroke=\"black\" points=\"1001,-573 906,-573 906,-505 1001,-505 1001,-573\"/>\n<text text-anchor=\"middle\" x=\"953.5\" y=\"-557.8\" font-family=\"Helvetica,sans-Serif\" font-size=\"14.00\">Age &lt;= 44.5</text>\n<text text-anchor=\"middle\" x=\"953.5\" y=\"-542.8\" font-family=\"Helvetica,sans-Serif\" font-size=\"14.00\">gini = 0.32</text>\n<text text-anchor=\"middle\" x=\"953.5\" y=\"-527.8\" font-family=\"Helvetica,sans-Serif\" font-size=\"14.00\">samples = 5</text>\n<text text-anchor=\"middle\" x=\"953.5\" y=\"-512.8\" font-family=\"Helvetica,sans-Serif\" font-size=\"14.00\">value = [4, 1]</text>\n</g>\n<!-- 54&#45;&gt;55 -->\n<g id=\"edge55\" class=\"edge\">\n<title>54&#45;&gt;55</title>\n<path fill=\"none\" stroke=\"black\" d=\"M953.5,-608.88C953.5,-600.78 953.5,-591.98 953.5,-583.47\"/>\n<polygon fill=\"black\" stroke=\"black\" points=\"957,-583.3 953.5,-573.3 950,-583.3 957,-583.3\"/>\n</g>\n<!-- 58 -->\n<g id=\"node59\" class=\"node\">\n<title>58</title>\n<polygon fill=\"none\" stroke=\"black\" points=\"1114,-565.5 1019,-565.5 1019,-512.5 1114,-512.5 1114,-565.5\"/>\n<text text-anchor=\"middle\" x=\"1066.5\" y=\"-550.3\" font-family=\"Helvetica,sans-Serif\" font-size=\"14.00\">gini = 0.0</text>\n<text text-anchor=\"middle\" x=\"1066.5\" y=\"-535.3\" font-family=\"Helvetica,sans-Serif\" font-size=\"14.00\">samples = 7</text>\n<text text-anchor=\"middle\" x=\"1066.5\" y=\"-520.3\" font-family=\"Helvetica,sans-Serif\" font-size=\"14.00\">value = [7, 0]</text>\n</g>\n<!-- 54&#45;&gt;58 -->\n<g id=\"edge58\" class=\"edge\">\n<title>54&#45;&gt;58</title>\n<path fill=\"none\" stroke=\"black\" d=\"M990.19,-608.88C1003.1,-597.23 1017.6,-584.14 1030.46,-572.53\"/>\n<polygon fill=\"black\" stroke=\"black\" points=\"1033.15,-574.82 1038.23,-565.52 1028.46,-569.62 1033.15,-574.82\"/>\n</g>\n<!-- 56 -->\n<g id=\"node57\" class=\"node\">\n<title>56</title>\n<polygon fill=\"none\" stroke=\"black\" points=\"1000,-461.5 905,-461.5 905,-408.5 1000,-408.5 1000,-461.5\"/>\n<text text-anchor=\"middle\" x=\"952.5\" y=\"-446.3\" font-family=\"Helvetica,sans-Serif\" font-size=\"14.00\">gini = 0.0</text>\n<text text-anchor=\"middle\" x=\"952.5\" y=\"-431.3\" font-family=\"Helvetica,sans-Serif\" font-size=\"14.00\">samples = 1</text>\n<text text-anchor=\"middle\" x=\"952.5\" y=\"-416.3\" font-family=\"Helvetica,sans-Serif\" font-size=\"14.00\">value = [1, 0]</text>\n</g>\n<!-- 55&#45;&gt;56 -->\n<g id=\"edge56\" class=\"edge\">\n<title>55&#45;&gt;56</title>\n<path fill=\"none\" stroke=\"black\" d=\"M953.18,-504.88C953.07,-494.33 952.96,-482.6 952.85,-471.85\"/>\n<polygon fill=\"black\" stroke=\"black\" points=\"956.35,-471.49 952.75,-461.52 949.35,-471.55 956.35,-471.49\"/>\n</g>\n<!-- 57 -->\n<g id=\"node58\" class=\"node\">\n<title>57</title>\n<polygon fill=\"none\" stroke=\"black\" points=\"1113,-461.5 1018,-461.5 1018,-408.5 1113,-408.5 1113,-461.5\"/>\n<text text-anchor=\"middle\" x=\"1065.5\" y=\"-446.3\" font-family=\"Helvetica,sans-Serif\" font-size=\"14.00\">gini = 0.375</text>\n<text text-anchor=\"middle\" x=\"1065.5\" y=\"-431.3\" font-family=\"Helvetica,sans-Serif\" font-size=\"14.00\">samples = 4</text>\n<text text-anchor=\"middle\" x=\"1065.5\" y=\"-416.3\" font-family=\"Helvetica,sans-Serif\" font-size=\"14.00\">value = [3, 1]</text>\n</g>\n<!-- 55&#45;&gt;57 -->\n<g id=\"edge57\" class=\"edge\">\n<title>55&#45;&gt;57</title>\n<path fill=\"none\" stroke=\"black\" d=\"M989.86,-504.88C1002.66,-493.23 1017.03,-480.14 1029.78,-468.53\"/>\n<polygon fill=\"black\" stroke=\"black\" points=\"1032.44,-470.84 1037.48,-461.52 1027.73,-465.67 1032.44,-470.84\"/>\n</g>\n<!-- 60 -->\n<g id=\"node61\" class=\"node\">\n<title>60</title>\n<polygon fill=\"none\" stroke=\"black\" points=\"1118,-669.5 1023,-669.5 1023,-616.5 1118,-616.5 1118,-669.5\"/>\n<text text-anchor=\"middle\" x=\"1070.5\" y=\"-654.3\" font-family=\"Helvetica,sans-Serif\" font-size=\"14.00\">gini = 0.0</text>\n<text text-anchor=\"middle\" x=\"1070.5\" y=\"-639.3\" font-family=\"Helvetica,sans-Serif\" font-size=\"14.00\">samples = 3</text>\n<text text-anchor=\"middle\" x=\"1070.5\" y=\"-624.3\" font-family=\"Helvetica,sans-Serif\" font-size=\"14.00\">value = [0, 3]</text>\n</g>\n<!-- 59&#45;&gt;60 -->\n<g id=\"edge60\" class=\"edge\">\n<title>59&#45;&gt;60</title>\n<path fill=\"none\" stroke=\"black\" d=\"M1070.5,-712.88C1070.5,-702.33 1070.5,-690.6 1070.5,-679.85\"/>\n<polygon fill=\"black\" stroke=\"black\" points=\"1074,-679.52 1070.5,-669.52 1067,-679.52 1074,-679.52\"/>\n</g>\n<!-- 61 -->\n<g id=\"node62\" class=\"node\">\n<title>61</title>\n<polygon fill=\"none\" stroke=\"black\" points=\"1234.5,-677 1136.5,-677 1136.5,-609 1234.5,-609 1234.5,-677\"/>\n<text text-anchor=\"middle\" x=\"1185.5\" y=\"-661.8\" font-family=\"Helvetica,sans-Serif\" font-size=\"14.00\">Age &lt;= 49.5</text>\n<text text-anchor=\"middle\" x=\"1185.5\" y=\"-646.8\" font-family=\"Helvetica,sans-Serif\" font-size=\"14.00\">gini = 0.5</text>\n<text text-anchor=\"middle\" x=\"1185.5\" y=\"-631.8\" font-family=\"Helvetica,sans-Serif\" font-size=\"14.00\">samples = 10</text>\n<text text-anchor=\"middle\" x=\"1185.5\" y=\"-616.8\" font-family=\"Helvetica,sans-Serif\" font-size=\"14.00\">value = [5, 5]</text>\n</g>\n<!-- 59&#45;&gt;61 -->\n<g id=\"edge61\" class=\"edge\">\n<title>59&#45;&gt;61</title>\n<path fill=\"none\" stroke=\"black\" d=\"M1107.84,-712.88C1118.18,-703.71 1129.52,-693.65 1140.26,-684.12\"/>\n<polygon fill=\"black\" stroke=\"black\" points=\"1142.8,-686.55 1147.96,-677.3 1138.15,-681.32 1142.8,-686.55\"/>\n</g>\n<!-- 62 -->\n<g id=\"node63\" class=\"node\">\n<title>62</title>\n<polygon fill=\"none\" stroke=\"black\" points=\"1229,-565.5 1134,-565.5 1134,-512.5 1229,-512.5 1229,-565.5\"/>\n<text text-anchor=\"middle\" x=\"1181.5\" y=\"-550.3\" font-family=\"Helvetica,sans-Serif\" font-size=\"14.00\">gini = 0.444</text>\n<text text-anchor=\"middle\" x=\"1181.5\" y=\"-535.3\" font-family=\"Helvetica,sans-Serif\" font-size=\"14.00\">samples = 3</text>\n<text text-anchor=\"middle\" x=\"1181.5\" y=\"-520.3\" font-family=\"Helvetica,sans-Serif\" font-size=\"14.00\">value = [1, 2]</text>\n</g>\n<!-- 61&#45;&gt;62 -->\n<g id=\"edge62\" class=\"edge\">\n<title>61&#45;&gt;62</title>\n<path fill=\"none\" stroke=\"black\" d=\"M1184.2,-608.88C1183.78,-598.22 1183.32,-586.35 1182.89,-575.52\"/>\n<polygon fill=\"black\" stroke=\"black\" points=\"1186.39,-575.38 1182.5,-565.52 1179.4,-575.65 1186.39,-575.38\"/>\n</g>\n<!-- 63 -->\n<g id=\"node64\" class=\"node\">\n<title>63</title>\n<polygon fill=\"none\" stroke=\"black\" points=\"1342,-573 1247,-573 1247,-505 1342,-505 1342,-573\"/>\n<text text-anchor=\"middle\" x=\"1294.5\" y=\"-557.8\" font-family=\"Helvetica,sans-Serif\" font-size=\"14.00\">Age &lt;= 50.5</text>\n<text text-anchor=\"middle\" x=\"1294.5\" y=\"-542.8\" font-family=\"Helvetica,sans-Serif\" font-size=\"14.00\">gini = 0.49</text>\n<text text-anchor=\"middle\" x=\"1294.5\" y=\"-527.8\" font-family=\"Helvetica,sans-Serif\" font-size=\"14.00\">samples = 7</text>\n<text text-anchor=\"middle\" x=\"1294.5\" y=\"-512.8\" font-family=\"Helvetica,sans-Serif\" font-size=\"14.00\">value = [4, 3]</text>\n</g>\n<!-- 61&#45;&gt;63 -->\n<g id=\"edge63\" class=\"edge\">\n<title>61&#45;&gt;63</title>\n<path fill=\"none\" stroke=\"black\" d=\"M1220.89,-608.88C1230.6,-599.8 1241.23,-589.85 1251.33,-580.4\"/>\n<polygon fill=\"black\" stroke=\"black\" points=\"1254.01,-582.69 1258.92,-573.3 1249.22,-577.58 1254.01,-582.69\"/>\n</g>\n<!-- 64 -->\n<g id=\"node65\" class=\"node\">\n<title>64</title>\n<polygon fill=\"none\" stroke=\"black\" points=\"1231,-461.5 1136,-461.5 1136,-408.5 1231,-408.5 1231,-461.5\"/>\n<text text-anchor=\"middle\" x=\"1183.5\" y=\"-446.3\" font-family=\"Helvetica,sans-Serif\" font-size=\"14.00\">gini = 0.444</text>\n<text text-anchor=\"middle\" x=\"1183.5\" y=\"-431.3\" font-family=\"Helvetica,sans-Serif\" font-size=\"14.00\">samples = 3</text>\n<text text-anchor=\"middle\" x=\"1183.5\" y=\"-416.3\" font-family=\"Helvetica,sans-Serif\" font-size=\"14.00\">value = [2, 1]</text>\n</g>\n<!-- 63&#45;&gt;64 -->\n<g id=\"edge64\" class=\"edge\">\n<title>63&#45;&gt;64</title>\n<path fill=\"none\" stroke=\"black\" d=\"M1258.46,-504.88C1245.78,-493.23 1231.54,-480.14 1218.9,-468.53\"/>\n<polygon fill=\"black\" stroke=\"black\" points=\"1221,-465.71 1211.27,-461.52 1216.27,-470.86 1221,-465.71\"/>\n</g>\n<!-- 65 -->\n<g id=\"node66\" class=\"node\">\n<title>65</title>\n<polygon fill=\"none\" stroke=\"black\" points=\"1344,-469 1249,-469 1249,-401 1344,-401 1344,-469\"/>\n<text text-anchor=\"middle\" x=\"1296.5\" y=\"-453.8\" font-family=\"Helvetica,sans-Serif\" font-size=\"14.00\">Age &lt;= 51.5</text>\n<text text-anchor=\"middle\" x=\"1296.5\" y=\"-438.8\" font-family=\"Helvetica,sans-Serif\" font-size=\"14.00\">gini = 0.5</text>\n<text text-anchor=\"middle\" x=\"1296.5\" y=\"-423.8\" font-family=\"Helvetica,sans-Serif\" font-size=\"14.00\">samples = 4</text>\n<text text-anchor=\"middle\" x=\"1296.5\" y=\"-408.8\" font-family=\"Helvetica,sans-Serif\" font-size=\"14.00\">value = [2, 2]</text>\n</g>\n<!-- 63&#45;&gt;65 -->\n<g id=\"edge65\" class=\"edge\">\n<title>63&#45;&gt;65</title>\n<path fill=\"none\" stroke=\"black\" d=\"M1295.15,-504.88C1295.31,-496.78 1295.48,-487.98 1295.65,-479.47\"/>\n<polygon fill=\"black\" stroke=\"black\" points=\"1299.15,-479.37 1295.85,-469.3 1292.15,-479.23 1299.15,-479.37\"/>\n</g>\n<!-- 66 -->\n<g id=\"node67\" class=\"node\">\n<title>66</title>\n<polygon fill=\"none\" stroke=\"black\" points=\"1241,-357.5 1146,-357.5 1146,-304.5 1241,-304.5 1241,-357.5\"/>\n<text text-anchor=\"middle\" x=\"1193.5\" y=\"-342.3\" font-family=\"Helvetica,sans-Serif\" font-size=\"14.00\">gini = 0.5</text>\n<text text-anchor=\"middle\" x=\"1193.5\" y=\"-327.3\" font-family=\"Helvetica,sans-Serif\" font-size=\"14.00\">samples = 2</text>\n<text text-anchor=\"middle\" x=\"1193.5\" y=\"-312.3\" font-family=\"Helvetica,sans-Serif\" font-size=\"14.00\">value = [1, 1]</text>\n</g>\n<!-- 65&#45;&gt;66 -->\n<g id=\"edge66\" class=\"edge\">\n<title>65&#45;&gt;66</title>\n<path fill=\"none\" stroke=\"black\" d=\"M1263.06,-400.88C1251.4,-389.34 1238.32,-376.39 1226.68,-364.86\"/>\n<polygon fill=\"black\" stroke=\"black\" points=\"1228.84,-362.07 1219.27,-357.52 1223.91,-367.04 1228.84,-362.07\"/>\n</g>\n<!-- 67 -->\n<g id=\"node68\" class=\"node\">\n<title>67</title>\n<polygon fill=\"none\" stroke=\"black\" points=\"1354,-357.5 1259,-357.5 1259,-304.5 1354,-304.5 1354,-357.5\"/>\n<text text-anchor=\"middle\" x=\"1306.5\" y=\"-342.3\" font-family=\"Helvetica,sans-Serif\" font-size=\"14.00\">gini = 0.5</text>\n<text text-anchor=\"middle\" x=\"1306.5\" y=\"-327.3\" font-family=\"Helvetica,sans-Serif\" font-size=\"14.00\">samples = 2</text>\n<text text-anchor=\"middle\" x=\"1306.5\" y=\"-312.3\" font-family=\"Helvetica,sans-Serif\" font-size=\"14.00\">value = [1, 1]</text>\n</g>\n<!-- 65&#45;&gt;67 -->\n<g id=\"edge67\" class=\"edge\">\n<title>65&#45;&gt;67</title>\n<path fill=\"none\" stroke=\"black\" d=\"M1299.75,-400.88C1300.79,-390.22 1301.96,-378.35 1303.02,-367.52\"/>\n<polygon fill=\"black\" stroke=\"black\" points=\"1306.51,-367.81 1304,-357.52 1299.54,-367.13 1306.51,-367.81\"/>\n</g>\n<!-- 69 -->\n<g id=\"node70\" class=\"node\">\n<title>69</title>\n<polygon fill=\"none\" stroke=\"black\" points=\"1292.5,-1093 1190.5,-1093 1190.5,-1025 1292.5,-1025 1292.5,-1093\"/>\n<text text-anchor=\"middle\" x=\"1241.5\" y=\"-1077.8\" font-family=\"Helvetica,sans-Serif\" font-size=\"14.00\">Age &lt;= 60.5</text>\n<text text-anchor=\"middle\" x=\"1241.5\" y=\"-1062.8\" font-family=\"Helvetica,sans-Serif\" font-size=\"14.00\">gini = 0.172</text>\n<text text-anchor=\"middle\" x=\"1241.5\" y=\"-1047.8\" font-family=\"Helvetica,sans-Serif\" font-size=\"14.00\">samples = 21</text>\n<text text-anchor=\"middle\" x=\"1241.5\" y=\"-1032.8\" font-family=\"Helvetica,sans-Serif\" font-size=\"14.00\">value = [19, 2]</text>\n</g>\n<!-- 68&#45;&gt;69 -->\n<g id=\"edge69\" class=\"edge\">\n<title>68&#45;&gt;69</title>\n<path fill=\"none\" stroke=\"black\" d=\"M1280.67,-1128.88C1275.81,-1120.33 1270.51,-1111.01 1265.42,-1102.07\"/>\n<polygon fill=\"black\" stroke=\"black\" points=\"1268.42,-1100.26 1260.43,-1093.3 1262.34,-1103.72 1268.42,-1100.26\"/>\n</g>\n<!-- 78 -->\n<g id=\"node79\" class=\"node\">\n<title>78</title>\n<polygon fill=\"none\" stroke=\"black\" points=\"1406,-1085.5 1311,-1085.5 1311,-1032.5 1406,-1032.5 1406,-1085.5\"/>\n<text text-anchor=\"middle\" x=\"1358.5\" y=\"-1070.3\" font-family=\"Helvetica,sans-Serif\" font-size=\"14.00\">gini = 0.0</text>\n<text text-anchor=\"middle\" x=\"1358.5\" y=\"-1055.3\" font-family=\"Helvetica,sans-Serif\" font-size=\"14.00\">samples = 1</text>\n<text text-anchor=\"middle\" x=\"1358.5\" y=\"-1040.3\" font-family=\"Helvetica,sans-Serif\" font-size=\"14.00\">value = [0, 1]</text>\n</g>\n<!-- 68&#45;&gt;78 -->\n<g id=\"edge78\" class=\"edge\">\n<title>68&#45;&gt;78</title>\n<path fill=\"none\" stroke=\"black\" d=\"M1318.66,-1128.88C1325.08,-1117.78 1332.26,-1105.37 1338.73,-1094.18\"/>\n<polygon fill=\"black\" stroke=\"black\" points=\"1341.76,-1095.93 1343.74,-1085.52 1335.7,-1092.42 1341.76,-1095.93\"/>\n</g>\n<!-- 70 -->\n<g id=\"node71\" class=\"node\">\n<title>70</title>\n<polygon fill=\"none\" stroke=\"black\" points=\"1231.5,-989 1133.5,-989 1133.5,-921 1231.5,-921 1231.5,-989\"/>\n<text text-anchor=\"middle\" x=\"1182.5\" y=\"-973.8\" font-family=\"Helvetica,sans-Serif\" font-size=\"14.00\">Age &lt;= 59.0</text>\n<text text-anchor=\"middle\" x=\"1182.5\" y=\"-958.8\" font-family=\"Helvetica,sans-Serif\" font-size=\"14.00\">gini = 0.32</text>\n<text text-anchor=\"middle\" x=\"1182.5\" y=\"-943.8\" font-family=\"Helvetica,sans-Serif\" font-size=\"14.00\">samples = 10</text>\n<text text-anchor=\"middle\" x=\"1182.5\" y=\"-928.8\" font-family=\"Helvetica,sans-Serif\" font-size=\"14.00\">value = [8, 2]</text>\n</g>\n<!-- 69&#45;&gt;70 -->\n<g id=\"edge70\" class=\"edge\">\n<title>69&#45;&gt;70</title>\n<path fill=\"none\" stroke=\"black\" d=\"M1222.34,-1024.88C1217.4,-1016.33 1212.01,-1007.01 1206.84,-998.07\"/>\n<polygon fill=\"black\" stroke=\"black\" points=\"1209.8,-996.2 1201.76,-989.3 1203.74,-999.71 1209.8,-996.2\"/>\n</g>\n<!-- 77 -->\n<g id=\"node78\" class=\"node\">\n<title>77</title>\n<polygon fill=\"none\" stroke=\"black\" points=\"1351.5,-981.5 1249.5,-981.5 1249.5,-928.5 1351.5,-928.5 1351.5,-981.5\"/>\n<text text-anchor=\"middle\" x=\"1300.5\" y=\"-966.3\" font-family=\"Helvetica,sans-Serif\" font-size=\"14.00\">gini = 0.0</text>\n<text text-anchor=\"middle\" x=\"1300.5\" y=\"-951.3\" font-family=\"Helvetica,sans-Serif\" font-size=\"14.00\">samples = 11</text>\n<text text-anchor=\"middle\" x=\"1300.5\" y=\"-936.3\" font-family=\"Helvetica,sans-Serif\" font-size=\"14.00\">value = [11, 0]</text>\n</g>\n<!-- 69&#45;&gt;77 -->\n<g id=\"edge77\" class=\"edge\">\n<title>69&#45;&gt;77</title>\n<path fill=\"none\" stroke=\"black\" d=\"M1260.66,-1024.88C1267.08,-1013.78 1274.26,-1001.37 1280.73,-990.18\"/>\n<polygon fill=\"black\" stroke=\"black\" points=\"1283.76,-991.93 1285.74,-981.52 1277.7,-988.42 1283.76,-991.93\"/>\n</g>\n<!-- 71 -->\n<g id=\"node72\" class=\"node\">\n<title>71</title>\n<polygon fill=\"none\" stroke=\"black\" points=\"1232,-885 1137,-885 1137,-817 1232,-817 1232,-885\"/>\n<text text-anchor=\"middle\" x=\"1184.5\" y=\"-869.8\" font-family=\"Helvetica,sans-Serif\" font-size=\"14.00\">Age &lt;= 55.5</text>\n<text text-anchor=\"middle\" x=\"1184.5\" y=\"-854.8\" font-family=\"Helvetica,sans-Serif\" font-size=\"14.00\">gini = 0.219</text>\n<text text-anchor=\"middle\" x=\"1184.5\" y=\"-839.8\" font-family=\"Helvetica,sans-Serif\" font-size=\"14.00\">samples = 8</text>\n<text text-anchor=\"middle\" x=\"1184.5\" y=\"-824.8\" font-family=\"Helvetica,sans-Serif\" font-size=\"14.00\">value = [7, 1]</text>\n</g>\n<!-- 70&#45;&gt;71 -->\n<g id=\"edge71\" class=\"edge\">\n<title>70&#45;&gt;71</title>\n<path fill=\"none\" stroke=\"black\" d=\"M1183.15,-920.88C1183.31,-912.78 1183.48,-903.98 1183.65,-895.47\"/>\n<polygon fill=\"black\" stroke=\"black\" points=\"1187.15,-895.37 1183.85,-885.3 1180.15,-895.23 1187.15,-895.37\"/>\n</g>\n<!-- 76 -->\n<g id=\"node77\" class=\"node\">\n<title>76</title>\n<polygon fill=\"none\" stroke=\"black\" points=\"1345,-877.5 1250,-877.5 1250,-824.5 1345,-824.5 1345,-877.5\"/>\n<text text-anchor=\"middle\" x=\"1297.5\" y=\"-862.3\" font-family=\"Helvetica,sans-Serif\" font-size=\"14.00\">gini = 0.5</text>\n<text text-anchor=\"middle\" x=\"1297.5\" y=\"-847.3\" font-family=\"Helvetica,sans-Serif\" font-size=\"14.00\">samples = 2</text>\n<text text-anchor=\"middle\" x=\"1297.5\" y=\"-832.3\" font-family=\"Helvetica,sans-Serif\" font-size=\"14.00\">value = [1, 1]</text>\n</g>\n<!-- 70&#45;&gt;76 -->\n<g id=\"edge76\" class=\"edge\">\n<title>70&#45;&gt;76</title>\n<path fill=\"none\" stroke=\"black\" d=\"M1219.84,-920.88C1233.1,-909.12 1248.01,-895.89 1261.19,-884.2\"/>\n<polygon fill=\"black\" stroke=\"black\" points=\"1263.57,-886.77 1268.73,-877.52 1258.92,-881.54 1263.57,-886.77\"/>\n</g>\n<!-- 72 -->\n<g id=\"node73\" class=\"node\">\n<title>72</title>\n<polygon fill=\"none\" stroke=\"black\" points=\"1233,-773.5 1138,-773.5 1138,-720.5 1233,-720.5 1233,-773.5\"/>\n<text text-anchor=\"middle\" x=\"1185.5\" y=\"-758.3\" font-family=\"Helvetica,sans-Serif\" font-size=\"14.00\">gini = 0.0</text>\n<text text-anchor=\"middle\" x=\"1185.5\" y=\"-743.3\" font-family=\"Helvetica,sans-Serif\" font-size=\"14.00\">samples = 3</text>\n<text text-anchor=\"middle\" x=\"1185.5\" y=\"-728.3\" font-family=\"Helvetica,sans-Serif\" font-size=\"14.00\">value = [3, 0]</text>\n</g>\n<!-- 71&#45;&gt;72 -->\n<g id=\"edge72\" class=\"edge\">\n<title>71&#45;&gt;72</title>\n<path fill=\"none\" stroke=\"black\" d=\"M1184.82,-816.88C1184.93,-806.33 1185.04,-794.6 1185.15,-783.85\"/>\n<polygon fill=\"black\" stroke=\"black\" points=\"1188.65,-783.55 1185.25,-773.52 1181.65,-783.49 1188.65,-783.55\"/>\n</g>\n<!-- 73 -->\n<g id=\"node74\" class=\"node\">\n<title>73</title>\n<polygon fill=\"none\" stroke=\"black\" points=\"1348,-781 1253,-781 1253,-713 1348,-713 1348,-781\"/>\n<text text-anchor=\"middle\" x=\"1300.5\" y=\"-765.8\" font-family=\"Helvetica,sans-Serif\" font-size=\"14.00\">Age &lt;= 57.0</text>\n<text text-anchor=\"middle\" x=\"1300.5\" y=\"-750.8\" font-family=\"Helvetica,sans-Serif\" font-size=\"14.00\">gini = 0.32</text>\n<text text-anchor=\"middle\" x=\"1300.5\" y=\"-735.8\" font-family=\"Helvetica,sans-Serif\" font-size=\"14.00\">samples = 5</text>\n<text text-anchor=\"middle\" x=\"1300.5\" y=\"-720.8\" font-family=\"Helvetica,sans-Serif\" font-size=\"14.00\">value = [4, 1]</text>\n</g>\n<!-- 71&#45;&gt;73 -->\n<g id=\"edge73\" class=\"edge\">\n<title>71&#45;&gt;73</title>\n<path fill=\"none\" stroke=\"black\" d=\"M1222.16,-816.88C1232.6,-807.71 1244.04,-797.65 1254.87,-788.12\"/>\n<polygon fill=\"black\" stroke=\"black\" points=\"1257.43,-790.53 1262.63,-781.3 1252.81,-785.27 1257.43,-790.53\"/>\n</g>\n<!-- 74 -->\n<g id=\"node75\" class=\"node\">\n<title>74</title>\n<polygon fill=\"none\" stroke=\"black\" points=\"1348,-669.5 1253,-669.5 1253,-616.5 1348,-616.5 1348,-669.5\"/>\n<text text-anchor=\"middle\" x=\"1300.5\" y=\"-654.3\" font-family=\"Helvetica,sans-Serif\" font-size=\"14.00\">gini = 0.444</text>\n<text text-anchor=\"middle\" x=\"1300.5\" y=\"-639.3\" font-family=\"Helvetica,sans-Serif\" font-size=\"14.00\">samples = 3</text>\n<text text-anchor=\"middle\" x=\"1300.5\" y=\"-624.3\" font-family=\"Helvetica,sans-Serif\" font-size=\"14.00\">value = [2, 1]</text>\n</g>\n<!-- 73&#45;&gt;74 -->\n<g id=\"edge74\" class=\"edge\">\n<title>73&#45;&gt;74</title>\n<path fill=\"none\" stroke=\"black\" d=\"M1300.5,-712.88C1300.5,-702.33 1300.5,-690.6 1300.5,-679.85\"/>\n<polygon fill=\"black\" stroke=\"black\" points=\"1304,-679.52 1300.5,-669.52 1297,-679.52 1304,-679.52\"/>\n</g>\n<!-- 75 -->\n<g id=\"node76\" class=\"node\">\n<title>75</title>\n<polygon fill=\"none\" stroke=\"black\" points=\"1461,-669.5 1366,-669.5 1366,-616.5 1461,-616.5 1461,-669.5\"/>\n<text text-anchor=\"middle\" x=\"1413.5\" y=\"-654.3\" font-family=\"Helvetica,sans-Serif\" font-size=\"14.00\">gini = 0.0</text>\n<text text-anchor=\"middle\" x=\"1413.5\" y=\"-639.3\" font-family=\"Helvetica,sans-Serif\" font-size=\"14.00\">samples = 2</text>\n<text text-anchor=\"middle\" x=\"1413.5\" y=\"-624.3\" font-family=\"Helvetica,sans-Serif\" font-size=\"14.00\">value = [2, 0]</text>\n</g>\n<!-- 73&#45;&gt;75 -->\n<g id=\"edge75\" class=\"edge\">\n<title>73&#45;&gt;75</title>\n<path fill=\"none\" stroke=\"black\" d=\"M1337.19,-712.88C1350.1,-701.23 1364.6,-688.14 1377.46,-676.53\"/>\n<polygon fill=\"black\" stroke=\"black\" points=\"1380.15,-678.82 1385.23,-669.52 1375.46,-673.62 1380.15,-678.82\"/>\n</g>\n<!-- 80 -->\n<g id=\"node81\" class=\"node\">\n<title>80</title>\n<polygon fill=\"none\" stroke=\"black\" points=\"1639.5,-1197 1541.5,-1197 1541.5,-1129 1639.5,-1129 1639.5,-1197\"/>\n<text text-anchor=\"middle\" x=\"1590.5\" y=\"-1181.8\" font-family=\"Helvetica,sans-Serif\" font-size=\"14.00\">Age &lt;= 11.5</text>\n<text text-anchor=\"middle\" x=\"1590.5\" y=\"-1166.8\" font-family=\"Helvetica,sans-Serif\" font-size=\"14.00\">gini = 0.444</text>\n<text text-anchor=\"middle\" x=\"1590.5\" y=\"-1151.8\" font-family=\"Helvetica,sans-Serif\" font-size=\"14.00\">samples = 12</text>\n<text text-anchor=\"middle\" x=\"1590.5\" y=\"-1136.8\" font-family=\"Helvetica,sans-Serif\" font-size=\"14.00\">value = [8, 4]</text>\n</g>\n<!-- 79&#45;&gt;80 -->\n<g id=\"edge80\" class=\"edge\">\n<title>79&#45;&gt;80</title>\n<path fill=\"none\" stroke=\"black\" d=\"M1590.5,-1232.88C1590.5,-1224.78 1590.5,-1215.98 1590.5,-1207.47\"/>\n<polygon fill=\"black\" stroke=\"black\" points=\"1594,-1207.3 1590.5,-1197.3 1587,-1207.3 1594,-1207.3\"/>\n</g>\n<!-- 89 -->\n<g id=\"node90\" class=\"node\">\n<title>89</title>\n<polygon fill=\"none\" stroke=\"black\" points=\"2069,-1197 1952,-1197 1952,-1129 2069,-1129 2069,-1197\"/>\n<text text-anchor=\"middle\" x=\"2010.5\" y=\"-1181.8\" font-family=\"Helvetica,sans-Serif\" font-size=\"14.00\">Age &lt;= 32.25</text>\n<text text-anchor=\"middle\" x=\"2010.5\" y=\"-1166.8\" font-family=\"Helvetica,sans-Serif\" font-size=\"14.00\">gini = 0.196</text>\n<text text-anchor=\"middle\" x=\"2010.5\" y=\"-1151.8\" font-family=\"Helvetica,sans-Serif\" font-size=\"14.00\">samples = 318</text>\n<text text-anchor=\"middle\" x=\"2010.5\" y=\"-1136.8\" font-family=\"Helvetica,sans-Serif\" font-size=\"14.00\">value = [283, 35]</text>\n</g>\n<!-- 79&#45;&gt;89 -->\n<g id=\"edge89\" class=\"edge\">\n<title>79&#45;&gt;89</title>\n<path fill=\"none\" stroke=\"black\" d=\"M1649.34,-1251.71C1726.09,-1233.07 1860.15,-1200.51 1941.57,-1180.74\"/>\n<polygon fill=\"black\" stroke=\"black\" points=\"1942.83,-1184.04 1951.72,-1178.28 1941.18,-1177.23 1942.83,-1184.04\"/>\n</g>\n<!-- 81 -->\n<g id=\"node82\" class=\"node\">\n<title>81</title>\n<polygon fill=\"none\" stroke=\"black\" points=\"1582,-1093 1483,-1093 1483,-1025 1582,-1025 1582,-1093\"/>\n<text text-anchor=\"middle\" x=\"1532.5\" y=\"-1077.8\" font-family=\"Helvetica,sans-Serif\" font-size=\"14.00\">Pclass &lt;= 2.5</text>\n<text text-anchor=\"middle\" x=\"1532.5\" y=\"-1062.8\" font-family=\"Helvetica,sans-Serif\" font-size=\"14.00\">gini = 0.397</text>\n<text text-anchor=\"middle\" x=\"1532.5\" y=\"-1047.8\" font-family=\"Helvetica,sans-Serif\" font-size=\"14.00\">samples = 11</text>\n<text text-anchor=\"middle\" x=\"1532.5\" y=\"-1032.8\" font-family=\"Helvetica,sans-Serif\" font-size=\"14.00\">value = [8, 3]</text>\n</g>\n<!-- 80&#45;&gt;81 -->\n<g id=\"edge81\" class=\"edge\">\n<title>80&#45;&gt;81</title>\n<path fill=\"none\" stroke=\"black\" d=\"M1571.67,-1128.88C1566.81,-1120.33 1561.51,-1111.01 1556.42,-1102.07\"/>\n<polygon fill=\"black\" stroke=\"black\" points=\"1559.42,-1100.26 1551.43,-1093.3 1553.34,-1103.72 1559.42,-1100.26\"/>\n</g>\n<!-- 88 -->\n<g id=\"node89\" class=\"node\">\n<title>88</title>\n<polygon fill=\"none\" stroke=\"black\" points=\"1695,-1085.5 1600,-1085.5 1600,-1032.5 1695,-1032.5 1695,-1085.5\"/>\n<text text-anchor=\"middle\" x=\"1647.5\" y=\"-1070.3\" font-family=\"Helvetica,sans-Serif\" font-size=\"14.00\">gini = 0.0</text>\n<text text-anchor=\"middle\" x=\"1647.5\" y=\"-1055.3\" font-family=\"Helvetica,sans-Serif\" font-size=\"14.00\">samples = 1</text>\n<text text-anchor=\"middle\" x=\"1647.5\" y=\"-1040.3\" font-family=\"Helvetica,sans-Serif\" font-size=\"14.00\">value = [0, 1]</text>\n</g>\n<!-- 80&#45;&gt;88 -->\n<g id=\"edge88\" class=\"edge\">\n<title>80&#45;&gt;88</title>\n<path fill=\"none\" stroke=\"black\" d=\"M1609.01,-1128.88C1615.15,-1117.89 1622.01,-1105.62 1628.21,-1094.52\"/>\n<polygon fill=\"black\" stroke=\"black\" points=\"1631.42,-1095.96 1633.24,-1085.52 1625.31,-1092.54 1631.42,-1095.96\"/>\n</g>\n<!-- 82 -->\n<g id=\"node83\" class=\"node\">\n<title>82</title>\n<polygon fill=\"none\" stroke=\"black\" points=\"1465,-981.5 1370,-981.5 1370,-928.5 1465,-928.5 1465,-981.5\"/>\n<text text-anchor=\"middle\" x=\"1417.5\" y=\"-966.3\" font-family=\"Helvetica,sans-Serif\" font-size=\"14.00\">gini = 0.0</text>\n<text text-anchor=\"middle\" x=\"1417.5\" y=\"-951.3\" font-family=\"Helvetica,sans-Serif\" font-size=\"14.00\">samples = 1</text>\n<text text-anchor=\"middle\" x=\"1417.5\" y=\"-936.3\" font-family=\"Helvetica,sans-Serif\" font-size=\"14.00\">value = [0, 1]</text>\n</g>\n<!-- 81&#45;&gt;82 -->\n<g id=\"edge82\" class=\"edge\">\n<title>81&#45;&gt;82</title>\n<path fill=\"none\" stroke=\"black\" d=\"M1495.16,-1024.88C1481.9,-1013.12 1466.99,-999.89 1453.81,-988.2\"/>\n<polygon fill=\"black\" stroke=\"black\" points=\"1456.08,-985.54 1446.27,-981.52 1451.43,-990.77 1456.08,-985.54\"/>\n</g>\n<!-- 83 -->\n<g id=\"node84\" class=\"node\">\n<title>83</title>\n<polygon fill=\"none\" stroke=\"black\" points=\"1581.5,-989 1483.5,-989 1483.5,-921 1581.5,-921 1581.5,-989\"/>\n<text text-anchor=\"middle\" x=\"1532.5\" y=\"-973.8\" font-family=\"Helvetica,sans-Serif\" font-size=\"14.00\">Age &lt;= 8.5</text>\n<text text-anchor=\"middle\" x=\"1532.5\" y=\"-958.8\" font-family=\"Helvetica,sans-Serif\" font-size=\"14.00\">gini = 0.32</text>\n<text text-anchor=\"middle\" x=\"1532.5\" y=\"-943.8\" font-family=\"Helvetica,sans-Serif\" font-size=\"14.00\">samples = 10</text>\n<text text-anchor=\"middle\" x=\"1532.5\" y=\"-928.8\" font-family=\"Helvetica,sans-Serif\" font-size=\"14.00\">value = [8, 2]</text>\n</g>\n<!-- 81&#45;&gt;83 -->\n<g id=\"edge83\" class=\"edge\">\n<title>81&#45;&gt;83</title>\n<path fill=\"none\" stroke=\"black\" d=\"M1532.5,-1024.88C1532.5,-1016.78 1532.5,-1007.98 1532.5,-999.47\"/>\n<polygon fill=\"black\" stroke=\"black\" points=\"1536,-999.3 1532.5,-989.3 1529,-999.3 1536,-999.3\"/>\n</g>\n<!-- 84 -->\n<g id=\"node85\" class=\"node\">\n<title>84</title>\n<polygon fill=\"none\" stroke=\"black\" points=\"1466,-877.5 1371,-877.5 1371,-824.5 1466,-824.5 1466,-877.5\"/>\n<text text-anchor=\"middle\" x=\"1418.5\" y=\"-862.3\" font-family=\"Helvetica,sans-Serif\" font-size=\"14.00\">gini = 0.0</text>\n<text text-anchor=\"middle\" x=\"1418.5\" y=\"-847.3\" font-family=\"Helvetica,sans-Serif\" font-size=\"14.00\">samples = 3</text>\n<text text-anchor=\"middle\" x=\"1418.5\" y=\"-832.3\" font-family=\"Helvetica,sans-Serif\" font-size=\"14.00\">value = [3, 0]</text>\n</g>\n<!-- 83&#45;&gt;84 -->\n<g id=\"edge84\" class=\"edge\">\n<title>83&#45;&gt;84</title>\n<path fill=\"none\" stroke=\"black\" d=\"M1495.49,-920.88C1482.34,-909.12 1467.56,-895.89 1454.49,-884.2\"/>\n<polygon fill=\"black\" stroke=\"black\" points=\"1456.81,-881.58 1447.02,-877.52 1452.14,-886.8 1456.81,-881.58\"/>\n</g>\n<!-- 85 -->\n<g id=\"node86\" class=\"node\">\n<title>85</title>\n<polygon fill=\"none\" stroke=\"black\" points=\"1579,-885 1484,-885 1484,-817 1579,-817 1579,-885\"/>\n<text text-anchor=\"middle\" x=\"1531.5\" y=\"-869.8\" font-family=\"Helvetica,sans-Serif\" font-size=\"14.00\">Age &lt;= 9.5</text>\n<text text-anchor=\"middle\" x=\"1531.5\" y=\"-854.8\" font-family=\"Helvetica,sans-Serif\" font-size=\"14.00\">gini = 0.408</text>\n<text text-anchor=\"middle\" x=\"1531.5\" y=\"-839.8\" font-family=\"Helvetica,sans-Serif\" font-size=\"14.00\">samples = 7</text>\n<text text-anchor=\"middle\" x=\"1531.5\" y=\"-824.8\" font-family=\"Helvetica,sans-Serif\" font-size=\"14.00\">value = [5, 2]</text>\n</g>\n<!-- 83&#45;&gt;85 -->\n<g id=\"edge85\" class=\"edge\">\n<title>83&#45;&gt;85</title>\n<path fill=\"none\" stroke=\"black\" d=\"M1532.18,-920.88C1532.1,-912.78 1532.01,-903.98 1531.93,-895.47\"/>\n<polygon fill=\"black\" stroke=\"black\" points=\"1535.42,-895.26 1531.83,-885.3 1528.42,-895.33 1535.42,-895.26\"/>\n</g>\n<!-- 86 -->\n<g id=\"node87\" class=\"node\">\n<title>86</title>\n<polygon fill=\"none\" stroke=\"black\" points=\"1465,-773.5 1370,-773.5 1370,-720.5 1465,-720.5 1465,-773.5\"/>\n<text text-anchor=\"middle\" x=\"1417.5\" y=\"-758.3\" font-family=\"Helvetica,sans-Serif\" font-size=\"14.00\">gini = 0.5</text>\n<text text-anchor=\"middle\" x=\"1417.5\" y=\"-743.3\" font-family=\"Helvetica,sans-Serif\" font-size=\"14.00\">samples = 4</text>\n<text text-anchor=\"middle\" x=\"1417.5\" y=\"-728.3\" font-family=\"Helvetica,sans-Serif\" font-size=\"14.00\">value = [2, 2]</text>\n</g>\n<!-- 85&#45;&gt;86 -->\n<g id=\"edge86\" class=\"edge\">\n<title>85&#45;&gt;86</title>\n<path fill=\"none\" stroke=\"black\" d=\"M1494.49,-816.88C1481.34,-805.12 1466.56,-791.89 1453.49,-780.2\"/>\n<polygon fill=\"black\" stroke=\"black\" points=\"1455.81,-777.58 1446.02,-773.52 1451.14,-782.8 1455.81,-777.58\"/>\n</g>\n<!-- 87 -->\n<g id=\"node88\" class=\"node\">\n<title>87</title>\n<polygon fill=\"none\" stroke=\"black\" points=\"1578,-773.5 1483,-773.5 1483,-720.5 1578,-720.5 1578,-773.5\"/>\n<text text-anchor=\"middle\" x=\"1530.5\" y=\"-758.3\" font-family=\"Helvetica,sans-Serif\" font-size=\"14.00\">gini = 0.0</text>\n<text text-anchor=\"middle\" x=\"1530.5\" y=\"-743.3\" font-family=\"Helvetica,sans-Serif\" font-size=\"14.00\">samples = 3</text>\n<text text-anchor=\"middle\" x=\"1530.5\" y=\"-728.3\" font-family=\"Helvetica,sans-Serif\" font-size=\"14.00\">value = [3, 0]</text>\n</g>\n<!-- 85&#45;&gt;87 -->\n<g id=\"edge87\" class=\"edge\">\n<title>85&#45;&gt;87</title>\n<path fill=\"none\" stroke=\"black\" d=\"M1531.18,-816.88C1531.07,-806.33 1530.96,-794.6 1530.85,-783.85\"/>\n<polygon fill=\"black\" stroke=\"black\" points=\"1534.35,-783.49 1530.75,-773.52 1527.35,-783.55 1534.35,-783.49\"/>\n</g>\n<!-- 90 -->\n<g id=\"node91\" class=\"node\">\n<title>90</title>\n<polygon fill=\"none\" stroke=\"black\" points=\"2069,-1093 1952,-1093 1952,-1025 2069,-1025 2069,-1093\"/>\n<text text-anchor=\"middle\" x=\"2010.5\" y=\"-1077.8\" font-family=\"Helvetica,sans-Serif\" font-size=\"14.00\">Age &lt;= 30.75</text>\n<text text-anchor=\"middle\" x=\"2010.5\" y=\"-1062.8\" font-family=\"Helvetica,sans-Serif\" font-size=\"14.00\">gini = 0.235</text>\n<text text-anchor=\"middle\" x=\"2010.5\" y=\"-1047.8\" font-family=\"Helvetica,sans-Serif\" font-size=\"14.00\">samples = 213</text>\n<text text-anchor=\"middle\" x=\"2010.5\" y=\"-1032.8\" font-family=\"Helvetica,sans-Serif\" font-size=\"14.00\">value = [184, 29]</text>\n</g>\n<!-- 89&#45;&gt;90 -->\n<g id=\"edge90\" class=\"edge\">\n<title>89&#45;&gt;90</title>\n<path fill=\"none\" stroke=\"black\" d=\"M2010.5,-1128.88C2010.5,-1120.78 2010.5,-1111.98 2010.5,-1103.47\"/>\n<polygon fill=\"black\" stroke=\"black\" points=\"2014,-1103.3 2010.5,-1093.3 2007,-1103.3 2014,-1103.3\"/>\n</g>\n<!-- 141 -->\n<g id=\"node142\" class=\"node\">\n<title>141</title>\n<polygon fill=\"none\" stroke=\"black\" points=\"2723.5,-1093 2617.5,-1093 2617.5,-1025 2723.5,-1025 2723.5,-1093\"/>\n<text text-anchor=\"middle\" x=\"2670.5\" y=\"-1077.8\" font-family=\"Helvetica,sans-Serif\" font-size=\"14.00\">Age &lt;= 38.5</text>\n<text text-anchor=\"middle\" x=\"2670.5\" y=\"-1062.8\" font-family=\"Helvetica,sans-Serif\" font-size=\"14.00\">gini = 0.108</text>\n<text text-anchor=\"middle\" x=\"2670.5\" y=\"-1047.8\" font-family=\"Helvetica,sans-Serif\" font-size=\"14.00\">samples = 105</text>\n<text text-anchor=\"middle\" x=\"2670.5\" y=\"-1032.8\" font-family=\"Helvetica,sans-Serif\" font-size=\"14.00\">value = [99, 6]</text>\n</g>\n<!-- 89&#45;&gt;141 -->\n<g id=\"edge141\" class=\"edge\">\n<title>89&#45;&gt;141</title>\n<path fill=\"none\" stroke=\"black\" d=\"M2069.07,-1152.95C2192.7,-1133.84 2479.42,-1089.53 2607.14,-1069.79\"/>\n<polygon fill=\"black\" stroke=\"black\" points=\"2607.82,-1073.23 2617.16,-1068.24 2606.75,-1066.31 2607.82,-1073.23\"/>\n</g>\n<!-- 91 -->\n<g id=\"node92\" class=\"node\">\n<title>91</title>\n<polygon fill=\"none\" stroke=\"black\" points=\"2008,-989 1891,-989 1891,-921 2008,-921 2008,-989\"/>\n<text text-anchor=\"middle\" x=\"1949.5\" y=\"-973.8\" font-family=\"Helvetica,sans-Serif\" font-size=\"14.00\">Pclass &lt;= 2.5</text>\n<text text-anchor=\"middle\" x=\"1949.5\" y=\"-958.8\" font-family=\"Helvetica,sans-Serif\" font-size=\"14.00\">gini = 0.195</text>\n<text text-anchor=\"middle\" x=\"1949.5\" y=\"-943.8\" font-family=\"Helvetica,sans-Serif\" font-size=\"14.00\">samples = 192</text>\n<text text-anchor=\"middle\" x=\"1949.5\" y=\"-928.8\" font-family=\"Helvetica,sans-Serif\" font-size=\"14.00\">value = [171, 21]</text>\n</g>\n<!-- 90&#45;&gt;91 -->\n<g id=\"edge91\" class=\"edge\">\n<title>90&#45;&gt;91</title>\n<path fill=\"none\" stroke=\"black\" d=\"M1990.7,-1024.88C1985.58,-1016.33 1980.01,-1007.01 1974.66,-998.07\"/>\n<polygon fill=\"black\" stroke=\"black\" points=\"1977.55,-996.09 1969.41,-989.3 1971.54,-999.68 1977.55,-996.09\"/>\n</g>\n<!-- 134 -->\n<g id=\"node135\" class=\"node\">\n<title>134</title>\n<polygon fill=\"none\" stroke=\"black\" points=\"2235.5,-989 2133.5,-989 2133.5,-921 2235.5,-921 2235.5,-989\"/>\n<text text-anchor=\"middle\" x=\"2184.5\" y=\"-973.8\" font-family=\"Helvetica,sans-Serif\" font-size=\"14.00\">Pclass &lt;= 2.5</text>\n<text text-anchor=\"middle\" x=\"2184.5\" y=\"-958.8\" font-family=\"Helvetica,sans-Serif\" font-size=\"14.00\">gini = 0.472</text>\n<text text-anchor=\"middle\" x=\"2184.5\" y=\"-943.8\" font-family=\"Helvetica,sans-Serif\" font-size=\"14.00\">samples = 21</text>\n<text text-anchor=\"middle\" x=\"2184.5\" y=\"-928.8\" font-family=\"Helvetica,sans-Serif\" font-size=\"14.00\">value = [13, 8]</text>\n</g>\n<!-- 90&#45;&gt;134 -->\n<g id=\"edge134\" class=\"edge\">\n<title>90&#45;&gt;134</title>\n<path fill=\"none\" stroke=\"black\" d=\"M2066.99,-1024.88C2085.41,-1014.09 2105.92,-1002.07 2124.58,-991.13\"/>\n<polygon fill=\"black\" stroke=\"black\" points=\"2126.43,-994.1 2133.29,-986.02 2122.89,-988.06 2126.43,-994.1\"/>\n</g>\n<!-- 92 -->\n<g id=\"node93\" class=\"node\">\n<title>92</title>\n<polygon fill=\"none\" stroke=\"black\" points=\"1814.5,-885 1712.5,-885 1712.5,-817 1814.5,-817 1814.5,-885\"/>\n<text text-anchor=\"middle\" x=\"1763.5\" y=\"-869.8\" font-family=\"Helvetica,sans-Serif\" font-size=\"14.00\">Age &lt;= 20.0</text>\n<text text-anchor=\"middle\" x=\"1763.5\" y=\"-854.8\" font-family=\"Helvetica,sans-Serif\" font-size=\"14.00\">gini = 0.045</text>\n<text text-anchor=\"middle\" x=\"1763.5\" y=\"-839.8\" font-family=\"Helvetica,sans-Serif\" font-size=\"14.00\">samples = 43</text>\n<text text-anchor=\"middle\" x=\"1763.5\" y=\"-824.8\" font-family=\"Helvetica,sans-Serif\" font-size=\"14.00\">value = [42, 1]</text>\n</g>\n<!-- 91&#45;&gt;92 -->\n<g id=\"edge92\" class=\"edge\">\n<title>91&#45;&gt;92</title>\n<path fill=\"none\" stroke=\"black\" d=\"M1890.9,-921.87C1869.38,-910.06 1844.99,-896.69 1823.35,-884.82\"/>\n<polygon fill=\"black\" stroke=\"black\" points=\"1825.03,-881.75 1814.58,-880.01 1821.67,-887.89 1825.03,-881.75\"/>\n</g>\n<!-- 97 -->\n<g id=\"node98\" class=\"node\">\n<title>97</title>\n<polygon fill=\"none\" stroke=\"black\" points=\"2008,-885 1891,-885 1891,-817 2008,-817 2008,-885\"/>\n<text text-anchor=\"middle\" x=\"1949.5\" y=\"-869.8\" font-family=\"Helvetica,sans-Serif\" font-size=\"14.00\">Age &lt;= 24.75</text>\n<text text-anchor=\"middle\" x=\"1949.5\" y=\"-854.8\" font-family=\"Helvetica,sans-Serif\" font-size=\"14.00\">gini = 0.232</text>\n<text text-anchor=\"middle\" x=\"1949.5\" y=\"-839.8\" font-family=\"Helvetica,sans-Serif\" font-size=\"14.00\">samples = 149</text>\n<text text-anchor=\"middle\" x=\"1949.5\" y=\"-824.8\" font-family=\"Helvetica,sans-Serif\" font-size=\"14.00\">value = [129, 20]</text>\n</g>\n<!-- 91&#45;&gt;97 -->\n<g id=\"edge97\" class=\"edge\">\n<title>91&#45;&gt;97</title>\n<path fill=\"none\" stroke=\"black\" d=\"M1949.5,-920.88C1949.5,-912.78 1949.5,-903.98 1949.5,-895.47\"/>\n<polygon fill=\"black\" stroke=\"black\" points=\"1953,-895.3 1949.5,-885.3 1946,-895.3 1953,-895.3\"/>\n</g>\n<!-- 93 -->\n<g id=\"node94\" class=\"node\">\n<title>93</title>\n<polygon fill=\"none\" stroke=\"black\" points=\"1694.5,-781 1596.5,-781 1596.5,-713 1694.5,-713 1694.5,-781\"/>\n<text text-anchor=\"middle\" x=\"1645.5\" y=\"-765.8\" font-family=\"Helvetica,sans-Serif\" font-size=\"14.00\">Age &lt;= 18.5</text>\n<text text-anchor=\"middle\" x=\"1645.5\" y=\"-750.8\" font-family=\"Helvetica,sans-Serif\" font-size=\"14.00\">gini = 0.18</text>\n<text text-anchor=\"middle\" x=\"1645.5\" y=\"-735.8\" font-family=\"Helvetica,sans-Serif\" font-size=\"14.00\">samples = 10</text>\n<text text-anchor=\"middle\" x=\"1645.5\" y=\"-720.8\" font-family=\"Helvetica,sans-Serif\" font-size=\"14.00\">value = [9, 1]</text>\n</g>\n<!-- 92&#45;&gt;93 -->\n<g id=\"edge93\" class=\"edge\">\n<title>92&#45;&gt;93</title>\n<path fill=\"none\" stroke=\"black\" d=\"M1725.19,-816.88C1714.47,-807.62 1702.71,-797.45 1691.6,-787.85\"/>\n<polygon fill=\"black\" stroke=\"black\" points=\"1693.88,-785.19 1684.02,-781.3 1689.3,-790.49 1693.88,-785.19\"/>\n</g>\n<!-- 96 -->\n<g id=\"node97\" class=\"node\">\n<title>96</title>\n<polygon fill=\"none\" stroke=\"black\" points=\"1814.5,-773.5 1712.5,-773.5 1712.5,-720.5 1814.5,-720.5 1814.5,-773.5\"/>\n<text text-anchor=\"middle\" x=\"1763.5\" y=\"-758.3\" font-family=\"Helvetica,sans-Serif\" font-size=\"14.00\">gini = 0.0</text>\n<text text-anchor=\"middle\" x=\"1763.5\" y=\"-743.3\" font-family=\"Helvetica,sans-Serif\" font-size=\"14.00\">samples = 33</text>\n<text text-anchor=\"middle\" x=\"1763.5\" y=\"-728.3\" font-family=\"Helvetica,sans-Serif\" font-size=\"14.00\">value = [33, 0]</text>\n</g>\n<!-- 92&#45;&gt;96 -->\n<g id=\"edge96\" class=\"edge\">\n<title>92&#45;&gt;96</title>\n<path fill=\"none\" stroke=\"black\" d=\"M1763.5,-816.88C1763.5,-806.33 1763.5,-794.6 1763.5,-783.85\"/>\n<polygon fill=\"black\" stroke=\"black\" points=\"1767,-783.52 1763.5,-773.52 1760,-783.52 1767,-783.52\"/>\n</g>\n<!-- 94 -->\n<g id=\"node95\" class=\"node\">\n<title>94</title>\n<polygon fill=\"none\" stroke=\"black\" points=\"1580,-669.5 1485,-669.5 1485,-616.5 1580,-616.5 1580,-669.5\"/>\n<text text-anchor=\"middle\" x=\"1532.5\" y=\"-654.3\" font-family=\"Helvetica,sans-Serif\" font-size=\"14.00\">gini = 0.0</text>\n<text text-anchor=\"middle\" x=\"1532.5\" y=\"-639.3\" font-family=\"Helvetica,sans-Serif\" font-size=\"14.00\">samples = 6</text>\n<text text-anchor=\"middle\" x=\"1532.5\" y=\"-624.3\" font-family=\"Helvetica,sans-Serif\" font-size=\"14.00\">value = [6, 0]</text>\n</g>\n<!-- 93&#45;&gt;94 -->\n<g id=\"edge94\" class=\"edge\">\n<title>93&#45;&gt;94</title>\n<path fill=\"none\" stroke=\"black\" d=\"M1608.81,-712.88C1595.9,-701.23 1581.4,-688.14 1568.54,-676.53\"/>\n<polygon fill=\"black\" stroke=\"black\" points=\"1570.54,-673.62 1560.77,-669.52 1565.85,-678.82 1570.54,-673.62\"/>\n</g>\n<!-- 95 -->\n<g id=\"node96\" class=\"node\">\n<title>95</title>\n<polygon fill=\"none\" stroke=\"black\" points=\"1693,-669.5 1598,-669.5 1598,-616.5 1693,-616.5 1693,-669.5\"/>\n<text text-anchor=\"middle\" x=\"1645.5\" y=\"-654.3\" font-family=\"Helvetica,sans-Serif\" font-size=\"14.00\">gini = 0.375</text>\n<text text-anchor=\"middle\" x=\"1645.5\" y=\"-639.3\" font-family=\"Helvetica,sans-Serif\" font-size=\"14.00\">samples = 4</text>\n<text text-anchor=\"middle\" x=\"1645.5\" y=\"-624.3\" font-family=\"Helvetica,sans-Serif\" font-size=\"14.00\">value = [3, 1]</text>\n</g>\n<!-- 93&#45;&gt;95 -->\n<g id=\"edge95\" class=\"edge\">\n<title>93&#45;&gt;95</title>\n<path fill=\"none\" stroke=\"black\" d=\"M1645.5,-712.88C1645.5,-702.33 1645.5,-690.6 1645.5,-679.85\"/>\n<polygon fill=\"black\" stroke=\"black\" points=\"1649,-679.52 1645.5,-669.52 1642,-679.52 1649,-679.52\"/>\n</g>\n<!-- 98 -->\n<g id=\"node99\" class=\"node\">\n<title>98</title>\n<polygon fill=\"none\" stroke=\"black\" points=\"1934.5,-781 1832.5,-781 1832.5,-713 1934.5,-713 1934.5,-781\"/>\n<text text-anchor=\"middle\" x=\"1883.5\" y=\"-765.8\" font-family=\"Helvetica,sans-Serif\" font-size=\"14.00\">Age &lt;= 20.25</text>\n<text text-anchor=\"middle\" x=\"1883.5\" y=\"-750.8\" font-family=\"Helvetica,sans-Serif\" font-size=\"14.00\">gini = 0.175</text>\n<text text-anchor=\"middle\" x=\"1883.5\" y=\"-735.8\" font-family=\"Helvetica,sans-Serif\" font-size=\"14.00\">samples = 93</text>\n<text text-anchor=\"middle\" x=\"1883.5\" y=\"-720.8\" font-family=\"Helvetica,sans-Serif\" font-size=\"14.00\">value = [84, 9]</text>\n</g>\n<!-- 97&#45;&gt;98 -->\n<g id=\"edge98\" class=\"edge\">\n<title>97&#45;&gt;98</title>\n<path fill=\"none\" stroke=\"black\" d=\"M1928.07,-816.88C1922.48,-808.24 1916.38,-798.82 1910.54,-789.79\"/>\n<polygon fill=\"black\" stroke=\"black\" points=\"1913.42,-787.79 1905.05,-781.3 1907.54,-791.6 1913.42,-787.79\"/>\n</g>\n<!-- 121 -->\n<g id=\"node122\" class=\"node\">\n<title>121</title>\n<polygon fill=\"none\" stroke=\"black\" points=\"2062.5,-781 1952.5,-781 1952.5,-713 2062.5,-713 2062.5,-781\"/>\n<text text-anchor=\"middle\" x=\"2007.5\" y=\"-765.8\" font-family=\"Helvetica,sans-Serif\" font-size=\"14.00\">Age &lt;= 27.5</text>\n<text text-anchor=\"middle\" x=\"2007.5\" y=\"-750.8\" font-family=\"Helvetica,sans-Serif\" font-size=\"14.00\">gini = 0.316</text>\n<text text-anchor=\"middle\" x=\"2007.5\" y=\"-735.8\" font-family=\"Helvetica,sans-Serif\" font-size=\"14.00\">samples = 56</text>\n<text text-anchor=\"middle\" x=\"2007.5\" y=\"-720.8\" font-family=\"Helvetica,sans-Serif\" font-size=\"14.00\">value = [45, 11]</text>\n</g>\n<!-- 97&#45;&gt;121 -->\n<g id=\"edge121\" class=\"edge\">\n<title>97&#45;&gt;121</title>\n<path fill=\"none\" stroke=\"black\" d=\"M1968.33,-816.88C1973.19,-808.33 1978.49,-799.01 1983.58,-790.07\"/>\n<polygon fill=\"black\" stroke=\"black\" points=\"1986.66,-791.72 1988.57,-781.3 1980.58,-788.26 1986.66,-791.72\"/>\n</g>\n<!-- 99 -->\n<g id=\"node100\" class=\"node\">\n<title>99</title>\n<polygon fill=\"none\" stroke=\"black\" points=\"1813.5,-677 1711.5,-677 1711.5,-609 1813.5,-609 1813.5,-677\"/>\n<text text-anchor=\"middle\" x=\"1762.5\" y=\"-661.8\" font-family=\"Helvetica,sans-Serif\" font-size=\"14.00\">Age &lt;= 19.5</text>\n<text text-anchor=\"middle\" x=\"1762.5\" y=\"-646.8\" font-family=\"Helvetica,sans-Serif\" font-size=\"14.00\">gini = 0.208</text>\n<text text-anchor=\"middle\" x=\"1762.5\" y=\"-631.8\" font-family=\"Helvetica,sans-Serif\" font-size=\"14.00\">samples = 51</text>\n<text text-anchor=\"middle\" x=\"1762.5\" y=\"-616.8\" font-family=\"Helvetica,sans-Serif\" font-size=\"14.00\">value = [45, 6]</text>\n</g>\n<!-- 98&#45;&gt;99 -->\n<g id=\"edge99\" class=\"edge\">\n<title>98&#45;&gt;99</title>\n<path fill=\"none\" stroke=\"black\" d=\"M1844.21,-712.88C1833.23,-703.62 1821.17,-693.45 1809.77,-683.85\"/>\n<polygon fill=\"black\" stroke=\"black\" points=\"1811.9,-681.07 1802,-677.3 1807.39,-686.42 1811.9,-681.07\"/>\n</g>\n<!-- 110 -->\n<g id=\"node111\" class=\"node\">\n<title>110</title>\n<polygon fill=\"none\" stroke=\"black\" points=\"1934.5,-677 1832.5,-677 1832.5,-609 1934.5,-609 1934.5,-677\"/>\n<text text-anchor=\"middle\" x=\"1883.5\" y=\"-661.8\" font-family=\"Helvetica,sans-Serif\" font-size=\"14.00\">Age &lt;= 23.75</text>\n<text text-anchor=\"middle\" x=\"1883.5\" y=\"-646.8\" font-family=\"Helvetica,sans-Serif\" font-size=\"14.00\">gini = 0.133</text>\n<text text-anchor=\"middle\" x=\"1883.5\" y=\"-631.8\" font-family=\"Helvetica,sans-Serif\" font-size=\"14.00\">samples = 42</text>\n<text text-anchor=\"middle\" x=\"1883.5\" y=\"-616.8\" font-family=\"Helvetica,sans-Serif\" font-size=\"14.00\">value = [39, 3]</text>\n</g>\n<!-- 98&#45;&gt;110 -->\n<g id=\"edge110\" class=\"edge\">\n<title>98&#45;&gt;110</title>\n<path fill=\"none\" stroke=\"black\" d=\"M1883.5,-712.88C1883.5,-704.78 1883.5,-695.98 1883.5,-687.47\"/>\n<polygon fill=\"black\" stroke=\"black\" points=\"1887,-687.3 1883.5,-677.3 1880,-687.3 1887,-687.3\"/>\n</g>\n<!-- 100 -->\n<g id=\"node101\" class=\"node\">\n<title>100</title>\n<polygon fill=\"none\" stroke=\"black\" points=\"1595.5,-573 1493.5,-573 1493.5,-505 1595.5,-505 1595.5,-573\"/>\n<text text-anchor=\"middle\" x=\"1544.5\" y=\"-557.8\" font-family=\"Helvetica,sans-Serif\" font-size=\"14.00\">Age &lt;= 15.5</text>\n<text text-anchor=\"middle\" x=\"1544.5\" y=\"-542.8\" font-family=\"Helvetica,sans-Serif\" font-size=\"14.00\">gini = 0.145</text>\n<text text-anchor=\"middle\" x=\"1544.5\" y=\"-527.8\" font-family=\"Helvetica,sans-Serif\" font-size=\"14.00\">samples = 38</text>\n<text text-anchor=\"middle\" x=\"1544.5\" y=\"-512.8\" font-family=\"Helvetica,sans-Serif\" font-size=\"14.00\">value = [35, 3]</text>\n</g>\n<!-- 99&#45;&gt;100 -->\n<g id=\"edge100\" class=\"edge\">\n<title>99&#45;&gt;100</title>\n<path fill=\"none\" stroke=\"black\" d=\"M1711.17,-613.58C1707.92,-611.98 1704.68,-610.44 1701.5,-609 1662.32,-591.24 1648.15,-591.95 1604.98,-572.98\"/>\n<polygon fill=\"black\" stroke=\"black\" points=\"1606.19,-569.69 1595.63,-568.77 1603.31,-576.07 1606.19,-569.69\"/>\n</g>\n<!-- 109 -->\n<g id=\"node110\" class=\"node\">\n<title>109</title>\n<polygon fill=\"none\" stroke=\"black\" points=\"1715.5,-565.5 1613.5,-565.5 1613.5,-512.5 1715.5,-512.5 1715.5,-565.5\"/>\n<text text-anchor=\"middle\" x=\"1664.5\" y=\"-550.3\" font-family=\"Helvetica,sans-Serif\" font-size=\"14.00\">gini = 0.355</text>\n<text text-anchor=\"middle\" x=\"1664.5\" y=\"-535.3\" font-family=\"Helvetica,sans-Serif\" font-size=\"14.00\">samples = 13</text>\n<text text-anchor=\"middle\" x=\"1664.5\" y=\"-520.3\" font-family=\"Helvetica,sans-Serif\" font-size=\"14.00\">value = [10, 3]</text>\n</g>\n<!-- 99&#45;&gt;109 -->\n<g id=\"edge109\" class=\"edge\">\n<title>99&#45;&gt;109</title>\n<path fill=\"none\" stroke=\"black\" d=\"M1730.68,-608.88C1719.59,-597.34 1707.15,-584.39 1696.07,-572.86\"/>\n<polygon fill=\"black\" stroke=\"black\" points=\"1698.47,-570.31 1689.02,-565.52 1693.42,-575.16 1698.47,-570.31\"/>\n</g>\n<!-- 101 -->\n<g id=\"node102\" class=\"node\">\n<title>101</title>\n<polygon fill=\"none\" stroke=\"black\" points=\"1475,-461.5 1380,-461.5 1380,-408.5 1475,-408.5 1475,-461.5\"/>\n<text text-anchor=\"middle\" x=\"1427.5\" y=\"-446.3\" font-family=\"Helvetica,sans-Serif\" font-size=\"14.00\">gini = 0.0</text>\n<text text-anchor=\"middle\" x=\"1427.5\" y=\"-431.3\" font-family=\"Helvetica,sans-Serif\" font-size=\"14.00\">samples = 3</text>\n<text text-anchor=\"middle\" x=\"1427.5\" y=\"-416.3\" font-family=\"Helvetica,sans-Serif\" font-size=\"14.00\">value = [3, 0]</text>\n</g>\n<!-- 100&#45;&gt;101 -->\n<g id=\"edge101\" class=\"edge\">\n<title>100&#45;&gt;101</title>\n<path fill=\"none\" stroke=\"black\" d=\"M1506.51,-504.88C1493.02,-493.12 1477.85,-479.89 1464.44,-468.2\"/>\n<polygon fill=\"black\" stroke=\"black\" points=\"1466.61,-465.45 1456.77,-461.52 1462.01,-470.73 1466.61,-465.45\"/>\n</g>\n<!-- 102 -->\n<g id=\"node103\" class=\"node\">\n<title>102</title>\n<polygon fill=\"none\" stroke=\"black\" points=\"1595.5,-469 1493.5,-469 1493.5,-401 1595.5,-401 1595.5,-469\"/>\n<text text-anchor=\"middle\" x=\"1544.5\" y=\"-453.8\" font-family=\"Helvetica,sans-Serif\" font-size=\"14.00\">Age &lt;= 17.5</text>\n<text text-anchor=\"middle\" x=\"1544.5\" y=\"-438.8\" font-family=\"Helvetica,sans-Serif\" font-size=\"14.00\">gini = 0.157</text>\n<text text-anchor=\"middle\" x=\"1544.5\" y=\"-423.8\" font-family=\"Helvetica,sans-Serif\" font-size=\"14.00\">samples = 35</text>\n<text text-anchor=\"middle\" x=\"1544.5\" y=\"-408.8\" font-family=\"Helvetica,sans-Serif\" font-size=\"14.00\">value = [32, 3]</text>\n</g>\n<!-- 100&#45;&gt;102 -->\n<g id=\"edge102\" class=\"edge\">\n<title>100&#45;&gt;102</title>\n<path fill=\"none\" stroke=\"black\" d=\"M1544.5,-504.88C1544.5,-496.78 1544.5,-487.98 1544.5,-479.47\"/>\n<polygon fill=\"black\" stroke=\"black\" points=\"1548,-479.3 1544.5,-469.3 1541,-479.3 1548,-479.3\"/>\n</g>\n<!-- 103 -->\n<g id=\"node104\" class=\"node\">\n<title>103</title>\n<polygon fill=\"none\" stroke=\"black\" points=\"1478.5,-365 1376.5,-365 1376.5,-297 1478.5,-297 1478.5,-365\"/>\n<text text-anchor=\"middle\" x=\"1427.5\" y=\"-349.8\" font-family=\"Helvetica,sans-Serif\" font-size=\"14.00\">Age &lt;= 16.5</text>\n<text text-anchor=\"middle\" x=\"1427.5\" y=\"-334.8\" font-family=\"Helvetica,sans-Serif\" font-size=\"14.00\">gini = 0.124</text>\n<text text-anchor=\"middle\" x=\"1427.5\" y=\"-319.8\" font-family=\"Helvetica,sans-Serif\" font-size=\"14.00\">samples = 15</text>\n<text text-anchor=\"middle\" x=\"1427.5\" y=\"-304.8\" font-family=\"Helvetica,sans-Serif\" font-size=\"14.00\">value = [14, 1]</text>\n</g>\n<!-- 102&#45;&gt;103 -->\n<g id=\"edge103\" class=\"edge\">\n<title>102&#45;&gt;103</title>\n<path fill=\"none\" stroke=\"black\" d=\"M1506.51,-400.88C1495.99,-391.71 1484.45,-381.65 1473.52,-372.12\"/>\n<polygon fill=\"black\" stroke=\"black\" points=\"1475.53,-369.23 1465.7,-365.3 1470.93,-374.51 1475.53,-369.23\"/>\n</g>\n<!-- 106 -->\n<g id=\"node107\" class=\"node\">\n<title>106</title>\n<polygon fill=\"none\" stroke=\"black\" points=\"1598.5,-365 1496.5,-365 1496.5,-297 1598.5,-297 1598.5,-365\"/>\n<text text-anchor=\"middle\" x=\"1547.5\" y=\"-349.8\" font-family=\"Helvetica,sans-Serif\" font-size=\"14.00\">Age &lt;= 18.5</text>\n<text text-anchor=\"middle\" x=\"1547.5\" y=\"-334.8\" font-family=\"Helvetica,sans-Serif\" font-size=\"14.00\">gini = 0.18</text>\n<text text-anchor=\"middle\" x=\"1547.5\" y=\"-319.8\" font-family=\"Helvetica,sans-Serif\" font-size=\"14.00\">samples = 20</text>\n<text text-anchor=\"middle\" x=\"1547.5\" y=\"-304.8\" font-family=\"Helvetica,sans-Serif\" font-size=\"14.00\">value = [18, 2]</text>\n</g>\n<!-- 102&#45;&gt;106 -->\n<g id=\"edge106\" class=\"edge\">\n<title>102&#45;&gt;106</title>\n<path fill=\"none\" stroke=\"black\" d=\"M1545.47,-400.88C1545.71,-392.78 1545.97,-383.98 1546.22,-375.47\"/>\n<polygon fill=\"black\" stroke=\"black\" points=\"1549.73,-375.4 1546.52,-365.3 1542.73,-375.19 1549.73,-375.4\"/>\n</g>\n<!-- 104 -->\n<g id=\"node105\" class=\"node\">\n<title>104</title>\n<polygon fill=\"none\" stroke=\"black\" points=\"1363,-253.5 1268,-253.5 1268,-200.5 1363,-200.5 1363,-253.5\"/>\n<text text-anchor=\"middle\" x=\"1315.5\" y=\"-238.3\" font-family=\"Helvetica,sans-Serif\" font-size=\"14.00\">gini = 0.198</text>\n<text text-anchor=\"middle\" x=\"1315.5\" y=\"-223.3\" font-family=\"Helvetica,sans-Serif\" font-size=\"14.00\">samples = 9</text>\n<text text-anchor=\"middle\" x=\"1315.5\" y=\"-208.3\" font-family=\"Helvetica,sans-Serif\" font-size=\"14.00\">value = [8, 1]</text>\n</g>\n<!-- 103&#45;&gt;104 -->\n<g id=\"edge104\" class=\"edge\">\n<title>103&#45;&gt;104</title>\n<path fill=\"none\" stroke=\"black\" d=\"M1391.14,-296.88C1378.34,-285.23 1363.97,-272.14 1351.22,-260.53\"/>\n<polygon fill=\"black\" stroke=\"black\" points=\"1353.27,-257.67 1343.52,-253.52 1348.56,-262.84 1353.27,-257.67\"/>\n</g>\n<!-- 105 -->\n<g id=\"node106\" class=\"node\">\n<title>105</title>\n<polygon fill=\"none\" stroke=\"black\" points=\"1476,-253.5 1381,-253.5 1381,-200.5 1476,-200.5 1476,-253.5\"/>\n<text text-anchor=\"middle\" x=\"1428.5\" y=\"-238.3\" font-family=\"Helvetica,sans-Serif\" font-size=\"14.00\">gini = 0.0</text>\n<text text-anchor=\"middle\" x=\"1428.5\" y=\"-223.3\" font-family=\"Helvetica,sans-Serif\" font-size=\"14.00\">samples = 6</text>\n<text text-anchor=\"middle\" x=\"1428.5\" y=\"-208.3\" font-family=\"Helvetica,sans-Serif\" font-size=\"14.00\">value = [6, 0]</text>\n</g>\n<!-- 103&#45;&gt;105 -->\n<g id=\"edge105\" class=\"edge\">\n<title>103&#45;&gt;105</title>\n<path fill=\"none\" stroke=\"black\" d=\"M1427.82,-296.88C1427.93,-286.33 1428.04,-274.6 1428.15,-263.85\"/>\n<polygon fill=\"black\" stroke=\"black\" points=\"1431.65,-263.55 1428.25,-253.52 1424.65,-263.49 1431.65,-263.55\"/>\n</g>\n<!-- 107 -->\n<g id=\"node108\" class=\"node\">\n<title>107</title>\n<polygon fill=\"none\" stroke=\"black\" points=\"1592,-253.5 1497,-253.5 1497,-200.5 1592,-200.5 1592,-253.5\"/>\n<text text-anchor=\"middle\" x=\"1544.5\" y=\"-238.3\" font-family=\"Helvetica,sans-Serif\" font-size=\"14.00\">gini = 0.219</text>\n<text text-anchor=\"middle\" x=\"1544.5\" y=\"-223.3\" font-family=\"Helvetica,sans-Serif\" font-size=\"14.00\">samples = 8</text>\n<text text-anchor=\"middle\" x=\"1544.5\" y=\"-208.3\" font-family=\"Helvetica,sans-Serif\" font-size=\"14.00\">value = [7, 1]</text>\n</g>\n<!-- 106&#45;&gt;107 -->\n<g id=\"edge107\" class=\"edge\">\n<title>106&#45;&gt;107</title>\n<path fill=\"none\" stroke=\"black\" d=\"M1546.53,-296.88C1546.21,-286.22 1545.86,-274.35 1545.54,-263.52\"/>\n<polygon fill=\"black\" stroke=\"black\" points=\"1549.04,-263.41 1545.25,-253.52 1542.05,-263.62 1549.04,-263.41\"/>\n</g>\n<!-- 108 -->\n<g id=\"node109\" class=\"node\">\n<title>108</title>\n<polygon fill=\"none\" stroke=\"black\" points=\"1712.5,-253.5 1610.5,-253.5 1610.5,-200.5 1712.5,-200.5 1712.5,-253.5\"/>\n<text text-anchor=\"middle\" x=\"1661.5\" y=\"-238.3\" font-family=\"Helvetica,sans-Serif\" font-size=\"14.00\">gini = 0.153</text>\n<text text-anchor=\"middle\" x=\"1661.5\" y=\"-223.3\" font-family=\"Helvetica,sans-Serif\" font-size=\"14.00\">samples = 12</text>\n<text text-anchor=\"middle\" x=\"1661.5\" y=\"-208.3\" font-family=\"Helvetica,sans-Serif\" font-size=\"14.00\">value = [11, 1]</text>\n</g>\n<!-- 106&#45;&gt;108 -->\n<g id=\"edge108\" class=\"edge\">\n<title>106&#45;&gt;108</title>\n<path fill=\"none\" stroke=\"black\" d=\"M1584.51,-296.88C1597.66,-285.12 1612.44,-271.89 1625.51,-260.2\"/>\n<polygon fill=\"black\" stroke=\"black\" points=\"1627.86,-262.8 1632.98,-253.52 1623.19,-257.58 1627.86,-262.8\"/>\n</g>\n<!-- 111 -->\n<g id=\"node112\" class=\"node\">\n<title>111</title>\n<polygon fill=\"none\" stroke=\"black\" points=\"1835.5,-573 1733.5,-573 1733.5,-505 1835.5,-505 1835.5,-573\"/>\n<text text-anchor=\"middle\" x=\"1784.5\" y=\"-557.8\" font-family=\"Helvetica,sans-Serif\" font-size=\"14.00\">Age &lt;= 22.5</text>\n<text text-anchor=\"middle\" x=\"1784.5\" y=\"-542.8\" font-family=\"Helvetica,sans-Serif\" font-size=\"14.00\">gini = 0.117</text>\n<text text-anchor=\"middle\" x=\"1784.5\" y=\"-527.8\" font-family=\"Helvetica,sans-Serif\" font-size=\"14.00\">samples = 32</text>\n<text text-anchor=\"middle\" x=\"1784.5\" y=\"-512.8\" font-family=\"Helvetica,sans-Serif\" font-size=\"14.00\">value = [30, 2]</text>\n</g>\n<!-- 110&#45;&gt;111 -->\n<g id=\"edge111\" class=\"edge\">\n<title>110&#45;&gt;111</title>\n<path fill=\"none\" stroke=\"black\" d=\"M1851.36,-608.88C1842.63,-599.89 1833.07,-590.04 1823.98,-580.68\"/>\n<polygon fill=\"black\" stroke=\"black\" points=\"1826.3,-578.04 1816.82,-573.3 1821.27,-582.91 1826.3,-578.04\"/>\n</g>\n<!-- 118 -->\n<g id=\"node119\" class=\"node\">\n<title>118</title>\n<polygon fill=\"none\" stroke=\"black\" points=\"1951.5,-573 1853.5,-573 1853.5,-505 1951.5,-505 1951.5,-573\"/>\n<text text-anchor=\"middle\" x=\"1902.5\" y=\"-557.8\" font-family=\"Helvetica,sans-Serif\" font-size=\"14.00\">Age &lt;= 24.25</text>\n<text text-anchor=\"middle\" x=\"1902.5\" y=\"-542.8\" font-family=\"Helvetica,sans-Serif\" font-size=\"14.00\">gini = 0.18</text>\n<text text-anchor=\"middle\" x=\"1902.5\" y=\"-527.8\" font-family=\"Helvetica,sans-Serif\" font-size=\"14.00\">samples = 10</text>\n<text text-anchor=\"middle\" x=\"1902.5\" y=\"-512.8\" font-family=\"Helvetica,sans-Serif\" font-size=\"14.00\">value = [9, 1]</text>\n</g>\n<!-- 110&#45;&gt;118 -->\n<g id=\"edge118\" class=\"edge\">\n<title>110&#45;&gt;118</title>\n<path fill=\"none\" stroke=\"black\" d=\"M1889.67,-608.88C1891.2,-600.69 1892.85,-591.79 1894.45,-583.19\"/>\n<polygon fill=\"black\" stroke=\"black\" points=\"1897.91,-583.77 1896.3,-573.3 1891.03,-582.49 1897.91,-583.77\"/>\n</g>\n<!-- 112 -->\n<g id=\"node113\" class=\"node\">\n<title>112</title>\n<polygon fill=\"none\" stroke=\"black\" points=\"1718.5,-469 1616.5,-469 1616.5,-401 1718.5,-401 1718.5,-469\"/>\n<text text-anchor=\"middle\" x=\"1667.5\" y=\"-453.8\" font-family=\"Helvetica,sans-Serif\" font-size=\"14.00\">Age &lt;= 20.75</text>\n<text text-anchor=\"middle\" x=\"1667.5\" y=\"-438.8\" font-family=\"Helvetica,sans-Serif\" font-size=\"14.00\">gini = 0.133</text>\n<text text-anchor=\"middle\" x=\"1667.5\" y=\"-423.8\" font-family=\"Helvetica,sans-Serif\" font-size=\"14.00\">samples = 28</text>\n<text text-anchor=\"middle\" x=\"1667.5\" y=\"-408.8\" font-family=\"Helvetica,sans-Serif\" font-size=\"14.00\">value = [26, 2]</text>\n</g>\n<!-- 111&#45;&gt;112 -->\n<g id=\"edge112\" class=\"edge\">\n<title>111&#45;&gt;112</title>\n<path fill=\"none\" stroke=\"black\" d=\"M1746.51,-504.88C1735.99,-495.71 1724.45,-485.65 1713.52,-476.12\"/>\n<polygon fill=\"black\" stroke=\"black\" points=\"1715.53,-473.23 1705.7,-469.3 1710.93,-478.51 1715.53,-473.23\"/>\n</g>\n<!-- 117 -->\n<g id=\"node118\" class=\"node\">\n<title>117</title>\n<polygon fill=\"none\" stroke=\"black\" points=\"1832,-461.5 1737,-461.5 1737,-408.5 1832,-408.5 1832,-461.5\"/>\n<text text-anchor=\"middle\" x=\"1784.5\" y=\"-446.3\" font-family=\"Helvetica,sans-Serif\" font-size=\"14.00\">gini = 0.0</text>\n<text text-anchor=\"middle\" x=\"1784.5\" y=\"-431.3\" font-family=\"Helvetica,sans-Serif\" font-size=\"14.00\">samples = 4</text>\n<text text-anchor=\"middle\" x=\"1784.5\" y=\"-416.3\" font-family=\"Helvetica,sans-Serif\" font-size=\"14.00\">value = [4, 0]</text>\n</g>\n<!-- 111&#45;&gt;117 -->\n<g id=\"edge117\" class=\"edge\">\n<title>111&#45;&gt;117</title>\n<path fill=\"none\" stroke=\"black\" d=\"M1784.5,-504.88C1784.5,-494.33 1784.5,-482.6 1784.5,-471.85\"/>\n<polygon fill=\"black\" stroke=\"black\" points=\"1788,-471.52 1784.5,-461.52 1781,-471.52 1788,-471.52\"/>\n</g>\n<!-- 113 -->\n<g id=\"node114\" class=\"node\">\n<title>113</title>\n<polygon fill=\"none\" stroke=\"black\" points=\"1715,-357.5 1620,-357.5 1620,-304.5 1715,-304.5 1715,-357.5\"/>\n<text text-anchor=\"middle\" x=\"1667.5\" y=\"-342.3\" font-family=\"Helvetica,sans-Serif\" font-size=\"14.00\">gini = 0.0</text>\n<text text-anchor=\"middle\" x=\"1667.5\" y=\"-327.3\" font-family=\"Helvetica,sans-Serif\" font-size=\"14.00\">samples = 1</text>\n<text text-anchor=\"middle\" x=\"1667.5\" y=\"-312.3\" font-family=\"Helvetica,sans-Serif\" font-size=\"14.00\">value = [1, 0]</text>\n</g>\n<!-- 112&#45;&gt;113 -->\n<g id=\"edge113\" class=\"edge\">\n<title>112&#45;&gt;113</title>\n<path fill=\"none\" stroke=\"black\" d=\"M1667.5,-400.88C1667.5,-390.33 1667.5,-378.6 1667.5,-367.85\"/>\n<polygon fill=\"black\" stroke=\"black\" points=\"1671,-367.52 1667.5,-357.52 1664,-367.52 1671,-367.52\"/>\n</g>\n<!-- 114 -->\n<g id=\"node115\" class=\"node\">\n<title>114</title>\n<polygon fill=\"none\" stroke=\"black\" points=\"1835.5,-365 1733.5,-365 1733.5,-297 1835.5,-297 1835.5,-365\"/>\n<text text-anchor=\"middle\" x=\"1784.5\" y=\"-349.8\" font-family=\"Helvetica,sans-Serif\" font-size=\"14.00\">Age &lt;= 21.5</text>\n<text text-anchor=\"middle\" x=\"1784.5\" y=\"-334.8\" font-family=\"Helvetica,sans-Serif\" font-size=\"14.00\">gini = 0.137</text>\n<text text-anchor=\"middle\" x=\"1784.5\" y=\"-319.8\" font-family=\"Helvetica,sans-Serif\" font-size=\"14.00\">samples = 27</text>\n<text text-anchor=\"middle\" x=\"1784.5\" y=\"-304.8\" font-family=\"Helvetica,sans-Serif\" font-size=\"14.00\">value = [25, 2]</text>\n</g>\n<!-- 112&#45;&gt;114 -->\n<g id=\"edge114\" class=\"edge\">\n<title>112&#45;&gt;114</title>\n<path fill=\"none\" stroke=\"black\" d=\"M1705.49,-400.88C1716.01,-391.71 1727.55,-381.65 1738.48,-372.12\"/>\n<polygon fill=\"black\" stroke=\"black\" points=\"1741.07,-374.51 1746.3,-365.3 1736.47,-369.23 1741.07,-374.51\"/>\n</g>\n<!-- 115 -->\n<g id=\"node116\" class=\"node\">\n<title>115</title>\n<polygon fill=\"none\" stroke=\"black\" points=\"1834.5,-253.5 1732.5,-253.5 1732.5,-200.5 1834.5,-200.5 1834.5,-253.5\"/>\n<text text-anchor=\"middle\" x=\"1783.5\" y=\"-238.3\" font-family=\"Helvetica,sans-Serif\" font-size=\"14.00\">gini = 0.142</text>\n<text text-anchor=\"middle\" x=\"1783.5\" y=\"-223.3\" font-family=\"Helvetica,sans-Serif\" font-size=\"14.00\">samples = 13</text>\n<text text-anchor=\"middle\" x=\"1783.5\" y=\"-208.3\" font-family=\"Helvetica,sans-Serif\" font-size=\"14.00\">value = [12, 1]</text>\n</g>\n<!-- 114&#45;&gt;115 -->\n<g id=\"edge115\" class=\"edge\">\n<title>114&#45;&gt;115</title>\n<path fill=\"none\" stroke=\"black\" d=\"M1784.18,-296.88C1784.07,-286.33 1783.96,-274.6 1783.85,-263.85\"/>\n<polygon fill=\"black\" stroke=\"black\" points=\"1787.35,-263.49 1783.75,-253.52 1780.35,-263.55 1787.35,-263.49\"/>\n</g>\n<!-- 116 -->\n<g id=\"node117\" class=\"node\">\n<title>116</title>\n<polygon fill=\"none\" stroke=\"black\" points=\"1954.5,-253.5 1852.5,-253.5 1852.5,-200.5 1954.5,-200.5 1954.5,-253.5\"/>\n<text text-anchor=\"middle\" x=\"1903.5\" y=\"-238.3\" font-family=\"Helvetica,sans-Serif\" font-size=\"14.00\">gini = 0.133</text>\n<text text-anchor=\"middle\" x=\"1903.5\" y=\"-223.3\" font-family=\"Helvetica,sans-Serif\" font-size=\"14.00\">samples = 14</text>\n<text text-anchor=\"middle\" x=\"1903.5\" y=\"-208.3\" font-family=\"Helvetica,sans-Serif\" font-size=\"14.00\">value = [13, 1]</text>\n</g>\n<!-- 114&#45;&gt;116 -->\n<g id=\"edge116\" class=\"edge\">\n<title>114&#45;&gt;116</title>\n<path fill=\"none\" stroke=\"black\" d=\"M1823.14,-296.88C1836.86,-285.12 1852.29,-271.89 1865.93,-260.2\"/>\n<polygon fill=\"black\" stroke=\"black\" points=\"1868.41,-262.69 1873.73,-253.52 1863.86,-257.37 1868.41,-262.69\"/>\n</g>\n<!-- 119 -->\n<g id=\"node120\" class=\"node\">\n<title>119</title>\n<polygon fill=\"none\" stroke=\"black\" points=\"1945,-461.5 1850,-461.5 1850,-408.5 1945,-408.5 1945,-461.5\"/>\n<text text-anchor=\"middle\" x=\"1897.5\" y=\"-446.3\" font-family=\"Helvetica,sans-Serif\" font-size=\"14.00\">gini = 0.198</text>\n<text text-anchor=\"middle\" x=\"1897.5\" y=\"-431.3\" font-family=\"Helvetica,sans-Serif\" font-size=\"14.00\">samples = 9</text>\n<text text-anchor=\"middle\" x=\"1897.5\" y=\"-416.3\" font-family=\"Helvetica,sans-Serif\" font-size=\"14.00\">value = [8, 1]</text>\n</g>\n<!-- 118&#45;&gt;119 -->\n<g id=\"edge119\" class=\"edge\">\n<title>118&#45;&gt;119</title>\n<path fill=\"none\" stroke=\"black\" d=\"M1900.88,-504.88C1900.35,-494.22 1899.77,-482.35 1899.24,-471.52\"/>\n<polygon fill=\"black\" stroke=\"black\" points=\"1902.74,-471.34 1898.75,-461.52 1895.74,-471.68 1902.74,-471.34\"/>\n</g>\n<!-- 120 -->\n<g id=\"node121\" class=\"node\">\n<title>120</title>\n<polygon fill=\"none\" stroke=\"black\" points=\"2058,-461.5 1963,-461.5 1963,-408.5 2058,-408.5 2058,-461.5\"/>\n<text text-anchor=\"middle\" x=\"2010.5\" y=\"-446.3\" font-family=\"Helvetica,sans-Serif\" font-size=\"14.00\">gini = 0.0</text>\n<text text-anchor=\"middle\" x=\"2010.5\" y=\"-431.3\" font-family=\"Helvetica,sans-Serif\" font-size=\"14.00\">samples = 1</text>\n<text text-anchor=\"middle\" x=\"2010.5\" y=\"-416.3\" font-family=\"Helvetica,sans-Serif\" font-size=\"14.00\">value = [1, 0]</text>\n</g>\n<!-- 118&#45;&gt;120 -->\n<g id=\"edge120\" class=\"edge\">\n<title>118&#45;&gt;120</title>\n<path fill=\"none\" stroke=\"black\" d=\"M1937.56,-504.88C1949.91,-493.23 1963.76,-480.14 1976.05,-468.53\"/>\n<polygon fill=\"black\" stroke=\"black\" points=\"1978.61,-470.93 1983.48,-461.52 1973.81,-465.84 1978.61,-470.93\"/>\n</g>\n<!-- 122 -->\n<g id=\"node123\" class=\"node\">\n<title>122</title>\n<polygon fill=\"none\" stroke=\"black\" points=\"2171.5,-677 2069.5,-677 2069.5,-609 2171.5,-609 2171.5,-677\"/>\n<text text-anchor=\"middle\" x=\"2120.5\" y=\"-661.8\" font-family=\"Helvetica,sans-Serif\" font-size=\"14.00\">Age &lt;= 26.5</text>\n<text text-anchor=\"middle\" x=\"2120.5\" y=\"-646.8\" font-family=\"Helvetica,sans-Serif\" font-size=\"14.00\">gini = 0.384</text>\n<text text-anchor=\"middle\" x=\"2120.5\" y=\"-631.8\" font-family=\"Helvetica,sans-Serif\" font-size=\"14.00\">samples = 27</text>\n<text text-anchor=\"middle\" x=\"2120.5\" y=\"-616.8\" font-family=\"Helvetica,sans-Serif\" font-size=\"14.00\">value = [20, 7]</text>\n</g>\n<!-- 121&#45;&gt;122 -->\n<g id=\"edge122\" class=\"edge\">\n<title>121&#45;&gt;122</title>\n<path fill=\"none\" stroke=\"black\" d=\"M2044.19,-712.88C2054.35,-703.71 2065.5,-693.65 2076.05,-684.12\"/>\n<polygon fill=\"black\" stroke=\"black\" points=\"2078.53,-686.6 2083.61,-677.3 2073.84,-681.4 2078.53,-686.6\"/>\n</g>\n<!-- 127 -->\n<g id=\"node128\" class=\"node\">\n<title>127</title>\n<polygon fill=\"none\" stroke=\"black\" points=\"2405.5,-677 2303.5,-677 2303.5,-609 2405.5,-609 2405.5,-677\"/>\n<text text-anchor=\"middle\" x=\"2354.5\" y=\"-661.8\" font-family=\"Helvetica,sans-Serif\" font-size=\"14.00\">Age &lt;= 28.75</text>\n<text text-anchor=\"middle\" x=\"2354.5\" y=\"-646.8\" font-family=\"Helvetica,sans-Serif\" font-size=\"14.00\">gini = 0.238</text>\n<text text-anchor=\"middle\" x=\"2354.5\" y=\"-631.8\" font-family=\"Helvetica,sans-Serif\" font-size=\"14.00\">samples = 29</text>\n<text text-anchor=\"middle\" x=\"2354.5\" y=\"-616.8\" font-family=\"Helvetica,sans-Serif\" font-size=\"14.00\">value = [25, 4]</text>\n</g>\n<!-- 121&#45;&gt;127 -->\n<g id=\"edge127\" class=\"edge\">\n<title>121&#45;&gt;127</title>\n<path fill=\"none\" stroke=\"black\" d=\"M2062.64,-716.55C2065.61,-715.29 2068.57,-714.09 2071.5,-713 2145.68,-685.28 2235,-665.65 2293.19,-654.59\"/>\n<polygon fill=\"black\" stroke=\"black\" points=\"2294.13,-657.98 2303.32,-652.69 2292.84,-651.1 2294.13,-657.98\"/>\n</g>\n<!-- 123 -->\n<g id=\"node124\" class=\"node\">\n<title>123</title>\n<polygon fill=\"none\" stroke=\"black\" points=\"2171.5,-573 2069.5,-573 2069.5,-505 2171.5,-505 2171.5,-573\"/>\n<text text-anchor=\"middle\" x=\"2120.5\" y=\"-557.8\" font-family=\"Helvetica,sans-Serif\" font-size=\"14.00\">Age &lt;= 25.5</text>\n<text text-anchor=\"middle\" x=\"2120.5\" y=\"-542.8\" font-family=\"Helvetica,sans-Serif\" font-size=\"14.00\">gini = 0.298</text>\n<text text-anchor=\"middle\" x=\"2120.5\" y=\"-527.8\" font-family=\"Helvetica,sans-Serif\" font-size=\"14.00\">samples = 22</text>\n<text text-anchor=\"middle\" x=\"2120.5\" y=\"-512.8\" font-family=\"Helvetica,sans-Serif\" font-size=\"14.00\">value = [18, 4]</text>\n</g>\n<!-- 122&#45;&gt;123 -->\n<g id=\"edge123\" class=\"edge\">\n<title>122&#45;&gt;123</title>\n<path fill=\"none\" stroke=\"black\" d=\"M2120.5,-608.88C2120.5,-600.78 2120.5,-591.98 2120.5,-583.47\"/>\n<polygon fill=\"black\" stroke=\"black\" points=\"2124,-583.3 2120.5,-573.3 2117,-583.3 2124,-583.3\"/>\n</g>\n<!-- 126 -->\n<g id=\"node127\" class=\"node\">\n<title>126</title>\n<polygon fill=\"none\" stroke=\"black\" points=\"2285,-565.5 2190,-565.5 2190,-512.5 2285,-512.5 2285,-565.5\"/>\n<text text-anchor=\"middle\" x=\"2237.5\" y=\"-550.3\" font-family=\"Helvetica,sans-Serif\" font-size=\"14.00\">gini = 0.48</text>\n<text text-anchor=\"middle\" x=\"2237.5\" y=\"-535.3\" font-family=\"Helvetica,sans-Serif\" font-size=\"14.00\">samples = 5</text>\n<text text-anchor=\"middle\" x=\"2237.5\" y=\"-520.3\" font-family=\"Helvetica,sans-Serif\" font-size=\"14.00\">value = [2, 3]</text>\n</g>\n<!-- 122&#45;&gt;126 -->\n<g id=\"edge126\" class=\"edge\">\n<title>122&#45;&gt;126</title>\n<path fill=\"none\" stroke=\"black\" d=\"M2158.49,-608.88C2171.98,-597.12 2187.15,-583.89 2200.56,-572.2\"/>\n<polygon fill=\"black\" stroke=\"black\" points=\"2202.99,-574.73 2208.23,-565.52 2198.39,-569.45 2202.99,-574.73\"/>\n</g>\n<!-- 124 -->\n<g id=\"node125\" class=\"node\">\n<title>124</title>\n<polygon fill=\"none\" stroke=\"black\" points=\"2174.5,-461.5 2076.5,-461.5 2076.5,-408.5 2174.5,-408.5 2174.5,-461.5\"/>\n<text text-anchor=\"middle\" x=\"2125.5\" y=\"-446.3\" font-family=\"Helvetica,sans-Serif\" font-size=\"14.00\">gini = 0.298</text>\n<text text-anchor=\"middle\" x=\"2125.5\" y=\"-431.3\" font-family=\"Helvetica,sans-Serif\" font-size=\"14.00\">samples = 11</text>\n<text text-anchor=\"middle\" x=\"2125.5\" y=\"-416.3\" font-family=\"Helvetica,sans-Serif\" font-size=\"14.00\">value = [9, 2]</text>\n</g>\n<!-- 123&#45;&gt;124 -->\n<g id=\"edge124\" class=\"edge\">\n<title>123&#45;&gt;124</title>\n<path fill=\"none\" stroke=\"black\" d=\"M2122.12,-504.88C2122.65,-494.22 2123.23,-482.35 2123.76,-471.52\"/>\n<polygon fill=\"black\" stroke=\"black\" points=\"2127.26,-471.68 2124.25,-461.52 2120.26,-471.34 2127.26,-471.68\"/>\n</g>\n<!-- 125 -->\n<g id=\"node126\" class=\"node\">\n<title>125</title>\n<polygon fill=\"none\" stroke=\"black\" points=\"2290.5,-461.5 2192.5,-461.5 2192.5,-408.5 2290.5,-408.5 2290.5,-461.5\"/>\n<text text-anchor=\"middle\" x=\"2241.5\" y=\"-446.3\" font-family=\"Helvetica,sans-Serif\" font-size=\"14.00\">gini = 0.298</text>\n<text text-anchor=\"middle\" x=\"2241.5\" y=\"-431.3\" font-family=\"Helvetica,sans-Serif\" font-size=\"14.00\">samples = 11</text>\n<text text-anchor=\"middle\" x=\"2241.5\" y=\"-416.3\" font-family=\"Helvetica,sans-Serif\" font-size=\"14.00\">value = [9, 2]</text>\n</g>\n<!-- 123&#45;&gt;125 -->\n<g id=\"edge125\" class=\"edge\">\n<title>123&#45;&gt;125</title>\n<path fill=\"none\" stroke=\"black\" d=\"M2159.79,-504.88C2173.74,-493.12 2189.43,-479.89 2203.3,-468.2\"/>\n<polygon fill=\"black\" stroke=\"black\" points=\"2205.84,-470.64 2211.23,-461.52 2201.32,-465.29 2205.84,-470.64\"/>\n</g>\n<!-- 128 -->\n<g id=\"node129\" class=\"node\">\n<title>128</title>\n<polygon fill=\"none\" stroke=\"black\" points=\"2405.5,-565.5 2303.5,-565.5 2303.5,-512.5 2405.5,-512.5 2405.5,-565.5\"/>\n<text text-anchor=\"middle\" x=\"2354.5\" y=\"-550.3\" font-family=\"Helvetica,sans-Serif\" font-size=\"14.00\">gini = 0.0</text>\n<text text-anchor=\"middle\" x=\"2354.5\" y=\"-535.3\" font-family=\"Helvetica,sans-Serif\" font-size=\"14.00\">samples = 12</text>\n<text text-anchor=\"middle\" x=\"2354.5\" y=\"-520.3\" font-family=\"Helvetica,sans-Serif\" font-size=\"14.00\">value = [12, 0]</text>\n</g>\n<!-- 127&#45;&gt;128 -->\n<g id=\"edge128\" class=\"edge\">\n<title>127&#45;&gt;128</title>\n<path fill=\"none\" stroke=\"black\" d=\"M2354.5,-608.88C2354.5,-598.33 2354.5,-586.6 2354.5,-575.85\"/>\n<polygon fill=\"black\" stroke=\"black\" points=\"2358,-575.52 2354.5,-565.52 2351,-575.52 2358,-575.52\"/>\n</g>\n<!-- 129 -->\n<g id=\"node130\" class=\"node\">\n<title>129</title>\n<polygon fill=\"none\" stroke=\"black\" points=\"2525.5,-573 2423.5,-573 2423.5,-505 2525.5,-505 2525.5,-573\"/>\n<text text-anchor=\"middle\" x=\"2474.5\" y=\"-557.8\" font-family=\"Helvetica,sans-Serif\" font-size=\"14.00\">Age &lt;= 29.5</text>\n<text text-anchor=\"middle\" x=\"2474.5\" y=\"-542.8\" font-family=\"Helvetica,sans-Serif\" font-size=\"14.00\">gini = 0.36</text>\n<text text-anchor=\"middle\" x=\"2474.5\" y=\"-527.8\" font-family=\"Helvetica,sans-Serif\" font-size=\"14.00\">samples = 17</text>\n<text text-anchor=\"middle\" x=\"2474.5\" y=\"-512.8\" font-family=\"Helvetica,sans-Serif\" font-size=\"14.00\">value = [13, 4]</text>\n</g>\n<!-- 127&#45;&gt;129 -->\n<g id=\"edge129\" class=\"edge\">\n<title>127&#45;&gt;129</title>\n<path fill=\"none\" stroke=\"black\" d=\"M2393.46,-608.88C2404.36,-599.62 2416.32,-589.45 2427.62,-579.85\"/>\n<polygon fill=\"black\" stroke=\"black\" points=\"2429.97,-582.44 2435.32,-573.3 2425.44,-577.11 2429.97,-582.44\"/>\n</g>\n<!-- 130 -->\n<g id=\"node131\" class=\"node\">\n<title>130</title>\n<polygon fill=\"none\" stroke=\"black\" points=\"2407,-461.5 2312,-461.5 2312,-408.5 2407,-408.5 2407,-461.5\"/>\n<text text-anchor=\"middle\" x=\"2359.5\" y=\"-446.3\" font-family=\"Helvetica,sans-Serif\" font-size=\"14.00\">gini = 0.469</text>\n<text text-anchor=\"middle\" x=\"2359.5\" y=\"-431.3\" font-family=\"Helvetica,sans-Serif\" font-size=\"14.00\">samples = 8</text>\n<text text-anchor=\"middle\" x=\"2359.5\" y=\"-416.3\" font-family=\"Helvetica,sans-Serif\" font-size=\"14.00\">value = [5, 3]</text>\n</g>\n<!-- 129&#45;&gt;130 -->\n<g id=\"edge130\" class=\"edge\">\n<title>129&#45;&gt;130</title>\n<path fill=\"none\" stroke=\"black\" d=\"M2437.16,-504.88C2423.9,-493.12 2408.99,-479.89 2395.81,-468.2\"/>\n<polygon fill=\"black\" stroke=\"black\" points=\"2398.08,-465.54 2388.27,-461.52 2393.43,-470.77 2398.08,-465.54\"/>\n</g>\n<!-- 131 -->\n<g id=\"node132\" class=\"node\">\n<title>131</title>\n<polygon fill=\"none\" stroke=\"black\" points=\"2523.5,-469 2425.5,-469 2425.5,-401 2523.5,-401 2523.5,-469\"/>\n<text text-anchor=\"middle\" x=\"2474.5\" y=\"-453.8\" font-family=\"Helvetica,sans-Serif\" font-size=\"14.00\">Age &lt;= 30.25</text>\n<text text-anchor=\"middle\" x=\"2474.5\" y=\"-438.8\" font-family=\"Helvetica,sans-Serif\" font-size=\"14.00\">gini = 0.198</text>\n<text text-anchor=\"middle\" x=\"2474.5\" y=\"-423.8\" font-family=\"Helvetica,sans-Serif\" font-size=\"14.00\">samples = 9</text>\n<text text-anchor=\"middle\" x=\"2474.5\" y=\"-408.8\" font-family=\"Helvetica,sans-Serif\" font-size=\"14.00\">value = [8, 1]</text>\n</g>\n<!-- 129&#45;&gt;131 -->\n<g id=\"edge131\" class=\"edge\">\n<title>129&#45;&gt;131</title>\n<path fill=\"none\" stroke=\"black\" d=\"M2474.5,-504.88C2474.5,-496.78 2474.5,-487.98 2474.5,-479.47\"/>\n<polygon fill=\"black\" stroke=\"black\" points=\"2478,-479.3 2474.5,-469.3 2471,-479.3 2478,-479.3\"/>\n</g>\n<!-- 132 -->\n<g id=\"node133\" class=\"node\">\n<title>132</title>\n<polygon fill=\"none\" stroke=\"black\" points=\"2410,-357.5 2315,-357.5 2315,-304.5 2410,-304.5 2410,-357.5\"/>\n<text text-anchor=\"middle\" x=\"2362.5\" y=\"-342.3\" font-family=\"Helvetica,sans-Serif\" font-size=\"14.00\">gini = 0.219</text>\n<text text-anchor=\"middle\" x=\"2362.5\" y=\"-327.3\" font-family=\"Helvetica,sans-Serif\" font-size=\"14.00\">samples = 8</text>\n<text text-anchor=\"middle\" x=\"2362.5\" y=\"-312.3\" font-family=\"Helvetica,sans-Serif\" font-size=\"14.00\">value = [7, 1]</text>\n</g>\n<!-- 131&#45;&gt;132 -->\n<g id=\"edge132\" class=\"edge\">\n<title>131&#45;&gt;132</title>\n<path fill=\"none\" stroke=\"black\" d=\"M2438.14,-400.88C2425.34,-389.23 2410.97,-376.14 2398.22,-364.53\"/>\n<polygon fill=\"black\" stroke=\"black\" points=\"2400.27,-361.67 2390.52,-357.52 2395.56,-366.84 2400.27,-361.67\"/>\n</g>\n<!-- 133 -->\n<g id=\"node134\" class=\"node\">\n<title>133</title>\n<polygon fill=\"none\" stroke=\"black\" points=\"2523,-357.5 2428,-357.5 2428,-304.5 2523,-304.5 2523,-357.5\"/>\n<text text-anchor=\"middle\" x=\"2475.5\" y=\"-342.3\" font-family=\"Helvetica,sans-Serif\" font-size=\"14.00\">gini = 0.0</text>\n<text text-anchor=\"middle\" x=\"2475.5\" y=\"-327.3\" font-family=\"Helvetica,sans-Serif\" font-size=\"14.00\">samples = 1</text>\n<text text-anchor=\"middle\" x=\"2475.5\" y=\"-312.3\" font-family=\"Helvetica,sans-Serif\" font-size=\"14.00\">value = [1, 0]</text>\n</g>\n<!-- 131&#45;&gt;133 -->\n<g id=\"edge133\" class=\"edge\">\n<title>131&#45;&gt;133</title>\n<path fill=\"none\" stroke=\"black\" d=\"M2474.82,-400.88C2474.93,-390.33 2475.04,-378.6 2475.15,-367.85\"/>\n<polygon fill=\"black\" stroke=\"black\" points=\"2478.65,-367.55 2475.25,-357.52 2471.65,-367.49 2478.65,-367.55\"/>\n</g>\n<!-- 135 -->\n<g id=\"node136\" class=\"node\">\n<title>135</title>\n<polygon fill=\"none\" stroke=\"black\" points=\"2232,-885 2137,-885 2137,-817 2232,-817 2232,-885\"/>\n<text text-anchor=\"middle\" x=\"2184.5\" y=\"-869.8\" font-family=\"Helvetica,sans-Serif\" font-size=\"14.00\">Age &lt;= 31.5</text>\n<text text-anchor=\"middle\" x=\"2184.5\" y=\"-854.8\" font-family=\"Helvetica,sans-Serif\" font-size=\"14.00\">gini = 0.408</text>\n<text text-anchor=\"middle\" x=\"2184.5\" y=\"-839.8\" font-family=\"Helvetica,sans-Serif\" font-size=\"14.00\">samples = 7</text>\n<text text-anchor=\"middle\" x=\"2184.5\" y=\"-824.8\" font-family=\"Helvetica,sans-Serif\" font-size=\"14.00\">value = [5, 2]</text>\n</g>\n<!-- 134&#45;&gt;135 -->\n<g id=\"edge135\" class=\"edge\">\n<title>134&#45;&gt;135</title>\n<path fill=\"none\" stroke=\"black\" d=\"M2184.5,-920.88C2184.5,-912.78 2184.5,-903.98 2184.5,-895.47\"/>\n<polygon fill=\"black\" stroke=\"black\" points=\"2188,-895.3 2184.5,-885.3 2181,-895.3 2188,-895.3\"/>\n</g>\n<!-- 138 -->\n<g id=\"node139\" class=\"node\">\n<title>138</title>\n<polygon fill=\"none\" stroke=\"black\" points=\"2403.5,-885 2305.5,-885 2305.5,-817 2403.5,-817 2403.5,-885\"/>\n<text text-anchor=\"middle\" x=\"2354.5\" y=\"-869.8\" font-family=\"Helvetica,sans-Serif\" font-size=\"14.00\">Age &lt;= 31.5</text>\n<text text-anchor=\"middle\" x=\"2354.5\" y=\"-854.8\" font-family=\"Helvetica,sans-Serif\" font-size=\"14.00\">gini = 0.49</text>\n<text text-anchor=\"middle\" x=\"2354.5\" y=\"-839.8\" font-family=\"Helvetica,sans-Serif\" font-size=\"14.00\">samples = 14</text>\n<text text-anchor=\"middle\" x=\"2354.5\" y=\"-824.8\" font-family=\"Helvetica,sans-Serif\" font-size=\"14.00\">value = [8, 6]</text>\n</g>\n<!-- 134&#45;&gt;138 -->\n<g id=\"edge138\" class=\"edge\">\n<title>134&#45;&gt;138</title>\n<path fill=\"none\" stroke=\"black\" d=\"M2235.51,-923.4C2254.76,-911.84 2276.8,-898.62 2296.64,-886.72\"/>\n<polygon fill=\"black\" stroke=\"black\" points=\"2298.51,-889.68 2305.28,-881.53 2294.91,-883.67 2298.51,-889.68\"/>\n</g>\n<!-- 136 -->\n<g id=\"node137\" class=\"node\">\n<title>136</title>\n<polygon fill=\"none\" stroke=\"black\" points=\"2176,-773.5 2081,-773.5 2081,-720.5 2176,-720.5 2176,-773.5\"/>\n<text text-anchor=\"middle\" x=\"2128.5\" y=\"-758.3\" font-family=\"Helvetica,sans-Serif\" font-size=\"14.00\">gini = 0.375</text>\n<text text-anchor=\"middle\" x=\"2128.5\" y=\"-743.3\" font-family=\"Helvetica,sans-Serif\" font-size=\"14.00\">samples = 4</text>\n<text text-anchor=\"middle\" x=\"2128.5\" y=\"-728.3\" font-family=\"Helvetica,sans-Serif\" font-size=\"14.00\">value = [3, 1]</text>\n</g>\n<!-- 135&#45;&gt;136 -->\n<g id=\"edge136\" class=\"edge\">\n<title>135&#45;&gt;136</title>\n<path fill=\"none\" stroke=\"black\" d=\"M2166.32,-816.88C2160.28,-805.89 2153.54,-793.62 2147.45,-782.52\"/>\n<polygon fill=\"black\" stroke=\"black\" points=\"2150.39,-780.6 2142.51,-773.52 2144.26,-783.97 2150.39,-780.6\"/>\n</g>\n<!-- 137 -->\n<g id=\"node138\" class=\"node\">\n<title>137</title>\n<polygon fill=\"none\" stroke=\"black\" points=\"2289,-773.5 2194,-773.5 2194,-720.5 2289,-720.5 2289,-773.5\"/>\n<text text-anchor=\"middle\" x=\"2241.5\" y=\"-758.3\" font-family=\"Helvetica,sans-Serif\" font-size=\"14.00\">gini = 0.444</text>\n<text text-anchor=\"middle\" x=\"2241.5\" y=\"-743.3\" font-family=\"Helvetica,sans-Serif\" font-size=\"14.00\">samples = 3</text>\n<text text-anchor=\"middle\" x=\"2241.5\" y=\"-728.3\" font-family=\"Helvetica,sans-Serif\" font-size=\"14.00\">value = [2, 1]</text>\n</g>\n<!-- 135&#45;&gt;137 -->\n<g id=\"edge137\" class=\"edge\">\n<title>135&#45;&gt;137</title>\n<path fill=\"none\" stroke=\"black\" d=\"M2203.01,-816.88C2209.15,-805.89 2216.01,-793.62 2222.21,-782.52\"/>\n<polygon fill=\"black\" stroke=\"black\" points=\"2225.42,-783.96 2227.24,-773.52 2219.31,-780.54 2225.42,-783.96\"/>\n</g>\n<!-- 139 -->\n<g id=\"node140\" class=\"node\">\n<title>139</title>\n<polygon fill=\"none\" stroke=\"black\" points=\"2402,-773.5 2307,-773.5 2307,-720.5 2402,-720.5 2402,-773.5\"/>\n<text text-anchor=\"middle\" x=\"2354.5\" y=\"-758.3\" font-family=\"Helvetica,sans-Serif\" font-size=\"14.00\">gini = 0.444</text>\n<text text-anchor=\"middle\" x=\"2354.5\" y=\"-743.3\" font-family=\"Helvetica,sans-Serif\" font-size=\"14.00\">samples = 3</text>\n<text text-anchor=\"middle\" x=\"2354.5\" y=\"-728.3\" font-family=\"Helvetica,sans-Serif\" font-size=\"14.00\">value = [2, 1]</text>\n</g>\n<!-- 138&#45;&gt;139 -->\n<g id=\"edge139\" class=\"edge\">\n<title>138&#45;&gt;139</title>\n<path fill=\"none\" stroke=\"black\" d=\"M2354.5,-816.88C2354.5,-806.33 2354.5,-794.6 2354.5,-783.85\"/>\n<polygon fill=\"black\" stroke=\"black\" points=\"2358,-783.52 2354.5,-773.52 2351,-783.52 2358,-783.52\"/>\n</g>\n<!-- 140 -->\n<g id=\"node141\" class=\"node\">\n<title>140</title>\n<polygon fill=\"none\" stroke=\"black\" points=\"2518.5,-773.5 2420.5,-773.5 2420.5,-720.5 2518.5,-720.5 2518.5,-773.5\"/>\n<text text-anchor=\"middle\" x=\"2469.5\" y=\"-758.3\" font-family=\"Helvetica,sans-Serif\" font-size=\"14.00\">gini = 0.496</text>\n<text text-anchor=\"middle\" x=\"2469.5\" y=\"-743.3\" font-family=\"Helvetica,sans-Serif\" font-size=\"14.00\">samples = 11</text>\n<text text-anchor=\"middle\" x=\"2469.5\" y=\"-728.3\" font-family=\"Helvetica,sans-Serif\" font-size=\"14.00\">value = [6, 5]</text>\n</g>\n<!-- 138&#45;&gt;140 -->\n<g id=\"edge140\" class=\"edge\">\n<title>138&#45;&gt;140</title>\n<path fill=\"none\" stroke=\"black\" d=\"M2391.84,-816.88C2405.1,-805.12 2420.01,-791.89 2433.19,-780.2\"/>\n<polygon fill=\"black\" stroke=\"black\" points=\"2435.57,-782.77 2440.73,-773.52 2430.92,-777.54 2435.57,-782.77\"/>\n</g>\n<!-- 142 -->\n<g id=\"node143\" class=\"node\">\n<title>142</title>\n<polygon fill=\"none\" stroke=\"black\" points=\"2721.5,-989 2619.5,-989 2619.5,-921 2721.5,-921 2721.5,-989\"/>\n<text text-anchor=\"middle\" x=\"2670.5\" y=\"-973.8\" font-family=\"Helvetica,sans-Serif\" font-size=\"14.00\">Pclass &lt;= 2.5</text>\n<text text-anchor=\"middle\" x=\"2670.5\" y=\"-958.8\" font-family=\"Helvetica,sans-Serif\" font-size=\"14.00\">gini = 0.046</text>\n<text text-anchor=\"middle\" x=\"2670.5\" y=\"-943.8\" font-family=\"Helvetica,sans-Serif\" font-size=\"14.00\">samples = 42</text>\n<text text-anchor=\"middle\" x=\"2670.5\" y=\"-928.8\" font-family=\"Helvetica,sans-Serif\" font-size=\"14.00\">value = [41, 1]</text>\n</g>\n<!-- 141&#45;&gt;142 -->\n<g id=\"edge142\" class=\"edge\">\n<title>141&#45;&gt;142</title>\n<path fill=\"none\" stroke=\"black\" d=\"M2670.5,-1024.88C2670.5,-1016.78 2670.5,-1007.98 2670.5,-999.47\"/>\n<polygon fill=\"black\" stroke=\"black\" points=\"2674,-999.3 2670.5,-989.3 2667,-999.3 2674,-999.3\"/>\n</g>\n<!-- 149 -->\n<g id=\"node150\" class=\"node\">\n<title>149</title>\n<polygon fill=\"none\" stroke=\"black\" points=\"2953.5,-989 2851.5,-989 2851.5,-921 2953.5,-921 2953.5,-989\"/>\n<text text-anchor=\"middle\" x=\"2902.5\" y=\"-973.8\" font-family=\"Helvetica,sans-Serif\" font-size=\"14.00\">Age &lt;= 45.25</text>\n<text text-anchor=\"middle\" x=\"2902.5\" y=\"-958.8\" font-family=\"Helvetica,sans-Serif\" font-size=\"14.00\">gini = 0.146</text>\n<text text-anchor=\"middle\" x=\"2902.5\" y=\"-943.8\" font-family=\"Helvetica,sans-Serif\" font-size=\"14.00\">samples = 63</text>\n<text text-anchor=\"middle\" x=\"2902.5\" y=\"-928.8\" font-family=\"Helvetica,sans-Serif\" font-size=\"14.00\">value = [58, 5]</text>\n</g>\n<!-- 141&#45;&gt;149 -->\n<g id=\"edge149\" class=\"edge\">\n<title>141&#45;&gt;149</title>\n<path fill=\"none\" stroke=\"black\" d=\"M2723.73,-1034.6C2758.85,-1019.16 2804.96,-998.89 2841.55,-982.8\"/>\n<polygon fill=\"black\" stroke=\"black\" points=\"2843.37,-985.82 2851.12,-978.59 2840.55,-979.41 2843.37,-985.82\"/>\n</g>\n<!-- 143 -->\n<g id=\"node144\" class=\"node\">\n<title>143</title>\n<polygon fill=\"none\" stroke=\"black\" points=\"2661.5,-885 2559.5,-885 2559.5,-817 2661.5,-817 2661.5,-885\"/>\n<text text-anchor=\"middle\" x=\"2610.5\" y=\"-869.8\" font-family=\"Helvetica,sans-Serif\" font-size=\"14.00\">Age &lt;= 34.5</text>\n<text text-anchor=\"middle\" x=\"2610.5\" y=\"-854.8\" font-family=\"Helvetica,sans-Serif\" font-size=\"14.00\">gini = 0.117</text>\n<text text-anchor=\"middle\" x=\"2610.5\" y=\"-839.8\" font-family=\"Helvetica,sans-Serif\" font-size=\"14.00\">samples = 16</text>\n<text text-anchor=\"middle\" x=\"2610.5\" y=\"-824.8\" font-family=\"Helvetica,sans-Serif\" font-size=\"14.00\">value = [15, 1]</text>\n</g>\n<!-- 142&#45;&gt;143 -->\n<g id=\"edge143\" class=\"edge\">\n<title>142&#45;&gt;143</title>\n<path fill=\"none\" stroke=\"black\" d=\"M2651.02,-920.88C2645.99,-912.33 2640.51,-903.01 2635.25,-894.07\"/>\n<polygon fill=\"black\" stroke=\"black\" points=\"2638.17,-892.14 2630.09,-885.3 2632.14,-895.69 2638.17,-892.14\"/>\n</g>\n<!-- 148 -->\n<g id=\"node149\" class=\"node\">\n<title>148</title>\n<polygon fill=\"none\" stroke=\"black\" points=\"2781.5,-877.5 2679.5,-877.5 2679.5,-824.5 2781.5,-824.5 2781.5,-877.5\"/>\n<text text-anchor=\"middle\" x=\"2730.5\" y=\"-862.3\" font-family=\"Helvetica,sans-Serif\" font-size=\"14.00\">gini = 0.0</text>\n<text text-anchor=\"middle\" x=\"2730.5\" y=\"-847.3\" font-family=\"Helvetica,sans-Serif\" font-size=\"14.00\">samples = 26</text>\n<text text-anchor=\"middle\" x=\"2730.5\" y=\"-832.3\" font-family=\"Helvetica,sans-Serif\" font-size=\"14.00\">value = [26, 0]</text>\n</g>\n<!-- 142&#45;&gt;148 -->\n<g id=\"edge148\" class=\"edge\">\n<title>142&#45;&gt;148</title>\n<path fill=\"none\" stroke=\"black\" d=\"M2689.98,-920.88C2696.51,-909.78 2703.81,-897.37 2710.39,-886.18\"/>\n<polygon fill=\"black\" stroke=\"black\" points=\"2713.43,-887.91 2715.49,-877.52 2707.4,-884.36 2713.43,-887.91\"/>\n</g>\n<!-- 144 -->\n<g id=\"node145\" class=\"node\">\n<title>144</title>\n<polygon fill=\"none\" stroke=\"black\" points=\"2632,-781 2537,-781 2537,-713 2632,-713 2632,-781\"/>\n<text text-anchor=\"middle\" x=\"2584.5\" y=\"-765.8\" font-family=\"Helvetica,sans-Serif\" font-size=\"14.00\">Age &lt;= 33.5</text>\n<text text-anchor=\"middle\" x=\"2584.5\" y=\"-750.8\" font-family=\"Helvetica,sans-Serif\" font-size=\"14.00\">gini = 0.219</text>\n<text text-anchor=\"middle\" x=\"2584.5\" y=\"-735.8\" font-family=\"Helvetica,sans-Serif\" font-size=\"14.00\">samples = 8</text>\n<text text-anchor=\"middle\" x=\"2584.5\" y=\"-720.8\" font-family=\"Helvetica,sans-Serif\" font-size=\"14.00\">value = [7, 1]</text>\n</g>\n<!-- 143&#45;&gt;144 -->\n<g id=\"edge144\" class=\"edge\">\n<title>143&#45;&gt;144</title>\n<path fill=\"none\" stroke=\"black\" d=\"M2602.06,-816.88C2599.97,-808.69 2597.7,-799.79 2595.51,-791.19\"/>\n<polygon fill=\"black\" stroke=\"black\" points=\"2598.85,-790.12 2592.99,-781.3 2592.07,-791.85 2598.85,-790.12\"/>\n</g>\n<!-- 147 -->\n<g id=\"node148\" class=\"node\">\n<title>147</title>\n<polygon fill=\"none\" stroke=\"black\" points=\"2745,-773.5 2650,-773.5 2650,-720.5 2745,-720.5 2745,-773.5\"/>\n<text text-anchor=\"middle\" x=\"2697.5\" y=\"-758.3\" font-family=\"Helvetica,sans-Serif\" font-size=\"14.00\">gini = 0.0</text>\n<text text-anchor=\"middle\" x=\"2697.5\" y=\"-743.3\" font-family=\"Helvetica,sans-Serif\" font-size=\"14.00\">samples = 8</text>\n<text text-anchor=\"middle\" x=\"2697.5\" y=\"-728.3\" font-family=\"Helvetica,sans-Serif\" font-size=\"14.00\">value = [8, 0]</text>\n</g>\n<!-- 143&#45;&gt;147 -->\n<g id=\"edge147\" class=\"edge\">\n<title>143&#45;&gt;147</title>\n<path fill=\"none\" stroke=\"black\" d=\"M2638.75,-816.88C2648.5,-805.45 2659.43,-792.63 2669.19,-781.19\"/>\n<polygon fill=\"black\" stroke=\"black\" points=\"2671.91,-783.4 2675.73,-773.52 2666.58,-778.86 2671.91,-783.4\"/>\n</g>\n<!-- 145 -->\n<g id=\"node146\" class=\"node\">\n<title>145</title>\n<polygon fill=\"none\" stroke=\"black\" points=\"2519,-669.5 2424,-669.5 2424,-616.5 2519,-616.5 2519,-669.5\"/>\n<text text-anchor=\"middle\" x=\"2471.5\" y=\"-654.3\" font-family=\"Helvetica,sans-Serif\" font-size=\"14.00\">gini = 0.0</text>\n<text text-anchor=\"middle\" x=\"2471.5\" y=\"-639.3\" font-family=\"Helvetica,sans-Serif\" font-size=\"14.00\">samples = 2</text>\n<text text-anchor=\"middle\" x=\"2471.5\" y=\"-624.3\" font-family=\"Helvetica,sans-Serif\" font-size=\"14.00\">value = [2, 0]</text>\n</g>\n<!-- 144&#45;&gt;145 -->\n<g id=\"edge145\" class=\"edge\">\n<title>144&#45;&gt;145</title>\n<path fill=\"none\" stroke=\"black\" d=\"M2547.81,-712.88C2534.9,-701.23 2520.4,-688.14 2507.54,-676.53\"/>\n<polygon fill=\"black\" stroke=\"black\" points=\"2509.54,-673.62 2499.77,-669.52 2504.85,-678.82 2509.54,-673.62\"/>\n</g>\n<!-- 146 -->\n<g id=\"node147\" class=\"node\">\n<title>146</title>\n<polygon fill=\"none\" stroke=\"black\" points=\"2632,-669.5 2537,-669.5 2537,-616.5 2632,-616.5 2632,-669.5\"/>\n<text text-anchor=\"middle\" x=\"2584.5\" y=\"-654.3\" font-family=\"Helvetica,sans-Serif\" font-size=\"14.00\">gini = 0.278</text>\n<text text-anchor=\"middle\" x=\"2584.5\" y=\"-639.3\" font-family=\"Helvetica,sans-Serif\" font-size=\"14.00\">samples = 6</text>\n<text text-anchor=\"middle\" x=\"2584.5\" y=\"-624.3\" font-family=\"Helvetica,sans-Serif\" font-size=\"14.00\">value = [5, 1]</text>\n</g>\n<!-- 144&#45;&gt;146 -->\n<g id=\"edge146\" class=\"edge\">\n<title>144&#45;&gt;146</title>\n<path fill=\"none\" stroke=\"black\" d=\"M2584.5,-712.88C2584.5,-702.33 2584.5,-690.6 2584.5,-679.85\"/>\n<polygon fill=\"black\" stroke=\"black\" points=\"2588,-679.52 2584.5,-669.52 2581,-679.52 2588,-679.52\"/>\n</g>\n<!-- 150 -->\n<g id=\"node151\" class=\"node\">\n<title>150</title>\n<polygon fill=\"none\" stroke=\"black\" points=\"2953.5,-885 2851.5,-885 2851.5,-817 2953.5,-817 2953.5,-885\"/>\n<text text-anchor=\"middle\" x=\"2902.5\" y=\"-869.8\" font-family=\"Helvetica,sans-Serif\" font-size=\"14.00\">Age &lt;= 44.5</text>\n<text text-anchor=\"middle\" x=\"2902.5\" y=\"-854.8\" font-family=\"Helvetica,sans-Serif\" font-size=\"14.00\">gini = 0.219</text>\n<text text-anchor=\"middle\" x=\"2902.5\" y=\"-839.8\" font-family=\"Helvetica,sans-Serif\" font-size=\"14.00\">samples = 32</text>\n<text text-anchor=\"middle\" x=\"2902.5\" y=\"-824.8\" font-family=\"Helvetica,sans-Serif\" font-size=\"14.00\">value = [28, 4]</text>\n</g>\n<!-- 149&#45;&gt;150 -->\n<g id=\"edge150\" class=\"edge\">\n<title>149&#45;&gt;150</title>\n<path fill=\"none\" stroke=\"black\" d=\"M2902.5,-920.88C2902.5,-912.78 2902.5,-903.98 2902.5,-895.47\"/>\n<polygon fill=\"black\" stroke=\"black\" points=\"2906,-895.3 2902.5,-885.3 2899,-895.3 2906,-895.3\"/>\n</g>\n<!-- 165 -->\n<g id=\"node166\" class=\"node\">\n<title>165</title>\n<polygon fill=\"none\" stroke=\"black\" points=\"3099.5,-885 2997.5,-885 2997.5,-817 3099.5,-817 3099.5,-885\"/>\n<text text-anchor=\"middle\" x=\"3048.5\" y=\"-869.8\" font-family=\"Helvetica,sans-Serif\" font-size=\"14.00\">Age &lt;= 61.5</text>\n<text text-anchor=\"middle\" x=\"3048.5\" y=\"-854.8\" font-family=\"Helvetica,sans-Serif\" font-size=\"14.00\">gini = 0.062</text>\n<text text-anchor=\"middle\" x=\"3048.5\" y=\"-839.8\" font-family=\"Helvetica,sans-Serif\" font-size=\"14.00\">samples = 31</text>\n<text text-anchor=\"middle\" x=\"3048.5\" y=\"-824.8\" font-family=\"Helvetica,sans-Serif\" font-size=\"14.00\">value = [30, 1]</text>\n</g>\n<!-- 149&#45;&gt;165 -->\n<g id=\"edge165\" class=\"edge\">\n<title>149&#45;&gt;165</title>\n<path fill=\"none\" stroke=\"black\" d=\"M2949.9,-920.88C2963.42,-911.44 2978.27,-901.06 2992.26,-891.29\"/>\n<polygon fill=\"black\" stroke=\"black\" points=\"2994.64,-893.9 3000.84,-885.3 2990.63,-888.16 2994.64,-893.9\"/>\n</g>\n<!-- 151 -->\n<g id=\"node152\" class=\"node\">\n<title>151</title>\n<polygon fill=\"none\" stroke=\"black\" points=\"2865.5,-781 2763.5,-781 2763.5,-713 2865.5,-713 2865.5,-781\"/>\n<text text-anchor=\"middle\" x=\"2814.5\" y=\"-765.8\" font-family=\"Helvetica,sans-Serif\" font-size=\"14.00\">Age &lt;= 43.5</text>\n<text text-anchor=\"middle\" x=\"2814.5\" y=\"-750.8\" font-family=\"Helvetica,sans-Serif\" font-size=\"14.00\">gini = 0.18</text>\n<text text-anchor=\"middle\" x=\"2814.5\" y=\"-735.8\" font-family=\"Helvetica,sans-Serif\" font-size=\"14.00\">samples = 30</text>\n<text text-anchor=\"middle\" x=\"2814.5\" y=\"-720.8\" font-family=\"Helvetica,sans-Serif\" font-size=\"14.00\">value = [27, 3]</text>\n</g>\n<!-- 150&#45;&gt;151 -->\n<g id=\"edge151\" class=\"edge\">\n<title>150&#45;&gt;151</title>\n<path fill=\"none\" stroke=\"black\" d=\"M2873.93,-816.88C2866.24,-807.98 2857.84,-798.24 2849.84,-788.96\"/>\n<polygon fill=\"black\" stroke=\"black\" points=\"2852.41,-786.58 2843.23,-781.3 2847.11,-791.16 2852.41,-786.58\"/>\n</g>\n<!-- 164 -->\n<g id=\"node165\" class=\"node\">\n<title>164</title>\n<polygon fill=\"none\" stroke=\"black\" points=\"2979,-773.5 2884,-773.5 2884,-720.5 2979,-720.5 2979,-773.5\"/>\n<text text-anchor=\"middle\" x=\"2931.5\" y=\"-758.3\" font-family=\"Helvetica,sans-Serif\" font-size=\"14.00\">gini = 0.5</text>\n<text text-anchor=\"middle\" x=\"2931.5\" y=\"-743.3\" font-family=\"Helvetica,sans-Serif\" font-size=\"14.00\">samples = 2</text>\n<text text-anchor=\"middle\" x=\"2931.5\" y=\"-728.3\" font-family=\"Helvetica,sans-Serif\" font-size=\"14.00\">value = [1, 1]</text>\n</g>\n<!-- 150&#45;&gt;164 -->\n<g id=\"edge164\" class=\"edge\">\n<title>150&#45;&gt;164</title>\n<path fill=\"none\" stroke=\"black\" d=\"M2911.92,-816.88C2914.98,-806.11 2918.39,-794.11 2921.5,-783.18\"/>\n<polygon fill=\"black\" stroke=\"black\" points=\"2924.88,-784.1 2924.24,-773.52 2918.14,-782.18 2924.88,-784.1\"/>\n</g>\n<!-- 152 -->\n<g id=\"node153\" class=\"node\">\n<title>152</title>\n<polygon fill=\"none\" stroke=\"black\" points=\"2865.5,-677 2763.5,-677 2763.5,-609 2865.5,-609 2865.5,-677\"/>\n<text text-anchor=\"middle\" x=\"2814.5\" y=\"-661.8\" font-family=\"Helvetica,sans-Serif\" font-size=\"14.00\">Pclass &lt;= 2.5</text>\n<text text-anchor=\"middle\" x=\"2814.5\" y=\"-646.8\" font-family=\"Helvetica,sans-Serif\" font-size=\"14.00\">gini = 0.147</text>\n<text text-anchor=\"middle\" x=\"2814.5\" y=\"-631.8\" font-family=\"Helvetica,sans-Serif\" font-size=\"14.00\">samples = 25</text>\n<text text-anchor=\"middle\" x=\"2814.5\" y=\"-616.8\" font-family=\"Helvetica,sans-Serif\" font-size=\"14.00\">value = [23, 2]</text>\n</g>\n<!-- 151&#45;&gt;152 -->\n<g id=\"edge152\" class=\"edge\">\n<title>151&#45;&gt;152</title>\n<path fill=\"none\" stroke=\"black\" d=\"M2814.5,-712.88C2814.5,-704.78 2814.5,-695.98 2814.5,-687.47\"/>\n<polygon fill=\"black\" stroke=\"black\" points=\"2818,-687.3 2814.5,-677.3 2811,-687.3 2818,-687.3\"/>\n</g>\n<!-- 161 -->\n<g id=\"node162\" class=\"node\">\n<title>161</title>\n<polygon fill=\"none\" stroke=\"black\" points=\"2983,-677 2884,-677 2884,-609 2983,-609 2983,-677\"/>\n<text text-anchor=\"middle\" x=\"2933.5\" y=\"-661.8\" font-family=\"Helvetica,sans-Serif\" font-size=\"14.00\">Pclass &lt;= 2.5</text>\n<text text-anchor=\"middle\" x=\"2933.5\" y=\"-646.8\" font-family=\"Helvetica,sans-Serif\" font-size=\"14.00\">gini = 0.32</text>\n<text text-anchor=\"middle\" x=\"2933.5\" y=\"-631.8\" font-family=\"Helvetica,sans-Serif\" font-size=\"14.00\">samples = 5</text>\n<text text-anchor=\"middle\" x=\"2933.5\" y=\"-616.8\" font-family=\"Helvetica,sans-Serif\" font-size=\"14.00\">value = [4, 1]</text>\n</g>\n<!-- 151&#45;&gt;161 -->\n<g id=\"edge161\" class=\"edge\">\n<title>151&#45;&gt;161</title>\n<path fill=\"none\" stroke=\"black\" d=\"M2853.14,-712.88C2863.94,-703.62 2875.8,-693.45 2887.01,-683.85\"/>\n<polygon fill=\"black\" stroke=\"black\" points=\"2889.34,-686.46 2894.65,-677.3 2884.78,-681.15 2889.34,-686.46\"/>\n</g>\n<!-- 153 -->\n<g id=\"node154\" class=\"node\">\n<title>153</title>\n<polygon fill=\"none\" stroke=\"black\" points=\"2746,-573 2651,-573 2651,-505 2746,-505 2746,-573\"/>\n<text text-anchor=\"middle\" x=\"2698.5\" y=\"-557.8\" font-family=\"Helvetica,sans-Serif\" font-size=\"14.00\">Age &lt;= 40.5</text>\n<text text-anchor=\"middle\" x=\"2698.5\" y=\"-542.8\" font-family=\"Helvetica,sans-Serif\" font-size=\"14.00\">gini = 0.245</text>\n<text text-anchor=\"middle\" x=\"2698.5\" y=\"-527.8\" font-family=\"Helvetica,sans-Serif\" font-size=\"14.00\">samples = 7</text>\n<text text-anchor=\"middle\" x=\"2698.5\" y=\"-512.8\" font-family=\"Helvetica,sans-Serif\" font-size=\"14.00\">value = [6, 1]</text>\n</g>\n<!-- 152&#45;&gt;153 -->\n<g id=\"edge153\" class=\"edge\">\n<title>152&#45;&gt;153</title>\n<path fill=\"none\" stroke=\"black\" d=\"M2776.84,-608.88C2766.4,-599.71 2754.96,-589.65 2744.13,-580.12\"/>\n<polygon fill=\"black\" stroke=\"black\" points=\"2746.19,-577.27 2736.37,-573.3 2741.57,-582.53 2746.19,-577.27\"/>\n</g>\n<!-- 158 -->\n<g id=\"node159\" class=\"node\">\n<title>158</title>\n<polygon fill=\"none\" stroke=\"black\" points=\"2866.5,-573 2764.5,-573 2764.5,-505 2866.5,-505 2866.5,-573\"/>\n<text text-anchor=\"middle\" x=\"2815.5\" y=\"-557.8\" font-family=\"Helvetica,sans-Serif\" font-size=\"14.00\">Age &lt;= 39.5</text>\n<text text-anchor=\"middle\" x=\"2815.5\" y=\"-542.8\" font-family=\"Helvetica,sans-Serif\" font-size=\"14.00\">gini = 0.105</text>\n<text text-anchor=\"middle\" x=\"2815.5\" y=\"-527.8\" font-family=\"Helvetica,sans-Serif\" font-size=\"14.00\">samples = 18</text>\n<text text-anchor=\"middle\" x=\"2815.5\" y=\"-512.8\" font-family=\"Helvetica,sans-Serif\" font-size=\"14.00\">value = [17, 1]</text>\n</g>\n<!-- 152&#45;&gt;158 -->\n<g id=\"edge158\" class=\"edge\">\n<title>152&#45;&gt;158</title>\n<path fill=\"none\" stroke=\"black\" d=\"M2814.82,-608.88C2814.9,-600.78 2814.99,-591.98 2815.07,-583.47\"/>\n<polygon fill=\"black\" stroke=\"black\" points=\"2818.58,-583.33 2815.17,-573.3 2811.58,-583.26 2818.58,-583.33\"/>\n</g>\n<!-- 154 -->\n<g id=\"node155\" class=\"node\">\n<title>154</title>\n<polygon fill=\"none\" stroke=\"black\" points=\"2637,-461.5 2542,-461.5 2542,-408.5 2637,-408.5 2637,-461.5\"/>\n<text text-anchor=\"middle\" x=\"2589.5\" y=\"-446.3\" font-family=\"Helvetica,sans-Serif\" font-size=\"14.00\">gini = 0.0</text>\n<text text-anchor=\"middle\" x=\"2589.5\" y=\"-431.3\" font-family=\"Helvetica,sans-Serif\" font-size=\"14.00\">samples = 3</text>\n<text text-anchor=\"middle\" x=\"2589.5\" y=\"-416.3\" font-family=\"Helvetica,sans-Serif\" font-size=\"14.00\">value = [3, 0]</text>\n</g>\n<!-- 153&#45;&gt;154 -->\n<g id=\"edge154\" class=\"edge\">\n<title>153&#45;&gt;154</title>\n<path fill=\"none\" stroke=\"black\" d=\"M2663.11,-504.88C2650.65,-493.23 2636.67,-480.14 2624.26,-468.53\"/>\n<polygon fill=\"black\" stroke=\"black\" points=\"2626.46,-465.8 2616.77,-461.52 2621.68,-470.91 2626.46,-465.8\"/>\n</g>\n<!-- 155 -->\n<g id=\"node156\" class=\"node\">\n<title>155</title>\n<polygon fill=\"none\" stroke=\"black\" points=\"2750,-469 2655,-469 2655,-401 2750,-401 2750,-469\"/>\n<text text-anchor=\"middle\" x=\"2702.5\" y=\"-453.8\" font-family=\"Helvetica,sans-Serif\" font-size=\"14.00\">Age &lt;= 42.5</text>\n<text text-anchor=\"middle\" x=\"2702.5\" y=\"-438.8\" font-family=\"Helvetica,sans-Serif\" font-size=\"14.00\">gini = 0.375</text>\n<text text-anchor=\"middle\" x=\"2702.5\" y=\"-423.8\" font-family=\"Helvetica,sans-Serif\" font-size=\"14.00\">samples = 4</text>\n<text text-anchor=\"middle\" x=\"2702.5\" y=\"-408.8\" font-family=\"Helvetica,sans-Serif\" font-size=\"14.00\">value = [3, 1]</text>\n</g>\n<!-- 153&#45;&gt;155 -->\n<g id=\"edge155\" class=\"edge\">\n<title>153&#45;&gt;155</title>\n<path fill=\"none\" stroke=\"black\" d=\"M2699.8,-504.88C2700.12,-496.78 2700.46,-487.98 2700.8,-479.47\"/>\n<polygon fill=\"black\" stroke=\"black\" points=\"2704.3,-479.43 2701.19,-469.3 2697.3,-479.15 2704.3,-479.43\"/>\n</g>\n<!-- 156 -->\n<g id=\"node157\" class=\"node\">\n<title>156</title>\n<polygon fill=\"none\" stroke=\"black\" points=\"2693,-357.5 2598,-357.5 2598,-304.5 2693,-304.5 2693,-357.5\"/>\n<text text-anchor=\"middle\" x=\"2645.5\" y=\"-342.3\" font-family=\"Helvetica,sans-Serif\" font-size=\"14.00\">gini = 0.444</text>\n<text text-anchor=\"middle\" x=\"2645.5\" y=\"-327.3\" font-family=\"Helvetica,sans-Serif\" font-size=\"14.00\">samples = 3</text>\n<text text-anchor=\"middle\" x=\"2645.5\" y=\"-312.3\" font-family=\"Helvetica,sans-Serif\" font-size=\"14.00\">value = [2, 1]</text>\n</g>\n<!-- 155&#45;&gt;156 -->\n<g id=\"edge156\" class=\"edge\">\n<title>155&#45;&gt;156</title>\n<path fill=\"none\" stroke=\"black\" d=\"M2683.99,-400.88C2677.85,-389.89 2670.99,-377.62 2664.79,-366.52\"/>\n<polygon fill=\"black\" stroke=\"black\" points=\"2667.69,-364.54 2659.76,-357.52 2661.58,-367.96 2667.69,-364.54\"/>\n</g>\n<!-- 157 -->\n<g id=\"node158\" class=\"node\">\n<title>157</title>\n<polygon fill=\"none\" stroke=\"black\" points=\"2806,-357.5 2711,-357.5 2711,-304.5 2806,-304.5 2806,-357.5\"/>\n<text text-anchor=\"middle\" x=\"2758.5\" y=\"-342.3\" font-family=\"Helvetica,sans-Serif\" font-size=\"14.00\">gini = 0.0</text>\n<text text-anchor=\"middle\" x=\"2758.5\" y=\"-327.3\" font-family=\"Helvetica,sans-Serif\" font-size=\"14.00\">samples = 1</text>\n<text text-anchor=\"middle\" x=\"2758.5\" y=\"-312.3\" font-family=\"Helvetica,sans-Serif\" font-size=\"14.00\">value = [1, 0]</text>\n</g>\n<!-- 155&#45;&gt;157 -->\n<g id=\"edge157\" class=\"edge\">\n<title>155&#45;&gt;157</title>\n<path fill=\"none\" stroke=\"black\" d=\"M2720.68,-400.88C2726.72,-389.89 2733.46,-377.62 2739.55,-366.52\"/>\n<polygon fill=\"black\" stroke=\"black\" points=\"2742.74,-367.97 2744.49,-357.52 2736.61,-364.6 2742.74,-367.97\"/>\n</g>\n<!-- 159 -->\n<g id=\"node160\" class=\"node\">\n<title>159</title>\n<polygon fill=\"none\" stroke=\"black\" points=\"2863,-461.5 2768,-461.5 2768,-408.5 2863,-408.5 2863,-461.5\"/>\n<text text-anchor=\"middle\" x=\"2815.5\" y=\"-446.3\" font-family=\"Helvetica,sans-Serif\" font-size=\"14.00\">gini = 0.375</text>\n<text text-anchor=\"middle\" x=\"2815.5\" y=\"-431.3\" font-family=\"Helvetica,sans-Serif\" font-size=\"14.00\">samples = 4</text>\n<text text-anchor=\"middle\" x=\"2815.5\" y=\"-416.3\" font-family=\"Helvetica,sans-Serif\" font-size=\"14.00\">value = [3, 1]</text>\n</g>\n<!-- 158&#45;&gt;159 -->\n<g id=\"edge159\" class=\"edge\">\n<title>158&#45;&gt;159</title>\n<path fill=\"none\" stroke=\"black\" d=\"M2815.5,-504.88C2815.5,-494.33 2815.5,-482.6 2815.5,-471.85\"/>\n<polygon fill=\"black\" stroke=\"black\" points=\"2819,-471.52 2815.5,-461.52 2812,-471.52 2819,-471.52\"/>\n</g>\n<!-- 160 -->\n<g id=\"node161\" class=\"node\">\n<title>160</title>\n<polygon fill=\"none\" stroke=\"black\" points=\"2983.5,-461.5 2881.5,-461.5 2881.5,-408.5 2983.5,-408.5 2983.5,-461.5\"/>\n<text text-anchor=\"middle\" x=\"2932.5\" y=\"-446.3\" font-family=\"Helvetica,sans-Serif\" font-size=\"14.00\">gini = 0.0</text>\n<text text-anchor=\"middle\" x=\"2932.5\" y=\"-431.3\" font-family=\"Helvetica,sans-Serif\" font-size=\"14.00\">samples = 14</text>\n<text text-anchor=\"middle\" x=\"2932.5\" y=\"-416.3\" font-family=\"Helvetica,sans-Serif\" font-size=\"14.00\">value = [14, 0]</text>\n</g>\n<!-- 158&#45;&gt;160 -->\n<g id=\"edge160\" class=\"edge\">\n<title>158&#45;&gt;160</title>\n<path fill=\"none\" stroke=\"black\" d=\"M2853.49,-504.88C2866.98,-493.12 2882.15,-479.89 2895.56,-468.2\"/>\n<polygon fill=\"black\" stroke=\"black\" points=\"2897.99,-470.73 2903.23,-461.52 2893.39,-465.45 2897.99,-470.73\"/>\n</g>\n<!-- 162 -->\n<g id=\"node163\" class=\"node\">\n<title>162</title>\n<polygon fill=\"none\" stroke=\"black\" points=\"2980,-565.5 2885,-565.5 2885,-512.5 2980,-512.5 2980,-565.5\"/>\n<text text-anchor=\"middle\" x=\"2932.5\" y=\"-550.3\" font-family=\"Helvetica,sans-Serif\" font-size=\"14.00\">gini = 0.0</text>\n<text text-anchor=\"middle\" x=\"2932.5\" y=\"-535.3\" font-family=\"Helvetica,sans-Serif\" font-size=\"14.00\">samples = 1</text>\n<text text-anchor=\"middle\" x=\"2932.5\" y=\"-520.3\" font-family=\"Helvetica,sans-Serif\" font-size=\"14.00\">value = [1, 0]</text>\n</g>\n<!-- 161&#45;&gt;162 -->\n<g id=\"edge162\" class=\"edge\">\n<title>161&#45;&gt;162</title>\n<path fill=\"none\" stroke=\"black\" d=\"M2933.18,-608.88C2933.07,-598.33 2932.96,-586.6 2932.85,-575.85\"/>\n<polygon fill=\"black\" stroke=\"black\" points=\"2936.35,-575.49 2932.75,-565.52 2929.35,-575.55 2936.35,-575.49\"/>\n</g>\n<!-- 163 -->\n<g id=\"node164\" class=\"node\">\n<title>163</title>\n<polygon fill=\"none\" stroke=\"black\" points=\"3093,-565.5 2998,-565.5 2998,-512.5 3093,-512.5 3093,-565.5\"/>\n<text text-anchor=\"middle\" x=\"3045.5\" y=\"-550.3\" font-family=\"Helvetica,sans-Serif\" font-size=\"14.00\">gini = 0.375</text>\n<text text-anchor=\"middle\" x=\"3045.5\" y=\"-535.3\" font-family=\"Helvetica,sans-Serif\" font-size=\"14.00\">samples = 4</text>\n<text text-anchor=\"middle\" x=\"3045.5\" y=\"-520.3\" font-family=\"Helvetica,sans-Serif\" font-size=\"14.00\">value = [3, 1]</text>\n</g>\n<!-- 161&#45;&gt;163 -->\n<g id=\"edge163\" class=\"edge\">\n<title>161&#45;&gt;163</title>\n<path fill=\"none\" stroke=\"black\" d=\"M2969.86,-608.88C2982.66,-597.23 2997.03,-584.14 3009.78,-572.53\"/>\n<polygon fill=\"black\" stroke=\"black\" points=\"3012.44,-574.84 3017.48,-565.52 3007.73,-569.67 3012.44,-574.84\"/>\n</g>\n<!-- 166 -->\n<g id=\"node167\" class=\"node\">\n<title>166</title>\n<polygon fill=\"none\" stroke=\"black\" points=\"3099.5,-773.5 2997.5,-773.5 2997.5,-720.5 3099.5,-720.5 3099.5,-773.5\"/>\n<text text-anchor=\"middle\" x=\"3048.5\" y=\"-758.3\" font-family=\"Helvetica,sans-Serif\" font-size=\"14.00\">gini = 0.0</text>\n<text text-anchor=\"middle\" x=\"3048.5\" y=\"-743.3\" font-family=\"Helvetica,sans-Serif\" font-size=\"14.00\">samples = 25</text>\n<text text-anchor=\"middle\" x=\"3048.5\" y=\"-728.3\" font-family=\"Helvetica,sans-Serif\" font-size=\"14.00\">value = [25, 0]</text>\n</g>\n<!-- 165&#45;&gt;166 -->\n<g id=\"edge166\" class=\"edge\">\n<title>165&#45;&gt;166</title>\n<path fill=\"none\" stroke=\"black\" d=\"M3048.5,-816.88C3048.5,-806.33 3048.5,-794.6 3048.5,-783.85\"/>\n<polygon fill=\"black\" stroke=\"black\" points=\"3052,-783.52 3048.5,-773.52 3045,-783.52 3052,-783.52\"/>\n</g>\n<!-- 167 -->\n<g id=\"node168\" class=\"node\">\n<title>167</title>\n<polygon fill=\"none\" stroke=\"black\" points=\"3213,-781 3118,-781 3118,-713 3213,-713 3213,-781\"/>\n<text text-anchor=\"middle\" x=\"3165.5\" y=\"-765.8\" font-family=\"Helvetica,sans-Serif\" font-size=\"14.00\">Age &lt;= 63.5</text>\n<text text-anchor=\"middle\" x=\"3165.5\" y=\"-750.8\" font-family=\"Helvetica,sans-Serif\" font-size=\"14.00\">gini = 0.278</text>\n<text text-anchor=\"middle\" x=\"3165.5\" y=\"-735.8\" font-family=\"Helvetica,sans-Serif\" font-size=\"14.00\">samples = 6</text>\n<text text-anchor=\"middle\" x=\"3165.5\" y=\"-720.8\" font-family=\"Helvetica,sans-Serif\" font-size=\"14.00\">value = [5, 1]</text>\n</g>\n<!-- 165&#45;&gt;167 -->\n<g id=\"edge167\" class=\"edge\">\n<title>165&#45;&gt;167</title>\n<path fill=\"none\" stroke=\"black\" d=\"M3086.49,-816.88C3097.01,-807.71 3108.55,-797.65 3119.48,-788.12\"/>\n<polygon fill=\"black\" stroke=\"black\" points=\"3122.07,-790.51 3127.3,-781.3 3117.47,-785.23 3122.07,-790.51\"/>\n</g>\n<!-- 168 -->\n<g id=\"node169\" class=\"node\">\n<title>168</title>\n<polygon fill=\"none\" stroke=\"black\" points=\"3157,-669.5 3062,-669.5 3062,-616.5 3157,-616.5 3157,-669.5\"/>\n<text text-anchor=\"middle\" x=\"3109.5\" y=\"-654.3\" font-family=\"Helvetica,sans-Serif\" font-size=\"14.00\">gini = 0.0</text>\n<text text-anchor=\"middle\" x=\"3109.5\" y=\"-639.3\" font-family=\"Helvetica,sans-Serif\" font-size=\"14.00\">samples = 1</text>\n<text text-anchor=\"middle\" x=\"3109.5\" y=\"-624.3\" font-family=\"Helvetica,sans-Serif\" font-size=\"14.00\">value = [0, 1]</text>\n</g>\n<!-- 167&#45;&gt;168 -->\n<g id=\"edge168\" class=\"edge\">\n<title>167&#45;&gt;168</title>\n<path fill=\"none\" stroke=\"black\" d=\"M3147.32,-712.88C3141.28,-701.89 3134.54,-689.62 3128.45,-678.52\"/>\n<polygon fill=\"black\" stroke=\"black\" points=\"3131.39,-676.6 3123.51,-669.52 3125.26,-679.97 3131.39,-676.6\"/>\n</g>\n<!-- 169 -->\n<g id=\"node170\" class=\"node\">\n<title>169</title>\n<polygon fill=\"none\" stroke=\"black\" points=\"3270,-669.5 3175,-669.5 3175,-616.5 3270,-616.5 3270,-669.5\"/>\n<text text-anchor=\"middle\" x=\"3222.5\" y=\"-654.3\" font-family=\"Helvetica,sans-Serif\" font-size=\"14.00\">gini = 0.0</text>\n<text text-anchor=\"middle\" x=\"3222.5\" y=\"-639.3\" font-family=\"Helvetica,sans-Serif\" font-size=\"14.00\">samples = 5</text>\n<text text-anchor=\"middle\" x=\"3222.5\" y=\"-624.3\" font-family=\"Helvetica,sans-Serif\" font-size=\"14.00\">value = [5, 0]</text>\n</g>\n<!-- 167&#45;&gt;169 -->\n<g id=\"edge169\" class=\"edge\">\n<title>167&#45;&gt;169</title>\n<path fill=\"none\" stroke=\"black\" d=\"M3184.01,-712.88C3190.15,-701.89 3197.01,-689.62 3203.21,-678.52\"/>\n<polygon fill=\"black\" stroke=\"black\" points=\"3206.42,-679.96 3208.24,-669.52 3200.31,-676.54 3206.42,-679.96\"/>\n</g>\n<!-- 171 -->\n<g id=\"node172\" class=\"node\">\n<title>171</title>\n<polygon fill=\"none\" stroke=\"black\" points=\"3406.5,-1405 3296.5,-1405 3296.5,-1337 3406.5,-1337 3406.5,-1405\"/>\n<text text-anchor=\"middle\" x=\"3351.5\" y=\"-1389.8\" font-family=\"Helvetica,sans-Serif\" font-size=\"14.00\">Age &lt;= 2.5</text>\n<text text-anchor=\"middle\" x=\"3351.5\" y=\"-1374.8\" font-family=\"Helvetica,sans-Serif\" font-size=\"14.00\">gini = 0.107</text>\n<text text-anchor=\"middle\" x=\"3351.5\" y=\"-1359.8\" font-family=\"Helvetica,sans-Serif\" font-size=\"14.00\">samples = 159</text>\n<text text-anchor=\"middle\" x=\"3351.5\" y=\"-1344.8\" font-family=\"Helvetica,sans-Serif\" font-size=\"14.00\">value = [9, 150]</text>\n</g>\n<!-- 170&#45;&gt;171 -->\n<g id=\"edge171\" class=\"edge\">\n<title>170&#45;&gt;171</title>\n<path fill=\"none\" stroke=\"black\" d=\"M3351.5,-1440.88C3351.5,-1432.78 3351.5,-1423.98 3351.5,-1415.47\"/>\n<polygon fill=\"black\" stroke=\"black\" points=\"3355,-1415.3 3351.5,-1405.3 3348,-1415.3 3355,-1415.3\"/>\n</g>\n<!-- 208 -->\n<g id=\"node209\" class=\"node\">\n<title>208</title>\n<polygon fill=\"none\" stroke=\"black\" points=\"4488.5,-1405 4378.5,-1405 4378.5,-1337 4488.5,-1337 4488.5,-1405\"/>\n<text text-anchor=\"middle\" x=\"4433.5\" y=\"-1389.8\" font-family=\"Helvetica,sans-Serif\" font-size=\"14.00\">Age &lt;= 38.5</text>\n<text text-anchor=\"middle\" x=\"4433.5\" y=\"-1374.8\" font-family=\"Helvetica,sans-Serif\" font-size=\"14.00\">gini = 0.497</text>\n<text text-anchor=\"middle\" x=\"4433.5\" y=\"-1359.8\" font-family=\"Helvetica,sans-Serif\" font-size=\"14.00\">samples = 102</text>\n<text text-anchor=\"middle\" x=\"4433.5\" y=\"-1344.8\" font-family=\"Helvetica,sans-Serif\" font-size=\"14.00\">value = [55, 47]</text>\n</g>\n<!-- 170&#45;&gt;208 -->\n<g id=\"edge208\" class=\"edge\">\n<title>170&#45;&gt;208</title>\n<path fill=\"none\" stroke=\"black\" d=\"M3410.06,-1468.48C3596.14,-1450.94 4173.14,-1396.54 4368.25,-1378.15\"/>\n<polygon fill=\"black\" stroke=\"black\" points=\"4368.73,-1381.62 4378.36,-1377.2 4368.07,-1374.65 4368.73,-1381.62\"/>\n</g>\n<!-- 172 -->\n<g id=\"node173\" class=\"node\">\n<title>172</title>\n<polygon fill=\"none\" stroke=\"black\" points=\"3340,-1301 3241,-1301 3241,-1233 3340,-1233 3340,-1301\"/>\n<text text-anchor=\"middle\" x=\"3290.5\" y=\"-1285.8\" font-family=\"Helvetica,sans-Serif\" font-size=\"14.00\">Pclass &lt;= 1.5</text>\n<text text-anchor=\"middle\" x=\"3290.5\" y=\"-1270.8\" font-family=\"Helvetica,sans-Serif\" font-size=\"14.00\">gini = 0.5</text>\n<text text-anchor=\"middle\" x=\"3290.5\" y=\"-1255.8\" font-family=\"Helvetica,sans-Serif\" font-size=\"14.00\">samples = 2</text>\n<text text-anchor=\"middle\" x=\"3290.5\" y=\"-1240.8\" font-family=\"Helvetica,sans-Serif\" font-size=\"14.00\">value = [1, 1]</text>\n</g>\n<!-- 171&#45;&gt;172 -->\n<g id=\"edge172\" class=\"edge\">\n<title>171&#45;&gt;172</title>\n<path fill=\"none\" stroke=\"black\" d=\"M3331.7,-1336.88C3326.58,-1328.33 3321.01,-1319.01 3315.66,-1310.07\"/>\n<polygon fill=\"black\" stroke=\"black\" points=\"3318.55,-1308.09 3310.41,-1301.3 3312.54,-1311.68 3318.55,-1308.09\"/>\n</g>\n<!-- 175 -->\n<g id=\"node176\" class=\"node\">\n<title>175</title>\n<polygon fill=\"none\" stroke=\"black\" points=\"3468.5,-1301 3358.5,-1301 3358.5,-1233 3468.5,-1233 3468.5,-1301\"/>\n<text text-anchor=\"middle\" x=\"3413.5\" y=\"-1285.8\" font-family=\"Helvetica,sans-Serif\" font-size=\"14.00\">Age &lt;= 23.5</text>\n<text text-anchor=\"middle\" x=\"3413.5\" y=\"-1270.8\" font-family=\"Helvetica,sans-Serif\" font-size=\"14.00\">gini = 0.097</text>\n<text text-anchor=\"middle\" x=\"3413.5\" y=\"-1255.8\" font-family=\"Helvetica,sans-Serif\" font-size=\"14.00\">samples = 157</text>\n<text text-anchor=\"middle\" x=\"3413.5\" y=\"-1240.8\" font-family=\"Helvetica,sans-Serif\" font-size=\"14.00\">value = [8, 149]</text>\n</g>\n<!-- 171&#45;&gt;175 -->\n<g id=\"edge175\" class=\"edge\">\n<title>171&#45;&gt;175</title>\n<path fill=\"none\" stroke=\"black\" d=\"M3371.63,-1336.88C3376.83,-1328.33 3382.49,-1319.01 3387.93,-1310.07\"/>\n<polygon fill=\"black\" stroke=\"black\" points=\"3391.06,-1311.66 3393.26,-1301.3 3385.07,-1308.03 3391.06,-1311.66\"/>\n</g>\n<!-- 173 -->\n<g id=\"node174\" class=\"node\">\n<title>173</title>\n<polygon fill=\"none\" stroke=\"black\" points=\"3227,-1189.5 3132,-1189.5 3132,-1136.5 3227,-1136.5 3227,-1189.5\"/>\n<text text-anchor=\"middle\" x=\"3179.5\" y=\"-1174.3\" font-family=\"Helvetica,sans-Serif\" font-size=\"14.00\">gini = 0.0</text>\n<text text-anchor=\"middle\" x=\"3179.5\" y=\"-1159.3\" font-family=\"Helvetica,sans-Serif\" font-size=\"14.00\">samples = 1</text>\n<text text-anchor=\"middle\" x=\"3179.5\" y=\"-1144.3\" font-family=\"Helvetica,sans-Serif\" font-size=\"14.00\">value = [1, 0]</text>\n</g>\n<!-- 172&#45;&gt;173 -->\n<g id=\"edge173\" class=\"edge\">\n<title>172&#45;&gt;173</title>\n<path fill=\"none\" stroke=\"black\" d=\"M3254.46,-1232.88C3241.78,-1221.23 3227.54,-1208.14 3214.9,-1196.53\"/>\n<polygon fill=\"black\" stroke=\"black\" points=\"3217,-1193.71 3207.27,-1189.52 3212.27,-1198.86 3217,-1193.71\"/>\n</g>\n<!-- 174 -->\n<g id=\"node175\" class=\"node\">\n<title>174</title>\n<polygon fill=\"none\" stroke=\"black\" points=\"3340,-1189.5 3245,-1189.5 3245,-1136.5 3340,-1136.5 3340,-1189.5\"/>\n<text text-anchor=\"middle\" x=\"3292.5\" y=\"-1174.3\" font-family=\"Helvetica,sans-Serif\" font-size=\"14.00\">gini = 0.0</text>\n<text text-anchor=\"middle\" x=\"3292.5\" y=\"-1159.3\" font-family=\"Helvetica,sans-Serif\" font-size=\"14.00\">samples = 1</text>\n<text text-anchor=\"middle\" x=\"3292.5\" y=\"-1144.3\" font-family=\"Helvetica,sans-Serif\" font-size=\"14.00\">value = [0, 1]</text>\n</g>\n<!-- 172&#45;&gt;174 -->\n<g id=\"edge174\" class=\"edge\">\n<title>172&#45;&gt;174</title>\n<path fill=\"none\" stroke=\"black\" d=\"M3291.15,-1232.88C3291.36,-1222.22 3291.59,-1210.35 3291.8,-1199.52\"/>\n<polygon fill=\"black\" stroke=\"black\" points=\"3295.3,-1199.59 3292,-1189.52 3288.3,-1199.45 3295.3,-1199.59\"/>\n</g>\n<!-- 176 -->\n<g id=\"node177\" class=\"node\">\n<title>176</title>\n<polygon fill=\"none\" stroke=\"black\" points=\"3463.5,-1189.5 3361.5,-1189.5 3361.5,-1136.5 3463.5,-1136.5 3463.5,-1189.5\"/>\n<text text-anchor=\"middle\" x=\"3412.5\" y=\"-1174.3\" font-family=\"Helvetica,sans-Serif\" font-size=\"14.00\">gini = 0.0</text>\n<text text-anchor=\"middle\" x=\"3412.5\" y=\"-1159.3\" font-family=\"Helvetica,sans-Serif\" font-size=\"14.00\">samples = 40</text>\n<text text-anchor=\"middle\" x=\"3412.5\" y=\"-1144.3\" font-family=\"Helvetica,sans-Serif\" font-size=\"14.00\">value = [0, 40]</text>\n</g>\n<!-- 175&#45;&gt;176 -->\n<g id=\"edge176\" class=\"edge\">\n<title>175&#45;&gt;176</title>\n<path fill=\"none\" stroke=\"black\" d=\"M3413.18,-1232.88C3413.07,-1222.33 3412.96,-1210.6 3412.85,-1199.85\"/>\n<polygon fill=\"black\" stroke=\"black\" points=\"3416.35,-1199.49 3412.75,-1189.52 3409.35,-1199.55 3416.35,-1199.49\"/>\n</g>\n<!-- 177 -->\n<g id=\"node178\" class=\"node\">\n<title>177</title>\n<polygon fill=\"none\" stroke=\"black\" points=\"3591.5,-1197 3481.5,-1197 3481.5,-1129 3591.5,-1129 3591.5,-1197\"/>\n<text text-anchor=\"middle\" x=\"3536.5\" y=\"-1181.8\" font-family=\"Helvetica,sans-Serif\" font-size=\"14.00\">Age &lt;= 27.5</text>\n<text text-anchor=\"middle\" x=\"3536.5\" y=\"-1166.8\" font-family=\"Helvetica,sans-Serif\" font-size=\"14.00\">gini = 0.127</text>\n<text text-anchor=\"middle\" x=\"3536.5\" y=\"-1151.8\" font-family=\"Helvetica,sans-Serif\" font-size=\"14.00\">samples = 117</text>\n<text text-anchor=\"middle\" x=\"3536.5\" y=\"-1136.8\" font-family=\"Helvetica,sans-Serif\" font-size=\"14.00\">value = [8, 109]</text>\n</g>\n<!-- 175&#45;&gt;177 -->\n<g id=\"edge177\" class=\"edge\">\n<title>175&#45;&gt;177</title>\n<path fill=\"none\" stroke=\"black\" d=\"M3453.43,-1232.88C3464.61,-1223.62 3476.86,-1213.45 3488.45,-1203.85\"/>\n<polygon fill=\"black\" stroke=\"black\" points=\"3490.88,-1206.38 3496.34,-1197.3 3486.41,-1200.99 3490.88,-1206.38\"/>\n</g>\n<!-- 178 -->\n<g id=\"node179\" class=\"node\">\n<title>178</title>\n<polygon fill=\"none\" stroke=\"black\" points=\"3501.5,-1093 3399.5,-1093 3399.5,-1025 3501.5,-1025 3501.5,-1093\"/>\n<text text-anchor=\"middle\" x=\"3450.5\" y=\"-1077.8\" font-family=\"Helvetica,sans-Serif\" font-size=\"14.00\">Age &lt;= 24.5</text>\n<text text-anchor=\"middle\" x=\"3450.5\" y=\"-1062.8\" font-family=\"Helvetica,sans-Serif\" font-size=\"14.00\">gini = 0.32</text>\n<text text-anchor=\"middle\" x=\"3450.5\" y=\"-1047.8\" font-family=\"Helvetica,sans-Serif\" font-size=\"14.00\">samples = 20</text>\n<text text-anchor=\"middle\" x=\"3450.5\" y=\"-1032.8\" font-family=\"Helvetica,sans-Serif\" font-size=\"14.00\">value = [4, 16]</text>\n</g>\n<!-- 177&#45;&gt;178 -->\n<g id=\"edge178\" class=\"edge\">\n<title>177&#45;&gt;178</title>\n<path fill=\"none\" stroke=\"black\" d=\"M3508.58,-1128.88C3501.07,-1119.98 3492.86,-1110.24 3485.03,-1100.96\"/>\n<polygon fill=\"black\" stroke=\"black\" points=\"3487.7,-1098.69 3478.58,-1093.3 3482.35,-1103.2 3487.7,-1098.69\"/>\n</g>\n<!-- 191 -->\n<g id=\"node192\" class=\"node\">\n<title>191</title>\n<polygon fill=\"none\" stroke=\"black\" points=\"3673.5,-1093 3571.5,-1093 3571.5,-1025 3673.5,-1025 3673.5,-1093\"/>\n<text text-anchor=\"middle\" x=\"3622.5\" y=\"-1077.8\" font-family=\"Helvetica,sans-Serif\" font-size=\"14.00\">Age &lt;= 37.0</text>\n<text text-anchor=\"middle\" x=\"3622.5\" y=\"-1062.8\" font-family=\"Helvetica,sans-Serif\" font-size=\"14.00\">gini = 0.079</text>\n<text text-anchor=\"middle\" x=\"3622.5\" y=\"-1047.8\" font-family=\"Helvetica,sans-Serif\" font-size=\"14.00\">samples = 97</text>\n<text text-anchor=\"middle\" x=\"3622.5\" y=\"-1032.8\" font-family=\"Helvetica,sans-Serif\" font-size=\"14.00\">value = [4, 93]</text>\n</g>\n<!-- 177&#45;&gt;191 -->\n<g id=\"edge191\" class=\"edge\">\n<title>177&#45;&gt;191</title>\n<path fill=\"none\" stroke=\"black\" d=\"M3564.42,-1128.88C3571.93,-1119.98 3580.14,-1110.24 3587.97,-1100.96\"/>\n<polygon fill=\"black\" stroke=\"black\" points=\"3590.65,-1103.2 3594.42,-1093.3 3585.3,-1098.69 3590.65,-1103.2\"/>\n</g>\n<!-- 179 -->\n<g id=\"node180\" class=\"node\">\n<title>179</title>\n<polygon fill=\"none\" stroke=\"black\" points=\"3329.5,-989 3227.5,-989 3227.5,-921 3329.5,-921 3329.5,-989\"/>\n<text text-anchor=\"middle\" x=\"3278.5\" y=\"-973.8\" font-family=\"Helvetica,sans-Serif\" font-size=\"14.00\">Pclass &lt;= 1.5</text>\n<text text-anchor=\"middle\" x=\"3278.5\" y=\"-958.8\" font-family=\"Helvetica,sans-Serif\" font-size=\"14.00\">gini = 0.153</text>\n<text text-anchor=\"middle\" x=\"3278.5\" y=\"-943.8\" font-family=\"Helvetica,sans-Serif\" font-size=\"14.00\">samples = 12</text>\n<text text-anchor=\"middle\" x=\"3278.5\" y=\"-928.8\" font-family=\"Helvetica,sans-Serif\" font-size=\"14.00\">value = [1, 11]</text>\n</g>\n<!-- 178&#45;&gt;179 -->\n<g id=\"edge179\" class=\"edge\">\n<title>178&#45;&gt;179</title>\n<path fill=\"none\" stroke=\"black\" d=\"M3399.36,-1027.67C3380.21,-1016.32 3358.28,-1003.31 3338.41,-991.53\"/>\n<polygon fill=\"black\" stroke=\"black\" points=\"3340.13,-988.48 3329.74,-986.39 3336.56,-994.5 3340.13,-988.48\"/>\n</g>\n<!-- 182 -->\n<g id=\"node183\" class=\"node\">\n<title>182</title>\n<polygon fill=\"none\" stroke=\"black\" points=\"3500,-989 3401,-989 3401,-921 3500,-921 3500,-989\"/>\n<text text-anchor=\"middle\" x=\"3450.5\" y=\"-973.8\" font-family=\"Helvetica,sans-Serif\" font-size=\"14.00\">Pclass &lt;= 1.5</text>\n<text text-anchor=\"middle\" x=\"3450.5\" y=\"-958.8\" font-family=\"Helvetica,sans-Serif\" font-size=\"14.00\">gini = 0.469</text>\n<text text-anchor=\"middle\" x=\"3450.5\" y=\"-943.8\" font-family=\"Helvetica,sans-Serif\" font-size=\"14.00\">samples = 8</text>\n<text text-anchor=\"middle\" x=\"3450.5\" y=\"-928.8\" font-family=\"Helvetica,sans-Serif\" font-size=\"14.00\">value = [3, 5]</text>\n</g>\n<!-- 178&#45;&gt;182 -->\n<g id=\"edge182\" class=\"edge\">\n<title>178&#45;&gt;182</title>\n<path fill=\"none\" stroke=\"black\" d=\"M3450.5,-1024.88C3450.5,-1016.78 3450.5,-1007.98 3450.5,-999.47\"/>\n<polygon fill=\"black\" stroke=\"black\" points=\"3454,-999.3 3450.5,-989.3 3447,-999.3 3454,-999.3\"/>\n</g>\n<!-- 180 -->\n<g id=\"node181\" class=\"node\">\n<title>180</title>\n<polygon fill=\"none\" stroke=\"black\" points=\"3213,-877.5 3118,-877.5 3118,-824.5 3213,-824.5 3213,-877.5\"/>\n<text text-anchor=\"middle\" x=\"3165.5\" y=\"-862.3\" font-family=\"Helvetica,sans-Serif\" font-size=\"14.00\">gini = 0.0</text>\n<text text-anchor=\"middle\" x=\"3165.5\" y=\"-847.3\" font-family=\"Helvetica,sans-Serif\" font-size=\"14.00\">samples = 5</text>\n<text text-anchor=\"middle\" x=\"3165.5\" y=\"-832.3\" font-family=\"Helvetica,sans-Serif\" font-size=\"14.00\">value = [0, 5]</text>\n</g>\n<!-- 179&#45;&gt;180 -->\n<g id=\"edge180\" class=\"edge\">\n<title>179&#45;&gt;180</title>\n<path fill=\"none\" stroke=\"black\" d=\"M3241.81,-920.88C3228.9,-909.23 3214.4,-896.14 3201.54,-884.53\"/>\n<polygon fill=\"black\" stroke=\"black\" points=\"3203.54,-881.62 3193.77,-877.52 3198.85,-886.82 3203.54,-881.62\"/>\n</g>\n<!-- 181 -->\n<g id=\"node182\" class=\"node\">\n<title>181</title>\n<polygon fill=\"none\" stroke=\"black\" points=\"3326,-877.5 3231,-877.5 3231,-824.5 3326,-824.5 3326,-877.5\"/>\n<text text-anchor=\"middle\" x=\"3278.5\" y=\"-862.3\" font-family=\"Helvetica,sans-Serif\" font-size=\"14.00\">gini = 0.245</text>\n<text text-anchor=\"middle\" x=\"3278.5\" y=\"-847.3\" font-family=\"Helvetica,sans-Serif\" font-size=\"14.00\">samples = 7</text>\n<text text-anchor=\"middle\" x=\"3278.5\" y=\"-832.3\" font-family=\"Helvetica,sans-Serif\" font-size=\"14.00\">value = [1, 6]</text>\n</g>\n<!-- 179&#45;&gt;181 -->\n<g id=\"edge181\" class=\"edge\">\n<title>179&#45;&gt;181</title>\n<path fill=\"none\" stroke=\"black\" d=\"M3278.5,-920.88C3278.5,-910.33 3278.5,-898.6 3278.5,-887.85\"/>\n<polygon fill=\"black\" stroke=\"black\" points=\"3282,-887.52 3278.5,-877.52 3275,-887.52 3282,-887.52\"/>\n</g>\n<!-- 183 -->\n<g id=\"node184\" class=\"node\">\n<title>183</title>\n<polygon fill=\"none\" stroke=\"black\" points=\"3439,-885 3344,-885 3344,-817 3439,-817 3439,-885\"/>\n<text text-anchor=\"middle\" x=\"3391.5\" y=\"-869.8\" font-family=\"Helvetica,sans-Serif\" font-size=\"14.00\">Age &lt;= 25.5</text>\n<text text-anchor=\"middle\" x=\"3391.5\" y=\"-854.8\" font-family=\"Helvetica,sans-Serif\" font-size=\"14.00\">gini = 0.5</text>\n<text text-anchor=\"middle\" x=\"3391.5\" y=\"-839.8\" font-family=\"Helvetica,sans-Serif\" font-size=\"14.00\">samples = 2</text>\n<text text-anchor=\"middle\" x=\"3391.5\" y=\"-824.8\" font-family=\"Helvetica,sans-Serif\" font-size=\"14.00\">value = [1, 1]</text>\n</g>\n<!-- 182&#45;&gt;183 -->\n<g id=\"edge183\" class=\"edge\">\n<title>182&#45;&gt;183</title>\n<path fill=\"none\" stroke=\"black\" d=\"M3431.34,-920.88C3426.4,-912.33 3421.01,-903.01 3415.84,-894.07\"/>\n<polygon fill=\"black\" stroke=\"black\" points=\"3418.8,-892.2 3410.76,-885.3 3412.74,-895.71 3418.8,-892.2\"/>\n</g>\n<!-- 186 -->\n<g id=\"node187\" class=\"node\">\n<title>186</title>\n<polygon fill=\"none\" stroke=\"black\" points=\"3552,-885 3457,-885 3457,-817 3552,-817 3552,-885\"/>\n<text text-anchor=\"middle\" x=\"3504.5\" y=\"-869.8\" font-family=\"Helvetica,sans-Serif\" font-size=\"14.00\">Age &lt;= 25.5</text>\n<text text-anchor=\"middle\" x=\"3504.5\" y=\"-854.8\" font-family=\"Helvetica,sans-Serif\" font-size=\"14.00\">gini = 0.444</text>\n<text text-anchor=\"middle\" x=\"3504.5\" y=\"-839.8\" font-family=\"Helvetica,sans-Serif\" font-size=\"14.00\">samples = 6</text>\n<text text-anchor=\"middle\" x=\"3504.5\" y=\"-824.8\" font-family=\"Helvetica,sans-Serif\" font-size=\"14.00\">value = [2, 4]</text>\n</g>\n<!-- 182&#45;&gt;186 -->\n<g id=\"edge186\" class=\"edge\">\n<title>182&#45;&gt;186</title>\n<path fill=\"none\" stroke=\"black\" d=\"M3468.03,-920.88C3472.51,-912.42 3477.39,-903.21 3482.08,-894.35\"/>\n<polygon fill=\"black\" stroke=\"black\" points=\"3485.29,-895.77 3486.87,-885.3 3479.1,-892.5 3485.29,-895.77\"/>\n</g>\n<!-- 184 -->\n<g id=\"node185\" class=\"node\">\n<title>184</title>\n<polygon fill=\"none\" stroke=\"black\" points=\"3326,-773.5 3231,-773.5 3231,-720.5 3326,-720.5 3326,-773.5\"/>\n<text text-anchor=\"middle\" x=\"3278.5\" y=\"-758.3\" font-family=\"Helvetica,sans-Serif\" font-size=\"14.00\">gini = 0.0</text>\n<text text-anchor=\"middle\" x=\"3278.5\" y=\"-743.3\" font-family=\"Helvetica,sans-Serif\" font-size=\"14.00\">samples = 1</text>\n<text text-anchor=\"middle\" x=\"3278.5\" y=\"-728.3\" font-family=\"Helvetica,sans-Serif\" font-size=\"14.00\">value = [1, 0]</text>\n</g>\n<!-- 183&#45;&gt;184 -->\n<g id=\"edge184\" class=\"edge\">\n<title>183&#45;&gt;184</title>\n<path fill=\"none\" stroke=\"black\" d=\"M3354.81,-816.88C3341.9,-805.23 3327.4,-792.14 3314.54,-780.53\"/>\n<polygon fill=\"black\" stroke=\"black\" points=\"3316.54,-777.62 3306.77,-773.52 3311.85,-782.82 3316.54,-777.62\"/>\n</g>\n<!-- 185 -->\n<g id=\"node186\" class=\"node\">\n<title>185</title>\n<polygon fill=\"none\" stroke=\"black\" points=\"3439,-773.5 3344,-773.5 3344,-720.5 3439,-720.5 3439,-773.5\"/>\n<text text-anchor=\"middle\" x=\"3391.5\" y=\"-758.3\" font-family=\"Helvetica,sans-Serif\" font-size=\"14.00\">gini = 0.0</text>\n<text text-anchor=\"middle\" x=\"3391.5\" y=\"-743.3\" font-family=\"Helvetica,sans-Serif\" font-size=\"14.00\">samples = 1</text>\n<text text-anchor=\"middle\" x=\"3391.5\" y=\"-728.3\" font-family=\"Helvetica,sans-Serif\" font-size=\"14.00\">value = [0, 1]</text>\n</g>\n<!-- 183&#45;&gt;185 -->\n<g id=\"edge185\" class=\"edge\">\n<title>183&#45;&gt;185</title>\n<path fill=\"none\" stroke=\"black\" d=\"M3391.5,-816.88C3391.5,-806.33 3391.5,-794.6 3391.5,-783.85\"/>\n<polygon fill=\"black\" stroke=\"black\" points=\"3395,-783.52 3391.5,-773.52 3388,-783.52 3395,-783.52\"/>\n</g>\n<!-- 187 -->\n<g id=\"node188\" class=\"node\">\n<title>187</title>\n<polygon fill=\"none\" stroke=\"black\" points=\"3552,-773.5 3457,-773.5 3457,-720.5 3552,-720.5 3552,-773.5\"/>\n<text text-anchor=\"middle\" x=\"3504.5\" y=\"-758.3\" font-family=\"Helvetica,sans-Serif\" font-size=\"14.00\">gini = 0.0</text>\n<text text-anchor=\"middle\" x=\"3504.5\" y=\"-743.3\" font-family=\"Helvetica,sans-Serif\" font-size=\"14.00\">samples = 2</text>\n<text text-anchor=\"middle\" x=\"3504.5\" y=\"-728.3\" font-family=\"Helvetica,sans-Serif\" font-size=\"14.00\">value = [0, 2]</text>\n</g>\n<!-- 186&#45;&gt;187 -->\n<g id=\"edge187\" class=\"edge\">\n<title>186&#45;&gt;187</title>\n<path fill=\"none\" stroke=\"black\" d=\"M3504.5,-816.88C3504.5,-806.33 3504.5,-794.6 3504.5,-783.85\"/>\n<polygon fill=\"black\" stroke=\"black\" points=\"3508,-783.52 3504.5,-773.52 3501,-783.52 3508,-783.52\"/>\n</g>\n<!-- 188 -->\n<g id=\"node189\" class=\"node\">\n<title>188</title>\n<polygon fill=\"none\" stroke=\"black\" points=\"3665,-781 3570,-781 3570,-713 3665,-713 3665,-781\"/>\n<text text-anchor=\"middle\" x=\"3617.5\" y=\"-765.8\" font-family=\"Helvetica,sans-Serif\" font-size=\"14.00\">Age &lt;= 26.5</text>\n<text text-anchor=\"middle\" x=\"3617.5\" y=\"-750.8\" font-family=\"Helvetica,sans-Serif\" font-size=\"14.00\">gini = 0.5</text>\n<text text-anchor=\"middle\" x=\"3617.5\" y=\"-735.8\" font-family=\"Helvetica,sans-Serif\" font-size=\"14.00\">samples = 4</text>\n<text text-anchor=\"middle\" x=\"3617.5\" y=\"-720.8\" font-family=\"Helvetica,sans-Serif\" font-size=\"14.00\">value = [2, 2]</text>\n</g>\n<!-- 186&#45;&gt;188 -->\n<g id=\"edge188\" class=\"edge\">\n<title>186&#45;&gt;188</title>\n<path fill=\"none\" stroke=\"black\" d=\"M3541.19,-816.88C3551.35,-807.71 3562.5,-797.65 3573.05,-788.12\"/>\n<polygon fill=\"black\" stroke=\"black\" points=\"3575.53,-790.6 3580.61,-781.3 3570.84,-785.4 3575.53,-790.6\"/>\n</g>\n<!-- 189 -->\n<g id=\"node190\" class=\"node\">\n<title>189</title>\n<polygon fill=\"none\" stroke=\"black\" points=\"3556,-669.5 3461,-669.5 3461,-616.5 3556,-616.5 3556,-669.5\"/>\n<text text-anchor=\"middle\" x=\"3508.5\" y=\"-654.3\" font-family=\"Helvetica,sans-Serif\" font-size=\"14.00\">gini = 0.0</text>\n<text text-anchor=\"middle\" x=\"3508.5\" y=\"-639.3\" font-family=\"Helvetica,sans-Serif\" font-size=\"14.00\">samples = 1</text>\n<text text-anchor=\"middle\" x=\"3508.5\" y=\"-624.3\" font-family=\"Helvetica,sans-Serif\" font-size=\"14.00\">value = [1, 0]</text>\n</g>\n<!-- 188&#45;&gt;189 -->\n<g id=\"edge189\" class=\"edge\">\n<title>188&#45;&gt;189</title>\n<path fill=\"none\" stroke=\"black\" d=\"M3582.11,-712.88C3569.65,-701.23 3555.67,-688.14 3543.26,-676.53\"/>\n<polygon fill=\"black\" stroke=\"black\" points=\"3545.46,-673.8 3535.77,-669.52 3540.68,-678.91 3545.46,-673.8\"/>\n</g>\n<!-- 190 -->\n<g id=\"node191\" class=\"node\">\n<title>190</title>\n<polygon fill=\"none\" stroke=\"black\" points=\"3669,-669.5 3574,-669.5 3574,-616.5 3669,-616.5 3669,-669.5\"/>\n<text text-anchor=\"middle\" x=\"3621.5\" y=\"-654.3\" font-family=\"Helvetica,sans-Serif\" font-size=\"14.00\">gini = 0.444</text>\n<text text-anchor=\"middle\" x=\"3621.5\" y=\"-639.3\" font-family=\"Helvetica,sans-Serif\" font-size=\"14.00\">samples = 3</text>\n<text text-anchor=\"middle\" x=\"3621.5\" y=\"-624.3\" font-family=\"Helvetica,sans-Serif\" font-size=\"14.00\">value = [1, 2]</text>\n</g>\n<!-- 188&#45;&gt;190 -->\n<g id=\"edge190\" class=\"edge\">\n<title>188&#45;&gt;190</title>\n<path fill=\"none\" stroke=\"black\" d=\"M3618.8,-712.88C3619.22,-702.22 3619.68,-690.35 3620.11,-679.52\"/>\n<polygon fill=\"black\" stroke=\"black\" points=\"3623.6,-679.65 3620.5,-669.52 3616.61,-679.38 3623.6,-679.65\"/>\n</g>\n<!-- 192 -->\n<g id=\"node193\" class=\"node\">\n<title>192</title>\n<polygon fill=\"none\" stroke=\"black\" points=\"3673.5,-981.5 3571.5,-981.5 3571.5,-928.5 3673.5,-928.5 3673.5,-981.5\"/>\n<text text-anchor=\"middle\" x=\"3622.5\" y=\"-966.3\" font-family=\"Helvetica,sans-Serif\" font-size=\"14.00\">gini = 0.0</text>\n<text text-anchor=\"middle\" x=\"3622.5\" y=\"-951.3\" font-family=\"Helvetica,sans-Serif\" font-size=\"14.00\">samples = 45</text>\n<text text-anchor=\"middle\" x=\"3622.5\" y=\"-936.3\" font-family=\"Helvetica,sans-Serif\" font-size=\"14.00\">value = [0, 45]</text>\n</g>\n<!-- 191&#45;&gt;192 -->\n<g id=\"edge192\" class=\"edge\">\n<title>191&#45;&gt;192</title>\n<path fill=\"none\" stroke=\"black\" d=\"M3622.5,-1024.88C3622.5,-1014.33 3622.5,-1002.6 3622.5,-991.85\"/>\n<polygon fill=\"black\" stroke=\"black\" points=\"3626,-991.52 3622.5,-981.52 3619,-991.52 3626,-991.52\"/>\n</g>\n<!-- 193 -->\n<g id=\"node194\" class=\"node\">\n<title>193</title>\n<polygon fill=\"none\" stroke=\"black\" points=\"3844.5,-989 3742.5,-989 3742.5,-921 3844.5,-921 3844.5,-989\"/>\n<text text-anchor=\"middle\" x=\"3793.5\" y=\"-973.8\" font-family=\"Helvetica,sans-Serif\" font-size=\"14.00\">Pclass &lt;= 1.5</text>\n<text text-anchor=\"middle\" x=\"3793.5\" y=\"-958.8\" font-family=\"Helvetica,sans-Serif\" font-size=\"14.00\">gini = 0.142</text>\n<text text-anchor=\"middle\" x=\"3793.5\" y=\"-943.8\" font-family=\"Helvetica,sans-Serif\" font-size=\"14.00\">samples = 52</text>\n<text text-anchor=\"middle\" x=\"3793.5\" y=\"-928.8\" font-family=\"Helvetica,sans-Serif\" font-size=\"14.00\">value = [4, 48]</text>\n</g>\n<!-- 191&#45;&gt;193 -->\n<g id=\"edge193\" class=\"edge\">\n<title>191&#45;&gt;193</title>\n<path fill=\"none\" stroke=\"black\" d=\"M3673.81,-1027.4C3692.57,-1016.2 3713.97,-1003.44 3733.44,-991.83\"/>\n<polygon fill=\"black\" stroke=\"black\" points=\"3735.44,-994.71 3742.23,-986.58 3731.85,-988.7 3735.44,-994.71\"/>\n</g>\n<!-- 194 -->\n<g id=\"node195\" class=\"node\">\n<title>194</title>\n<polygon fill=\"none\" stroke=\"black\" points=\"3844.5,-885 3742.5,-885 3742.5,-817 3844.5,-817 3844.5,-885\"/>\n<text text-anchor=\"middle\" x=\"3793.5\" y=\"-869.8\" font-family=\"Helvetica,sans-Serif\" font-size=\"14.00\">Age &lt;= 49.5</text>\n<text text-anchor=\"middle\" x=\"3793.5\" y=\"-854.8\" font-family=\"Helvetica,sans-Serif\" font-size=\"14.00\">gini = 0.056</text>\n<text text-anchor=\"middle\" x=\"3793.5\" y=\"-839.8\" font-family=\"Helvetica,sans-Serif\" font-size=\"14.00\">samples = 35</text>\n<text text-anchor=\"middle\" x=\"3793.5\" y=\"-824.8\" font-family=\"Helvetica,sans-Serif\" font-size=\"14.00\">value = [1, 34]</text>\n</g>\n<!-- 193&#45;&gt;194 -->\n<g id=\"edge194\" class=\"edge\">\n<title>193&#45;&gt;194</title>\n<path fill=\"none\" stroke=\"black\" d=\"M3793.5,-920.88C3793.5,-912.78 3793.5,-903.98 3793.5,-895.47\"/>\n<polygon fill=\"black\" stroke=\"black\" points=\"3797,-895.3 3793.5,-885.3 3790,-895.3 3797,-895.3\"/>\n</g>\n<!-- 199 -->\n<g id=\"node200\" class=\"node\">\n<title>199</title>\n<polygon fill=\"none\" stroke=\"black\" points=\"4022.5,-885 3920.5,-885 3920.5,-817 4022.5,-817 4022.5,-885\"/>\n<text text-anchor=\"middle\" x=\"3971.5\" y=\"-869.8\" font-family=\"Helvetica,sans-Serif\" font-size=\"14.00\">Age &lt;= 39.0</text>\n<text text-anchor=\"middle\" x=\"3971.5\" y=\"-854.8\" font-family=\"Helvetica,sans-Serif\" font-size=\"14.00\">gini = 0.291</text>\n<text text-anchor=\"middle\" x=\"3971.5\" y=\"-839.8\" font-family=\"Helvetica,sans-Serif\" font-size=\"14.00\">samples = 17</text>\n<text text-anchor=\"middle\" x=\"3971.5\" y=\"-824.8\" font-family=\"Helvetica,sans-Serif\" font-size=\"14.00\">value = [3, 14]</text>\n</g>\n<!-- 193&#45;&gt;199 -->\n<g id=\"edge199\" class=\"edge\">\n<title>193&#45;&gt;199</title>\n<path fill=\"none\" stroke=\"black\" d=\"M3844.51,-924.77C3865.46,-912.77 3889.86,-898.78 3911.65,-886.3\"/>\n<polygon fill=\"black\" stroke=\"black\" points=\"3913.55,-889.24 3920.48,-881.23 3910.07,-883.17 3913.55,-889.24\"/>\n</g>\n<!-- 195 -->\n<g id=\"node196\" class=\"node\">\n<title>195</title>\n<polygon fill=\"none\" stroke=\"black\" points=\"3785.5,-773.5 3683.5,-773.5 3683.5,-720.5 3785.5,-720.5 3785.5,-773.5\"/>\n<text text-anchor=\"middle\" x=\"3734.5\" y=\"-758.3\" font-family=\"Helvetica,sans-Serif\" font-size=\"14.00\">gini = 0.0</text>\n<text text-anchor=\"middle\" x=\"3734.5\" y=\"-743.3\" font-family=\"Helvetica,sans-Serif\" font-size=\"14.00\">samples = 20</text>\n<text text-anchor=\"middle\" x=\"3734.5\" y=\"-728.3\" font-family=\"Helvetica,sans-Serif\" font-size=\"14.00\">value = [0, 20]</text>\n</g>\n<!-- 194&#45;&gt;195 -->\n<g id=\"edge195\" class=\"edge\">\n<title>194&#45;&gt;195</title>\n<path fill=\"none\" stroke=\"black\" d=\"M3774.34,-816.88C3767.92,-805.78 3760.74,-793.37 3754.27,-782.18\"/>\n<polygon fill=\"black\" stroke=\"black\" points=\"3757.3,-780.42 3749.26,-773.52 3751.24,-783.93 3757.3,-780.42\"/>\n</g>\n<!-- 196 -->\n<g id=\"node197\" class=\"node\">\n<title>196</title>\n<polygon fill=\"none\" stroke=\"black\" points=\"3905.5,-781 3803.5,-781 3803.5,-713 3905.5,-713 3905.5,-781\"/>\n<text text-anchor=\"middle\" x=\"3854.5\" y=\"-765.8\" font-family=\"Helvetica,sans-Serif\" font-size=\"14.00\">Age &lt;= 50.5</text>\n<text text-anchor=\"middle\" x=\"3854.5\" y=\"-750.8\" font-family=\"Helvetica,sans-Serif\" font-size=\"14.00\">gini = 0.124</text>\n<text text-anchor=\"middle\" x=\"3854.5\" y=\"-735.8\" font-family=\"Helvetica,sans-Serif\" font-size=\"14.00\">samples = 15</text>\n<text text-anchor=\"middle\" x=\"3854.5\" y=\"-720.8\" font-family=\"Helvetica,sans-Serif\" font-size=\"14.00\">value = [1, 14]</text>\n</g>\n<!-- 194&#45;&gt;196 -->\n<g id=\"edge196\" class=\"edge\">\n<title>194&#45;&gt;196</title>\n<path fill=\"none\" stroke=\"black\" d=\"M3813.3,-816.88C3818.42,-808.33 3823.99,-799.01 3829.34,-790.07\"/>\n<polygon fill=\"black\" stroke=\"black\" points=\"3832.46,-791.68 3834.59,-781.3 3826.45,-788.09 3832.46,-791.68\"/>\n</g>\n<!-- 197 -->\n<g id=\"node198\" class=\"node\">\n<title>197</title>\n<polygon fill=\"none\" stroke=\"black\" points=\"3785,-669.5 3690,-669.5 3690,-616.5 3785,-616.5 3785,-669.5\"/>\n<text text-anchor=\"middle\" x=\"3737.5\" y=\"-654.3\" font-family=\"Helvetica,sans-Serif\" font-size=\"14.00\">gini = 0.5</text>\n<text text-anchor=\"middle\" x=\"3737.5\" y=\"-639.3\" font-family=\"Helvetica,sans-Serif\" font-size=\"14.00\">samples = 2</text>\n<text text-anchor=\"middle\" x=\"3737.5\" y=\"-624.3\" font-family=\"Helvetica,sans-Serif\" font-size=\"14.00\">value = [1, 1]</text>\n</g>\n<!-- 196&#45;&gt;197 -->\n<g id=\"edge197\" class=\"edge\">\n<title>196&#45;&gt;197</title>\n<path fill=\"none\" stroke=\"black\" d=\"M3816.51,-712.88C3803.02,-701.12 3787.85,-687.89 3774.44,-676.2\"/>\n<polygon fill=\"black\" stroke=\"black\" points=\"3776.61,-673.45 3766.77,-669.52 3772.01,-678.73 3776.61,-673.45\"/>\n</g>\n<!-- 198 -->\n<g id=\"node199\" class=\"node\">\n<title>198</title>\n<polygon fill=\"none\" stroke=\"black\" points=\"3905.5,-669.5 3803.5,-669.5 3803.5,-616.5 3905.5,-616.5 3905.5,-669.5\"/>\n<text text-anchor=\"middle\" x=\"3854.5\" y=\"-654.3\" font-family=\"Helvetica,sans-Serif\" font-size=\"14.00\">gini = 0.0</text>\n<text text-anchor=\"middle\" x=\"3854.5\" y=\"-639.3\" font-family=\"Helvetica,sans-Serif\" font-size=\"14.00\">samples = 13</text>\n<text text-anchor=\"middle\" x=\"3854.5\" y=\"-624.3\" font-family=\"Helvetica,sans-Serif\" font-size=\"14.00\">value = [0, 13]</text>\n</g>\n<!-- 196&#45;&gt;198 -->\n<g id=\"edge198\" class=\"edge\">\n<title>196&#45;&gt;198</title>\n<path fill=\"none\" stroke=\"black\" d=\"M3854.5,-712.88C3854.5,-702.33 3854.5,-690.6 3854.5,-679.85\"/>\n<polygon fill=\"black\" stroke=\"black\" points=\"3858,-679.52 3854.5,-669.52 3851,-679.52 3858,-679.52\"/>\n</g>\n<!-- 200 -->\n<g id=\"node201\" class=\"node\">\n<title>200</title>\n<polygon fill=\"none\" stroke=\"black\" points=\"4019,-773.5 3924,-773.5 3924,-720.5 4019,-720.5 4019,-773.5\"/>\n<text text-anchor=\"middle\" x=\"3971.5\" y=\"-758.3\" font-family=\"Helvetica,sans-Serif\" font-size=\"14.00\">gini = 0.0</text>\n<text text-anchor=\"middle\" x=\"3971.5\" y=\"-743.3\" font-family=\"Helvetica,sans-Serif\" font-size=\"14.00\">samples = 1</text>\n<text text-anchor=\"middle\" x=\"3971.5\" y=\"-728.3\" font-family=\"Helvetica,sans-Serif\" font-size=\"14.00\">value = [1, 0]</text>\n</g>\n<!-- 199&#45;&gt;200 -->\n<g id=\"edge200\" class=\"edge\">\n<title>199&#45;&gt;200</title>\n<path fill=\"none\" stroke=\"black\" d=\"M3971.5,-816.88C3971.5,-806.33 3971.5,-794.6 3971.5,-783.85\"/>\n<polygon fill=\"black\" stroke=\"black\" points=\"3975,-783.52 3971.5,-773.52 3968,-783.52 3975,-783.52\"/>\n</g>\n<!-- 201 -->\n<g id=\"node202\" class=\"node\">\n<title>201</title>\n<polygon fill=\"none\" stroke=\"black\" points=\"4139.5,-781 4037.5,-781 4037.5,-713 4139.5,-713 4139.5,-781\"/>\n<text text-anchor=\"middle\" x=\"4088.5\" y=\"-765.8\" font-family=\"Helvetica,sans-Serif\" font-size=\"14.00\">Age &lt;= 56.0</text>\n<text text-anchor=\"middle\" x=\"4088.5\" y=\"-750.8\" font-family=\"Helvetica,sans-Serif\" font-size=\"14.00\">gini = 0.219</text>\n<text text-anchor=\"middle\" x=\"4088.5\" y=\"-735.8\" font-family=\"Helvetica,sans-Serif\" font-size=\"14.00\">samples = 16</text>\n<text text-anchor=\"middle\" x=\"4088.5\" y=\"-720.8\" font-family=\"Helvetica,sans-Serif\" font-size=\"14.00\">value = [2, 14]</text>\n</g>\n<!-- 199&#45;&gt;201 -->\n<g id=\"edge201\" class=\"edge\">\n<title>199&#45;&gt;201</title>\n<path fill=\"none\" stroke=\"black\" d=\"M4009.49,-816.88C4020.01,-807.71 4031.55,-797.65 4042.48,-788.12\"/>\n<polygon fill=\"black\" stroke=\"black\" points=\"4045.07,-790.51 4050.3,-781.3 4040.47,-785.23 4045.07,-790.51\"/>\n</g>\n<!-- 202 -->\n<g id=\"node203\" class=\"node\">\n<title>202</title>\n<polygon fill=\"none\" stroke=\"black\" points=\"4025.5,-677 3923.5,-677 3923.5,-609 4025.5,-609 4025.5,-677\"/>\n<text text-anchor=\"middle\" x=\"3974.5\" y=\"-661.8\" font-family=\"Helvetica,sans-Serif\" font-size=\"14.00\">Age &lt;= 44.5</text>\n<text text-anchor=\"middle\" x=\"3974.5\" y=\"-646.8\" font-family=\"Helvetica,sans-Serif\" font-size=\"14.00\">gini = 0.124</text>\n<text text-anchor=\"middle\" x=\"3974.5\" y=\"-631.8\" font-family=\"Helvetica,sans-Serif\" font-size=\"14.00\">samples = 15</text>\n<text text-anchor=\"middle\" x=\"3974.5\" y=\"-616.8\" font-family=\"Helvetica,sans-Serif\" font-size=\"14.00\">value = [1, 14]</text>\n</g>\n<!-- 201&#45;&gt;202 -->\n<g id=\"edge202\" class=\"edge\">\n<title>201&#45;&gt;202</title>\n<path fill=\"none\" stroke=\"black\" d=\"M4051.49,-712.88C4041.23,-703.71 4029.99,-693.65 4019.34,-684.12\"/>\n<polygon fill=\"black\" stroke=\"black\" points=\"4021.5,-681.36 4011.72,-677.3 4016.84,-686.58 4021.5,-681.36\"/>\n</g>\n<!-- 207 -->\n<g id=\"node208\" class=\"node\">\n<title>207</title>\n<polygon fill=\"none\" stroke=\"black\" points=\"4139,-669.5 4044,-669.5 4044,-616.5 4139,-616.5 4139,-669.5\"/>\n<text text-anchor=\"middle\" x=\"4091.5\" y=\"-654.3\" font-family=\"Helvetica,sans-Serif\" font-size=\"14.00\">gini = 0.0</text>\n<text text-anchor=\"middle\" x=\"4091.5\" y=\"-639.3\" font-family=\"Helvetica,sans-Serif\" font-size=\"14.00\">samples = 1</text>\n<text text-anchor=\"middle\" x=\"4091.5\" y=\"-624.3\" font-family=\"Helvetica,sans-Serif\" font-size=\"14.00\">value = [1, 0]</text>\n</g>\n<!-- 201&#45;&gt;207 -->\n<g id=\"edge207\" class=\"edge\">\n<title>201&#45;&gt;207</title>\n<path fill=\"none\" stroke=\"black\" d=\"M4089.47,-712.88C4089.79,-702.22 4090.14,-690.35 4090.46,-679.52\"/>\n<polygon fill=\"black\" stroke=\"black\" points=\"4093.95,-679.62 4090.75,-669.52 4086.96,-679.41 4093.95,-679.62\"/>\n</g>\n<!-- 203 -->\n<g id=\"node204\" class=\"node\">\n<title>203</title>\n<polygon fill=\"none\" stroke=\"black\" points=\"3966,-573 3871,-573 3871,-505 3966,-505 3966,-573\"/>\n<text text-anchor=\"middle\" x=\"3918.5\" y=\"-557.8\" font-family=\"Helvetica,sans-Serif\" font-size=\"14.00\">Age &lt;= 43.0</text>\n<text text-anchor=\"middle\" x=\"3918.5\" y=\"-542.8\" font-family=\"Helvetica,sans-Serif\" font-size=\"14.00\">gini = 0.245</text>\n<text text-anchor=\"middle\" x=\"3918.5\" y=\"-527.8\" font-family=\"Helvetica,sans-Serif\" font-size=\"14.00\">samples = 7</text>\n<text text-anchor=\"middle\" x=\"3918.5\" y=\"-512.8\" font-family=\"Helvetica,sans-Serif\" font-size=\"14.00\">value = [1, 6]</text>\n</g>\n<!-- 202&#45;&gt;203 -->\n<g id=\"edge203\" class=\"edge\">\n<title>202&#45;&gt;203</title>\n<path fill=\"none\" stroke=\"black\" d=\"M3956.32,-608.88C3951.62,-600.33 3946.51,-591.01 3941.6,-582.07\"/>\n<polygon fill=\"black\" stroke=\"black\" points=\"3944.66,-580.38 3936.78,-573.3 3938.53,-583.75 3944.66,-580.38\"/>\n</g>\n<!-- 206 -->\n<g id=\"node207\" class=\"node\">\n<title>206</title>\n<polygon fill=\"none\" stroke=\"black\" points=\"4079,-565.5 3984,-565.5 3984,-512.5 4079,-512.5 4079,-565.5\"/>\n<text text-anchor=\"middle\" x=\"4031.5\" y=\"-550.3\" font-family=\"Helvetica,sans-Serif\" font-size=\"14.00\">gini = 0.0</text>\n<text text-anchor=\"middle\" x=\"4031.5\" y=\"-535.3\" font-family=\"Helvetica,sans-Serif\" font-size=\"14.00\">samples = 8</text>\n<text text-anchor=\"middle\" x=\"4031.5\" y=\"-520.3\" font-family=\"Helvetica,sans-Serif\" font-size=\"14.00\">value = [0, 8]</text>\n</g>\n<!-- 202&#45;&gt;206 -->\n<g id=\"edge206\" class=\"edge\">\n<title>202&#45;&gt;206</title>\n<path fill=\"none\" stroke=\"black\" d=\"M3993.01,-608.88C3999.15,-597.89 4006.01,-585.62 4012.21,-574.52\"/>\n<polygon fill=\"black\" stroke=\"black\" points=\"4015.42,-575.96 4017.24,-565.52 4009.31,-572.54 4015.42,-575.96\"/>\n</g>\n<!-- 204 -->\n<g id=\"node205\" class=\"node\">\n<title>204</title>\n<polygon fill=\"none\" stroke=\"black\" points=\"3909,-461.5 3814,-461.5 3814,-408.5 3909,-408.5 3909,-461.5\"/>\n<text text-anchor=\"middle\" x=\"3861.5\" y=\"-446.3\" font-family=\"Helvetica,sans-Serif\" font-size=\"14.00\">gini = 0.0</text>\n<text text-anchor=\"middle\" x=\"3861.5\" y=\"-431.3\" font-family=\"Helvetica,sans-Serif\" font-size=\"14.00\">samples = 6</text>\n<text text-anchor=\"middle\" x=\"3861.5\" y=\"-416.3\" font-family=\"Helvetica,sans-Serif\" font-size=\"14.00\">value = [0, 6]</text>\n</g>\n<!-- 203&#45;&gt;204 -->\n<g id=\"edge204\" class=\"edge\">\n<title>203&#45;&gt;204</title>\n<path fill=\"none\" stroke=\"black\" d=\"M3899.99,-504.88C3893.85,-493.89 3886.99,-481.62 3880.79,-470.52\"/>\n<polygon fill=\"black\" stroke=\"black\" points=\"3883.69,-468.54 3875.76,-461.52 3877.58,-471.96 3883.69,-468.54\"/>\n</g>\n<!-- 205 -->\n<g id=\"node206\" class=\"node\">\n<title>205</title>\n<polygon fill=\"none\" stroke=\"black\" points=\"4022,-461.5 3927,-461.5 3927,-408.5 4022,-408.5 4022,-461.5\"/>\n<text text-anchor=\"middle\" x=\"3974.5\" y=\"-446.3\" font-family=\"Helvetica,sans-Serif\" font-size=\"14.00\">gini = 0.0</text>\n<text text-anchor=\"middle\" x=\"3974.5\" y=\"-431.3\" font-family=\"Helvetica,sans-Serif\" font-size=\"14.00\">samples = 1</text>\n<text text-anchor=\"middle\" x=\"3974.5\" y=\"-416.3\" font-family=\"Helvetica,sans-Serif\" font-size=\"14.00\">value = [1, 0]</text>\n</g>\n<!-- 203&#45;&gt;205 -->\n<g id=\"edge205\" class=\"edge\">\n<title>203&#45;&gt;205</title>\n<path fill=\"none\" stroke=\"black\" d=\"M3936.68,-504.88C3942.72,-493.89 3949.46,-481.62 3955.55,-470.52\"/>\n<polygon fill=\"black\" stroke=\"black\" points=\"3958.74,-471.97 3960.49,-461.52 3952.61,-468.6 3958.74,-471.97\"/>\n</g>\n<!-- 209 -->\n<g id=\"node210\" class=\"node\">\n<title>209</title>\n<polygon fill=\"none\" stroke=\"black\" points=\"4488.5,-1301 4378.5,-1301 4378.5,-1233 4488.5,-1233 4488.5,-1301\"/>\n<text text-anchor=\"middle\" x=\"4433.5\" y=\"-1285.8\" font-family=\"Helvetica,sans-Serif\" font-size=\"14.00\">Age &lt;= 1.5</text>\n<text text-anchor=\"middle\" x=\"4433.5\" y=\"-1270.8\" font-family=\"Helvetica,sans-Serif\" font-size=\"14.00\">gini = 0.5</text>\n<text text-anchor=\"middle\" x=\"4433.5\" y=\"-1255.8\" font-family=\"Helvetica,sans-Serif\" font-size=\"14.00\">samples = 90</text>\n<text text-anchor=\"middle\" x=\"4433.5\" y=\"-1240.8\" font-family=\"Helvetica,sans-Serif\" font-size=\"14.00\">value = [44, 46]</text>\n</g>\n<!-- 208&#45;&gt;209 -->\n<g id=\"edge209\" class=\"edge\">\n<title>208&#45;&gt;209</title>\n<path fill=\"none\" stroke=\"black\" d=\"M4433.5,-1336.88C4433.5,-1328.78 4433.5,-1319.98 4433.5,-1311.47\"/>\n<polygon fill=\"black\" stroke=\"black\" points=\"4437,-1311.3 4433.5,-1301.3 4430,-1311.3 4437,-1311.3\"/>\n</g>\n<!-- 268 -->\n<g id=\"node269\" class=\"node\">\n<title>268</title>\n<polygon fill=\"none\" stroke=\"black\" points=\"4669.5,-1301 4567.5,-1301 4567.5,-1233 4669.5,-1233 4669.5,-1301\"/>\n<text text-anchor=\"middle\" x=\"4618.5\" y=\"-1285.8\" font-family=\"Helvetica,sans-Serif\" font-size=\"14.00\">Age &lt;= 55.5</text>\n<text text-anchor=\"middle\" x=\"4618.5\" y=\"-1270.8\" font-family=\"Helvetica,sans-Serif\" font-size=\"14.00\">gini = 0.153</text>\n<text text-anchor=\"middle\" x=\"4618.5\" y=\"-1255.8\" font-family=\"Helvetica,sans-Serif\" font-size=\"14.00\">samples = 12</text>\n<text text-anchor=\"middle\" x=\"4618.5\" y=\"-1240.8\" font-family=\"Helvetica,sans-Serif\" font-size=\"14.00\">value = [11, 1]</text>\n</g>\n<!-- 208&#45;&gt;268 -->\n<g id=\"edge268\" class=\"edge\">\n<title>208&#45;&gt;268</title>\n<path fill=\"none\" stroke=\"black\" d=\"M4488.51,-1339.67C4510.51,-1327.54 4535.92,-1313.53 4558.4,-1301.13\"/>\n<polygon fill=\"black\" stroke=\"black\" points=\"4560.12,-1304.18 4567.19,-1296.29 4556.74,-1298.05 4560.12,-1304.18\"/>\n</g>\n<!-- 210 -->\n<g id=\"node211\" class=\"node\">\n<title>210</title>\n<polygon fill=\"none\" stroke=\"black\" points=\"4421,-1189.5 4326,-1189.5 4326,-1136.5 4421,-1136.5 4421,-1189.5\"/>\n<text text-anchor=\"middle\" x=\"4373.5\" y=\"-1174.3\" font-family=\"Helvetica,sans-Serif\" font-size=\"14.00\">gini = 0.0</text>\n<text text-anchor=\"middle\" x=\"4373.5\" y=\"-1159.3\" font-family=\"Helvetica,sans-Serif\" font-size=\"14.00\">samples = 4</text>\n<text text-anchor=\"middle\" x=\"4373.5\" y=\"-1144.3\" font-family=\"Helvetica,sans-Serif\" font-size=\"14.00\">value = [0, 4]</text>\n</g>\n<!-- 209&#45;&gt;210 -->\n<g id=\"edge210\" class=\"edge\">\n<title>209&#45;&gt;210</title>\n<path fill=\"none\" stroke=\"black\" d=\"M4414.02,-1232.88C4407.49,-1221.78 4400.19,-1209.37 4393.61,-1198.18\"/>\n<polygon fill=\"black\" stroke=\"black\" points=\"4396.6,-1196.36 4388.51,-1189.52 4390.57,-1199.91 4396.6,-1196.36\"/>\n</g>\n<!-- 211 -->\n<g id=\"node212\" class=\"node\">\n<title>211</title>\n<polygon fill=\"none\" stroke=\"black\" points=\"4549.5,-1197 4439.5,-1197 4439.5,-1129 4549.5,-1129 4549.5,-1197\"/>\n<text text-anchor=\"middle\" x=\"4494.5\" y=\"-1181.8\" font-family=\"Helvetica,sans-Serif\" font-size=\"14.00\">Age &lt;= 32.5</text>\n<text text-anchor=\"middle\" x=\"4494.5\" y=\"-1166.8\" font-family=\"Helvetica,sans-Serif\" font-size=\"14.00\">gini = 0.5</text>\n<text text-anchor=\"middle\" x=\"4494.5\" y=\"-1151.8\" font-family=\"Helvetica,sans-Serif\" font-size=\"14.00\">samples = 86</text>\n<text text-anchor=\"middle\" x=\"4494.5\" y=\"-1136.8\" font-family=\"Helvetica,sans-Serif\" font-size=\"14.00\">value = [44, 42]</text>\n</g>\n<!-- 209&#45;&gt;211 -->\n<g id=\"edge211\" class=\"edge\">\n<title>209&#45;&gt;211</title>\n<path fill=\"none\" stroke=\"black\" d=\"M4453.3,-1232.88C4458.42,-1224.33 4463.99,-1215.01 4469.34,-1206.07\"/>\n<polygon fill=\"black\" stroke=\"black\" points=\"4472.46,-1207.68 4474.59,-1197.3 4466.45,-1204.09 4472.46,-1207.68\"/>\n</g>\n<!-- 212 -->\n<g id=\"node213\" class=\"node\">\n<title>212</title>\n<polygon fill=\"none\" stroke=\"black\" points=\"4549.5,-1093 4439.5,-1093 4439.5,-1025 4549.5,-1025 4549.5,-1093\"/>\n<text text-anchor=\"middle\" x=\"4494.5\" y=\"-1077.8\" font-family=\"Helvetica,sans-Serif\" font-size=\"14.00\">Age &lt;= 27.5</text>\n<text text-anchor=\"middle\" x=\"4494.5\" y=\"-1062.8\" font-family=\"Helvetica,sans-Serif\" font-size=\"14.00\">gini = 0.498</text>\n<text text-anchor=\"middle\" x=\"4494.5\" y=\"-1047.8\" font-family=\"Helvetica,sans-Serif\" font-size=\"14.00\">samples = 81</text>\n<text text-anchor=\"middle\" x=\"4494.5\" y=\"-1032.8\" font-family=\"Helvetica,sans-Serif\" font-size=\"14.00\">value = [43, 38]</text>\n</g>\n<!-- 211&#45;&gt;212 -->\n<g id=\"edge212\" class=\"edge\">\n<title>211&#45;&gt;212</title>\n<path fill=\"none\" stroke=\"black\" d=\"M4494.5,-1128.88C4494.5,-1120.78 4494.5,-1111.98 4494.5,-1103.47\"/>\n<polygon fill=\"black\" stroke=\"black\" points=\"4498,-1103.3 4494.5,-1093.3 4491,-1103.3 4498,-1103.3\"/>\n</g>\n<!-- 263 -->\n<g id=\"node264\" class=\"node\">\n<title>263</title>\n<polygon fill=\"none\" stroke=\"black\" points=\"4723,-1093 4628,-1093 4628,-1025 4723,-1025 4723,-1093\"/>\n<text text-anchor=\"middle\" x=\"4675.5\" y=\"-1077.8\" font-family=\"Helvetica,sans-Serif\" font-size=\"14.00\">Age &lt;= 36.5</text>\n<text text-anchor=\"middle\" x=\"4675.5\" y=\"-1062.8\" font-family=\"Helvetica,sans-Serif\" font-size=\"14.00\">gini = 0.32</text>\n<text text-anchor=\"middle\" x=\"4675.5\" y=\"-1047.8\" font-family=\"Helvetica,sans-Serif\" font-size=\"14.00\">samples = 5</text>\n<text text-anchor=\"middle\" x=\"4675.5\" y=\"-1032.8\" font-family=\"Helvetica,sans-Serif\" font-size=\"14.00\">value = [1, 4]</text>\n</g>\n<!-- 211&#45;&gt;263 -->\n<g id=\"edge263\" class=\"edge\">\n<title>211&#45;&gt;263</title>\n<path fill=\"none\" stroke=\"black\" d=\"M4549.79,-1130.84C4571.72,-1118.48 4596.92,-1104.28 4618.97,-1091.86\"/>\n<polygon fill=\"black\" stroke=\"black\" points=\"4620.89,-1094.79 4627.89,-1086.83 4617.45,-1088.69 4620.89,-1094.79\"/>\n</g>\n<!-- 213 -->\n<g id=\"node214\" class=\"node\">\n<title>213</title>\n<polygon fill=\"none\" stroke=\"black\" points=\"4489.5,-989 4379.5,-989 4379.5,-921 4489.5,-921 4489.5,-989\"/>\n<text text-anchor=\"middle\" x=\"4434.5\" y=\"-973.8\" font-family=\"Helvetica,sans-Serif\" font-size=\"14.00\">Age &lt;= 26.5</text>\n<text text-anchor=\"middle\" x=\"4434.5\" y=\"-958.8\" font-family=\"Helvetica,sans-Serif\" font-size=\"14.00\">gini = 0.5</text>\n<text text-anchor=\"middle\" x=\"4434.5\" y=\"-943.8\" font-family=\"Helvetica,sans-Serif\" font-size=\"14.00\">samples = 67</text>\n<text text-anchor=\"middle\" x=\"4434.5\" y=\"-928.8\" font-family=\"Helvetica,sans-Serif\" font-size=\"14.00\">value = [33, 34]</text>\n</g>\n<!-- 212&#45;&gt;213 -->\n<g id=\"edge213\" class=\"edge\">\n<title>212&#45;&gt;213</title>\n<path fill=\"none\" stroke=\"black\" d=\"M4475.02,-1024.88C4469.99,-1016.33 4464.51,-1007.01 4459.25,-998.07\"/>\n<polygon fill=\"black\" stroke=\"black\" points=\"4462.17,-996.14 4454.09,-989.3 4456.14,-999.69 4462.17,-996.14\"/>\n</g>\n<!-- 252 -->\n<g id=\"node253\" class=\"node\">\n<title>252</title>\n<polygon fill=\"none\" stroke=\"black\" points=\"4609.5,-989 4507.5,-989 4507.5,-921 4609.5,-921 4609.5,-989\"/>\n<text text-anchor=\"middle\" x=\"4558.5\" y=\"-973.8\" font-family=\"Helvetica,sans-Serif\" font-size=\"14.00\">Age &lt;= 28.5</text>\n<text text-anchor=\"middle\" x=\"4558.5\" y=\"-958.8\" font-family=\"Helvetica,sans-Serif\" font-size=\"14.00\">gini = 0.408</text>\n<text text-anchor=\"middle\" x=\"4558.5\" y=\"-943.8\" font-family=\"Helvetica,sans-Serif\" font-size=\"14.00\">samples = 14</text>\n<text text-anchor=\"middle\" x=\"4558.5\" y=\"-928.8\" font-family=\"Helvetica,sans-Serif\" font-size=\"14.00\">value = [10, 4]</text>\n</g>\n<!-- 212&#45;&gt;252 -->\n<g id=\"edge252\" class=\"edge\">\n<title>212&#45;&gt;252</title>\n<path fill=\"none\" stroke=\"black\" d=\"M4515.28,-1024.88C4520.7,-1016.24 4526.61,-1006.82 4532.28,-997.79\"/>\n<polygon fill=\"black\" stroke=\"black\" points=\"4535.26,-999.63 4537.61,-989.3 4529.33,-995.91 4535.26,-999.63\"/>\n</g>\n<!-- 214 -->\n<g id=\"node215\" class=\"node\">\n<title>214</title>\n<polygon fill=\"none\" stroke=\"black\" points=\"4374.5,-885 4264.5,-885 4264.5,-817 4374.5,-817 4374.5,-885\"/>\n<text text-anchor=\"middle\" x=\"4319.5\" y=\"-869.8\" font-family=\"Helvetica,sans-Serif\" font-size=\"14.00\">Age &lt;= 3.5</text>\n<text text-anchor=\"middle\" x=\"4319.5\" y=\"-854.8\" font-family=\"Helvetica,sans-Serif\" font-size=\"14.00\">gini = 0.5</text>\n<text text-anchor=\"middle\" x=\"4319.5\" y=\"-839.8\" font-family=\"Helvetica,sans-Serif\" font-size=\"14.00\">samples = 64</text>\n<text text-anchor=\"middle\" x=\"4319.5\" y=\"-824.8\" font-family=\"Helvetica,sans-Serif\" font-size=\"14.00\">value = [33, 31]</text>\n</g>\n<!-- 213&#45;&gt;214 -->\n<g id=\"edge214\" class=\"edge\">\n<title>213&#45;&gt;214</title>\n<path fill=\"none\" stroke=\"black\" d=\"M4397.16,-920.88C4386.82,-911.71 4375.48,-901.65 4364.74,-892.12\"/>\n<polygon fill=\"black\" stroke=\"black\" points=\"4366.85,-889.32 4357.04,-885.3 4362.2,-894.55 4366.85,-889.32\"/>\n</g>\n<!-- 251 -->\n<g id=\"node252\" class=\"node\">\n<title>251</title>\n<polygon fill=\"none\" stroke=\"black\" points=\"4488,-877.5 4393,-877.5 4393,-824.5 4488,-824.5 4488,-877.5\"/>\n<text text-anchor=\"middle\" x=\"4440.5\" y=\"-862.3\" font-family=\"Helvetica,sans-Serif\" font-size=\"14.00\">gini = 0.0</text>\n<text text-anchor=\"middle\" x=\"4440.5\" y=\"-847.3\" font-family=\"Helvetica,sans-Serif\" font-size=\"14.00\">samples = 3</text>\n<text text-anchor=\"middle\" x=\"4440.5\" y=\"-832.3\" font-family=\"Helvetica,sans-Serif\" font-size=\"14.00\">value = [0, 3]</text>\n</g>\n<!-- 213&#45;&gt;251 -->\n<g id=\"edge251\" class=\"edge\">\n<title>213&#45;&gt;251</title>\n<path fill=\"none\" stroke=\"black\" d=\"M4436.45,-920.88C4437.08,-910.22 4437.77,-898.35 4438.41,-887.52\"/>\n<polygon fill=\"black\" stroke=\"black\" points=\"4441.91,-887.71 4439,-877.52 4434.92,-887.3 4441.91,-887.71\"/>\n</g>\n<!-- 215 -->\n<g id=\"node216\" class=\"node\">\n<title>215</title>\n<polygon fill=\"none\" stroke=\"black\" points=\"4361,-781 4266,-781 4266,-713 4361,-713 4361,-781\"/>\n<text text-anchor=\"middle\" x=\"4313.5\" y=\"-765.8\" font-family=\"Helvetica,sans-Serif\" font-size=\"14.00\">Age &lt;= 2.5</text>\n<text text-anchor=\"middle\" x=\"4313.5\" y=\"-750.8\" font-family=\"Helvetica,sans-Serif\" font-size=\"14.00\">gini = 0.32</text>\n<text text-anchor=\"middle\" x=\"4313.5\" y=\"-735.8\" font-family=\"Helvetica,sans-Serif\" font-size=\"14.00\">samples = 5</text>\n<text text-anchor=\"middle\" x=\"4313.5\" y=\"-720.8\" font-family=\"Helvetica,sans-Serif\" font-size=\"14.00\">value = [4, 1]</text>\n</g>\n<!-- 214&#45;&gt;215 -->\n<g id=\"edge215\" class=\"edge\">\n<title>214&#45;&gt;215</title>\n<path fill=\"none\" stroke=\"black\" d=\"M4317.55,-816.88C4317.08,-808.78 4316.56,-799.98 4316.06,-791.47\"/>\n<polygon fill=\"black\" stroke=\"black\" points=\"4319.54,-791.08 4315.46,-781.3 4312.55,-791.49 4319.54,-791.08\"/>\n</g>\n<!-- 218 -->\n<g id=\"node219\" class=\"node\">\n<title>218</title>\n<polygon fill=\"none\" stroke=\"black\" points=\"4489.5,-781 4379.5,-781 4379.5,-713 4489.5,-713 4489.5,-781\"/>\n<text text-anchor=\"middle\" x=\"4434.5\" y=\"-765.8\" font-family=\"Helvetica,sans-Serif\" font-size=\"14.00\">Age &lt;= 5.5</text>\n<text text-anchor=\"middle\" x=\"4434.5\" y=\"-750.8\" font-family=\"Helvetica,sans-Serif\" font-size=\"14.00\">gini = 0.5</text>\n<text text-anchor=\"middle\" x=\"4434.5\" y=\"-735.8\" font-family=\"Helvetica,sans-Serif\" font-size=\"14.00\">samples = 59</text>\n<text text-anchor=\"middle\" x=\"4434.5\" y=\"-720.8\" font-family=\"Helvetica,sans-Serif\" font-size=\"14.00\">value = [29, 30]</text>\n</g>\n<!-- 214&#45;&gt;218 -->\n<g id=\"edge218\" class=\"edge\">\n<title>214&#45;&gt;218</title>\n<path fill=\"none\" stroke=\"black\" d=\"M4356.84,-816.88C4367.18,-807.71 4378.52,-797.65 4389.26,-788.12\"/>\n<polygon fill=\"black\" stroke=\"black\" points=\"4391.8,-790.55 4396.96,-781.3 4387.15,-785.32 4391.8,-790.55\"/>\n</g>\n<!-- 216 -->\n<g id=\"node217\" class=\"node\">\n<title>216</title>\n<polygon fill=\"none\" stroke=\"black\" points=\"4252,-669.5 4157,-669.5 4157,-616.5 4252,-616.5 4252,-669.5\"/>\n<text text-anchor=\"middle\" x=\"4204.5\" y=\"-654.3\" font-family=\"Helvetica,sans-Serif\" font-size=\"14.00\">gini = 0.375</text>\n<text text-anchor=\"middle\" x=\"4204.5\" y=\"-639.3\" font-family=\"Helvetica,sans-Serif\" font-size=\"14.00\">samples = 4</text>\n<text text-anchor=\"middle\" x=\"4204.5\" y=\"-624.3\" font-family=\"Helvetica,sans-Serif\" font-size=\"14.00\">value = [3, 1]</text>\n</g>\n<!-- 215&#45;&gt;216 -->\n<g id=\"edge216\" class=\"edge\">\n<title>215&#45;&gt;216</title>\n<path fill=\"none\" stroke=\"black\" d=\"M4278.11,-712.88C4265.65,-701.23 4251.67,-688.14 4239.26,-676.53\"/>\n<polygon fill=\"black\" stroke=\"black\" points=\"4241.46,-673.8 4231.77,-669.52 4236.68,-678.91 4241.46,-673.8\"/>\n</g>\n<!-- 217 -->\n<g id=\"node218\" class=\"node\">\n<title>217</title>\n<polygon fill=\"none\" stroke=\"black\" points=\"4365,-669.5 4270,-669.5 4270,-616.5 4365,-616.5 4365,-669.5\"/>\n<text text-anchor=\"middle\" x=\"4317.5\" y=\"-654.3\" font-family=\"Helvetica,sans-Serif\" font-size=\"14.00\">gini = 0.0</text>\n<text text-anchor=\"middle\" x=\"4317.5\" y=\"-639.3\" font-family=\"Helvetica,sans-Serif\" font-size=\"14.00\">samples = 1</text>\n<text text-anchor=\"middle\" x=\"4317.5\" y=\"-624.3\" font-family=\"Helvetica,sans-Serif\" font-size=\"14.00\">value = [1, 0]</text>\n</g>\n<!-- 215&#45;&gt;217 -->\n<g id=\"edge217\" class=\"edge\">\n<title>215&#45;&gt;217</title>\n<path fill=\"none\" stroke=\"black\" d=\"M4314.8,-712.88C4315.22,-702.22 4315.68,-690.35 4316.11,-679.52\"/>\n<polygon fill=\"black\" stroke=\"black\" points=\"4319.6,-679.65 4316.5,-669.52 4312.61,-679.38 4319.6,-679.65\"/>\n</g>\n<!-- 219 -->\n<g id=\"node220\" class=\"node\">\n<title>219</title>\n<polygon fill=\"none\" stroke=\"black\" points=\"4478,-669.5 4383,-669.5 4383,-616.5 4478,-616.5 4478,-669.5\"/>\n<text text-anchor=\"middle\" x=\"4430.5\" y=\"-654.3\" font-family=\"Helvetica,sans-Serif\" font-size=\"14.00\">gini = 0.0</text>\n<text text-anchor=\"middle\" x=\"4430.5\" y=\"-639.3\" font-family=\"Helvetica,sans-Serif\" font-size=\"14.00\">samples = 6</text>\n<text text-anchor=\"middle\" x=\"4430.5\" y=\"-624.3\" font-family=\"Helvetica,sans-Serif\" font-size=\"14.00\">value = [0, 6]</text>\n</g>\n<!-- 218&#45;&gt;219 -->\n<g id=\"edge219\" class=\"edge\">\n<title>218&#45;&gt;219</title>\n<path fill=\"none\" stroke=\"black\" d=\"M4433.2,-712.88C4432.78,-702.22 4432.32,-690.35 4431.89,-679.52\"/>\n<polygon fill=\"black\" stroke=\"black\" points=\"4435.39,-679.38 4431.5,-669.52 4428.4,-679.65 4435.39,-679.38\"/>\n</g>\n<!-- 220 -->\n<g id=\"node221\" class=\"node\">\n<title>220</title>\n<polygon fill=\"none\" stroke=\"black\" points=\"4606.5,-677 4496.5,-677 4496.5,-609 4606.5,-609 4606.5,-677\"/>\n<text text-anchor=\"middle\" x=\"4551.5\" y=\"-661.8\" font-family=\"Helvetica,sans-Serif\" font-size=\"14.00\">Age &lt;= 12.0</text>\n<text text-anchor=\"middle\" x=\"4551.5\" y=\"-646.8\" font-family=\"Helvetica,sans-Serif\" font-size=\"14.00\">gini = 0.496</text>\n<text text-anchor=\"middle\" x=\"4551.5\" y=\"-631.8\" font-family=\"Helvetica,sans-Serif\" font-size=\"14.00\">samples = 53</text>\n<text text-anchor=\"middle\" x=\"4551.5\" y=\"-616.8\" font-family=\"Helvetica,sans-Serif\" font-size=\"14.00\">value = [29, 24]</text>\n</g>\n<!-- 218&#45;&gt;220 -->\n<g id=\"edge220\" class=\"edge\">\n<title>218&#45;&gt;220</title>\n<path fill=\"none\" stroke=\"black\" d=\"M4472.49,-712.88C4483.01,-703.71 4494.55,-693.65 4505.48,-684.12\"/>\n<polygon fill=\"black\" stroke=\"black\" points=\"4508.07,-686.51 4513.3,-677.3 4503.47,-681.23 4508.07,-686.51\"/>\n</g>\n<!-- 221 -->\n<g id=\"node222\" class=\"node\">\n<title>221</title>\n<polygon fill=\"none\" stroke=\"black\" points=\"4478,-565.5 4383,-565.5 4383,-512.5 4478,-512.5 4478,-565.5\"/>\n<text text-anchor=\"middle\" x=\"4430.5\" y=\"-550.3\" font-family=\"Helvetica,sans-Serif\" font-size=\"14.00\">gini = 0.0</text>\n<text text-anchor=\"middle\" x=\"4430.5\" y=\"-535.3\" font-family=\"Helvetica,sans-Serif\" font-size=\"14.00\">samples = 8</text>\n<text text-anchor=\"middle\" x=\"4430.5\" y=\"-520.3\" font-family=\"Helvetica,sans-Serif\" font-size=\"14.00\">value = [8, 0]</text>\n</g>\n<!-- 220&#45;&gt;221 -->\n<g id=\"edge221\" class=\"edge\">\n<title>220&#45;&gt;221</title>\n<path fill=\"none\" stroke=\"black\" d=\"M4512.21,-608.88C4498.26,-597.12 4482.57,-583.89 4468.7,-572.2\"/>\n<polygon fill=\"black\" stroke=\"black\" points=\"4470.68,-569.29 4460.77,-565.52 4466.16,-574.64 4470.68,-569.29\"/>\n</g>\n<!-- 222 -->\n<g id=\"node223\" class=\"node\">\n<title>222</title>\n<polygon fill=\"none\" stroke=\"black\" points=\"4606.5,-573 4496.5,-573 4496.5,-505 4606.5,-505 4606.5,-573\"/>\n<text text-anchor=\"middle\" x=\"4551.5\" y=\"-557.8\" font-family=\"Helvetica,sans-Serif\" font-size=\"14.00\">Age &lt;= 16.5</text>\n<text text-anchor=\"middle\" x=\"4551.5\" y=\"-542.8\" font-family=\"Helvetica,sans-Serif\" font-size=\"14.00\">gini = 0.498</text>\n<text text-anchor=\"middle\" x=\"4551.5\" y=\"-527.8\" font-family=\"Helvetica,sans-Serif\" font-size=\"14.00\">samples = 45</text>\n<text text-anchor=\"middle\" x=\"4551.5\" y=\"-512.8\" font-family=\"Helvetica,sans-Serif\" font-size=\"14.00\">value = [21, 24]</text>\n</g>\n<!-- 220&#45;&gt;222 -->\n<g id=\"edge222\" class=\"edge\">\n<title>220&#45;&gt;222</title>\n<path fill=\"none\" stroke=\"black\" d=\"M4551.5,-608.88C4551.5,-600.78 4551.5,-591.98 4551.5,-583.47\"/>\n<polygon fill=\"black\" stroke=\"black\" points=\"4555,-583.3 4551.5,-573.3 4548,-583.3 4555,-583.3\"/>\n</g>\n<!-- 223 -->\n<g id=\"node224\" class=\"node\">\n<title>223</title>\n<polygon fill=\"none\" stroke=\"black\" points=\"4371.5,-469 4273.5,-469 4273.5,-401 4371.5,-401 4371.5,-469\"/>\n<text text-anchor=\"middle\" x=\"4322.5\" y=\"-453.8\" font-family=\"Helvetica,sans-Serif\" font-size=\"14.00\">Age &lt;= 14.75</text>\n<text text-anchor=\"middle\" x=\"4322.5\" y=\"-438.8\" font-family=\"Helvetica,sans-Serif\" font-size=\"14.00\">gini = 0.42</text>\n<text text-anchor=\"middle\" x=\"4322.5\" y=\"-423.8\" font-family=\"Helvetica,sans-Serif\" font-size=\"14.00\">samples = 10</text>\n<text text-anchor=\"middle\" x=\"4322.5\" y=\"-408.8\" font-family=\"Helvetica,sans-Serif\" font-size=\"14.00\">value = [3, 7]</text>\n</g>\n<!-- 222&#45;&gt;223 -->\n<g id=\"edge223\" class=\"edge\">\n<title>222&#45;&gt;223</title>\n<path fill=\"none\" stroke=\"black\" d=\"M4496.31,-509.64C4493,-508.05 4489.72,-506.49 4486.5,-505 4451.96,-488.99 4412.66,-472.4 4381.2,-459.5\"/>\n<polygon fill=\"black\" stroke=\"black\" points=\"4382.28,-456.17 4371.7,-455.62 4379.63,-462.65 4382.28,-456.17\"/>\n</g>\n<!-- 232 -->\n<g id=\"node233\" class=\"node\">\n<title>232</title>\n<polygon fill=\"none\" stroke=\"black\" points=\"4606.5,-469 4496.5,-469 4496.5,-401 4606.5,-401 4606.5,-469\"/>\n<text text-anchor=\"middle\" x=\"4551.5\" y=\"-453.8\" font-family=\"Helvetica,sans-Serif\" font-size=\"14.00\">Age &lt;= 21.5</text>\n<text text-anchor=\"middle\" x=\"4551.5\" y=\"-438.8\" font-family=\"Helvetica,sans-Serif\" font-size=\"14.00\">gini = 0.5</text>\n<text text-anchor=\"middle\" x=\"4551.5\" y=\"-423.8\" font-family=\"Helvetica,sans-Serif\" font-size=\"14.00\">samples = 35</text>\n<text text-anchor=\"middle\" x=\"4551.5\" y=\"-408.8\" font-family=\"Helvetica,sans-Serif\" font-size=\"14.00\">value = [18, 17]</text>\n</g>\n<!-- 222&#45;&gt;232 -->\n<g id=\"edge232\" class=\"edge\">\n<title>222&#45;&gt;232</title>\n<path fill=\"none\" stroke=\"black\" d=\"M4551.5,-504.88C4551.5,-496.78 4551.5,-487.98 4551.5,-479.47\"/>\n<polygon fill=\"black\" stroke=\"black\" points=\"4555,-479.3 4551.5,-469.3 4548,-479.3 4555,-479.3\"/>\n</g>\n<!-- 224 -->\n<g id=\"node225\" class=\"node\">\n<title>224</title>\n<polygon fill=\"none\" stroke=\"black\" points=\"4198,-365 4103,-365 4103,-297 4198,-297 4198,-365\"/>\n<text text-anchor=\"middle\" x=\"4150.5\" y=\"-349.8\" font-family=\"Helvetica,sans-Serif\" font-size=\"14.00\">Age &lt;= 13.5</text>\n<text text-anchor=\"middle\" x=\"4150.5\" y=\"-334.8\" font-family=\"Helvetica,sans-Serif\" font-size=\"14.00\">gini = 0.5</text>\n<text text-anchor=\"middle\" x=\"4150.5\" y=\"-319.8\" font-family=\"Helvetica,sans-Serif\" font-size=\"14.00\">samples = 4</text>\n<text text-anchor=\"middle\" x=\"4150.5\" y=\"-304.8\" font-family=\"Helvetica,sans-Serif\" font-size=\"14.00\">value = [2, 2]</text>\n</g>\n<!-- 223&#45;&gt;224 -->\n<g id=\"edge224\" class=\"edge\">\n<title>223&#45;&gt;224</title>\n<path fill=\"none\" stroke=\"black\" d=\"M4273.21,-404.77C4252.45,-392.46 4228.17,-378.06 4206.71,-365.33\"/>\n<polygon fill=\"black\" stroke=\"black\" points=\"4208.4,-362.27 4198.02,-360.18 4204.83,-368.29 4208.4,-362.27\"/>\n</g>\n<!-- 229 -->\n<g id=\"node230\" class=\"node\">\n<title>229</title>\n<polygon fill=\"none\" stroke=\"black\" points=\"4370,-365 4275,-365 4275,-297 4370,-297 4370,-365\"/>\n<text text-anchor=\"middle\" x=\"4322.5\" y=\"-349.8\" font-family=\"Helvetica,sans-Serif\" font-size=\"14.00\">Age &lt;= 15.5</text>\n<text text-anchor=\"middle\" x=\"4322.5\" y=\"-334.8\" font-family=\"Helvetica,sans-Serif\" font-size=\"14.00\">gini = 0.278</text>\n<text text-anchor=\"middle\" x=\"4322.5\" y=\"-319.8\" font-family=\"Helvetica,sans-Serif\" font-size=\"14.00\">samples = 6</text>\n<text text-anchor=\"middle\" x=\"4322.5\" y=\"-304.8\" font-family=\"Helvetica,sans-Serif\" font-size=\"14.00\">value = [1, 5]</text>\n</g>\n<!-- 223&#45;&gt;229 -->\n<g id=\"edge229\" class=\"edge\">\n<title>223&#45;&gt;229</title>\n<path fill=\"none\" stroke=\"black\" d=\"M4322.5,-400.88C4322.5,-392.78 4322.5,-383.98 4322.5,-375.47\"/>\n<polygon fill=\"black\" stroke=\"black\" points=\"4326,-375.3 4322.5,-365.3 4319,-375.3 4326,-375.3\"/>\n</g>\n<!-- 225 -->\n<g id=\"node226\" class=\"node\">\n<title>225</title>\n<polygon fill=\"none\" stroke=\"black\" points=\"4083,-253.5 3988,-253.5 3988,-200.5 4083,-200.5 4083,-253.5\"/>\n<text text-anchor=\"middle\" x=\"4035.5\" y=\"-238.3\" font-family=\"Helvetica,sans-Serif\" font-size=\"14.00\">gini = 0.0</text>\n<text text-anchor=\"middle\" x=\"4035.5\" y=\"-223.3\" font-family=\"Helvetica,sans-Serif\" font-size=\"14.00\">samples = 1</text>\n<text text-anchor=\"middle\" x=\"4035.5\" y=\"-208.3\" font-family=\"Helvetica,sans-Serif\" font-size=\"14.00\">value = [0, 1]</text>\n</g>\n<!-- 224&#45;&gt;225 -->\n<g id=\"edge225\" class=\"edge\">\n<title>224&#45;&gt;225</title>\n<path fill=\"none\" stroke=\"black\" d=\"M4113.16,-296.88C4099.9,-285.12 4084.99,-271.89 4071.81,-260.2\"/>\n<polygon fill=\"black\" stroke=\"black\" points=\"4074.08,-257.54 4064.27,-253.52 4069.43,-262.77 4074.08,-257.54\"/>\n</g>\n<!-- 226 -->\n<g id=\"node227\" class=\"node\">\n<title>226</title>\n<polygon fill=\"none\" stroke=\"black\" points=\"4199.5,-261 4101.5,-261 4101.5,-193 4199.5,-193 4199.5,-261\"/>\n<text text-anchor=\"middle\" x=\"4150.5\" y=\"-245.8\" font-family=\"Helvetica,sans-Serif\" font-size=\"14.00\">Age &lt;= 14.25</text>\n<text text-anchor=\"middle\" x=\"4150.5\" y=\"-230.8\" font-family=\"Helvetica,sans-Serif\" font-size=\"14.00\">gini = 0.444</text>\n<text text-anchor=\"middle\" x=\"4150.5\" y=\"-215.8\" font-family=\"Helvetica,sans-Serif\" font-size=\"14.00\">samples = 3</text>\n<text text-anchor=\"middle\" x=\"4150.5\" y=\"-200.8\" font-family=\"Helvetica,sans-Serif\" font-size=\"14.00\">value = [2, 1]</text>\n</g>\n<!-- 224&#45;&gt;226 -->\n<g id=\"edge226\" class=\"edge\">\n<title>224&#45;&gt;226</title>\n<path fill=\"none\" stroke=\"black\" d=\"M4150.5,-296.88C4150.5,-288.78 4150.5,-279.98 4150.5,-271.47\"/>\n<polygon fill=\"black\" stroke=\"black\" points=\"4154,-271.3 4150.5,-261.3 4147,-271.3 4154,-271.3\"/>\n</g>\n<!-- 227 -->\n<g id=\"node228\" class=\"node\">\n<title>227</title>\n<polygon fill=\"none\" stroke=\"black\" points=\"4142,-149.5 4047,-149.5 4047,-96.5 4142,-96.5 4142,-149.5\"/>\n<text text-anchor=\"middle\" x=\"4094.5\" y=\"-134.3\" font-family=\"Helvetica,sans-Serif\" font-size=\"14.00\">gini = 0.5</text>\n<text text-anchor=\"middle\" x=\"4094.5\" y=\"-119.3\" font-family=\"Helvetica,sans-Serif\" font-size=\"14.00\">samples = 2</text>\n<text text-anchor=\"middle\" x=\"4094.5\" y=\"-104.3\" font-family=\"Helvetica,sans-Serif\" font-size=\"14.00\">value = [1, 1]</text>\n</g>\n<!-- 226&#45;&gt;227 -->\n<g id=\"edge227\" class=\"edge\">\n<title>226&#45;&gt;227</title>\n<path fill=\"none\" stroke=\"black\" d=\"M4132.32,-192.88C4126.28,-181.89 4119.54,-169.62 4113.45,-158.52\"/>\n<polygon fill=\"black\" stroke=\"black\" points=\"4116.39,-156.6 4108.51,-149.52 4110.26,-159.97 4116.39,-156.6\"/>\n</g>\n<!-- 228 -->\n<g id=\"node229\" class=\"node\">\n<title>228</title>\n<polygon fill=\"none\" stroke=\"black\" points=\"4255,-149.5 4160,-149.5 4160,-96.5 4255,-96.5 4255,-149.5\"/>\n<text text-anchor=\"middle\" x=\"4207.5\" y=\"-134.3\" font-family=\"Helvetica,sans-Serif\" font-size=\"14.00\">gini = 0.0</text>\n<text text-anchor=\"middle\" x=\"4207.5\" y=\"-119.3\" font-family=\"Helvetica,sans-Serif\" font-size=\"14.00\">samples = 1</text>\n<text text-anchor=\"middle\" x=\"4207.5\" y=\"-104.3\" font-family=\"Helvetica,sans-Serif\" font-size=\"14.00\">value = [1, 0]</text>\n</g>\n<!-- 226&#45;&gt;228 -->\n<g id=\"edge228\" class=\"edge\">\n<title>226&#45;&gt;228</title>\n<path fill=\"none\" stroke=\"black\" d=\"M4169.01,-192.88C4175.15,-181.89 4182.01,-169.62 4188.21,-158.52\"/>\n<polygon fill=\"black\" stroke=\"black\" points=\"4191.42,-159.96 4193.24,-149.52 4185.31,-156.54 4191.42,-159.96\"/>\n</g>\n<!-- 230 -->\n<g id=\"node231\" class=\"node\">\n<title>230</title>\n<polygon fill=\"none\" stroke=\"black\" points=\"4313,-253.5 4218,-253.5 4218,-200.5 4313,-200.5 4313,-253.5\"/>\n<text text-anchor=\"middle\" x=\"4265.5\" y=\"-238.3\" font-family=\"Helvetica,sans-Serif\" font-size=\"14.00\">gini = 0.0</text>\n<text text-anchor=\"middle\" x=\"4265.5\" y=\"-223.3\" font-family=\"Helvetica,sans-Serif\" font-size=\"14.00\">samples = 3</text>\n<text text-anchor=\"middle\" x=\"4265.5\" y=\"-208.3\" font-family=\"Helvetica,sans-Serif\" font-size=\"14.00\">value = [0, 3]</text>\n</g>\n<!-- 229&#45;&gt;230 -->\n<g id=\"edge230\" class=\"edge\">\n<title>229&#45;&gt;230</title>\n<path fill=\"none\" stroke=\"black\" d=\"M4303.99,-296.88C4297.85,-285.89 4290.99,-273.62 4284.79,-262.52\"/>\n<polygon fill=\"black\" stroke=\"black\" points=\"4287.69,-260.54 4279.76,-253.52 4281.58,-263.96 4287.69,-260.54\"/>\n</g>\n<!-- 231 -->\n<g id=\"node232\" class=\"node\">\n<title>231</title>\n<polygon fill=\"none\" stroke=\"black\" points=\"4426,-253.5 4331,-253.5 4331,-200.5 4426,-200.5 4426,-253.5\"/>\n<text text-anchor=\"middle\" x=\"4378.5\" y=\"-238.3\" font-family=\"Helvetica,sans-Serif\" font-size=\"14.00\">gini = 0.444</text>\n<text text-anchor=\"middle\" x=\"4378.5\" y=\"-223.3\" font-family=\"Helvetica,sans-Serif\" font-size=\"14.00\">samples = 3</text>\n<text text-anchor=\"middle\" x=\"4378.5\" y=\"-208.3\" font-family=\"Helvetica,sans-Serif\" font-size=\"14.00\">value = [1, 2]</text>\n</g>\n<!-- 229&#45;&gt;231 -->\n<g id=\"edge231\" class=\"edge\">\n<title>229&#45;&gt;231</title>\n<path fill=\"none\" stroke=\"black\" d=\"M4340.68,-296.88C4346.72,-285.89 4353.46,-273.62 4359.55,-262.52\"/>\n<polygon fill=\"black\" stroke=\"black\" points=\"4362.74,-263.97 4364.49,-253.52 4356.61,-260.6 4362.74,-263.97\"/>\n</g>\n<!-- 233 -->\n<g id=\"node234\" class=\"node\">\n<title>233</title>\n<polygon fill=\"none\" stroke=\"black\" points=\"4602.5,-365 4500.5,-365 4500.5,-297 4602.5,-297 4602.5,-365\"/>\n<text text-anchor=\"middle\" x=\"4551.5\" y=\"-349.8\" font-family=\"Helvetica,sans-Serif\" font-size=\"14.00\">Age &lt;= 19.5</text>\n<text text-anchor=\"middle\" x=\"4551.5\" y=\"-334.8\" font-family=\"Helvetica,sans-Serif\" font-size=\"14.00\">gini = 0.475</text>\n<text text-anchor=\"middle\" x=\"4551.5\" y=\"-319.8\" font-family=\"Helvetica,sans-Serif\" font-size=\"14.00\">samples = 18</text>\n<text text-anchor=\"middle\" x=\"4551.5\" y=\"-304.8\" font-family=\"Helvetica,sans-Serif\" font-size=\"14.00\">value = [11, 7]</text>\n</g>\n<!-- 232&#45;&gt;233 -->\n<g id=\"edge233\" class=\"edge\">\n<title>232&#45;&gt;233</title>\n<path fill=\"none\" stroke=\"black\" d=\"M4551.5,-400.88C4551.5,-392.78 4551.5,-383.98 4551.5,-375.47\"/>\n<polygon fill=\"black\" stroke=\"black\" points=\"4555,-375.3 4551.5,-365.3 4548,-375.3 4555,-375.3\"/>\n</g>\n<!-- 242 -->\n<g id=\"node243\" class=\"node\">\n<title>242</title>\n<polygon fill=\"none\" stroke=\"black\" points=\"4938.5,-365 4836.5,-365 4836.5,-297 4938.5,-297 4938.5,-365\"/>\n<text text-anchor=\"middle\" x=\"4887.5\" y=\"-349.8\" font-family=\"Helvetica,sans-Serif\" font-size=\"14.00\">Age &lt;= 24.5</text>\n<text text-anchor=\"middle\" x=\"4887.5\" y=\"-334.8\" font-family=\"Helvetica,sans-Serif\" font-size=\"14.00\">gini = 0.484</text>\n<text text-anchor=\"middle\" x=\"4887.5\" y=\"-319.8\" font-family=\"Helvetica,sans-Serif\" font-size=\"14.00\">samples = 17</text>\n<text text-anchor=\"middle\" x=\"4887.5\" y=\"-304.8\" font-family=\"Helvetica,sans-Serif\" font-size=\"14.00\">value = [7, 10]</text>\n</g>\n<!-- 232&#45;&gt;242 -->\n<g id=\"edge242\" class=\"edge\">\n<title>232&#45;&gt;242</title>\n<path fill=\"none\" stroke=\"black\" d=\"M4606.65,-404.59C4609.62,-403.31 4612.58,-402.11 4615.5,-401 4685.83,-374.34 4770.26,-354.74 4826.21,-343.38\"/>\n<polygon fill=\"black\" stroke=\"black\" points=\"4827.19,-346.76 4836.31,-341.36 4825.82,-339.89 4827.19,-346.76\"/>\n</g>\n<!-- 234 -->\n<g id=\"node235\" class=\"node\">\n<title>234</title>\n<polygon fill=\"none\" stroke=\"black\" points=\"4542.5,-261 4444.5,-261 4444.5,-193 4542.5,-193 4542.5,-261\"/>\n<text text-anchor=\"middle\" x=\"4493.5\" y=\"-245.8\" font-family=\"Helvetica,sans-Serif\" font-size=\"14.00\">Age &lt;= 18.5</text>\n<text text-anchor=\"middle\" x=\"4493.5\" y=\"-230.8\" font-family=\"Helvetica,sans-Serif\" font-size=\"14.00\">gini = 0.5</text>\n<text text-anchor=\"middle\" x=\"4493.5\" y=\"-215.8\" font-family=\"Helvetica,sans-Serif\" font-size=\"14.00\">samples = 12</text>\n<text text-anchor=\"middle\" x=\"4493.5\" y=\"-200.8\" font-family=\"Helvetica,sans-Serif\" font-size=\"14.00\">value = [6, 6]</text>\n</g>\n<!-- 233&#45;&gt;234 -->\n<g id=\"edge234\" class=\"edge\">\n<title>233&#45;&gt;234</title>\n<path fill=\"none\" stroke=\"black\" d=\"M4532.67,-296.88C4527.81,-288.33 4522.51,-279.01 4517.42,-270.07\"/>\n<polygon fill=\"black\" stroke=\"black\" points=\"4520.42,-268.26 4512.43,-261.3 4514.34,-271.72 4520.42,-268.26\"/>\n</g>\n<!-- 239 -->\n<g id=\"node240\" class=\"node\">\n<title>239</title>\n<polygon fill=\"none\" stroke=\"black\" points=\"4656,-261 4561,-261 4561,-193 4656,-193 4656,-261\"/>\n<text text-anchor=\"middle\" x=\"4608.5\" y=\"-245.8\" font-family=\"Helvetica,sans-Serif\" font-size=\"14.00\">Age &lt;= 20.5</text>\n<text text-anchor=\"middle\" x=\"4608.5\" y=\"-230.8\" font-family=\"Helvetica,sans-Serif\" font-size=\"14.00\">gini = 0.278</text>\n<text text-anchor=\"middle\" x=\"4608.5\" y=\"-215.8\" font-family=\"Helvetica,sans-Serif\" font-size=\"14.00\">samples = 6</text>\n<text text-anchor=\"middle\" x=\"4608.5\" y=\"-200.8\" font-family=\"Helvetica,sans-Serif\" font-size=\"14.00\">value = [5, 1]</text>\n</g>\n<!-- 233&#45;&gt;239 -->\n<g id=\"edge239\" class=\"edge\">\n<title>233&#45;&gt;239</title>\n<path fill=\"none\" stroke=\"black\" d=\"M4570.01,-296.88C4574.78,-288.33 4579.99,-279.01 4584.99,-270.07\"/>\n<polygon fill=\"black\" stroke=\"black\" points=\"4588.07,-271.74 4589.89,-261.3 4581.96,-268.32 4588.07,-271.74\"/>\n</g>\n<!-- 235 -->\n<g id=\"node236\" class=\"node\">\n<title>235</title>\n<polygon fill=\"none\" stroke=\"black\" points=\"4427.5,-157 4329.5,-157 4329.5,-89 4427.5,-89 4427.5,-157\"/>\n<text text-anchor=\"middle\" x=\"4378.5\" y=\"-141.8\" font-family=\"Helvetica,sans-Serif\" font-size=\"14.00\">Age &lt;= 17.5</text>\n<text text-anchor=\"middle\" x=\"4378.5\" y=\"-126.8\" font-family=\"Helvetica,sans-Serif\" font-size=\"14.00\">gini = 0.48</text>\n<text text-anchor=\"middle\" x=\"4378.5\" y=\"-111.8\" font-family=\"Helvetica,sans-Serif\" font-size=\"14.00\">samples = 10</text>\n<text text-anchor=\"middle\" x=\"4378.5\" y=\"-96.8\" font-family=\"Helvetica,sans-Serif\" font-size=\"14.00\">value = [6, 4]</text>\n</g>\n<!-- 234&#45;&gt;235 -->\n<g id=\"edge235\" class=\"edge\">\n<title>234&#45;&gt;235</title>\n<path fill=\"none\" stroke=\"black\" d=\"M4456.16,-192.88C4445.82,-183.71 4434.48,-173.65 4423.74,-164.12\"/>\n<polygon fill=\"black\" stroke=\"black\" points=\"4425.85,-161.32 4416.04,-157.3 4421.2,-166.55 4425.85,-161.32\"/>\n</g>\n<!-- 238 -->\n<g id=\"node239\" class=\"node\">\n<title>238</title>\n<polygon fill=\"none\" stroke=\"black\" points=\"4541,-149.5 4446,-149.5 4446,-96.5 4541,-96.5 4541,-149.5\"/>\n<text text-anchor=\"middle\" x=\"4493.5\" y=\"-134.3\" font-family=\"Helvetica,sans-Serif\" font-size=\"14.00\">gini = 0.0</text>\n<text text-anchor=\"middle\" x=\"4493.5\" y=\"-119.3\" font-family=\"Helvetica,sans-Serif\" font-size=\"14.00\">samples = 2</text>\n<text text-anchor=\"middle\" x=\"4493.5\" y=\"-104.3\" font-family=\"Helvetica,sans-Serif\" font-size=\"14.00\">value = [0, 2]</text>\n</g>\n<!-- 234&#45;&gt;238 -->\n<g id=\"edge238\" class=\"edge\">\n<title>234&#45;&gt;238</title>\n<path fill=\"none\" stroke=\"black\" d=\"M4493.5,-192.88C4493.5,-182.33 4493.5,-170.6 4493.5,-159.85\"/>\n<polygon fill=\"black\" stroke=\"black\" points=\"4497,-159.52 4493.5,-149.52 4490,-159.52 4497,-159.52\"/>\n</g>\n<!-- 236 -->\n<g id=\"node237\" class=\"node\">\n<title>236</title>\n<polygon fill=\"none\" stroke=\"black\" points=\"4370,-53 4275,-53 4275,0 4370,0 4370,-53\"/>\n<text text-anchor=\"middle\" x=\"4322.5\" y=\"-37.8\" font-family=\"Helvetica,sans-Serif\" font-size=\"14.00\">gini = 0.5</text>\n<text text-anchor=\"middle\" x=\"4322.5\" y=\"-22.8\" font-family=\"Helvetica,sans-Serif\" font-size=\"14.00\">samples = 2</text>\n<text text-anchor=\"middle\" x=\"4322.5\" y=\"-7.8\" font-family=\"Helvetica,sans-Serif\" font-size=\"14.00\">value = [1, 1]</text>\n</g>\n<!-- 235&#45;&gt;236 -->\n<g id=\"edge236\" class=\"edge\">\n<title>235&#45;&gt;236</title>\n<path fill=\"none\" stroke=\"black\" d=\"M4358.91,-88.95C4353.76,-80.26 4348.2,-70.86 4343,-62.09\"/>\n<polygon fill=\"black\" stroke=\"black\" points=\"4345.86,-60.06 4337.75,-53.24 4339.84,-63.62 4345.86,-60.06\"/>\n</g>\n<!-- 237 -->\n<g id=\"node238\" class=\"node\">\n<title>237</title>\n<polygon fill=\"none\" stroke=\"black\" points=\"4483,-53 4388,-53 4388,0 4483,0 4483,-53\"/>\n<text text-anchor=\"middle\" x=\"4435.5\" y=\"-37.8\" font-family=\"Helvetica,sans-Serif\" font-size=\"14.00\">gini = 0.469</text>\n<text text-anchor=\"middle\" x=\"4435.5\" y=\"-22.8\" font-family=\"Helvetica,sans-Serif\" font-size=\"14.00\">samples = 8</text>\n<text text-anchor=\"middle\" x=\"4435.5\" y=\"-7.8\" font-family=\"Helvetica,sans-Serif\" font-size=\"14.00\">value = [5, 3]</text>\n</g>\n<!-- 235&#45;&gt;237 -->\n<g id=\"edge237\" class=\"edge\">\n<title>235&#45;&gt;237</title>\n<path fill=\"none\" stroke=\"black\" d=\"M4398.44,-88.95C4403.73,-80.17 4409.47,-70.66 4414.8,-61.82\"/>\n<polygon fill=\"black\" stroke=\"black\" points=\"4417.81,-63.61 4419.98,-53.24 4411.81,-59.99 4417.81,-63.61\"/>\n</g>\n<!-- 240 -->\n<g id=\"node241\" class=\"node\">\n<title>240</title>\n<polygon fill=\"none\" stroke=\"black\" points=\"4654,-149.5 4559,-149.5 4559,-96.5 4654,-96.5 4654,-149.5\"/>\n<text text-anchor=\"middle\" x=\"4606.5\" y=\"-134.3\" font-family=\"Helvetica,sans-Serif\" font-size=\"14.00\">gini = 0.0</text>\n<text text-anchor=\"middle\" x=\"4606.5\" y=\"-119.3\" font-family=\"Helvetica,sans-Serif\" font-size=\"14.00\">samples = 2</text>\n<text text-anchor=\"middle\" x=\"4606.5\" y=\"-104.3\" font-family=\"Helvetica,sans-Serif\" font-size=\"14.00\">value = [2, 0]</text>\n</g>\n<!-- 239&#45;&gt;240 -->\n<g id=\"edge240\" class=\"edge\">\n<title>239&#45;&gt;240</title>\n<path fill=\"none\" stroke=\"black\" d=\"M4607.85,-192.88C4607.64,-182.22 4607.41,-170.35 4607.2,-159.52\"/>\n<polygon fill=\"black\" stroke=\"black\" points=\"4610.7,-159.45 4607,-149.52 4603.7,-159.59 4610.7,-159.45\"/>\n</g>\n<!-- 241 -->\n<g id=\"node242\" class=\"node\">\n<title>241</title>\n<polygon fill=\"none\" stroke=\"black\" points=\"4767,-149.5 4672,-149.5 4672,-96.5 4767,-96.5 4767,-149.5\"/>\n<text text-anchor=\"middle\" x=\"4719.5\" y=\"-134.3\" font-family=\"Helvetica,sans-Serif\" font-size=\"14.00\">gini = 0.375</text>\n<text text-anchor=\"middle\" x=\"4719.5\" y=\"-119.3\" font-family=\"Helvetica,sans-Serif\" font-size=\"14.00\">samples = 4</text>\n<text text-anchor=\"middle\" x=\"4719.5\" y=\"-104.3\" font-family=\"Helvetica,sans-Serif\" font-size=\"14.00\">value = [3, 1]</text>\n</g>\n<!-- 239&#45;&gt;241 -->\n<g id=\"edge241\" class=\"edge\">\n<title>239&#45;&gt;241</title>\n<path fill=\"none\" stroke=\"black\" d=\"M4644.54,-192.88C4657.22,-181.23 4671.46,-168.14 4684.1,-156.53\"/>\n<polygon fill=\"black\" stroke=\"black\" points=\"4686.73,-158.86 4691.73,-149.52 4682,-153.71 4686.73,-158.86\"/>\n</g>\n<!-- 243 -->\n<g id=\"node244\" class=\"node\">\n<title>243</title>\n<polygon fill=\"none\" stroke=\"black\" points=\"4936.5,-261 4838.5,-261 4838.5,-193 4936.5,-193 4936.5,-261\"/>\n<text text-anchor=\"middle\" x=\"4887.5\" y=\"-245.8\" font-family=\"Helvetica,sans-Serif\" font-size=\"14.00\">Age &lt;= 23.5</text>\n<text text-anchor=\"middle\" x=\"4887.5\" y=\"-230.8\" font-family=\"Helvetica,sans-Serif\" font-size=\"14.00\">gini = 0.444</text>\n<text text-anchor=\"middle\" x=\"4887.5\" y=\"-215.8\" font-family=\"Helvetica,sans-Serif\" font-size=\"14.00\">samples = 12</text>\n<text text-anchor=\"middle\" x=\"4887.5\" y=\"-200.8\" font-family=\"Helvetica,sans-Serif\" font-size=\"14.00\">value = [4, 8]</text>\n</g>\n<!-- 242&#45;&gt;243 -->\n<g id=\"edge243\" class=\"edge\">\n<title>242&#45;&gt;243</title>\n<path fill=\"none\" stroke=\"black\" d=\"M4887.5,-296.88C4887.5,-288.78 4887.5,-279.98 4887.5,-271.47\"/>\n<polygon fill=\"black\" stroke=\"black\" points=\"4891,-271.3 4887.5,-261.3 4884,-271.3 4891,-271.3\"/>\n</g>\n<!-- 248 -->\n<g id=\"node249\" class=\"node\">\n<title>248</title>\n<polygon fill=\"none\" stroke=\"black\" points=\"5106,-261 5011,-261 5011,-193 5106,-193 5106,-261\"/>\n<text text-anchor=\"middle\" x=\"5058.5\" y=\"-245.8\" font-family=\"Helvetica,sans-Serif\" font-size=\"14.00\">Age &lt;= 25.5</text>\n<text text-anchor=\"middle\" x=\"5058.5\" y=\"-230.8\" font-family=\"Helvetica,sans-Serif\" font-size=\"14.00\">gini = 0.48</text>\n<text text-anchor=\"middle\" x=\"5058.5\" y=\"-215.8\" font-family=\"Helvetica,sans-Serif\" font-size=\"14.00\">samples = 5</text>\n<text text-anchor=\"middle\" x=\"5058.5\" y=\"-200.8\" font-family=\"Helvetica,sans-Serif\" font-size=\"14.00\">value = [3, 2]</text>\n</g>\n<!-- 242&#45;&gt;248 -->\n<g id=\"edge248\" class=\"edge\">\n<title>242&#45;&gt;248</title>\n<path fill=\"none\" stroke=\"black\" d=\"M4938.81,-299.4C4958.69,-287.54 4981.52,-273.92 5001.88,-261.77\"/>\n<polygon fill=\"black\" stroke=\"black\" points=\"5003.94,-264.62 5010.74,-256.49 5000.36,-258.61 5003.94,-264.62\"/>\n</g>\n<!-- 244 -->\n<g id=\"node245\" class=\"node\">\n<title>244</title>\n<polygon fill=\"none\" stroke=\"black\" points=\"4880,-157 4785,-157 4785,-89 4880,-89 4880,-157\"/>\n<text text-anchor=\"middle\" x=\"4832.5\" y=\"-141.8\" font-family=\"Helvetica,sans-Serif\" font-size=\"14.00\">Age &lt;= 22.5</text>\n<text text-anchor=\"middle\" x=\"4832.5\" y=\"-126.8\" font-family=\"Helvetica,sans-Serif\" font-size=\"14.00\">gini = 0.469</text>\n<text text-anchor=\"middle\" x=\"4832.5\" y=\"-111.8\" font-family=\"Helvetica,sans-Serif\" font-size=\"14.00\">samples = 8</text>\n<text text-anchor=\"middle\" x=\"4832.5\" y=\"-96.8\" font-family=\"Helvetica,sans-Serif\" font-size=\"14.00\">value = [3, 5]</text>\n</g>\n<!-- 243&#45;&gt;244 -->\n<g id=\"edge244\" class=\"edge\">\n<title>243&#45;&gt;244</title>\n<path fill=\"none\" stroke=\"black\" d=\"M4869.64,-192.88C4865.08,-184.42 4860.11,-175.21 4855.34,-166.35\"/>\n<polygon fill=\"black\" stroke=\"black\" points=\"4858.28,-164.44 4850.46,-157.3 4852.12,-167.76 4858.28,-164.44\"/>\n</g>\n<!-- 247 -->\n<g id=\"node248\" class=\"node\">\n<title>247</title>\n<polygon fill=\"none\" stroke=\"black\" points=\"4993,-149.5 4898,-149.5 4898,-96.5 4993,-96.5 4993,-149.5\"/>\n<text text-anchor=\"middle\" x=\"4945.5\" y=\"-134.3\" font-family=\"Helvetica,sans-Serif\" font-size=\"14.00\">gini = 0.375</text>\n<text text-anchor=\"middle\" x=\"4945.5\" y=\"-119.3\" font-family=\"Helvetica,sans-Serif\" font-size=\"14.00\">samples = 4</text>\n<text text-anchor=\"middle\" x=\"4945.5\" y=\"-104.3\" font-family=\"Helvetica,sans-Serif\" font-size=\"14.00\">value = [1, 3]</text>\n</g>\n<!-- 243&#45;&gt;247 -->\n<g id=\"edge247\" class=\"edge\">\n<title>243&#45;&gt;247</title>\n<path fill=\"none\" stroke=\"black\" d=\"M4906.33,-192.88C4912.58,-181.89 4919.56,-169.62 4925.87,-158.52\"/>\n<polygon fill=\"black\" stroke=\"black\" points=\"4929.09,-159.94 4930.99,-149.52 4923,-156.48 4929.09,-159.94\"/>\n</g>\n<!-- 245 -->\n<g id=\"node246\" class=\"node\">\n<title>245</title>\n<polygon fill=\"none\" stroke=\"black\" points=\"4823,-53 4728,-53 4728,0 4823,0 4823,-53\"/>\n<text text-anchor=\"middle\" x=\"4775.5\" y=\"-37.8\" font-family=\"Helvetica,sans-Serif\" font-size=\"14.00\">gini = 0.444</text>\n<text text-anchor=\"middle\" x=\"4775.5\" y=\"-22.8\" font-family=\"Helvetica,sans-Serif\" font-size=\"14.00\">samples = 6</text>\n<text text-anchor=\"middle\" x=\"4775.5\" y=\"-7.8\" font-family=\"Helvetica,sans-Serif\" font-size=\"14.00\">value = [2, 4]</text>\n</g>\n<!-- 244&#45;&gt;245 -->\n<g id=\"edge245\" class=\"edge\">\n<title>244&#45;&gt;245</title>\n<path fill=\"none\" stroke=\"black\" d=\"M4812.56,-88.95C4807.27,-80.17 4801.53,-70.66 4796.2,-61.82\"/>\n<polygon fill=\"black\" stroke=\"black\" points=\"4799.19,-59.99 4791.02,-53.24 4793.19,-63.61 4799.19,-59.99\"/>\n</g>\n<!-- 246 -->\n<g id=\"node247\" class=\"node\">\n<title>246</title>\n<polygon fill=\"none\" stroke=\"black\" points=\"4936,-53 4841,-53 4841,0 4936,0 4936,-53\"/>\n<text text-anchor=\"middle\" x=\"4888.5\" y=\"-37.8\" font-family=\"Helvetica,sans-Serif\" font-size=\"14.00\">gini = 0.5</text>\n<text text-anchor=\"middle\" x=\"4888.5\" y=\"-22.8\" font-family=\"Helvetica,sans-Serif\" font-size=\"14.00\">samples = 2</text>\n<text text-anchor=\"middle\" x=\"4888.5\" y=\"-7.8\" font-family=\"Helvetica,sans-Serif\" font-size=\"14.00\">value = [1, 1]</text>\n</g>\n<!-- 244&#45;&gt;246 -->\n<g id=\"edge246\" class=\"edge\">\n<title>244&#45;&gt;246</title>\n<path fill=\"none\" stroke=\"black\" d=\"M4852.09,-88.95C4857.24,-80.26 4862.8,-70.86 4868,-62.09\"/>\n<polygon fill=\"black\" stroke=\"black\" points=\"4871.16,-63.62 4873.25,-53.24 4865.14,-60.06 4871.16,-63.62\"/>\n</g>\n<!-- 249 -->\n<g id=\"node250\" class=\"node\">\n<title>249</title>\n<polygon fill=\"none\" stroke=\"black\" points=\"5106,-149.5 5011,-149.5 5011,-96.5 5106,-96.5 5106,-149.5\"/>\n<text text-anchor=\"middle\" x=\"5058.5\" y=\"-134.3\" font-family=\"Helvetica,sans-Serif\" font-size=\"14.00\">gini = 0.0</text>\n<text text-anchor=\"middle\" x=\"5058.5\" y=\"-119.3\" font-family=\"Helvetica,sans-Serif\" font-size=\"14.00\">samples = 2</text>\n<text text-anchor=\"middle\" x=\"5058.5\" y=\"-104.3\" font-family=\"Helvetica,sans-Serif\" font-size=\"14.00\">value = [2, 0]</text>\n</g>\n<!-- 248&#45;&gt;249 -->\n<g id=\"edge249\" class=\"edge\">\n<title>248&#45;&gt;249</title>\n<path fill=\"none\" stroke=\"black\" d=\"M5058.5,-192.88C5058.5,-182.33 5058.5,-170.6 5058.5,-159.85\"/>\n<polygon fill=\"black\" stroke=\"black\" points=\"5062,-159.52 5058.5,-149.52 5055,-159.52 5062,-159.52\"/>\n</g>\n<!-- 250 -->\n<g id=\"node251\" class=\"node\">\n<title>250</title>\n<polygon fill=\"none\" stroke=\"black\" points=\"5219,-149.5 5124,-149.5 5124,-96.5 5219,-96.5 5219,-149.5\"/>\n<text text-anchor=\"middle\" x=\"5171.5\" y=\"-134.3\" font-family=\"Helvetica,sans-Serif\" font-size=\"14.00\">gini = 0.444</text>\n<text text-anchor=\"middle\" x=\"5171.5\" y=\"-119.3\" font-family=\"Helvetica,sans-Serif\" font-size=\"14.00\">samples = 3</text>\n<text text-anchor=\"middle\" x=\"5171.5\" y=\"-104.3\" font-family=\"Helvetica,sans-Serif\" font-size=\"14.00\">value = [1, 2]</text>\n</g>\n<!-- 248&#45;&gt;250 -->\n<g id=\"edge250\" class=\"edge\">\n<title>248&#45;&gt;250</title>\n<path fill=\"none\" stroke=\"black\" d=\"M5095.19,-192.88C5108.1,-181.23 5122.6,-168.14 5135.46,-156.53\"/>\n<polygon fill=\"black\" stroke=\"black\" points=\"5138.15,-158.82 5143.23,-149.52 5133.46,-153.62 5138.15,-158.82\"/>\n</g>\n<!-- 253 -->\n<g id=\"node254\" class=\"node\">\n<title>253</title>\n<polygon fill=\"none\" stroke=\"black\" points=\"4606,-877.5 4511,-877.5 4511,-824.5 4606,-824.5 4606,-877.5\"/>\n<text text-anchor=\"middle\" x=\"4558.5\" y=\"-862.3\" font-family=\"Helvetica,sans-Serif\" font-size=\"14.00\">gini = 0.0</text>\n<text text-anchor=\"middle\" x=\"4558.5\" y=\"-847.3\" font-family=\"Helvetica,sans-Serif\" font-size=\"14.00\">samples = 2</text>\n<text text-anchor=\"middle\" x=\"4558.5\" y=\"-832.3\" font-family=\"Helvetica,sans-Serif\" font-size=\"14.00\">value = [2, 0]</text>\n</g>\n<!-- 252&#45;&gt;253 -->\n<g id=\"edge253\" class=\"edge\">\n<title>252&#45;&gt;253</title>\n<path fill=\"none\" stroke=\"black\" d=\"M4558.5,-920.88C4558.5,-910.33 4558.5,-898.6 4558.5,-887.85\"/>\n<polygon fill=\"black\" stroke=\"black\" points=\"4562,-887.52 4558.5,-877.52 4555,-887.52 4562,-887.52\"/>\n</g>\n<!-- 254 -->\n<g id=\"node255\" class=\"node\">\n<title>254</title>\n<polygon fill=\"none\" stroke=\"black\" points=\"4722.5,-885 4624.5,-885 4624.5,-817 4722.5,-817 4722.5,-885\"/>\n<text text-anchor=\"middle\" x=\"4673.5\" y=\"-869.8\" font-family=\"Helvetica,sans-Serif\" font-size=\"14.00\">Age &lt;= 31.5</text>\n<text text-anchor=\"middle\" x=\"4673.5\" y=\"-854.8\" font-family=\"Helvetica,sans-Serif\" font-size=\"14.00\">gini = 0.444</text>\n<text text-anchor=\"middle\" x=\"4673.5\" y=\"-839.8\" font-family=\"Helvetica,sans-Serif\" font-size=\"14.00\">samples = 12</text>\n<text text-anchor=\"middle\" x=\"4673.5\" y=\"-824.8\" font-family=\"Helvetica,sans-Serif\" font-size=\"14.00\">value = [8, 4]</text>\n</g>\n<!-- 252&#45;&gt;254 -->\n<g id=\"edge254\" class=\"edge\">\n<title>252&#45;&gt;254</title>\n<path fill=\"none\" stroke=\"black\" d=\"M4595.84,-920.88C4606.18,-911.71 4617.52,-901.65 4628.26,-892.12\"/>\n<polygon fill=\"black\" stroke=\"black\" points=\"4630.8,-894.55 4635.96,-885.3 4626.15,-889.32 4630.8,-894.55\"/>\n</g>\n<!-- 255 -->\n<g id=\"node256\" class=\"node\">\n<title>255</title>\n<polygon fill=\"none\" stroke=\"black\" points=\"4722.5,-781 4624.5,-781 4624.5,-713 4722.5,-713 4722.5,-781\"/>\n<text text-anchor=\"middle\" x=\"4673.5\" y=\"-765.8\" font-family=\"Helvetica,sans-Serif\" font-size=\"14.00\">Age &lt;= 30.75</text>\n<text text-anchor=\"middle\" x=\"4673.5\" y=\"-750.8\" font-family=\"Helvetica,sans-Serif\" font-size=\"14.00\">gini = 0.463</text>\n<text text-anchor=\"middle\" x=\"4673.5\" y=\"-735.8\" font-family=\"Helvetica,sans-Serif\" font-size=\"14.00\">samples = 11</text>\n<text text-anchor=\"middle\" x=\"4673.5\" y=\"-720.8\" font-family=\"Helvetica,sans-Serif\" font-size=\"14.00\">value = [7, 4]</text>\n</g>\n<!-- 254&#45;&gt;255 -->\n<g id=\"edge255\" class=\"edge\">\n<title>254&#45;&gt;255</title>\n<path fill=\"none\" stroke=\"black\" d=\"M4673.5,-816.88C4673.5,-808.78 4673.5,-799.98 4673.5,-791.47\"/>\n<polygon fill=\"black\" stroke=\"black\" points=\"4677,-791.3 4673.5,-781.3 4670,-791.3 4677,-791.3\"/>\n</g>\n<!-- 262 -->\n<g id=\"node263\" class=\"node\">\n<title>262</title>\n<polygon fill=\"none\" stroke=\"black\" points=\"4836,-773.5 4741,-773.5 4741,-720.5 4836,-720.5 4836,-773.5\"/>\n<text text-anchor=\"middle\" x=\"4788.5\" y=\"-758.3\" font-family=\"Helvetica,sans-Serif\" font-size=\"14.00\">gini = 0.0</text>\n<text text-anchor=\"middle\" x=\"4788.5\" y=\"-743.3\" font-family=\"Helvetica,sans-Serif\" font-size=\"14.00\">samples = 1</text>\n<text text-anchor=\"middle\" x=\"4788.5\" y=\"-728.3\" font-family=\"Helvetica,sans-Serif\" font-size=\"14.00\">value = [1, 0]</text>\n</g>\n<!-- 254&#45;&gt;262 -->\n<g id=\"edge262\" class=\"edge\">\n<title>254&#45;&gt;262</title>\n<path fill=\"none\" stroke=\"black\" d=\"M4710.84,-816.88C4724.1,-805.12 4739.01,-791.89 4752.19,-780.2\"/>\n<polygon fill=\"black\" stroke=\"black\" points=\"4754.57,-782.77 4759.73,-773.52 4749.92,-777.54 4754.57,-782.77\"/>\n</g>\n<!-- 256 -->\n<g id=\"node257\" class=\"node\">\n<title>256</title>\n<polygon fill=\"none\" stroke=\"black\" points=\"4722.5,-677 4624.5,-677 4624.5,-609 4722.5,-609 4722.5,-677\"/>\n<text text-anchor=\"middle\" x=\"4673.5\" y=\"-661.8\" font-family=\"Helvetica,sans-Serif\" font-size=\"14.00\">Age &lt;= 30.25</text>\n<text text-anchor=\"middle\" x=\"4673.5\" y=\"-646.8\" font-family=\"Helvetica,sans-Serif\" font-size=\"14.00\">gini = 0.408</text>\n<text text-anchor=\"middle\" x=\"4673.5\" y=\"-631.8\" font-family=\"Helvetica,sans-Serif\" font-size=\"14.00\">samples = 7</text>\n<text text-anchor=\"middle\" x=\"4673.5\" y=\"-616.8\" font-family=\"Helvetica,sans-Serif\" font-size=\"14.00\">value = [5, 2]</text>\n</g>\n<!-- 255&#45;&gt;256 -->\n<g id=\"edge256\" class=\"edge\">\n<title>255&#45;&gt;256</title>\n<path fill=\"none\" stroke=\"black\" d=\"M4673.5,-712.88C4673.5,-704.78 4673.5,-695.98 4673.5,-687.47\"/>\n<polygon fill=\"black\" stroke=\"black\" points=\"4677,-687.3 4673.5,-677.3 4670,-687.3 4677,-687.3\"/>\n</g>\n<!-- 261 -->\n<g id=\"node262\" class=\"node\">\n<title>261</title>\n<polygon fill=\"none\" stroke=\"black\" points=\"4836,-669.5 4741,-669.5 4741,-616.5 4836,-616.5 4836,-669.5\"/>\n<text text-anchor=\"middle\" x=\"4788.5\" y=\"-654.3\" font-family=\"Helvetica,sans-Serif\" font-size=\"14.00\">gini = 0.5</text>\n<text text-anchor=\"middle\" x=\"4788.5\" y=\"-639.3\" font-family=\"Helvetica,sans-Serif\" font-size=\"14.00\">samples = 4</text>\n<text text-anchor=\"middle\" x=\"4788.5\" y=\"-624.3\" font-family=\"Helvetica,sans-Serif\" font-size=\"14.00\">value = [2, 2]</text>\n</g>\n<!-- 255&#45;&gt;261 -->\n<g id=\"edge261\" class=\"edge\">\n<title>255&#45;&gt;261</title>\n<path fill=\"none\" stroke=\"black\" d=\"M4710.84,-712.88C4724.1,-701.12 4739.01,-687.89 4752.19,-676.2\"/>\n<polygon fill=\"black\" stroke=\"black\" points=\"4754.57,-678.77 4759.73,-669.52 4749.92,-673.54 4754.57,-678.77\"/>\n</g>\n<!-- 257 -->\n<g id=\"node258\" class=\"node\">\n<title>257</title>\n<polygon fill=\"none\" stroke=\"black\" points=\"4720,-573 4625,-573 4625,-505 4720,-505 4720,-573\"/>\n<text text-anchor=\"middle\" x=\"4672.5\" y=\"-557.8\" font-family=\"Helvetica,sans-Serif\" font-size=\"14.00\">Age &lt;= 29.5</text>\n<text text-anchor=\"middle\" x=\"4672.5\" y=\"-542.8\" font-family=\"Helvetica,sans-Serif\" font-size=\"14.00\">gini = 0.444</text>\n<text text-anchor=\"middle\" x=\"4672.5\" y=\"-527.8\" font-family=\"Helvetica,sans-Serif\" font-size=\"14.00\">samples = 6</text>\n<text text-anchor=\"middle\" x=\"4672.5\" y=\"-512.8\" font-family=\"Helvetica,sans-Serif\" font-size=\"14.00\">value = [4, 2]</text>\n</g>\n<!-- 256&#45;&gt;257 -->\n<g id=\"edge257\" class=\"edge\">\n<title>256&#45;&gt;257</title>\n<path fill=\"none\" stroke=\"black\" d=\"M4673.18,-608.88C4673.1,-600.78 4673.01,-591.98 4672.93,-583.47\"/>\n<polygon fill=\"black\" stroke=\"black\" points=\"4676.42,-583.26 4672.83,-573.3 4669.42,-583.33 4676.42,-583.26\"/>\n</g>\n<!-- 260 -->\n<g id=\"node261\" class=\"node\">\n<title>260</title>\n<polygon fill=\"none\" stroke=\"black\" points=\"4833,-565.5 4738,-565.5 4738,-512.5 4833,-512.5 4833,-565.5\"/>\n<text text-anchor=\"middle\" x=\"4785.5\" y=\"-550.3\" font-family=\"Helvetica,sans-Serif\" font-size=\"14.00\">gini = 0.0</text>\n<text text-anchor=\"middle\" x=\"4785.5\" y=\"-535.3\" font-family=\"Helvetica,sans-Serif\" font-size=\"14.00\">samples = 1</text>\n<text text-anchor=\"middle\" x=\"4785.5\" y=\"-520.3\" font-family=\"Helvetica,sans-Serif\" font-size=\"14.00\">value = [1, 0]</text>\n</g>\n<!-- 256&#45;&gt;260 -->\n<g id=\"edge260\" class=\"edge\">\n<title>256&#45;&gt;260</title>\n<path fill=\"none\" stroke=\"black\" d=\"M4709.86,-608.88C4722.66,-597.23 4737.03,-584.14 4749.78,-572.53\"/>\n<polygon fill=\"black\" stroke=\"black\" points=\"4752.44,-574.84 4757.48,-565.52 4747.73,-569.67 4752.44,-574.84\"/>\n</g>\n<!-- 258 -->\n<g id=\"node259\" class=\"node\">\n<title>258</title>\n<polygon fill=\"none\" stroke=\"black\" points=\"4720,-461.5 4625,-461.5 4625,-408.5 4720,-408.5 4720,-461.5\"/>\n<text text-anchor=\"middle\" x=\"4672.5\" y=\"-446.3\" font-family=\"Helvetica,sans-Serif\" font-size=\"14.00\">gini = 0.444</text>\n<text text-anchor=\"middle\" x=\"4672.5\" y=\"-431.3\" font-family=\"Helvetica,sans-Serif\" font-size=\"14.00\">samples = 3</text>\n<text text-anchor=\"middle\" x=\"4672.5\" y=\"-416.3\" font-family=\"Helvetica,sans-Serif\" font-size=\"14.00\">value = [2, 1]</text>\n</g>\n<!-- 257&#45;&gt;258 -->\n<g id=\"edge258\" class=\"edge\">\n<title>257&#45;&gt;258</title>\n<path fill=\"none\" stroke=\"black\" d=\"M4672.5,-504.88C4672.5,-494.33 4672.5,-482.6 4672.5,-471.85\"/>\n<polygon fill=\"black\" stroke=\"black\" points=\"4676,-471.52 4672.5,-461.52 4669,-471.52 4676,-471.52\"/>\n</g>\n<!-- 259 -->\n<g id=\"node260\" class=\"node\">\n<title>259</title>\n<polygon fill=\"none\" stroke=\"black\" points=\"4833,-461.5 4738,-461.5 4738,-408.5 4833,-408.5 4833,-461.5\"/>\n<text text-anchor=\"middle\" x=\"4785.5\" y=\"-446.3\" font-family=\"Helvetica,sans-Serif\" font-size=\"14.00\">gini = 0.444</text>\n<text text-anchor=\"middle\" x=\"4785.5\" y=\"-431.3\" font-family=\"Helvetica,sans-Serif\" font-size=\"14.00\">samples = 3</text>\n<text text-anchor=\"middle\" x=\"4785.5\" y=\"-416.3\" font-family=\"Helvetica,sans-Serif\" font-size=\"14.00\">value = [2, 1]</text>\n</g>\n<!-- 257&#45;&gt;259 -->\n<g id=\"edge259\" class=\"edge\">\n<title>257&#45;&gt;259</title>\n<path fill=\"none\" stroke=\"black\" d=\"M4709.19,-504.88C4722.1,-493.23 4736.6,-480.14 4749.46,-468.53\"/>\n<polygon fill=\"black\" stroke=\"black\" points=\"4752.15,-470.82 4757.23,-461.52 4747.46,-465.62 4752.15,-470.82\"/>\n</g>\n<!-- 264 -->\n<g id=\"node265\" class=\"node\">\n<title>264</title>\n<polygon fill=\"none\" stroke=\"black\" points=\"4723,-981.5 4628,-981.5 4628,-928.5 4723,-928.5 4723,-981.5\"/>\n<text text-anchor=\"middle\" x=\"4675.5\" y=\"-966.3\" font-family=\"Helvetica,sans-Serif\" font-size=\"14.00\">gini = 0.0</text>\n<text text-anchor=\"middle\" x=\"4675.5\" y=\"-951.3\" font-family=\"Helvetica,sans-Serif\" font-size=\"14.00\">samples = 3</text>\n<text text-anchor=\"middle\" x=\"4675.5\" y=\"-936.3\" font-family=\"Helvetica,sans-Serif\" font-size=\"14.00\">value = [0, 3]</text>\n</g>\n<!-- 263&#45;&gt;264 -->\n<g id=\"edge264\" class=\"edge\">\n<title>263&#45;&gt;264</title>\n<path fill=\"none\" stroke=\"black\" d=\"M4675.5,-1024.88C4675.5,-1014.33 4675.5,-1002.6 4675.5,-991.85\"/>\n<polygon fill=\"black\" stroke=\"black\" points=\"4679,-991.52 4675.5,-981.52 4672,-991.52 4679,-991.52\"/>\n</g>\n<!-- 265 -->\n<g id=\"node266\" class=\"node\">\n<title>265</title>\n<polygon fill=\"none\" stroke=\"black\" points=\"4836,-989 4741,-989 4741,-921 4836,-921 4836,-989\"/>\n<text text-anchor=\"middle\" x=\"4788.5\" y=\"-973.8\" font-family=\"Helvetica,sans-Serif\" font-size=\"14.00\">Age &lt;= 37.5</text>\n<text text-anchor=\"middle\" x=\"4788.5\" y=\"-958.8\" font-family=\"Helvetica,sans-Serif\" font-size=\"14.00\">gini = 0.5</text>\n<text text-anchor=\"middle\" x=\"4788.5\" y=\"-943.8\" font-family=\"Helvetica,sans-Serif\" font-size=\"14.00\">samples = 2</text>\n<text text-anchor=\"middle\" x=\"4788.5\" y=\"-928.8\" font-family=\"Helvetica,sans-Serif\" font-size=\"14.00\">value = [1, 1]</text>\n</g>\n<!-- 263&#45;&gt;265 -->\n<g id=\"edge265\" class=\"edge\">\n<title>263&#45;&gt;265</title>\n<path fill=\"none\" stroke=\"black\" d=\"M4712.19,-1024.88C4722.35,-1015.71 4733.5,-1005.65 4744.05,-996.12\"/>\n<polygon fill=\"black\" stroke=\"black\" points=\"4746.53,-998.6 4751.61,-989.3 4741.84,-993.4 4746.53,-998.6\"/>\n</g>\n<!-- 266 -->\n<g id=\"node267\" class=\"node\">\n<title>266</title>\n<polygon fill=\"none\" stroke=\"black\" points=\"4836,-877.5 4741,-877.5 4741,-824.5 4836,-824.5 4836,-877.5\"/>\n<text text-anchor=\"middle\" x=\"4788.5\" y=\"-862.3\" font-family=\"Helvetica,sans-Serif\" font-size=\"14.00\">gini = 0.0</text>\n<text text-anchor=\"middle\" x=\"4788.5\" y=\"-847.3\" font-family=\"Helvetica,sans-Serif\" font-size=\"14.00\">samples = 1</text>\n<text text-anchor=\"middle\" x=\"4788.5\" y=\"-832.3\" font-family=\"Helvetica,sans-Serif\" font-size=\"14.00\">value = [1, 0]</text>\n</g>\n<!-- 265&#45;&gt;266 -->\n<g id=\"edge266\" class=\"edge\">\n<title>265&#45;&gt;266</title>\n<path fill=\"none\" stroke=\"black\" d=\"M4788.5,-920.88C4788.5,-910.33 4788.5,-898.6 4788.5,-887.85\"/>\n<polygon fill=\"black\" stroke=\"black\" points=\"4792,-887.52 4788.5,-877.52 4785,-887.52 4792,-887.52\"/>\n</g>\n<!-- 267 -->\n<g id=\"node268\" class=\"node\">\n<title>267</title>\n<polygon fill=\"none\" stroke=\"black\" points=\"4949,-877.5 4854,-877.5 4854,-824.5 4949,-824.5 4949,-877.5\"/>\n<text text-anchor=\"middle\" x=\"4901.5\" y=\"-862.3\" font-family=\"Helvetica,sans-Serif\" font-size=\"14.00\">gini = 0.0</text>\n<text text-anchor=\"middle\" x=\"4901.5\" y=\"-847.3\" font-family=\"Helvetica,sans-Serif\" font-size=\"14.00\">samples = 1</text>\n<text text-anchor=\"middle\" x=\"4901.5\" y=\"-832.3\" font-family=\"Helvetica,sans-Serif\" font-size=\"14.00\">value = [0, 1]</text>\n</g>\n<!-- 265&#45;&gt;267 -->\n<g id=\"edge267\" class=\"edge\">\n<title>265&#45;&gt;267</title>\n<path fill=\"none\" stroke=\"black\" d=\"M4825.19,-920.88C4838.1,-909.23 4852.6,-896.14 4865.46,-884.53\"/>\n<polygon fill=\"black\" stroke=\"black\" points=\"4868.15,-886.82 4873.23,-877.52 4863.46,-881.62 4868.15,-886.82\"/>\n</g>\n<!-- 269 -->\n<g id=\"node270\" class=\"node\">\n<title>269</title>\n<polygon fill=\"none\" stroke=\"black\" points=\"4669.5,-1189.5 4567.5,-1189.5 4567.5,-1136.5 4669.5,-1136.5 4669.5,-1189.5\"/>\n<text text-anchor=\"middle\" x=\"4618.5\" y=\"-1174.3\" font-family=\"Helvetica,sans-Serif\" font-size=\"14.00\">gini = 0.0</text>\n<text text-anchor=\"middle\" x=\"4618.5\" y=\"-1159.3\" font-family=\"Helvetica,sans-Serif\" font-size=\"14.00\">samples = 11</text>\n<text text-anchor=\"middle\" x=\"4618.5\" y=\"-1144.3\" font-family=\"Helvetica,sans-Serif\" font-size=\"14.00\">value = [11, 0]</text>\n</g>\n<!-- 268&#45;&gt;269 -->\n<g id=\"edge269\" class=\"edge\">\n<title>268&#45;&gt;269</title>\n<path fill=\"none\" stroke=\"black\" d=\"M4618.5,-1232.88C4618.5,-1222.33 4618.5,-1210.6 4618.5,-1199.85\"/>\n<polygon fill=\"black\" stroke=\"black\" points=\"4622,-1199.52 4618.5,-1189.52 4615,-1199.52 4622,-1199.52\"/>\n</g>\n<!-- 270 -->\n<g id=\"node271\" class=\"node\">\n<title>270</title>\n<polygon fill=\"none\" stroke=\"black\" points=\"4783,-1189.5 4688,-1189.5 4688,-1136.5 4783,-1136.5 4783,-1189.5\"/>\n<text text-anchor=\"middle\" x=\"4735.5\" y=\"-1174.3\" font-family=\"Helvetica,sans-Serif\" font-size=\"14.00\">gini = 0.0</text>\n<text text-anchor=\"middle\" x=\"4735.5\" y=\"-1159.3\" font-family=\"Helvetica,sans-Serif\" font-size=\"14.00\">samples = 1</text>\n<text text-anchor=\"middle\" x=\"4735.5\" y=\"-1144.3\" font-family=\"Helvetica,sans-Serif\" font-size=\"14.00\">value = [0, 1]</text>\n</g>\n<!-- 268&#45;&gt;270 -->\n<g id=\"edge270\" class=\"edge\">\n<title>268&#45;&gt;270</title>\n<path fill=\"none\" stroke=\"black\" d=\"M4656.49,-1232.88C4669.98,-1221.12 4685.15,-1207.89 4698.56,-1196.2\"/>\n<polygon fill=\"black\" stroke=\"black\" points=\"4700.99,-1198.73 4706.23,-1189.52 4696.39,-1193.45 4700.99,-1198.73\"/>\n</g>\n</g>\n</svg>\n",
            "text/plain": [
              "<graphviz.sources.Source at 0x7ff68399bb50>"
            ]
          },
          "metadata": {},
          "execution_count": 37
        }
      ]
    },
    {
      "cell_type": "code",
      "source": [
        "from sklearn.model_selection import train_test_split"
      ],
      "metadata": {
        "id": "GVSuEEjIb4ml"
      },
      "execution_count": null,
      "outputs": []
    },
    {
      "cell_type": "code",
      "source": [
        "X_train, X_test, Y_train, Y_test=train_test_split"
      ],
      "metadata": {
        "id": "ir7Sc6cfb_F-",
        "colab": {
          "base_uri": "https://localhost:8080/",
          "height": 165
        },
        "outputId": "21826439-4b81-49a0-83e7-81f0227fa2df"
      },
      "execution_count": null,
      "outputs": [
        {
          "output_type": "error",
          "ename": "TypeError",
          "evalue": "ignored",
          "traceback": [
            "\u001b[0;31m---------------------------------------------------------------------------\u001b[0m",
            "\u001b[0;31mTypeError\u001b[0m                                 Traceback (most recent call last)",
            "\u001b[0;32m<ipython-input-39-9e09abb1e9f1>\u001b[0m in \u001b[0;36m<cell line: 1>\u001b[0;34m()\u001b[0m\n\u001b[0;32m----> 1\u001b[0;31m \u001b[0mX_train\u001b[0m\u001b[0;34m,\u001b[0m \u001b[0mX_test\u001b[0m\u001b[0;34m,\u001b[0m \u001b[0mY_train\u001b[0m\u001b[0;34m,\u001b[0m \u001b[0mY_test\u001b[0m\u001b[0;34m=\u001b[0m\u001b[0mtrain_test_split\u001b[0m\u001b[0;34m\u001b[0m\u001b[0;34m\u001b[0m\u001b[0m\n\u001b[0m",
            "\u001b[0;31mTypeError\u001b[0m: cannot unpack non-iterable function object"
          ]
        }
      ]
    }
  ]
}